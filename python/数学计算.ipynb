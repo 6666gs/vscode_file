{
 "cells": [
  {
   "cell_type": "markdown",
   "id": "baa5d9e4-72ab-447c-a1bc-016c44d7bf1b",
   "metadata": {},
   "source": [
    "## 数学计算"
   ]
  },
  {
   "cell_type": "code",
   "execution_count": 5,
   "id": "a3e1b857-8781-4575-9ae2-2cf7ba562382",
   "metadata": {},
   "outputs": [
    {
     "data": {
      "text/plain": [
       "<function math.degrees(x, /)>"
      ]
     },
     "execution_count": 5,
     "metadata": {},
     "output_type": "execute_result"
    }
   ],
   "source": [
    "import numpy as np\n",
    "import pandas as pd\n",
    "from pandas import Series,DataFrame\n",
    "import math"
   ]
  },
  {
   "cell_type": "code",
   "execution_count": 2,
   "id": "68ebaa2e-eb03-465d-9b08-85533787668a",
   "metadata": {},
   "outputs": [],
   "source": [
    "l=0.314\n",
    "r=0.16"
   ]
  },
  {
   "cell_type": "code",
   "execution_count": 10,
   "id": "828c274f-5088-4d94-8c1c-7052ee7c5980",
   "metadata": {},
   "outputs": [
    {
     "name": "stdout",
     "output_type": "stream",
     "text": [
      "27.001305026978446\n",
      "0.45401079409306583\n"
     ]
    }
   ],
   "source": [
    "theta=math.degrees(math.atan(r/l))\n",
    "print(theta)\n",
    "print(math.sin(math.radians(theta)))"
   ]
  },
  {
   "cell_type": "code",
   "execution_count": null,
   "id": "66d7b493-f8df-4d03-87e8-753918ceb47b",
   "metadata": {},
   "outputs": [],
   "source": []
  }
 ],
 "metadata": {
  "kernelspec": {
   "display_name": "Python 3 (ipykernel)",
   "language": "python",
   "name": "python3"
  },
  "language_info": {
   "codemirror_mode": {
    "name": "ipython",
    "version": 3
   },
   "file_extension": ".py",
   "mimetype": "text/x-python",
   "name": "python",
   "nbconvert_exporter": "python",
   "pygments_lexer": "ipython3",
   "version": "3.11.7"
  }
 },
 "nbformat": 4,
 "nbformat_minor": 5
}
