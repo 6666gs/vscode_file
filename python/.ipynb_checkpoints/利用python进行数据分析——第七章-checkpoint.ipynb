{
 "cells": [
  {
   "cell_type": "markdown",
   "id": "1cb931e6",
   "metadata": {},
   "source": [
    "# 数据清洗与准备"
   ]
  },
  {
   "cell_type": "markdown",
   "id": "f58316f2",
   "metadata": {},
   "source": [
    "## 7.1、处理缺失值"
   ]
  },
  {
   "cell_type": "code",
   "execution_count": 1,
   "id": "0adcf911",
   "metadata": {},
   "outputs": [],
   "source": [
    "import numpy as np\n",
    "import pandas as pd\n",
    "pd.options.display.max_rows=10"
   ]
  },
  {
   "cell_type": "code",
   "execution_count": 4,
   "id": "63ad0936",
   "metadata": {},
   "outputs": [
    {
     "name": "stdout",
     "output_type": "stream",
     "text": [
      "0     aardvark\n",
      "1    artichoke\n",
      "2          NaN\n",
      "3      avocado\n",
      "dtype: object\n"
     ]
    }
   ],
   "source": [
    "string_data=pd.Series(['aardvark','artichoke',np.nan,'avocado'])\n",
    "print(string_data)"
   ]
  },
  {
   "cell_type": "code",
   "execution_count": 5,
   "id": "2c5742a1",
   "metadata": {},
   "outputs": [
    {
     "name": "stdout",
     "output_type": "stream",
     "text": [
      "0         None\n",
      "1    artichoke\n",
      "2          NaN\n",
      "3      avocado\n",
      "dtype: object\n"
     ]
    }
   ],
   "source": [
    "string_data[0]=None\n",
    "print(string_data)"
   ]
  },
  {
   "cell_type": "code",
   "execution_count": 6,
   "id": "1ac339ab",
   "metadata": {},
   "outputs": [
    {
     "name": "stdout",
     "output_type": "stream",
     "text": [
      "0     True\n",
      "1    False\n",
      "2     True\n",
      "3    False\n",
      "dtype: bool\n"
     ]
    }
   ],
   "source": [
    "print(string_data.isnull())        #可以发现，None和NaN都被认为是NA，not available"
   ]
  },
  {
   "cell_type": "markdown",
   "id": "f868b1ae",
   "metadata": {},
   "source": [
    "### 1.1、过滤缺失值"
   ]
  },
  {
   "cell_type": "code",
   "execution_count": 3,
   "id": "f69b090d",
   "metadata": {},
   "outputs": [
    {
     "data": {
      "text/plain": [
       "0    1.0\n",
       "2    3.5\n",
       "4    7.0\n",
       "dtype: float64"
      ]
     },
     "execution_count": 3,
     "metadata": {},
     "output_type": "execute_result"
    }
   ],
   "source": [
    "#利用dropna来过滤缺失值\n",
    "from numpy import nan as NA\n",
    "data=pd.Series([1,NA,3.5,NA,7])\n",
    "data.dropna()"
   ]
  },
  {
   "cell_type": "code",
   "execution_count": 4,
   "id": "e57987bd",
   "metadata": {},
   "outputs": [
    {
     "data": {
      "text/plain": [
       "0    1.0\n",
       "2    3.5\n",
       "4    7.0\n",
       "dtype: float64"
      ]
     },
     "execution_count": 4,
     "metadata": {},
     "output_type": "execute_result"
    }
   ],
   "source": [
    "data[data.notnull()]    #与上面等价"
   ]
  },
  {
   "cell_type": "code",
   "execution_count": 7,
   "id": "9a7d0dc1",
   "metadata": {},
   "outputs": [
    {
     "name": "stdout",
     "output_type": "stream",
     "text": [
      "     0    1    2\n",
      "0  1.0  6.5  3.0\n",
      "1  1.0  NaN  NaN\n",
      "2  NaN  NaN  NaN\n",
      "3  NaN  6.5  3.0\n",
      "     0    1    2\n",
      "0  1.0  6.5  3.0\n",
      "     0    1    2\n",
      "0  1.0  6.5  3.0\n",
      "1  1.0  NaN  NaN\n",
      "3  NaN  6.5  3.0\n",
      "     0    1    2\n",
      "0  1.0  6.5  3.0\n",
      "1  1.0  NaN  NaN\n",
      "2  NaN  NaN  NaN\n",
      "3  NaN  6.5  3.0\n"
     ]
    }
   ],
   "source": [
    "#对于DataFrame，dropna默认情况下会删除包含缺失值的行\n",
    "data=pd.DataFrame([[1,6.5,3],[1,NA,NA],\n",
    "                  [NA,NA,NA],[NA,6.5,3]])\n",
    "data1=data.dropna()\n",
    "print(data)\n",
    "print(data1)\n",
    "\n",
    "#利用参数how可以实现仅删除所有值都是NA的行\n",
    "print(data.dropna(how='all'))\n",
    "\n",
    "#利用参数axis可以实现删除NA存在的列\n",
    "print(data.dropna(axis=1,how='all'))"
   ]
  },
  {
   "cell_type": "code",
   "execution_count": 13,
   "id": "dabc4671",
   "metadata": {},
   "outputs": [
    {
     "name": "stdout",
     "output_type": "stream",
     "text": [
      "          0         1         2\n",
      "2 -0.671067       NaN  1.284127\n",
      "3 -0.594093       NaN -2.444752\n",
      "4  0.514992 -0.601770 -0.837686\n",
      "5  0.028874 -0.900232 -1.162911\n",
      "6 -0.774774  0.501525  0.433749\n",
      "          0         1         2\n",
      "0  0.233087       NaN       NaN\n",
      "1 -0.902660       NaN       NaN\n",
      "2 -0.671067       NaN  1.284127\n",
      "3 -0.594093       NaN -2.444752\n",
      "4  0.514992 -0.601770 -0.837686\n",
      "5  0.028874 -0.900232 -1.162911\n",
      "6 -0.774774  0.501525  0.433749\n"
     ]
    }
   ],
   "source": [
    "#利用参数thresh实现保留一定数量的观察值的行\n",
    "data2=pd.DataFrame(np.random.randn(7,3))\n",
    "data2.iloc[:4,1]=NA\n",
    "data2.iloc[:2,2]=NA\n",
    "print(data2.dropna(thresh=2))\n",
    "print(data2.dropna(thresh=1))"
   ]
  },
  {
   "cell_type": "markdown",
   "id": "00bc3e9a",
   "metadata": {},
   "source": [
    "### 1.2、补全缺失值"
   ]
  },
  {
   "cell_type": "code",
   "execution_count": 18,
   "id": "1586bb8f",
   "metadata": {},
   "outputs": [
    {
     "name": "stdout",
     "output_type": "stream",
     "text": [
      "          0         1         2\n",
      "0 -0.804293  0.000000  0.000000\n",
      "1 -1.220486  0.000000  0.000000\n",
      "2  0.100599  0.000000 -0.103862\n",
      "3 -1.122888  0.000000 -0.231285\n",
      "4 -1.647301 -0.043402 -2.505836\n",
      "5 -0.831211 -1.375719  1.157523\n",
      "6  2.953561  0.996073  0.656459\n",
      "          0         1         2\n",
      "0 -0.804293  0.500000  0.000000\n",
      "1 -1.220486  0.500000  0.000000\n",
      "2  0.100599  0.500000 -0.103862\n",
      "3 -1.122888  0.500000 -0.231285\n",
      "4 -1.647301 -0.043402 -2.505836\n",
      "5 -0.831211 -1.375719  1.157523\n",
      "6  2.953561  0.996073  0.656459\n",
      "          0         1         2\n",
      "0 -0.804293  0.000000  0.000000\n",
      "1 -1.220486  0.000000  0.000000\n",
      "2  0.100599  0.000000 -0.103862\n",
      "3 -1.122888  0.000000 -0.231285\n",
      "4 -1.647301 -0.043402 -2.505836\n",
      "5 -0.831211 -1.375719  1.157523\n",
      "6  2.953561  0.996073  0.656459\n"
     ]
    }
   ],
   "source": [
    "#利用fillna来替代缺失值\n",
    "'''\n",
    "不能用布尔值索引将缺失值补全\n",
    "data[data.isnull()]=5  此时由于内部数据类型不统一，因此不能用bool值数组赋值\n",
    "'''\n",
    "data2=pd.DataFrame(np.random.randn(7,3))\n",
    "data2.iloc[:4,1]=NA\n",
    "data2.iloc[:2,2]=NA\n",
    "print(data2.fillna(0))\n",
    "\n",
    "#调用fillna时使用字典，可以使得不同列可以设定不同的填充值\n",
    "print(data2.fillna({1:0.5,2:0}))\n",
    "\n",
    "#调用fillna时，利用参数inplace可以使得修改原数据\n",
    "_=data2.fillna(0,inplace=True)\n",
    "print(data2)"
   ]
  },
  {
   "cell_type": "code",
   "execution_count": 19,
   "id": "df8097c8",
   "metadata": {},
   "outputs": [
    {
     "name": "stdout",
     "output_type": "stream",
     "text": [
      "          0         1         2\n",
      "0  0.264246  0.243948 -0.362505\n",
      "1 -0.387553 -0.619872 -1.531149\n",
      "2 -1.321191       NaN -0.318601\n",
      "3  1.069199       NaN  0.290524\n",
      "4  0.226386       NaN       NaN\n",
      "5 -0.829300       NaN       NaN\n",
      "          0         1         2\n",
      "0  0.264246  0.243948 -0.362505\n",
      "1 -0.387553 -0.619872 -1.531149\n",
      "2 -1.321191 -0.619872 -0.318601\n",
      "3  1.069199 -0.619872  0.290524\n",
      "4  0.226386 -0.619872  0.290524\n",
      "5 -0.829300 -0.619872  0.290524\n",
      "          0         1         2\n",
      "0  0.264246  0.243948 -0.362505\n",
      "1 -0.387553 -0.619872 -1.531149\n",
      "2 -1.321191 -0.619872 -0.318601\n",
      "3  1.069199 -0.619872  0.290524\n",
      "4  0.226386       NaN  0.290524\n",
      "5 -0.829300       NaN  0.290524\n"
     ]
    }
   ],
   "source": [
    "#fillna拥有很多参数可用\n",
    "#利用method参数可用选择前向填充或后向填充\n",
    "data3=pd.DataFrame(np.random.randn(6,3))\n",
    "data3.iloc[2:,1]=NA\n",
    "data3.iloc[4:,2]=NA\n",
    "print(data3)\n",
    "print(data3.fillna(method='ffill'))              #后向填充\n",
    "print(data3.fillna(method='ffill',limit=2))      #后向填充，并设置填充长度最大为2"
   ]
  },
  {
   "cell_type": "markdown",
   "id": "fb4e8232",
   "metadata": {},
   "source": [
    "## 2、数据转换"
   ]
  },
  {
   "cell_type": "markdown",
   "id": "351074e1",
   "metadata": {},
   "source": [
    "### 2.1、删除重复值"
   ]
  },
  {
   "cell_type": "code",
   "execution_count": 20,
   "id": "d963a7df",
   "metadata": {},
   "outputs": [
    {
     "name": "stdout",
     "output_type": "stream",
     "text": [
      "    k1  k2\n",
      "0  one   1\n",
      "1  two   1\n",
      "2  one   2\n",
      "3  two   3\n",
      "4  one   3\n",
      "5  two   4\n",
      "6  two   4\n"
     ]
    }
   ],
   "source": [
    "#DataFrame中会出现重复行\n",
    "data=pd.DataFrame({'k1':['one','two']*3+['two'],\n",
    "                  'k2':[1,1,2,3,3,4,4]})\n",
    "print(data)"
   ]
  },
  {
   "cell_type": "code",
   "execution_count": 22,
   "id": "038cd85c",
   "metadata": {},
   "outputs": [
    {
     "name": "stdout",
     "output_type": "stream",
     "text": [
      "0    False\n",
      "1    False\n",
      "2    False\n",
      "3    False\n",
      "4    False\n",
      "5    False\n",
      "6     True\n",
      "dtype: bool\n"
     ]
    }
   ],
   "source": [
    "print(data.duplicated())      #返回某行是否有重复行"
   ]
  },
  {
   "cell_type": "code",
   "execution_count": 23,
   "id": "4d68e476",
   "metadata": {},
   "outputs": [
    {
     "name": "stdout",
     "output_type": "stream",
     "text": [
      "    k1  k2\n",
      "0  one   1\n",
      "1  two   1\n",
      "2  one   2\n",
      "3  two   3\n",
      "4  one   3\n",
      "5  two   4\n"
     ]
    }
   ],
   "source": [
    "print(data.drop_duplicates())   #返回没有重复行的内容"
   ]
  },
  {
   "cell_type": "code",
   "execution_count": 24,
   "id": "9b341818",
   "metadata": {},
   "outputs": [
    {
     "name": "stdout",
     "output_type": "stream",
     "text": [
      "    k1  k2\n",
      "0  one   1\n",
      "1  two   1\n"
     ]
    }
   ],
   "source": [
    "#可用根据某一列的内容去除重复值\n",
    "print(data.drop_duplicates(['k1']))      #根据'k1'列，删去有重复的行"
   ]
  },
  {
   "cell_type": "code",
   "execution_count": 28,
   "id": "dc237af7",
   "metadata": {},
   "outputs": [
    {
     "name": "stdout",
     "output_type": "stream",
     "text": [
      "    k1  k2  va\n",
      "0  one   1   0\n",
      "1  two   1   1\n",
      "2  one   2   2\n",
      "3  two   3   3\n",
      "4  one   3   4\n",
      "5  two   4   5\n",
      "6  two   4   6\n",
      "    k1  k2  va\n",
      "0  one   1   0\n",
      "1  two   1   1\n",
      "2  one   2   2\n",
      "3  two   3   3\n",
      "4  one   3   4\n",
      "6  two   4   6\n"
     ]
    }
   ],
   "source": [
    "#keep参数可设置保留重复行的最后一行\n",
    "data['va']=range(7)\n",
    "print(data)\n",
    "print(data.drop_duplicates(['k1','k2'],keep='last'))"
   ]
  },
  {
   "cell_type": "markdown",
   "id": "faddb75b",
   "metadata": {},
   "source": [
    "### 1.2.2、使用函数或映射进行数据转换"
   ]
  },
  {
   "cell_type": "code",
   "execution_count": 32,
   "id": "a3d82282",
   "metadata": {},
   "outputs": [
    {
     "name": "stdout",
     "output_type": "stream",
     "text": [
      "          food  ounces\n",
      "0        bacon     4.0\n",
      "1  pulled pork     3.0\n",
      "2        bacon    12.0\n",
      "3     Pastrami     6.0\n",
      "4  corned beef     7.5\n",
      "5        Bacon     8.0\n",
      "6     pastrami     3.0\n",
      "7    honey ham     5.0\n",
      "8     nova lox     6.0\n",
      "          food  ounces  animal\n",
      "0        bacon     4.0     pig\n",
      "1  pulled pork     3.0     cow\n",
      "2        bacon    12.0     pig\n",
      "3     Pastrami     6.0     cow\n",
      "4  corned beef     7.5     cow\n",
      "5        Bacon     8.0     pig\n",
      "6     pastrami     3.0     cow\n",
      "7    honey ham     5.0     pig\n",
      "8     nova lox     6.0  salmon\n",
      "          food  ounces  animal\n",
      "0        bacon     4.0     pig\n",
      "1  pulled pork     3.0     cow\n",
      "2        bacon    12.0     pig\n",
      "3     Pastrami     6.0     cow\n",
      "4  corned beef     7.5     cow\n",
      "5        Bacon     8.0     pig\n",
      "6     pastrami     3.0     cow\n",
      "7    honey ham     5.0     pig\n",
      "8     nova lox     6.0  salmon\n"
     ]
    }
   ],
   "source": [
    "data=pd.DataFrame({'food':['bacon','pulled pork','bacon','Pastrami','corned beef','Bacon','pastrami','honey ham','nova lox'],\n",
    "                  'ounces':[4,3,12,6,7.5,8,3,5,6]})\n",
    "print(data)\n",
    "\n",
    "meat_to_animal={\n",
    "    'bacon':'pig',\n",
    "    'pulled pork':'cow',\n",
    "    'pastrami':'cow',\n",
    "    'corned beef':'cow',\n",
    "    'honey ham':'pig',\n",
    "    'nova lox':'salmon'\n",
    "}\n",
    "lower_food=data.food.str.lower()\n",
    "data['animal']=lower_food.map(meat_to_animal)          #Series的map中可以是函数，也可以是包含映射关系的字典型对象\n",
    "print(data)\n",
    "\n",
    "\n",
    "data['animal']=data['food'].map(lambda x: meat_to_animal[x.lower()])\n",
    "print(data)\n",
    "'''\n",
    "两个实现效果接近\n",
    "'''"
   ]
  },
  {
   "cell_type": "markdown",
   "id": "7cd69fc9",
   "metadata": {},
   "source": [
    "### 2.3、替代值"
   ]
  },
  {
   "cell_type": "code",
   "execution_count": 36,
   "id": "1b1b6346",
   "metadata": {},
   "outputs": [
    {
     "name": "stdout",
     "output_type": "stream",
     "text": [
      "0       1.0\n",
      "1       NaN\n",
      "2       2.0\n",
      "3       NaN\n",
      "4   -1000.0\n",
      "5       3.0\n",
      "dtype: float64\n",
      "0    1.0\n",
      "1    NaN\n",
      "2    2.0\n",
      "3    NaN\n",
      "4    NaN\n",
      "5    3.0\n",
      "dtype: float64\n",
      "0      1.0\n",
      "1      NaN\n",
      "2      2.0\n",
      "3      NaN\n",
      "4    500.0\n",
      "5      3.0\n",
      "dtype: float64\n",
      "0      1\n",
      "1    433\n",
      "2      2\n",
      "3    433\n",
      "4    344\n",
      "5      3\n",
      "dtype: int64\n"
     ]
    }
   ],
   "source": [
    "#fillna是替换的特殊情况，替换缺失值。replace提供了一种更加灵活的替换\n",
    "data=pd.Series([1,-999,2,-999,-1000,3])\n",
    "print(data.replace(-999,NA))\n",
    "print(data.replace([-999,-1000],NA))                #可以将多个值进行替换\n",
    "print(data.replace([-999,-1000],[NA,500]))          #可以将不同值替换成不同值\n",
    "print(data.replace({-999:433,-1000:344}))           #可以用字典"
   ]
  },
  {
   "cell_type": "markdown",
   "id": "302cf483",
   "metadata": {},
   "source": [
    "### 2.4、重命名轴索引"
   ]
  },
  {
   "cell_type": "code",
   "execution_count": 41,
   "id": "6edf207d",
   "metadata": {},
   "outputs": [
    {
     "name": "stdout",
     "output_type": "stream",
     "text": [
      "Index(['OHIO', 'COLO', 'NEW '], dtype='object')\n",
      "      one  two  three  four\n",
      "OHIO    0    1      2     3\n",
      "COLO    4    5      6     7\n",
      "NEW     8    9     10    11\n"
     ]
    }
   ],
   "source": [
    "#轴标签也可以像Series中的值一样进行类似的使用函数或映射的转换\n",
    "data=pd.DataFrame(np.arange(12).reshape((3,4)),\n",
    "                 index=['Ohio','Colorado','New York'],\n",
    "                 columns=['one','two','three','four'])\n",
    "print(data.index.map(lambda x:x[:4].upper()))\n",
    "data.index=data.index.map(lambda x:x[:4].upper())\n",
    "print(data)"
   ]
  },
  {
   "cell_type": "code",
   "execution_count": 44,
   "id": "c48dfce0",
   "metadata": {},
   "outputs": [
    {
     "name": "stdout",
     "output_type": "stream",
     "text": [
      "          ONE  TWO  THREE  FOUR\n",
      "Ohio        0    1      2     3\n",
      "Colorado    4    5      6     7\n",
      "New York    8    9     10    11\n",
      "          one  two  peekaboo  four\n",
      "INDIANA     0    1         2     3\n",
      "Colorado    4    5         6     7\n",
      "New York    8    9        10    11\n",
      "          one  two  three  four\n",
      "INDIANA     0    1      2     3\n",
      "Colorado    4    5      6     7\n",
      "New York    8    9     10    11\n"
     ]
    }
   ],
   "source": [
    "#可以使用rename改变轴上标签\n",
    "data=pd.DataFrame(np.arange(12).reshape((3,4)),\n",
    "                 index=['Ohio','Colorado','New York'],\n",
    "                 columns=['one','two','three','four'])\n",
    "print(data.rename(index=str.title,columns=str.upper))\n",
    "print(data.rename(index={'Ohio':'INDIANA'},\n",
    "                 columns={'three':'peekaboo'}))              #可以传入字典，进行定向转换\n",
    "data.rename(index={'Ohio':'INDIANA'},inplace=True)           #传入inplace参数可以修改原数据\n",
    "print(data)"
   ]
  },
  {
   "cell_type": "markdown",
   "id": "b71ddcc7",
   "metadata": {},
   "source": [
    "### 2.5、离散化和分箱"
   ]
  },
  {
   "cell_type": "code",
   "execution_count": 16,
   "id": "d4478782",
   "metadata": {},
   "outputs": [
    {
     "name": "stdout",
     "output_type": "stream",
     "text": [
      "[NaN, (18.0, 25.0], (18.0, 25.0], (18.0, 25.0], (25.0, 35.0], ..., (25, 35], (60, 100], (35, 60], (35, 60], (25, 35]]\n",
      "Length: 13\n",
      "Categories (4, interval[int64, right]): [(18, 25] < (25, 35] < (35, 60] < (60, 100]]\n"
     ]
    },
    {
     "data": {
      "text/plain": [
       "'\\n返回的是ages中的每一个值所处的分区\\nbins中即所要划分的分区：(18,25],(25,35],(35,60],(65,100].这些范围含左不含右，因此第一个18给出的分区为NaN。可以把这些分区叫做箱\\n'"
      ]
     },
     "execution_count": 16,
     "metadata": {},
     "output_type": "execute_result"
    }
   ],
   "source": [
    "#连续值的离散化，或者分成几个部分，可以使用cut函数\n",
    "ages=[18,20,22,25,27,21,23,37,31,61,45,41,32]\n",
    "bins=[18,25,35,60,100]\n",
    "cats=pd.cut(ages,bins)\n",
    "print(cats)\n",
    "'''\n",
    "返回的是ages中的每一个值所处的分区\n",
    "bins中即所要划分的分区：(18,25],(25,35],(35,60],(65,100].这些范围含左不含右，因此第一个18给出的分区为NaN。可以把这些分区叫做箱\n",
    "'''"
   ]
  },
  {
   "cell_type": "code",
   "execution_count": 3,
   "id": "f0718186",
   "metadata": {},
   "outputs": [
    {
     "data": {
      "text/plain": [
       "array([-1,  0,  0,  0,  1,  0,  0,  2,  1,  3,  2,  2,  1], dtype=int8)"
      ]
     },
     "execution_count": 3,
     "metadata": {},
     "output_type": "execute_result"
    }
   ],
   "source": [
    "cats.codes    #返回的是ages中每个数据对应的分区的数据标签。注意，返回的是数组"
   ]
  },
  {
   "cell_type": "code",
   "execution_count": 4,
   "id": "f7366b4b",
   "metadata": {},
   "outputs": [
    {
     "data": {
      "text/plain": [
       "IntervalIndex([(18, 25], (25, 35], (35, 60], (60, 100]], dtype='interval[int64, right]')"
      ]
     },
     "execution_count": 4,
     "metadata": {},
     "output_type": "execute_result"
    }
   ],
   "source": [
    "cats.categories     #返回的是不同分区的名称"
   ]
  },
  {
   "cell_type": "code",
   "execution_count": 7,
   "id": "e09c704a",
   "metadata": {},
   "outputs": [
    {
     "data": {
      "text/plain": [
       "Interval(18, 25, closed='right')"
      ]
     },
     "execution_count": 7,
     "metadata": {},
     "output_type": "execute_result"
    }
   ],
   "source": [
    "cats.categories[0]"
   ]
  },
  {
   "cell_type": "code",
   "execution_count": 5,
   "id": "928ab3b2",
   "metadata": {},
   "outputs": [
    {
     "data": {
      "text/plain": [
       "(18, 25]     5\n",
       "(25, 35]     3\n",
       "(35, 60]     3\n",
       "(60, 100]    1\n",
       "Name: count, dtype: int64"
      ]
     },
     "execution_count": 5,
     "metadata": {},
     "output_type": "execute_result"
    }
   ],
   "source": [
    "pd.value_counts(cats)    #计算cats中箱的数量并排列"
   ]
  },
  {
   "cell_type": "code",
   "execution_count": 10,
   "id": "448aa9e6",
   "metadata": {},
   "outputs": [
    {
     "data": {
      "text/plain": [
       "[[18, 26), [18, 26), [18, 26), [18, 26), [26, 36), ..., [26, 36), [61, 100), [36, 61), [36, 61), [26, 36)]\n",
       "Length: 13\n",
       "Categories (4, interval[int64, left]): [[18, 26) < [26, 36) < [36, 61) < [61, 100)]"
      ]
     },
     "execution_count": 10,
     "metadata": {},
     "output_type": "execute_result"
    }
   ],
   "source": [
    "#可以通过right参数调节分区的边界开闭，right默认为True，左开右闭\n",
    "pd.cut(ages,[18,26,36,61,100],right=False)          "
   ]
  },
  {
   "cell_type": "code",
   "execution_count": 17,
   "id": "5c2b1caa",
   "metadata": {},
   "outputs": [
    {
     "data": {
      "text/plain": [
       "[NaN, 'Youth', 'Youth', 'Youth', 'YoungAdult', ..., 'YoungAdult', 'Senior', 'MiddleAged', 'MiddleAged', 'YoungAdult']\n",
       "Length: 13\n",
       "Categories (4, object): ['Youth' < 'YoungAdult' < 'MiddleAged' < 'Senior']"
      ]
     },
     "execution_count": 17,
     "metadata": {},
     "output_type": "execute_result"
    }
   ],
   "source": [
    "#还可以通过设置labels选项，传递一个列表或数组来设置自定义的箱名\n",
    "group_names=['Youth','YoungAdult','MiddleAged','Senior']\n",
    "pd.cut(ages,bins,labels=group_names)"
   ]
  },
  {
   "cell_type": "code",
   "execution_count": 4,
   "id": "a2a91f8c",
   "metadata": {},
   "outputs": [
    {
     "name": "stdout",
     "output_type": "stream",
     "text": [
      "[(-1.98, -0.62], (2.08, 3.44], (-0.62, 0.73], (-0.62, 0.73], (-1.98, -0.62], ..., (0.73, 2.08], (-1.98, -0.62], (-0.62, 0.73], (-0.62, 0.73], (-1.98, -0.62]]\n",
      "Length: 20\n",
      "Categories (4, interval[float64, right]): [(-1.98, -0.62] < (-0.62, 0.73] < (0.73, 2.08] < (2.08, 3.44]]\n",
      "[-1.97082915  3.43579144  0.55422694  0.01176623 -1.27719074 -0.60493126\n",
      "  0.17574637  1.14899933 -0.09247077 -0.5327763   1.50868728 -0.99442682\n",
      " -0.35579301  0.27527793  0.17049097  0.73420122 -1.0019167   0.31048453\n",
      "  0.40812471 -1.26688964] -1.9708291537307907 3.435791436607815\n"
     ]
    }
   ],
   "source": [
    "#除了传入箱边分区还可以传入整数个的箱\n",
    "data=np.random.rand(20)         #均匀分布\n",
    "print(pd.cut(data,4,precision=2))    #将data分成四部分，precision指定了分区边界的十进制精度为2位。自动给出的分区是等长的，边界根据data的最大最小值给出\n",
    "print(data,min(data),max(data))"
   ]
  },
  {
   "cell_type": "code",
   "execution_count": 5,
   "id": "cc944bbd",
   "metadata": {},
   "outputs": [
    {
     "name": "stdout",
     "output_type": "stream",
     "text": [
      "[(-0.0371, 0.681], (0.681, 3.017], (-0.0371, 0.681], (-0.74, -0.0371], (-0.0371, 0.681], ..., (-2.7609999999999997, -0.74], (0.681, 3.017], (-2.7609999999999997, -0.74], (-0.74, -0.0371], (-0.74, -0.0371]]\n",
      "Length: 1000\n",
      "Categories (4, interval[float64, right]): [(-2.7609999999999997, -0.74] < (-0.74, -0.0371] < (-0.0371, 0.681] < (0.681, 3.017]]\n",
      "(-2.7609999999999997, -0.74]    250\n",
      "(-0.74, -0.0371]                250\n",
      "(-0.0371, 0.681]                250\n",
      "(0.681, 3.017]                  250\n",
      "Name: count, dtype: int64\n",
      "[(-0.0371, 1.253], (1.253, 3.017], (-0.0371, 1.253], (-1.339, -0.0371], (-0.0371, 1.253], ..., (-2.7609999999999997, -1.339], (-0.0371, 1.253], (-1.339, -0.0371], (-1.339, -0.0371], (-1.339, -0.0371]]\n",
      "Length: 1000\n",
      "Categories (4, interval[float64, right]): [(-2.7609999999999997, -1.339] < (-1.339, -0.0371] < (-0.0371, 1.253] < (1.253, 3.017]]\n",
      "(-2.7609999999999997, -1.339]    100\n",
      "(-1.339, -0.0371]                400\n",
      "(-0.0371, 1.253]                 400\n",
      "(1.253, 3.017]                   100\n",
      "Name: count, dtype: int64\n"
     ]
    }
   ],
   "source": [
    "'''\n",
    "与cut不同的是，qcut基于样本分位数进行分箱，也即使得每个分区的数据点数量相同\n",
    "'''\n",
    "data=np.random.randn(1000)       #正态分布\n",
    "print(pd.qcut(data,4))                               #将数据点自动分成四段，每段数据点数目相同\n",
    "print(pd.qcut(data,4).value_counts())\n",
    "print(pd.qcut(data,[0,0.1,0.5,0.9,1]))               #传入自定义的分位数，类似一根长度为1的绳子，以一定的比例进行分区。里面应该为0到1之间的数据\n",
    "print(pd.qcut(data,[0,0.1,0.5,0.9,1]).value_counts())"
   ]
  },
  {
   "cell_type": "markdown",
   "id": "7ae4208a",
   "metadata": {},
   "source": [
    "### 2.6、检测和过滤异常值"
   ]
  },
  {
   "cell_type": "code",
   "execution_count": 60,
   "id": "d1005895",
   "metadata": {
    "scrolled": true
   },
   "outputs": [
    {
     "name": "stdout",
     "output_type": "stream",
     "text": [
      "           0         1         2          3\n",
      "5  -1.346957 -3.519253  0.004481  -1.191391\n",
      "6   2.154696 -3.322489  1.227508  -0.387363\n",
      "10 -5.000000  2.000000  9.000000  10.000000\n",
      "        0      1      2      3\n",
      "0   False  False  False  False\n",
      "1   False  False  False  False\n",
      "2   False  False  False  False\n",
      "3   False  False  False  False\n",
      "4   False  False  False  False\n",
      "..    ...    ...    ...    ...\n",
      "6   False   True  False  False\n",
      "7   False  False  False  False\n",
      "8   False  False  False  False\n",
      "9   False  False  False  False\n",
      "10   True  False   True   True\n",
      "\n",
      "[11 rows x 4 columns]\n",
      "           0         1         2         3\n",
      "0  -0.761561 -1.055773  1.220106 -0.362545\n",
      "1   0.943996  1.709941  0.365669  0.783350\n",
      "2  -2.389311 -0.151833  0.981117  1.056260\n",
      "3   0.319538 -2.993372 -1.418250  0.674584\n",
      "4   1.163803 -1.257646  0.418202  0.747591\n",
      "..       ...       ...       ...       ...\n",
      "6   2.154696 -3.000000  1.227508 -0.387363\n",
      "7   1.423827  0.295763 -1.172923  1.164377\n",
      "8  -2.006947  1.005924 -0.818215  0.725667\n",
      "9   0.892749  1.118324  2.297293  1.902829\n",
      "10 -3.000000  2.000000  3.000000  3.000000\n",
      "\n",
      "[11 rows x 4 columns]\n"
     ]
    }
   ],
   "source": [
    "#利用any函数或布尔值数据进行数组操作\n",
    "data=pd.DataFrame(np.random.randn(10,4))\n",
    "data.loc[10,:]=[-5,2,9,10]                     #用loc可以在末尾再加一行\n",
    "print(data[(np.abs(data)>3).any(axis=1)])      #DataFrame的any方法默认对于0轴进行，通过axis参数可以调整至1轴\n",
    "\n",
    "#np.sign()函数根据数据的正负产生-1或1\n",
    "print(np.abs(data)>3)\n",
    "data[np.abs(data)>3]=np.sign(data)*3\n",
    "print(data)\n"
   ]
  },
  {
   "cell_type": "markdown",
   "id": "ee8682e2",
   "metadata": {},
   "source": [
    "### 2.7、置换和随机抽样"
   ]
  },
  {
   "cell_type": "code",
   "execution_count": 2,
   "id": "61747b4d",
   "metadata": {},
   "outputs": [
    {
     "name": "stdout",
     "output_type": "stream",
     "text": [
      "[4 0 3 1 2]\n",
      "    0   1   2   3\n",
      "a   0   1   2   3\n",
      "b   4   5   6   7\n",
      "c   8   9  10  11\n",
      "d  12  13  14  15\n",
      "e  16  17  18  19\n",
      "    0   1   2   3\n",
      "e  16  17  18  19\n",
      "a   0   1   2   3\n",
      "d  12  13  14  15\n",
      "b   4   5   6   7\n",
      "c   8   9  10  11\n",
      "    0   1   2   3\n",
      "e  16  17  18  19\n",
      "a   0   1   2   3\n",
      "d  12  13  14  15\n",
      "b   4   5   6   7\n",
      "c   8   9  10  11\n",
      "    0   2   1   3\n",
      "a   0   2   1   3\n",
      "b   4   6   5   7\n",
      "c   8  10   9  11\n",
      "d  12  14  13  15\n",
      "e  16  18  17  19\n"
     ]
    },
    {
     "data": {
      "text/plain": [
       "'\\n通过产生的sampler便可以对DataFrame的行或列进行随机重新排序\\n'"
      ]
     },
     "execution_count": 2,
     "metadata": {},
     "output_type": "execute_result"
    }
   ],
   "source": [
    "#numpy.random.permutation可以根据长度返回一个表示新顺序的整数数组\n",
    "data=pd.DataFrame(np.arange(5*4).reshape((5,4)),\n",
    "                 index=['a','b','c','d','e'])\n",
    "sampler=np.random.permutation(5)\n",
    "print(sampler)\n",
    "print(data)\n",
    "\n",
    "print(data.take(sampler))\n",
    "print(data.iloc[sampler])       #data.take()与data.iloc[]对于行或列的索引等价，不同点在于iloc还可以进行值索引，take只能对行或列索引。\n",
    "                                #take里面为整数数组\n",
    "sampler=np.random.permutation(4)\n",
    "print(data.take(sampler,axis=1))      #利用axis进行列的重新排序\n",
    "'''\n",
    "通过产生的sampler便可以对DataFrame的行或列进行随机重新排序\n",
    "'''"
   ]
  },
  {
   "cell_type": "code",
   "execution_count": 9,
   "id": "ebda2826",
   "metadata": {},
   "outputs": [
    {
     "data": {
      "text/html": [
       "<div>\n",
       "<style scoped>\n",
       "    .dataframe tbody tr th:only-of-type {\n",
       "        vertical-align: middle;\n",
       "    }\n",
       "\n",
       "    .dataframe tbody tr th {\n",
       "        vertical-align: top;\n",
       "    }\n",
       "\n",
       "    .dataframe thead th {\n",
       "        text-align: right;\n",
       "    }\n",
       "</style>\n",
       "<table border=\"1\" class=\"dataframe\">\n",
       "  <thead>\n",
       "    <tr style=\"text-align: right;\">\n",
       "      <th></th>\n",
       "      <th>0</th>\n",
       "      <th>1</th>\n",
       "      <th>2</th>\n",
       "      <th>3</th>\n",
       "    </tr>\n",
       "  </thead>\n",
       "  <tbody>\n",
       "    <tr>\n",
       "      <th>b</th>\n",
       "      <td>4</td>\n",
       "      <td>5</td>\n",
       "      <td>6</td>\n",
       "      <td>7</td>\n",
       "    </tr>\n",
       "    <tr>\n",
       "      <th>e</th>\n",
       "      <td>16</td>\n",
       "      <td>17</td>\n",
       "      <td>18</td>\n",
       "      <td>19</td>\n",
       "    </tr>\n",
       "  </tbody>\n",
       "</table>\n",
       "</div>"
      ],
      "text/plain": [
       "    0   1   2   3\n",
       "b   4   5   6   7\n",
       "e  16  17  18  19"
      ]
     },
     "execution_count": 9,
     "metadata": {},
     "output_type": "execute_result"
    }
   ],
   "source": [
    "#可以通过sample方法来选出一个不含有替代值的随机子集（即不允许有重复选择）\n",
    "data.sample(n=2)"
   ]
  },
  {
   "cell_type": "code",
   "execution_count": 10,
   "id": "b4bf86a6",
   "metadata": {},
   "outputs": [
    {
     "name": "stdout",
     "output_type": "stream",
     "text": [
      "2   -1\n",
      "1    7\n",
      "4    4\n",
      "3    6\n",
      "0    5\n",
      "3    6\n",
      "4    4\n",
      "1    7\n",
      "1    7\n",
      "3    6\n",
      "dtype: int64\n"
     ]
    }
   ],
   "source": [
    "#也可以生成一个带有替代值的样本\n",
    "choices=pd.Series([5,7,-1,6,4])\n",
    "print(choices.sample(n=10,replace=True))          #传入replace=True参数来实现"
   ]
  },
  {
   "cell_type": "markdown",
   "id": "d37a9f8d",
   "metadata": {},
   "source": [
    "### 2.8、计算指标/虚拟变量"
   ]
  },
  {
   "cell_type": "code",
   "execution_count": 17,
   "id": "fd617290",
   "metadata": {},
   "outputs": [
    {
     "name": "stdout",
     "output_type": "stream",
     "text": [
      "       a      b      c\n",
      "0  False   True  False\n",
      "1  False   True  False\n",
      "2   True  False  False\n",
      "3  False  False   True\n",
      "4   True  False  False\n",
      "5  False   True  False\n",
      "  key  key_a  key_b  key_c\n",
      "0   b  False   True  False\n",
      "1   b  False   True  False\n",
      "2   a   True  False  False\n",
      "3   c  False  False   True\n",
      "4   a   True  False  False\n",
      "5   b  False   True  False\n"
     ]
    }
   ],
   "source": [
    "#如果一个DataFrame中的一列有k个不同的值，则通过get_dummies可以得到一个k列的矩阵来表示某一行是否有哪个值\n",
    "data=pd.DataFrame({'key':['b','b','a','c','a','b'],\n",
    "                   'data1':range(6)})\n",
    "print(pd.get_dummies(data['key']))\n",
    "\n",
    "dummies=pd.get_dummies(data['key'],prefix='key')   #利用prefix参数加上前缀\n",
    "data_with_dummies=data[['key']].join(dummies)     \n",
    "print(data_with_dummies)"
   ]
  },
  {
   "cell_type": "code",
   "execution_count": 22,
   "id": "8a6ec368",
   "metadata": {},
   "outputs": [
    {
     "name": "stdout",
     "output_type": "stream",
     "text": [
      "   movie_id                               title                        genres\n",
      "0         1                    Toy Story (1995)   Animation|Children's|Comedy\n",
      "1         2                      Jumanji (1995)  Adventure|Children's|Fantasy\n",
      "2         3             Grumpier Old Men (1995)                Comedy|Romance\n",
      "3         4            Waiting to Exhale (1995)                  Comedy|Drama\n",
      "4         5  Father of the Bride Part II (1995)                        Comedy\n",
      "5         6                         Heat (1995)         Action|Crime|Thriller\n",
      "6         7                      Sabrina (1995)                Comedy|Romance\n",
      "7         8                 Tom and Huck (1995)          Adventure|Children's\n",
      "8         9                 Sudden Death (1995)                        Action\n",
      "9        10                    GoldenEye (1995)     Action|Adventure|Thriller\n",
      "所有的流派:\n",
      " ['Animation' \"Children's\" 'Comedy' 'Adventure' 'Fantasy' 'Romance' 'Drama'\n",
      " 'Action' 'Crime' 'Thriller' 'Horror' 'Sci-Fi' 'Documentary' 'War'\n",
      " 'Musical' 'Mystery' 'Film-Noir' 'Western']\n"
     ]
    }
   ],
   "source": [
    "\n",
    "mnames=['movie_id','title','genres']\n",
    "movies=pd.read_table('pydata-book/datasets/movielens/movies.dat',sep='::',\n",
    "                     header=None,names=mnames,engine='python')\n",
    "print(movies[:10])\n",
    "\n",
    "all_genres=[]\n",
    "for x in movies['genres']:\n",
    "    all_genres.extend(x.split('|'))\n",
    "genres=pd.unique(all_genres)\n",
    "print('所有的流派:\\n',genres)"
   ]
  },
  {
   "cell_type": "code",
   "execution_count": null,
   "id": "b15c7fb1",
   "metadata": {},
   "outputs": [],
   "source": []
  }
 ],
 "metadata": {
  "kernelspec": {
   "display_name": "Python 3 (ipykernel)",
   "language": "python",
   "name": "python3"
  },
  "language_info": {
   "codemirror_mode": {
    "name": "ipython",
    "version": 3
   },
   "file_extension": ".py",
   "mimetype": "text/x-python",
   "name": "python",
   "nbconvert_exporter": "python",
   "pygments_lexer": "ipython3",
   "version": "3.11.4"
  }
 },
 "nbformat": 4,
 "nbformat_minor": 5
}
