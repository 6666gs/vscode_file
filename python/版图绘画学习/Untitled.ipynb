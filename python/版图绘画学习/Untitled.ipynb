{
 "cells": [
  {
   "cell_type": "code",
   "execution_count": 1,
   "id": "a4704acf-6397-4329-8d71-da3bcdf49f8c",
   "metadata": {},
   "outputs": [],
   "source": [
    "import gdsfactory as gf"
   ]
  },
  {
   "cell_type": "code",
   "execution_count": 22,
   "id": "e7896928-c289-4d65-8aee-f01179fd15b8",
   "metadata": {},
   "outputs": [],
   "source": [
    "def demo_polygons(a):\n",
    "    # Create a blank component (essentially an empty GDS cell with some special features)\n",
    "    c = gf.Component(\"demo\")\n",
    "\n",
    "    # Create and add a polygon from separate lists of x points and y points\n",
    "    # (Can also be added like [(x1,y1), (x2,y2), (x3,y3), ... ]\n",
    "    c.add_polygon(\n",
    "        a, layer=(44, 0)\n",
    "    )  # GDS layers are tuples of ints (but if we use only one number it assumes the other number is 0)\n",
    "    return c"
   ]
  },
  {
   "cell_type": "code",
   "execution_count": 27,
   "id": "54e60b9a-ab54-441e-a0ae-5e05fd460d85",
   "metadata": {},
   "outputs": [
    {
     "name": "stdout",
     "output_type": "stream",
     "text": [
      "\u001b[32m2024-03-29 20:51:37.612\u001b[0m | \u001b[1mINFO    \u001b[0m | \u001b[36mgdsfactory.component\u001b[0m:\u001b[36m_write_library\u001b[0m:\u001b[36m2021\u001b[0m - \u001b[1mWrote to 'C:\\\\demo.gds'\u001b[0m\n",
      "\u001b[32m2024-03-29 20:51:37.696\u001b[0m | \u001b[1mINFO    \u001b[0m | \u001b[36mgdsfactory.klive\u001b[0m:\u001b[36mshow\u001b[0m:\u001b[36m56\u001b[0m - \u001b[1mMessage from klive: {\"version\": \"0.3.0\", \"type\": \"open\", \"file\": \"C:\\\\Users\\\\ADMINI~1\\\\AppData\\\\Local\\\\Temp\\\\gdsfactory\\\\demo$6.gds\"}\u001b[0m\n"
     ]
    }
   ],
   "source": [
    "c=demo_polygons([(2275.13700,  2275.13700,2295.13700, 2295.13700), (525.00000, 578.28100, 578.28100, 525.00000)])\n",
    "c.write_gds(\"C://demo.gds\")\n",
    "c.show()"
   ]
  },
  {
   "cell_type": "code",
   "execution_count": 2,
   "id": "d500710f-7d5c-43dd-abf3-7a6d653d8c0c",
   "metadata": {},
   "outputs": [],
   "source": [
    "\"\"\"\n",
    "展示绘画文字版图\n",
    "\"\"\"\n",
    "\n",
    "def demo_text(a,b):\n",
    "    c = gf.Component(\"myComponent_\"+'1')\n",
    "    # Create some new geometry from the functions available in the geometry library\n",
    "    t = gf.components.text(a,size=b, layer=(10, 0))\n",
    "    #r = gf.components.rectangle(size=[50, 100], layer=(10, 0))\n",
    "    \n",
    "    # Add references to the new geometry to c, our blank component\n",
    "    text1 = c.add_ref(t)  # Add the text we created as a reference\n",
    "    # Using the << operator (identical to add_ref()), add the same geometry a second time\n",
    "    #text2 = c << t\n",
    "    #r = c << r  # Add the rectangle we created\n",
    "    \n",
    "    # Now that the geometry has been added to \"c\", we can move everything around:\n",
    "    text1.movey(25)\n",
    "    #text2.move([5, 30])\n",
    "    #text2.rotate(45)\n",
    "    #r.movex(-15)\n",
    "    #r.movex(-15)\n",
    "\n",
    "    return c"
   ]
  },
  {
   "cell_type": "code",
   "execution_count": 4,
   "id": "f83c92ff-40b8-4628-9eab-c24f7ad8ba1d",
   "metadata": {},
   "outputs": [
    {
     "name": "stdout",
     "output_type": "stream",
     "text": [
      "\u001b[32m2024-04-16 15:40:26.350\u001b[0m | \u001b[1mINFO    \u001b[0m | \u001b[36mgdsfactory.klive\u001b[0m:\u001b[36mshow\u001b[0m:\u001b[36m56\u001b[0m - \u001b[1mMessage from klive: {\"version\": \"0.3.0\", \"type\": \"reload\", \"file\": \"C:\\\\Users\\\\ADMINI~1\\\\AppData\\\\Local\\\\Temp\\\\gdsfactory\\\\myComponent_1.gds\"}\u001b[0m\n"
     ]
    }
   ],
   "source": [
    "c=demo_text(\"Wg/Au\",50)\n",
    "c.show()"
   ]
  },
  {
   "cell_type": "code",
   "execution_count": 2,
   "id": "aa2d178f-34a2-44d4-b431-5fffa70b08e1",
   "metadata": {},
   "outputs": [],
   "source": [
    "from shapely.geometry.polygon import Polygon"
   ]
  },
  {
   "cell_type": "code",
   "execution_count": 27,
   "id": "11174508-9ea0-4b15-8c2a-5c2c424baaa0",
   "metadata": {},
   "outputs": [],
   "source": [
    "def demo_multipoly(a):\n",
    "    c=gf.Component(\"Mixed_polygons\")\n",
    "    p0=Polygon(zip((0,0,160,160),(-0.5,0.5,0.1,-0.1)))\n",
    "    p1=Polygon(zip((0,0,200,200),(-1.5,1.5,1.5,-1.5)))\n",
    "    p2=p1-p0\n",
    "    \n",
    "    c.add_polygon(p2,layer=(41,0))\n",
    "    \n",
    "    \n",
    "    return c"
   ]
  },
  {
   "cell_type": "code",
   "execution_count": 28,
   "id": "0fadb69d-b099-456b-9874-9770b76dd1e9",
   "metadata": {},
   "outputs": [
    {
     "name": "stdout",
     "output_type": "stream",
     "text": [
      "\u001b[32m2024-04-25 19:42:04.250\u001b[0m | \u001b[1mINFO    \u001b[0m | \u001b[36mgdsfactory.klive\u001b[0m:\u001b[36mshow\u001b[0m:\u001b[36m56\u001b[0m - \u001b[1mMessage from klive: {\"version\": \"0.3.0\", \"type\": \"open\", \"file\": \"C:\\\\Users\\\\ADMINI~1\\\\AppData\\\\Local\\\\Temp\\\\gdsfactory\\\\Mixed_polygons$11.gds\"}\u001b[0m\n"
     ]
    }
   ],
   "source": [
    "c=demo_multipoly(0.3)\n",
    "c.show()"
   ]
  },
  {
   "cell_type": "code",
   "execution_count": 28,
   "id": "c02f4518-3337-4cb8-b826-c69e12e5cfe8",
   "metadata": {},
   "outputs": [
    {
     "data": {
      "text/plain": [
       "\u001b[1;31mSignature:\u001b[0m \u001b[0mp0\u001b[0m\u001b[1;33m.\u001b[0m\u001b[0msimplify\u001b[0m\u001b[1;33m(\u001b[0m\u001b[0mtolerance\u001b[0m\u001b[1;33m,\u001b[0m \u001b[0mpreserve_topology\u001b[0m\u001b[1;33m=\u001b[0m\u001b[1;32mTrue\u001b[0m\u001b[1;33m)\u001b[0m\u001b[1;33m\u001b[0m\u001b[1;33m\u001b[0m\u001b[0m\n",
       "\u001b[1;31mDocstring:\u001b[0m\n",
       "Returns a simplified geometry produced by the Douglas-Peucker\n",
       "algorithm\n",
       "\n",
       "Coordinates of the simplified geometry will be no more than the\n",
       "tolerance distance from the original. Unless the topology preserving\n",
       "option is used, the algorithm may produce self-intersecting or\n",
       "otherwise invalid geometries.\n",
       "\u001b[1;31mFile:\u001b[0m      d:\\anaconda\\lib\\site-packages\\shapely\\geometry\\base.py\n",
       "\u001b[1;31mType:\u001b[0m      method"
      ]
     },
     "metadata": {},
     "output_type": "display_data"
    }
   ],
   "source": [
    "p0=Polygon(zip((-8,6,7,9),(-6,8,17,5)))\n",
    "p1=p0.buffer(1)\n",
    "p0.simplify?"
   ]
  },
  {
   "cell_type": "code",
   "execution_count": 11,
   "id": "89e79f2f-b7ca-4a51-ad32-da11a1c305ea",
   "metadata": {},
   "outputs": [
    {
     "data": {
      "text/plain": [
       "\u001b[1;31mSignature:\u001b[0m\n",
       "\u001b[0mgf\u001b[0m\u001b[1;33m.\u001b[0m\u001b[0mcomponents\u001b[0m\u001b[1;33m.\u001b[0m\u001b[0mtext\u001b[0m\u001b[1;33m(\u001b[0m\u001b[1;33m\n",
       "\u001b[0m    \u001b[0mtext\u001b[0m\u001b[1;33m:\u001b[0m \u001b[1;34m'str'\u001b[0m \u001b[1;33m=\u001b[0m \u001b[1;34m'abcd'\u001b[0m\u001b[1;33m,\u001b[0m\u001b[1;33m\n",
       "\u001b[0m    \u001b[0msize\u001b[0m\u001b[1;33m:\u001b[0m \u001b[1;34m'float'\u001b[0m \u001b[1;33m=\u001b[0m \u001b[1;36m10.0\u001b[0m\u001b[1;33m,\u001b[0m\u001b[1;33m\n",
       "\u001b[0m    \u001b[0mposition\u001b[0m\u001b[1;33m:\u001b[0m \u001b[1;34m'Coordinate'\u001b[0m \u001b[1;33m=\u001b[0m \u001b[1;33m(\u001b[0m\u001b[1;36m0\u001b[0m\u001b[1;33m,\u001b[0m \u001b[1;36m0\u001b[0m\u001b[1;33m)\u001b[0m\u001b[1;33m,\u001b[0m\u001b[1;33m\n",
       "\u001b[0m    \u001b[0mjustify\u001b[0m\u001b[1;33m:\u001b[0m \u001b[1;34m'str'\u001b[0m \u001b[1;33m=\u001b[0m \u001b[1;34m'left'\u001b[0m\u001b[1;33m,\u001b[0m\u001b[1;33m\n",
       "\u001b[0m    \u001b[0mlayer\u001b[0m\u001b[1;33m:\u001b[0m \u001b[1;34m'LayerSpec'\u001b[0m \u001b[1;33m=\u001b[0m \u001b[1;34m'WG'\u001b[0m\u001b[1;33m,\u001b[0m\u001b[1;33m\n",
       "\u001b[0m    \u001b[0mlayers\u001b[0m\u001b[1;33m:\u001b[0m \u001b[1;34m'LayerSpecs | None'\u001b[0m \u001b[1;33m=\u001b[0m \u001b[1;32mNone\u001b[0m\u001b[1;33m,\u001b[0m\u001b[1;33m\n",
       "\u001b[0m\u001b[1;33m)\u001b[0m \u001b[1;33m->\u001b[0m \u001b[1;34m'Component'\u001b[0m\u001b[1;33m\u001b[0m\u001b[1;33m\u001b[0m\u001b[0m\n",
       "\u001b[1;31mDocstring:\u001b[0m\n",
       "Text shapes.\n",
       "\n",
       "Args:\n",
       "    text: string.\n",
       "    size: in um.\n",
       "    position: x, y position.\n",
       "    justify: left, right, center.\n",
       "    layer: for the text.\n",
       "    layers: optional for duplicating the text.\n",
       "\u001b[1;31mFile:\u001b[0m      d:\\anaconda\\lib\\site-packages\\gdsfactory\\components\\text.py\n",
       "\u001b[1;31mType:\u001b[0m      function"
      ]
     },
     "metadata": {},
     "output_type": "display_data"
    }
   ],
   "source": [
    "gf.components.text?"
   ]
  },
  {
   "cell_type": "code",
   "execution_count": 2,
   "id": "bf0f9081-c9ed-4eb8-9f49-c83474a603c3",
   "metadata": {},
   "outputs": [
    {
     "data": {
      "text/plain": [
       "'\\n\\n绘画几何体\\n\\n'"
      ]
     },
     "execution_count": 2,
     "metadata": {},
     "output_type": "execute_result"
    }
   ],
   "source": [
    "'''\n",
    "\n",
    "绘画几何体\n",
    "\n",
    "'''"
   ]
  },
  {
   "cell_type": "code",
   "execution_count": 12,
   "id": "31c27ffd-92c4-4040-afda-2ccd7a208f0a",
   "metadata": {},
   "outputs": [],
   "source": [
    "def demo_1f4circle():\n",
    "\n",
    "    a = gf.components.ellipse(radii=(20,20),layer=(44,0))\n",
    "    b=gf.components.rectangle(size=[20,20],layer=(44,0))\n",
    "    c=gf.geometry.boolean(A=a,B=b,operation=\"and\",precision=1e-6,layer=(41,0))\n",
    "    d=gf.geometry.boolean(A=b,B=c,operation=\"NOT\",precision=1e-6,layer=(41,0))\n",
    "    M=gf.Component(\"1 for 4 circle\")\n",
    "    M.add_ref(d)\n",
    "    return M"
   ]
  },
  {
   "cell_type": "code",
   "execution_count": 13,
   "id": "63b1ebea-cead-4c40-8c80-641196564a0c",
   "metadata": {},
   "outputs": [
    {
     "name": "stdout",
     "output_type": "stream",
     "text": [
      "\u001b[32m2024-04-02 21:27:39.344\u001b[0m | \u001b[1mINFO    \u001b[0m | \u001b[36mgdsfactory.klive\u001b[0m:\u001b[36mshow\u001b[0m:\u001b[36m56\u001b[0m - \u001b[1mMessage from klive: {\"version\": \"0.3.0\", \"type\": \"open\", \"file\": \"C:\\\\Users\\\\ADMINI~1\\\\AppData\\\\Local\\\\Temp\\\\gdsfactory\\\\1 for 4 circle$4.gds\"}\u001b[0m\n"
     ]
    }
   ],
   "source": [
    "a=demo_1f4circle()\n",
    "a.show()"
   ]
  },
  {
   "cell_type": "code",
   "execution_count": 28,
   "id": "e5b1f2ae-72b0-40ae-894a-1488fc507859",
   "metadata": {},
   "outputs": [],
   "source": [
    "'''\n",
    "一个给已知矩形添加圆角的程序\n",
    "'''\n",
    "import gdsfactory as gf\n",
    "\n",
    "def add_circle_corner(a,r,layer):\n",
    "    x0=a[0]\n",
    "    y0=a[1]\n",
    "    x1=a[2]\n",
    "    y1=a[3]\n",
    "    circle_x0=x0+r\n",
    "    circle_y0=y0+r\n",
    "    circle_x1=x1-r\n",
    "    circle_y1=y1-r\n",
    "\n",
    "    M=gf.Component(\"circle corner\")\n",
    "    #添加半圆角\n",
    "    c1=gf.components.ellipse(radii=(r,r),layer=layer)\n",
    "    rect=gf.components.rectangle(size=[r,r],layer=layer)\n",
    "    \n",
    "    circle1=gf.geometry.boolean(A=c1,B=rect,operation=\"and\",precision=1e-6,layer=layer)\n",
    "    \n",
    "    cir1=M.add_ref(circle1)\n",
    "    cir2=M.add_ref(circle1).rotate(90)\n",
    "    cir3=M.add_ref(circle1).rotate(180)\n",
    "    cir4=M.add_ref(circle1).rotate(270)\n",
    "    #移动半圆角到指定的位置\n",
    "    cir1.move([x1-r,y1-r])\n",
    "    cir2.move([x0+r,y1-r])\n",
    "    cir3.move([x0+r,y0+r])\n",
    "    cir4.move([x1-r,y0+r])\n",
    "\n",
    "    #添加矩形\n",
    "    M.add_polygon([(x0,x0,x1,x1),(y0+r,y1-r,y1-r,y0+r)],layer=layer)\n",
    "    M.add_polygon([(x0+r,x0+r,x1-r,x1-r),(y1-r,y1,y1,y1-r)],layer=layer)\n",
    "    M.add_polygon([(x0+r,x0+r,x1-r,x1-r),(y0,y0+r,y0+r,y0)],layer=layer)\n",
    "    \n",
    "    return M\n",
    "\n"
   ]
  },
  {
   "cell_type": "code",
   "execution_count": 32,
   "id": "957769e4-8ca4-4943-abee-3fabd94296dd",
   "metadata": {},
   "outputs": [
    {
     "name": "stdout",
     "output_type": "stream",
     "text": [
      "\u001b[32m2024-04-15 19:38:53.358\u001b[0m | \u001b[1mINFO    \u001b[0m | \u001b[36mgdsfactory.klive\u001b[0m:\u001b[36mshow\u001b[0m:\u001b[36m56\u001b[0m - \u001b[1mMessage from klive: {\"version\": \"0.3.0\", \"type\": \"open\", \"file\": \"C:\\\\Users\\\\ADMINI~1\\\\AppData\\\\Local\\\\Temp\\\\gdsfactory\\\\circle corner$3.gds\"}\u001b[0m\n"
     ]
    }
   ],
   "source": [
    "M=add_circle_corner([-1710.89000,411.08500,-1550.89000,462.08500],5,(44,0))\n",
    "M.show()"
   ]
  },
  {
   "cell_type": "code",
   "execution_count": null,
   "id": "9b402f93-f8fb-4c95-82eb-fd610b735507",
   "metadata": {},
   "outputs": [],
   "source": []
  }
 ],
 "metadata": {
  "kernelspec": {
   "display_name": "Python 3 (ipykernel)",
   "language": "python",
   "name": "python3"
  },
  "language_info": {
   "codemirror_mode": {
    "name": "ipython",
    "version": 3
   },
   "file_extension": ".py",
   "mimetype": "text/x-python",
   "name": "python",
   "nbconvert_exporter": "python",
   "pygments_lexer": "ipython3",
   "version": "3.11.5"
  }
 },
 "nbformat": 4,
 "nbformat_minor": 5
}
