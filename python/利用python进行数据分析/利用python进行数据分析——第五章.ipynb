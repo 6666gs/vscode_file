{
 "cells": [
  {
   "cell_type": "markdown",
   "id": "6ee52c3c",
   "metadata": {},
   "source": [
    "# pandas入门"
   ]
  },
  {
   "cell_type": "markdown",
   "id": "ede3ac8a",
   "metadata": {},
   "source": [
    "## 1、pandas数据结构介绍"
   ]
  },
  {
   "cell_type": "markdown",
   "id": "806972d9",
   "metadata": {},
   "source": [
    "### 1.1、Series"
   ]
  },
  {
   "cell_type": "code",
   "execution_count": 2,
   "id": "89cca0e7",
   "metadata": {},
   "outputs": [],
   "source": [
    "import numpy as np\n",
    "import pandas as pd\n",
    "from pandas import Series,DataFrame"
   ]
  },
  {
   "cell_type": "code",
   "execution_count": 12,
   "id": "430c30ec",
   "metadata": {},
   "outputs": [
    {
     "name": "stdout",
     "output_type": "stream",
     "text": [
      "0    4\n",
      "1    7\n",
      "2   -5\n",
      "3    3\n",
      "dtype: int64\n",
      "[ 4  7 -5  3]\n",
      "<class 'numpy.ndarray'>\n",
      "RangeIndex(start=0, stop=4, step=1)\n",
      "<class 'pandas.core.indexes.range.RangeIndex'>\n"
     ]
    }
   ],
   "source": [
    "#Series是一种一维的数组形对象，其包含了数据标签index，与字典dict类似\n",
    "obj=pd.Series([4,7,-5,3])\n",
    "print(obj,obj.values,type(obj.values),obj.index,type(obj.index),sep='\\n')      #Series的值就是矩阵类型，索引类似range(4)\n",
    "'''\n",
    "用value（value得到的是矩阵类型）和index得到其对应的值和索引\n",
    "'''"
   ]
  },
  {
   "cell_type": "code",
   "execution_count": 42,
   "id": "7b5490d3",
   "metadata": {},
   "outputs": [
    {
     "name": "stdout",
     "output_type": "stream",
     "text": [
      "d    4\n",
      "b    7\n",
      "a   -5\n",
      "c    3\n",
      "dtype: int64\n",
      "Index(['d', 'b', 'a', 'c'], dtype='object')\n",
      "<class 'pandas.core.indexes.base.Index'>\n",
      "\n",
      "\n",
      "\n",
      "-5 3\n",
      "d    10\n",
      "b    10\n",
      "a    10\n",
      "c    10\n",
      "dtype: int64\n",
      "d    0\n",
      "b    1\n",
      "a    2\n",
      "c    3\n",
      "dtype: int64 [0 1 2 3]\n"
     ]
    }
   ],
   "source": [
    "#另外Series的索引也可以指定，此时索引的类型变了\n",
    "obj2=pd.Series([4,7,-5,3],index=['d','b','a','c'])       \n",
    "print(obj2,obj2.index,type(obj2.index),sep='\\n')\n",
    "print('\\n\\n')\n",
    "print(obj2['a'],obj2['c'])\n",
    "\n",
    "obj2[:]=10                #Series可以改变各个索引的值\n",
    "print(obj2)\n",
    "obj2[:]=np.arange(4);obj3=obj2;obj3=np.arange(4)    #一次操作中对所有索引的值进行改变时，需要用括号选取全部数值\n",
    "print(obj2,obj3)"
   ]
  },
  {
   "cell_type": "code",
   "execution_count": 8,
   "id": "2a76c17f",
   "metadata": {},
   "outputs": [
    {
     "name": "stdout",
     "output_type": "stream",
     "text": [
      "d    4\n",
      "b    7\n",
      "c    3\n",
      "dtype: int64\n",
      "\n",
      "d     8\n",
      "b    14\n",
      "a   -10\n",
      "c     6\n",
      "dtype: int64\n",
      "\n",
      "d      54.598150\n",
      "b    1096.633158\n",
      "a       0.006738\n",
      "c      20.085537\n",
      "dtype: float64\n"
     ]
    }
   ],
   "source": [
    "#Series同样可以使用布尔索引、与标量相乘、使用数学函数\n",
    "print(obj2[obj2>2],obj2*2,np.exp(obj2),sep='\\n\\n')"
   ]
  },
  {
   "cell_type": "code",
   "execution_count": 112,
   "id": "9fc5b8b2",
   "metadata": {},
   "outputs": [
    {
     "name": "stdout",
     "output_type": "stream",
     "text": [
      "Ohio      3500\n",
      "Texas     7100\n",
      "Oregon    1600\n",
      "Uyh        500\n",
      "dtype: int64\n",
      "\n",
      "{'Ohio': 3500, 'Texas': 7100, 'Oregon': 1600, 'Uyh': 500}\n",
      "\n",
      "California       NaN\n",
      "Ohio          3500.0\n",
      "Oregon        1600.0\n",
      "Texas         7100.0\n",
      "dtype: float64\n",
      "\n",
      "\n",
      "California     True\n",
      "Ohio          False\n",
      "Oregon        False\n",
      "Texas         False\n",
      "dtype: bool\n",
      "California     True\n",
      "Ohio          False\n",
      "Oregon        False\n",
      "Texas         False\n",
      "dtype: bool\n"
     ]
    }
   ],
   "source": [
    "#可以将字典转换为Series\n",
    "dict1={'Ohio':3500,'Texas':7100,'Oregon':1600,'Uyh':500}\n",
    "obj3=pd.Series(dict1)\n",
    "print(obj3,dict1,sep='\\n\\n',end='\\n\\n')\n",
    "\n",
    "states=['California','Ohio','Oregon','Texas']\n",
    "obj4=pd.Series(dict1,index=states)              #可以拟定一个指定顺序的索引序列\n",
    "print(obj4)                                     #给定索引序列中，没有'California'的值，因此为NaN，同时没有'Uyh'，因此没有这个索引\n",
    "\n",
    "#用pd.isnull或者pd.notnull来检测是不是缺失数据    可以用外部内建函数，同时也是Series的一个实例\n",
    "print('\\n',pd.isnull(obj4),obj4.isnull(),sep='\\n')"
   ]
  },
  {
   "cell_type": "code",
   "execution_count": 113,
   "id": "1f8b9618",
   "metadata": {},
   "outputs": [
    {
     "name": "stdout",
     "output_type": "stream",
     "text": [
      "state\n",
      "California       NaN\n",
      "Ohio          3500.0\n",
      "Oregon        1600.0\n",
      "Texas         7100.0\n",
      "Name: population, dtype: float64\n",
      "a       NaN\n",
      "b    3500.0\n",
      "c    1600.0\n",
      "d    7100.0\n",
      "Name: population, dtype: float64\n",
      "Index(['a', 'b', 'c', 'd'], dtype='object')\n"
     ]
    },
    {
     "ename": "TypeError",
     "evalue": "Index does not support mutable operations",
     "output_type": "error",
     "traceback": [
      "\u001b[1;31m---------------------------------------------------------------------------\u001b[0m",
      "\u001b[1;31mTypeError\u001b[0m                                 Traceback (most recent call last)",
      "Cell \u001b[1;32mIn[113], line 11\u001b[0m\n\u001b[0;32m      9\u001b[0m index\u001b[38;5;241m=\u001b[39mobj4\u001b[38;5;241m.\u001b[39mindex\n\u001b[0;32m     10\u001b[0m \u001b[38;5;28mprint\u001b[39m(index)\n\u001b[1;32m---> 11\u001b[0m index[\u001b[38;5;241m1\u001b[39m]\u001b[38;5;241m=\u001b[39m\u001b[38;5;124m'\u001b[39m\u001b[38;5;124mc\u001b[39m\u001b[38;5;124m'\u001b[39m\n",
      "File \u001b[1;32mD:\\anaconda\\Lib\\site-packages\\pandas\\core\\indexes\\base.py:5157\u001b[0m, in \u001b[0;36mIndex.__setitem__\u001b[1;34m(self, key, value)\u001b[0m\n\u001b[0;32m   5155\u001b[0m \u001b[38;5;129m@final\u001b[39m\n\u001b[0;32m   5156\u001b[0m \u001b[38;5;28;01mdef\u001b[39;00m \u001b[38;5;21m__setitem__\u001b[39m(\u001b[38;5;28mself\u001b[39m, key, value):\n\u001b[1;32m-> 5157\u001b[0m     \u001b[38;5;28;01mraise\u001b[39;00m \u001b[38;5;167;01mTypeError\u001b[39;00m(\u001b[38;5;124m\"\u001b[39m\u001b[38;5;124mIndex does not support mutable operations\u001b[39m\u001b[38;5;124m\"\u001b[39m)\n",
      "\u001b[1;31mTypeError\u001b[0m: Index does not support mutable operations"
     ]
    }
   ],
   "source": [
    "#Series自身与其索引均包括name属性\n",
    "obj4.name='population'\n",
    "obj4.index.name='state'\n",
    "print(obj4)\n",
    "\n",
    "#Series的索引也可以改变。但索引对象无法改变\n",
    "obj4.index=['a','b','c','d']\n",
    "print(obj4)\n",
    "index=obj4.index\n",
    "print(index)\n",
    "index[1]='c'"
   ]
  },
  {
   "cell_type": "markdown",
   "id": "1f0f1341",
   "metadata": {},
   "source": [
    "## 1.2、DataFrame"
   ]
  },
  {
   "cell_type": "code",
   "execution_count": 9,
   "id": "4b20d5b7",
   "metadata": {},
   "outputs": [
    {
     "name": "stdout",
     "output_type": "stream",
     "text": [
      "{'state': ['a', 'b', 'c', 'd', 'e', 'f'], 'year': [2000, 2001, 2002, 2003, 2004, 2005], 'pop': [1.5, 1.7, 3.6, 2.4, 1.4, 4.5]}\n",
      "  state  year  pop\n",
      "0     a  2000  1.5\n",
      "1     b  2001  1.7\n",
      "2     c  2002  3.6\n",
      "3     d  2003  2.4\n",
      "4     e  2004  1.4\n",
      "5     f  2005  4.5\n",
      "\n",
      "  state  year  pop\n",
      "0     a  2000  1.5\n",
      "1     b  2001  1.7\n",
      "2     c  2002  3.6\n",
      "3     d  2003  2.4\n",
      "4     e  2004  1.4\n",
      "\n",
      "       year state  pop debt\n",
      "one    2000     a  1.5  NaN\n",
      "two    2001     b  1.7  NaN\n",
      "three  2002     c  3.6  NaN\n",
      "four   2003     d  2.4  NaN\n",
      "five   2004     e  1.4  NaN\n",
      "six    2005     f  4.5  NaN\n",
      "one      a\n",
      "two      b\n",
      "three    c\n",
      "four     d\n",
      "five     e\n",
      "six      f\n",
      "Name: state, dtype: object\n",
      "one      2000\n",
      "two      2001\n",
      "three    2002\n",
      "four     2003\n",
      "five     2004\n",
      "six      2005\n",
      "Name: year, dtype: int64\n",
      "year     2002\n",
      "state       c\n",
      "pop       3.6\n",
      "debt      NaN\n",
      "Name: three, dtype: object\n",
      "\n",
      "       year state  pop  debt\n",
      "one    2000     a  1.5    16\n",
      "two    2001     b  1.7    16\n",
      "three  2002     c  3.6    16\n",
      "four   2003     d  2.4    16\n",
      "five   2004     e  1.4    16\n",
      "six    2005     f  4.5    16\n",
      "       year state  pop  debt\n",
      "one    2000     a  1.5     0\n",
      "two    2001     b  1.7     1\n",
      "three  2002     c  3.6     2\n",
      "four   2003     d  2.4     3\n",
      "five   2004     e  1.4     4\n",
      "six    2005     f  4.5     5\n",
      "       year state  pop  debt\n",
      "one    2000     a  1.5   NaN\n",
      "two    2001     b  1.7  -1.0\n",
      "three  2002     c  3.6   NaN\n",
      "four   2003     d  2.4   1.5\n",
      "five   2004     e  1.4   1.7\n",
      "six    2005     f  4.5   NaN\n",
      "       year state  pop  debt   op\n",
      "one    2000     a  1.5   NaN  NaN\n",
      "two    2001     b  1.7  -1.0 -1.0\n",
      "three  2002     c  3.6   NaN  NaN\n",
      "four   2003     d  2.4   1.5  1.5\n",
      "five   2004     e  1.4   1.7  1.7\n",
      "six    2005     f  4.5   NaN  NaN\n",
      "..........\n",
      "    Ohio  Texas  California\n",
      "a     0      1           2\n",
      "c     3      4           5\n",
      "d     6      7           8\n"
     ]
    }
   ],
   "source": [
    "#DataFrame表示矩阵的数据表，包含了已经排序的列集合。相当于索引相同的多个Series组成的字典\n",
    "#由字典创建DataFrame\n",
    "data={'state':['a','b','c','d','e','f'],'year':[2000,2001,2002,2003,2004,2005],'pop':[1.5,1.7,3.6,2.4,1.4,4.5]}\n",
    "frame=pd.DataFrame(data)\n",
    "print(data,frame,sep='\\n')\n",
    "#head()只会选出最后的前五行\n",
    "print('')\n",
    "print(frame.head())  \n",
    "#可以指定生成frame的列的顺序\n",
    "print('')\n",
    "frame1=pd.DataFrame(data,columns=['year','state','pop','debt'],index=['one','two','three','four','five','six'])        \n",
    "print(frame1)                                                   #若指定的列不在字典data中，则frame中该列将显示NaN\n",
    "print(frame1['state'],frame1.year,sep='\\n')  #可以检索得到列。frame1.column仅当column是有效的python变量时才有用\n",
    "print(frame1.loc['three'])                   #也可以得到行。注意，检索得到的都是frame1数据的视图\n",
    "#列的值可以改变\n",
    "print('')\n",
    "frame1['debt']=16                         #列的值可以改变。这一列都变成16\n",
    "print(frame1)\n",
    "frame1['debt']=np.arange(6)               #赋值一个矩阵\n",
    "print(frame1)\n",
    "val=pd.Series([-1,1.5,1.7,8],index=['two','four','five','seven'])     #赋值一个Series\n",
    "frame1['debt']=val                                     #原frame1中没有'seven'行，就会舍弃。空缺处显示NaN\n",
    "print(frame1)\n",
    "frame1['op']=val                                       #原先没有的列，将会自动添加新列\n",
    "print(frame1)\n",
    "\n",
    "'''\n",
    "DataFrame可以用pd.DataFrame()进行初始化，其中可以传入多种数据类型\n",
    "'''\n",
    "frame=pd.DataFrame(np.arange(9).reshape((3,3)),\n",
    "                  index=['a','c','d'],\n",
    "                  columns=['Ohio','Texas','California'])\n",
    "print('..........\\n',frame)"
   ]
  },
  {
   "cell_type": "code",
   "execution_count": 53,
   "id": "6d411c27",
   "metadata": {},
   "outputs": [
    {
     "name": "stdout",
     "output_type": "stream",
     "text": [
      "       year state  pop  debt   op\n",
      "one    2000     a  1.5   NaN  NaN\n",
      "two    2001     b  1.7  -1.0 -1.0\n",
      "three  2002     c  3.6   NaN  NaN\n",
      "four   2003     d  2.4   1.5  1.5\n",
      "five   2004     e  1.4   1.7  1.7\n",
      "six    2005     f  4.5   NaN  NaN\n",
      "       year state  pop  debt\n",
      "one    2000     a  1.5   NaN\n",
      "two    2001     b  1.7  -1.0\n",
      "three  2002     c  3.6   NaN\n",
      "four   2003     d  2.4   1.5\n",
      "five   2004     e  1.4   1.7\n",
      "six    2005     f  4.5   NaN\n"
     ]
    }
   ],
   "source": [
    "#关键字del也可以用来删除DataFrame中的列\n",
    "print(frame1)\n",
    "del frame1['op']\n",
    "print(frame1)"
   ]
  },
  {
   "cell_type": "code",
   "execution_count": 36,
   "id": "4d91a1c0",
   "metadata": {},
   "outputs": [
    {
     "name": "stdout",
     "output_type": "stream",
     "text": [
      "      Nevada  Ohio\n",
      "2001     2.4   1.7\n",
      "2002     2.9   3.6\n",
      "2000     NaN   1.5\n",
      "        2001  2002  2000\n",
      "Nevada   2.4   2.9   NaN\n",
      "Ohio     1.7   3.6   1.5\n",
      "2\n",
      "      Nevada  Ohio\n",
      "2001     2.4   1.7\n",
      "2002     2.9   3.6\n",
      "2003     NaN   NaN\n",
      "3\n",
      "      Ohio  Nevada\n",
      "2001   1.7     2.4\n",
      "2002   3.6     2.9\n",
      "2003   NaN     NaN\n",
      "4\n",
      "2001    0.0\n",
      "2002    1.0\n",
      "2003    2.0\n",
      "Name: Ohio, dtype: float64\n",
      "      Ohio  Nevada\n",
      "2001   0.0     2.4\n",
      "2002   1.0     2.9\n",
      "2003   2.0     NaN\n",
      "5\n",
      "1\n"
     ]
    }
   ],
   "source": [
    "#还可以用包含字典的嵌套字典转换为DataFrame\n",
    "pop={'Nevada':{2001:2.4,2002:2.9},'Ohio':{2000:1.5,2001:1.7,2002:3.6}}  #外字典的键为DataFrame的列索引\n",
    "frame3=pd.DataFrame(pop)\n",
    "print(frame3)\n",
    "print(frame3.T)            #还可以用转置操作来调换行与列\n",
    "\n",
    "print('2')\n",
    "frame3=pd.DataFrame(pop,index=[2001,2002,2003])             \n",
    "print(frame3)\n",
    "\n",
    "#还可以用包含Series的字典来转换为DataFrame\n",
    "print('3')\n",
    "pdata={'Ohio':frame3['Ohio'][:-1],'Nevada':frame3['Nevada']}    \n",
    "frame4=pd.DataFrame(pdata)\n",
    "print(frame4)\n",
    "\n",
    "print('4')\n",
    "ob1=frame4['Ohio']                                #注意，DataFrame选取的都是视图，因此修改视图，也会引起元数据的变化\n",
    "ob1[:]=np.arange(3)\n",
    "print(ob1,frame4,sep='\\n')\n",
    "\n",
    "print('5')\n",
    "frame4.name='1'\n",
    "print(frame4.name)                               #DataFrame也是有name的，但是不会主动显示"
   ]
  },
  {
   "cell_type": "code",
   "execution_count": 107,
   "id": "5c46ef41",
   "metadata": {},
   "outputs": [
    {
     "data": {
      "text/html": [
       "<div>\n",
       "<style scoped>\n",
       "    .dataframe tbody tr th:only-of-type {\n",
       "        vertical-align: middle;\n",
       "    }\n",
       "\n",
       "    .dataframe tbody tr th {\n",
       "        vertical-align: top;\n",
       "    }\n",
       "\n",
       "    .dataframe thead th {\n",
       "        text-align: right;\n",
       "    }\n",
       "</style>\n",
       "<table border=\"1\" class=\"dataframe\">\n",
       "  <thead>\n",
       "    <tr style=\"text-align: right;\">\n",
       "      <th></th>\n",
       "      <th>Ohio</th>\n",
       "      <th>Nevada</th>\n",
       "    </tr>\n",
       "  </thead>\n",
       "  <tbody>\n",
       "    <tr>\n",
       "      <th>2001</th>\n",
       "      <td>0.0</td>\n",
       "      <td>2.4</td>\n",
       "    </tr>\n",
       "    <tr>\n",
       "      <th>2002</th>\n",
       "      <td>1.0</td>\n",
       "      <td>2.9</td>\n",
       "    </tr>\n",
       "    <tr>\n",
       "      <th>2003</th>\n",
       "      <td>2.0</td>\n",
       "      <td>NaN</td>\n",
       "    </tr>\n",
       "  </tbody>\n",
       "</table>\n",
       "</div>"
      ],
      "text/plain": [
       "      Ohio  Nevada\n",
       "2001   0.0     2.4\n",
       "2002   1.0     2.9\n",
       "2003   2.0     NaN"
      ]
     },
     "execution_count": 107,
     "metadata": {},
     "output_type": "execute_result"
    }
   ],
   "source": [
    "frame4"
   ]
  },
  {
   "cell_type": "code",
   "execution_count": 109,
   "id": "83624054",
   "metadata": {},
   "outputs": [
    {
     "data": {
      "text/html": [
       "<div>\n",
       "<style scoped>\n",
       "    .dataframe tbody tr th:only-of-type {\n",
       "        vertical-align: middle;\n",
       "    }\n",
       "\n",
       "    .dataframe tbody tr th {\n",
       "        vertical-align: top;\n",
       "    }\n",
       "\n",
       "    .dataframe thead th {\n",
       "        text-align: right;\n",
       "    }\n",
       "</style>\n",
       "<table border=\"1\" class=\"dataframe\">\n",
       "  <thead>\n",
       "    <tr style=\"text-align: right;\">\n",
       "      <th>state</th>\n",
       "      <th>Ohio</th>\n",
       "      <th>Nevada</th>\n",
       "    </tr>\n",
       "    <tr>\n",
       "      <th>year</th>\n",
       "      <th></th>\n",
       "      <th></th>\n",
       "    </tr>\n",
       "  </thead>\n",
       "  <tbody>\n",
       "    <tr>\n",
       "      <th>2001</th>\n",
       "      <td>0.0</td>\n",
       "      <td>2.4</td>\n",
       "    </tr>\n",
       "    <tr>\n",
       "      <th>2002</th>\n",
       "      <td>1.0</td>\n",
       "      <td>2.9</td>\n",
       "    </tr>\n",
       "    <tr>\n",
       "      <th>2003</th>\n",
       "      <td>2.0</td>\n",
       "      <td>NaN</td>\n",
       "    </tr>\n",
       "  </tbody>\n",
       "</table>\n",
       "</div>"
      ],
      "text/plain": [
       "state  Ohio  Nevada\n",
       "year               \n",
       "2001    0.0     2.4\n",
       "2002    1.0     2.9\n",
       "2003    2.0     NaN"
      ]
     },
     "execution_count": 109,
     "metadata": {},
     "output_type": "execute_result"
    }
   ],
   "source": [
    "#DataFrame的列和行都有name属性\n",
    "frame4.index.name='year'\n",
    "frame4.columns.name='state'\n",
    "frame4"
   ]
  },
  {
   "cell_type": "code",
   "execution_count": 110,
   "id": "724011f1",
   "metadata": {},
   "outputs": [
    {
     "data": {
      "text/plain": [
       "array([[0. , 2.4],\n",
       "       [1. , 2.9],\n",
       "       [2. , nan]])"
      ]
     },
     "execution_count": 110,
     "metadata": {},
     "output_type": "execute_result"
    }
   ],
   "source": [
    "#values属性会将DataFrame中的值以矩阵形式返回\n",
    "frame4.values"
   ]
  },
  {
   "cell_type": "markdown",
   "id": "5f1919bc",
   "metadata": {},
   "source": [
    "## 1.3、索引对象"
   ]
  },
  {
   "cell_type": "code",
   "execution_count": 117,
   "id": "6d32293c",
   "metadata": {},
   "outputs": [
    {
     "name": "stdout",
     "output_type": "stream",
     "text": [
      "Index([2001, 2002, 2003], dtype='int64', name='year')\n",
      "Index([2001, 2002], dtype='int64', name='year')\n"
     ]
    },
    {
     "ename": "TypeError",
     "evalue": "Index does not support mutable operations",
     "output_type": "error",
     "traceback": [
      "\u001b[1;31m---------------------------------------------------------------------------\u001b[0m",
      "\u001b[1;31mTypeError\u001b[0m                                 Traceback (most recent call last)",
      "Cell \u001b[1;32mIn[117], line 4\u001b[0m\n\u001b[0;32m      2\u001b[0m index\u001b[38;5;241m=\u001b[39mframe4\u001b[38;5;241m.\u001b[39mindex\n\u001b[0;32m      3\u001b[0m \u001b[38;5;28mprint\u001b[39m(index,index[\u001b[38;5;241m0\u001b[39m:\u001b[38;5;241m2\u001b[39m],sep\u001b[38;5;241m=\u001b[39m\u001b[38;5;124m'\u001b[39m\u001b[38;5;130;01m\\n\u001b[39;00m\u001b[38;5;124m'\u001b[39m)\n\u001b[1;32m----> 4\u001b[0m index[\u001b[38;5;241m2\u001b[39m]\u001b[38;5;241m=\u001b[39m\u001b[38;5;124m'\u001b[39m\u001b[38;5;124mc\u001b[39m\u001b[38;5;124m'\u001b[39m\n",
      "File \u001b[1;32mD:\\anaconda\\Lib\\site-packages\\pandas\\core\\indexes\\base.py:5157\u001b[0m, in \u001b[0;36mIndex.__setitem__\u001b[1;34m(self, key, value)\u001b[0m\n\u001b[0;32m   5155\u001b[0m \u001b[38;5;129m@final\u001b[39m\n\u001b[0;32m   5156\u001b[0m \u001b[38;5;28;01mdef\u001b[39;00m \u001b[38;5;21m__setitem__\u001b[39m(\u001b[38;5;28mself\u001b[39m, key, value):\n\u001b[1;32m-> 5157\u001b[0m     \u001b[38;5;28;01mraise\u001b[39;00m \u001b[38;5;167;01mTypeError\u001b[39;00m(\u001b[38;5;124m\"\u001b[39m\u001b[38;5;124mIndex does not support mutable operations\u001b[39m\u001b[38;5;124m\"\u001b[39m)\n",
      "\u001b[1;31mTypeError\u001b[0m: Index does not support mutable operations"
     ]
    }
   ],
   "source": [
    "#索引对象即指Series或DataFrame的index的类型\n",
    "index=frame4.index\n",
    "print(index,index[0:2],sep='\\n')\n",
    "index[2]='c'                              #索引对象不能变"
   ]
  },
  {
   "cell_type": "code",
   "execution_count": 119,
   "id": "650b0408",
   "metadata": {},
   "outputs": [
    {
     "name": "stdout",
     "output_type": "stream",
     "text": [
      "False\n"
     ]
    }
   ],
   "source": [
    "#可以检测某个值是否在索引对象中，这点类似集合，但是索引对象中可以存在重复的标签\n",
    "print('c'in index)\n",
    "\n",
    "label=pd.Index(['foo','foo','bar','bar'])"
   ]
  },
  {
   "cell_type": "markdown",
   "id": "0e6bc0a7",
   "metadata": {},
   "source": [
    "# 2、基本功能"
   ]
  },
  {
   "cell_type": "markdown",
   "id": "d8007e0c",
   "metadata": {},
   "source": [
    "## 2.1、重建索引"
   ]
  },
  {
   "cell_type": "code",
   "execution_count": 120,
   "id": "33a79a75",
   "metadata": {},
   "outputs": [
    {
     "name": "stdout",
     "output_type": "stream",
     "text": [
      "d    4.5\n",
      "b    7.2\n",
      "a   -5.3\n",
      "c    3.6\n",
      "dtype: float64\n",
      "a   -5.3\n",
      "b    7.2\n",
      "c    3.6\n",
      "d    4.5\n",
      "e    NaN\n",
      "dtype: float64\n"
     ]
    }
   ],
   "source": [
    "#利用reindex方法可以创建一个符合新索引的新对象\n",
    "obj=pd.Series([4.5,7.2,-5.3,3.6],index=['d','b','a','c'])\n",
    "obj2=obj.reindex(['a','b','c','d','e'])\n",
    "print(obj,obj2,sep='\\n')"
   ]
  },
  {
   "cell_type": "code",
   "execution_count": 7,
   "id": "27e36526",
   "metadata": {},
   "outputs": [
    {
     "name": "stdout",
     "output_type": "stream",
     "text": [
      "0      blue\n",
      "2    purple\n",
      "4    yellow\n",
      "dtype: object\n",
      "\n",
      "0      blue\n",
      "1      blue\n",
      "2    purple\n",
      "3    purple\n",
      "4    yellow\n",
      "5    yellow\n",
      "dtype: object\n"
     ]
    }
   ],
   "source": [
    "#reindex中的method参数还支持利用各种插值方法进行插值\n",
    "obj3=pd.Series(['blue','purple','yellow'],index=[0,2,4])\n",
    "print(obj3,end='\\n\\n')\n",
    "re_obj3=obj3.reindex(range(6),method='ffill')    #ffill会将值前向填充\n",
    "print(re_obj3)"
   ]
  },
  {
   "cell_type": "code",
   "execution_count": 22,
   "id": "a90a3b45",
   "metadata": {},
   "outputs": [
    {
     "name": "stdout",
     "output_type": "stream",
     "text": [
      "   Ohio  Texas  California\n",
      "a     0      1           2\n",
      "c     3      4           5\n",
      "d     6      7           8\n",
      "   Ohio  Texas  California\n",
      "a   0.0    1.0         2.0\n",
      "b   NaN    NaN         NaN\n",
      "c   3.0    4.0         5.0\n",
      "d   6.0    7.0         8.0\n",
      "   Texas  Utah  California\n",
      "a      1   NaN           2\n",
      "c      4   NaN           5\n",
      "d      7   NaN           8\n",
      "   Texas  California\n",
      "a    1.0         2.0\n",
      "b    NaN         NaN\n",
      "c    4.0         5.0\n",
      "d    7.0         8.0\n"
     ]
    }
   ],
   "source": [
    "'''\n",
    "对DataFrame使用reindex方法，可以改变行、列索引。\n",
    "仅传入一个序列时，就只会重建行索引\n",
    "'''\n",
    "frame=pd.DataFrame(np.arange(9).reshape((3,3)),\n",
    "                  index=['a','c','d'],\n",
    "                  columns=['Ohio','Texas','California'])\n",
    "frame2=frame.reindex(['a','b','c','d'])\n",
    "states=['Texas','Utah','California']\n",
    "frame3=frame.reindex(columns=states)\n",
    "print(frame,frame2,frame3,sep='\\n')\n",
    "\n",
    "\n",
    "frame4=frame2.loc[['a','b','c','d'],['Texas','California']]    #一种更为简洁的索引方式\n",
    "print(frame4)"
   ]
  },
  {
   "cell_type": "markdown",
   "id": "ce802fa4",
   "metadata": {},
   "source": [
    "## 2.2、删除行或列"
   ]
  },
  {
   "cell_type": "code",
   "execution_count": 27,
   "id": "6e7fb3a3",
   "metadata": {},
   "outputs": [
    {
     "name": "stdout",
     "output_type": "stream",
     "text": [
      "a    0\n",
      "b    1\n",
      "c    2\n",
      "d    3\n",
      "e    4\n",
      "dtype: int32\n",
      "a    0\n",
      "b    1\n",
      "d    3\n",
      "e    4\n",
      "dtype: int32\n"
     ]
    }
   ],
   "source": [
    "#利用drop来删除一个或更多的条目\n",
    "\n",
    "#drop可以删除Series的索引\n",
    "obj=pd.Series(np.arange(5),index=['a','b','c','d','e'])\n",
    "obj1=obj.drop('c')                                          #drop删除'c'行\n",
    "print(obj,obj1,sep='\\n')"
   ]
  },
  {
   "cell_type": "code",
   "execution_count": 34,
   "id": "dc0692e5",
   "metadata": {},
   "outputs": [
    {
     "name": "stdout",
     "output_type": "stream",
     "text": [
      "          one  two  three  four\n",
      "Ohio        0    1      2     3\n",
      "Colorado    4    5      6     7\n",
      "Utah        8    9     10    11\n",
      "New York   12   13     14    15\n",
      "          one  two  three  four\n",
      "Utah        8    9     10    11\n",
      "New York   12   13     14    15\n",
      "          one  three  four\n",
      "Ohio        0      2     3\n",
      "Colorado    4      6     7\n",
      "Utah        8     10    11\n",
      "New York   12     14    15\n"
     ]
    }
   ],
   "source": [
    "#drop可以删除DataFrame\n",
    "data=pd.DataFrame(np.arange(16).reshape(4,4),\n",
    "                 index=['Ohio','Colorado','Utah','New York'],\n",
    "                 columns=['one','two','three','four'])\n",
    "data1=data.drop(['Colorado','Ohio'])                    #可以一次删除多个行\n",
    "data2=data.drop('two',axis='columns')                   #指明要删除的是列，也可以用axis=1\n",
    "print(data,data1,data2,sep='\\n')"
   ]
  },
  {
   "cell_type": "code",
   "execution_count": 35,
   "id": "2d092523",
   "metadata": {},
   "outputs": [
    {
     "name": "stdout",
     "output_type": "stream",
     "text": [
      "          one  two  three  four\n",
      "Colorado    4    5      6     7\n",
      "Utah        8    9     10    11\n",
      "New York   12   13     14    15\n",
      "\n",
      "None\n"
     ]
    }
   ],
   "source": [
    "#drop还可以直接对原数据操作，删除原对象中的数据，同时不返回新对象\n",
    "data1=data.drop('Ohio',inplace=True)      #设置inplace即可\n",
    "print(data,data1,sep='\\n\\n')"
   ]
  },
  {
   "cell_type": "markdown",
   "id": "e6b0979c",
   "metadata": {},
   "source": [
    "## 2.3、索引、选择与过滤"
   ]
  },
  {
   "cell_type": "code",
   "execution_count": 2,
   "id": "5c815a0a",
   "metadata": {},
   "outputs": [
    {
     "name": "stdout",
     "output_type": "stream",
     "text": [
      "用整数索引\n",
      "2\n",
      "c    2\n",
      "d    3\n",
      "dtype: int32\n",
      "b    1\n",
      "d    3\n",
      "dtype: int32\n",
      "\n",
      "用index索引\n",
      "1\n",
      "b    1\n",
      "c    2\n",
      "dtype: int32\n",
      "\n",
      "也支持bool索引\n",
      "a    0\n",
      "b    1\n",
      "dtype: int32\n",
      "\n",
      "也支持索引切片\n",
      "b    1\n",
      "c    2\n",
      "dtype: int32\n",
      "\n",
      "a    0\n",
      "b    5\n",
      "c    5\n",
      "d    3\n",
      "dtype: int32\n",
      "a    0\n",
      "b    5\n",
      "c    5\n",
      "d    3\n",
      "dtype: int32\n"
     ]
    }
   ],
   "source": [
    "#Series的索引与Numpy数组索引类似，但是Series不仅可以用整数索引\n",
    "obj=pd.Series(np.arange(4),index=['a','b','c','d'])\n",
    "print('用整数索引',obj[2],obj[2:4],obj[[1,3]],sep='\\n',end='\\n\\n')\n",
    "print('用index索引',obj['b'],obj[['b','c']],sep='\\n',end='\\n\\n')\n",
    "print('也支持bool索引',obj[obj<2],sep='\\n',end='\\n\\n')\n",
    "print('也支持索引切片',obj['b':'c'],sep='\\n',end='\\n\\n')     #但是索引的切片与包含尾部，与一般的python切片不同\n",
    "obj1=obj['b':'c']\n",
    "obj1[:]=5\n",
    "print(obj)\n",
    "obj1=obj[['b','c']]            #再次强调，Series的切片是视图，索引是新对象\n",
    "obj1[:]=10\n",
    "print(obj)"
   ]
  },
  {
   "cell_type": "code",
   "execution_count": 6,
   "id": "8226da4d",
   "metadata": {},
   "outputs": [
    {
     "name": "stdout",
     "output_type": "stream",
     "text": [
      "对列索引\n",
      "Ohio         1\n",
      "Colorado     5\n",
      "Utah         9\n",
      "New York    13\n",
      "Name: two, dtype: int32\n",
      "          three  one\n",
      "Ohio          2    0\n",
      "Colorado      6    4\n",
      "Utah         10    8\n",
      "New York     14   12\n",
      "\n",
      "对行索引\n",
      "          one  two  three  four\n",
      "Ohio        0    1      2     3\n",
      "Colorado    4    5      6     7\n",
      "          one  two  three  four\n",
      "Colorado    4    5      6     7\n",
      "Utah        8    9     10    11\n",
      "New York   12   13     14    15\n",
      "          one  two  three  four\n",
      "Ohio      0.0  1.0    2.0   3.0\n",
      "Colorado  4.0  NaN    NaN   NaN\n",
      "Utah      NaN  NaN    NaN   NaN\n",
      "New York  NaN  NaN    NaN   NaN\n",
      "\n",
      "Ohio        False\n",
      "Colorado     True\n",
      "Utah         True\n",
      "New York     True\n",
      "Name: three, dtype: bool\n"
     ]
    }
   ],
   "source": [
    "#DataFrame也可以索引出多个列\n",
    "data=pd.DataFrame(np.arange(16).reshape((4,4)),\n",
    "                 index=['Ohio','Colorado','Utah','New York'],\n",
    "                 columns=['one','two','three','four'])\n",
    "print('对列索引',data['two'],data[['three','one']],sep='\\n',end='\\n\\n')\n",
    "print('对行索引',data[:2],data[data['three']>5],data[data<5],sep='\\n',end='\\n\\n')  \n",
    "print(data['three']>5)    #data[data['three']>5]其中data['three']>5返回一个bool值Series，再传给data，因此实现对行索引\n",
    "                          #data<5同样是返回一个bool值DataFrame"
   ]
  },
  {
   "cell_type": "markdown",
   "id": "f38ef9d8",
   "metadata": {},
   "source": [
    "#### 2.3.1、使用loc和iloc选择数据"
   ]
  },
  {
   "cell_type": "code",
   "execution_count": 29,
   "id": "b0761501",
   "metadata": {},
   "outputs": [
    {
     "name": "stdout",
     "output_type": "stream",
     "text": [
      "原数据：\n",
      "          one  two  three  four\n",
      "Ohio        0    1      2     3\n",
      "Colorado    4    5      6     7\n",
      "Utah        8    9     10    11\n",
      "New York   12   13     14    15\n",
      "\n",
      "使用loc\n",
      "two      5\n",
      "three    6\n",
      "Name: Colorado, dtype: int32\n",
      "Ohio        1\n",
      "Colorado    5\n",
      "Utah        9\n",
      "Name: two, dtype: int32\n",
      "\n",
      "使用iloc\n",
      "four    11\n",
      "one      8\n",
      "two      9\n",
      "Name: Utah, dtype: int32\n",
      "          four  one  two\n",
      "Colorado     7    4    5\n",
      "Utah        11    8    9\n",
      "          one  two  three\n",
      "Colorado    4    5      6\n",
      "Utah        8    9     10\n",
      "New York   12   13     14\n",
      "\n"
     ]
    },
    {
     "data": {
      "text/plain": [
       "'\\nDataFrame中选出的一列或一行都会变成Series\\n'"
      ]
     },
     "execution_count": 29,
     "metadata": {},
     "output_type": "execute_result"
    }
   ],
   "source": [
    "#loc和iloc支持像numpy中的数组一样索引，loc支持轴上标签，iloc支持整数标签\n",
    "data=pd.DataFrame(np.arange(16).reshape((4,4)),\n",
    "                 index=['Ohio','Colorado','Utah','New York'],\n",
    "                 columns=['one','two','three','four'])\n",
    "print('原数据：',data,sep='\\n',end='\\n\\n')\n",
    "print('使用loc',data.loc['Colorado',['two','three']],data.loc[:'Utah','two'],sep='\\n',end='\\n\\n')\n",
    "print('使用iloc',data.iloc[2,[3,0,1]],data.iloc[[1,2],[3,0,1]],data.iloc[:,:3][data.three>5],sep='\\n',end='\\n\\n')\n",
    "'''\n",
    "DataFrame中选出的一列或一行都会变成Series\n",
    "'''\n"
   ]
  },
  {
   "cell_type": "code",
   "execution_count": 30,
   "id": "ab8369c6",
   "metadata": {},
   "outputs": [
    {
     "name": "stdout",
     "output_type": "stream",
     "text": [
      "          one  two  three  four\n",
      "Ohio        0    1      2     3\n",
      "Colorado    4    5      6     7\n",
      "Utah        8    9     10    11\n",
      "New York   12   13     14    15\n",
      "          one  two  three  four\n",
      "Ohio        0    5      2     3\n",
      "Colorado    4    5      6     7\n",
      "Utah        8    5     10    11\n",
      "New York   12    5     14    15\n",
      "          one  two  three  four\n",
      "Ohio        0    5      2     3\n",
      "Colorado    4    5      6     7\n",
      "Utah        8    5     10    11\n",
      "New York   12    5     14    15\n",
      "\n",
      "\n",
      "\n",
      "\n",
      "          one  two  three  four\n",
      "Ohio        0    1      2     3\n",
      "Colorado    4    5      6     7\n",
      "Utah        8    9     10    11\n",
      "New York   12   13     14    15\n",
      "          one  two  three  four\n",
      "Ohio        0    1      2     3\n",
      "Colorado    4    5      6     7\n",
      "Utah        8    9     10    11\n",
      "New York   12   13     14    15\n",
      "          one  two  three  four\n",
      "Ohio        0    1      2     3\n",
      "Colorado   10   10     10    10\n",
      "Utah        8    9     10    11\n",
      "New York   12   13     14    15\n",
      "\n",
      "\n",
      "\n",
      "\n",
      "          one  two  three  four\n",
      "Ohio        0   10      2     3\n",
      "Colorado    4   10      6     7\n",
      "Utah        8   10     10    11\n",
      "New York   12   10     14    15\n"
     ]
    }
   ],
   "source": [
    "#DataFrame对列的选取是视图，对行的不是，而DataFrame的赋予也是视图\n",
    "data=pd.DataFrame(np.arange(16).reshape((4,4)),\n",
    "                 index=['Ohio','Colorado','Utah','New York'],\n",
    "                 columns=['one','two','three','four'])\n",
    "data1=data.copy()                                    #data1=data传递的是视图\n",
    "op=data.loc['Colorado',['two','three']]\n",
    "op[:]=5\n",
    "print(data)\n",
    "op=data.loc[:,'two']\n",
    "op[:]=5\n",
    "print(data)\n",
    "op=data.loc[:,'two':'four']\n",
    "op[:]=10\n",
    "print(data)                                          #需要注意的是，从DataFrame中选取的列是数据的视图，而非复制。但多个列就是复制\n",
    "\n",
    "\n",
    "print('\\n\\n\\n')\n",
    "data=data1\n",
    "print(data)\n",
    "op=data.loc[['Ohio','Colorado'],:]\n",
    "op[:]=5\n",
    "print(data)\n",
    "op=data1.loc['Colorado',:]\n",
    "op[:]=10\n",
    "print(data1)                                          #而行的索引则不是视图\n",
    "\n",
    "\n",
    "print('\\n\\n\\n')\n",
    "data=pd.DataFrame(np.arange(16).reshape((4,4)),\n",
    "                 index=['Ohio','Colorado','Utah','New York'],\n",
    "                 columns=['one','two','three','four'])\n",
    "data1=data\n",
    "data1['two']=10\n",
    "print(data)                                           #DataFrame的赋予也是视图"
   ]
  },
  {
   "cell_type": "markdown",
   "id": "1a8d461e",
   "metadata": {},
   "source": [
    "### 2.4、整数索引"
   ]
  },
  {
   "cell_type": "code",
   "execution_count": 34,
   "id": "2e52521a",
   "metadata": {},
   "outputs": [
    {
     "ename": "KeyError",
     "evalue": "-1",
     "output_type": "error",
     "traceback": [
      "\u001b[1;31m---------------------------------------------------------------------------\u001b[0m",
      "\u001b[1;31mValueError\u001b[0m                                Traceback (most recent call last)",
      "File \u001b[1;32mD:\\anaconda\\Lib\\site-packages\\pandas\\core\\indexes\\range.py:345\u001b[0m, in \u001b[0;36mRangeIndex.get_loc\u001b[1;34m(self, key)\u001b[0m\n\u001b[0;32m    344\u001b[0m \u001b[38;5;28;01mtry\u001b[39;00m:\n\u001b[1;32m--> 345\u001b[0m     \u001b[38;5;28;01mreturn\u001b[39;00m \u001b[38;5;28mself\u001b[39m\u001b[38;5;241m.\u001b[39m_range\u001b[38;5;241m.\u001b[39mindex(new_key)\n\u001b[0;32m    346\u001b[0m \u001b[38;5;28;01mexcept\u001b[39;00m \u001b[38;5;167;01mValueError\u001b[39;00m \u001b[38;5;28;01mas\u001b[39;00m err:\n",
      "\u001b[1;31mValueError\u001b[0m: -1 is not in range",
      "\nThe above exception was the direct cause of the following exception:\n",
      "\u001b[1;31mKeyError\u001b[0m                                  Traceback (most recent call last)",
      "Cell \u001b[1;32mIn[34], line 3\u001b[0m\n\u001b[0;32m      1\u001b[0m \u001b[38;5;66;03m#负数索引仅在pandas对象有指定标签索引时可以使用\u001b[39;00m\n\u001b[0;32m      2\u001b[0m ser\u001b[38;5;241m=\u001b[39mpd\u001b[38;5;241m.\u001b[39mSeries(np\u001b[38;5;241m.\u001b[39marange(\u001b[38;5;241m3\u001b[39m))\n\u001b[1;32m----> 3\u001b[0m \u001b[38;5;28mprint\u001b[39m(ser[\u001b[38;5;241m-\u001b[39m\u001b[38;5;241m1\u001b[39m])\n",
      "File \u001b[1;32mD:\\anaconda\\Lib\\site-packages\\pandas\\core\\series.py:1007\u001b[0m, in \u001b[0;36mSeries.__getitem__\u001b[1;34m(self, key)\u001b[0m\n\u001b[0;32m   1004\u001b[0m     \u001b[38;5;28;01mreturn\u001b[39;00m \u001b[38;5;28mself\u001b[39m\u001b[38;5;241m.\u001b[39m_values[key]\n\u001b[0;32m   1006\u001b[0m \u001b[38;5;28;01melif\u001b[39;00m key_is_scalar:\n\u001b[1;32m-> 1007\u001b[0m     \u001b[38;5;28;01mreturn\u001b[39;00m \u001b[38;5;28mself\u001b[39m\u001b[38;5;241m.\u001b[39m_get_value(key)\n\u001b[0;32m   1009\u001b[0m \u001b[38;5;28;01mif\u001b[39;00m is_hashable(key):\n\u001b[0;32m   1010\u001b[0m     \u001b[38;5;66;03m# Otherwise index.get_value will raise InvalidIndexError\u001b[39;00m\n\u001b[0;32m   1011\u001b[0m     \u001b[38;5;28;01mtry\u001b[39;00m:\n\u001b[0;32m   1012\u001b[0m         \u001b[38;5;66;03m# For labels that don't resolve as scalars like tuples and frozensets\u001b[39;00m\n",
      "File \u001b[1;32mD:\\anaconda\\Lib\\site-packages\\pandas\\core\\series.py:1116\u001b[0m, in \u001b[0;36mSeries._get_value\u001b[1;34m(self, label, takeable)\u001b[0m\n\u001b[0;32m   1113\u001b[0m     \u001b[38;5;28;01mreturn\u001b[39;00m \u001b[38;5;28mself\u001b[39m\u001b[38;5;241m.\u001b[39m_values[label]\n\u001b[0;32m   1115\u001b[0m \u001b[38;5;66;03m# Similar to Index.get_value, but we do not fall back to positional\u001b[39;00m\n\u001b[1;32m-> 1116\u001b[0m loc \u001b[38;5;241m=\u001b[39m \u001b[38;5;28mself\u001b[39m\u001b[38;5;241m.\u001b[39mindex\u001b[38;5;241m.\u001b[39mget_loc(label)\n\u001b[0;32m   1118\u001b[0m \u001b[38;5;28;01mif\u001b[39;00m is_integer(loc):\n\u001b[0;32m   1119\u001b[0m     \u001b[38;5;28;01mreturn\u001b[39;00m \u001b[38;5;28mself\u001b[39m\u001b[38;5;241m.\u001b[39m_values[loc]\n",
      "File \u001b[1;32mD:\\anaconda\\Lib\\site-packages\\pandas\\core\\indexes\\range.py:347\u001b[0m, in \u001b[0;36mRangeIndex.get_loc\u001b[1;34m(self, key)\u001b[0m\n\u001b[0;32m    345\u001b[0m         \u001b[38;5;28;01mreturn\u001b[39;00m \u001b[38;5;28mself\u001b[39m\u001b[38;5;241m.\u001b[39m_range\u001b[38;5;241m.\u001b[39mindex(new_key)\n\u001b[0;32m    346\u001b[0m     \u001b[38;5;28;01mexcept\u001b[39;00m \u001b[38;5;167;01mValueError\u001b[39;00m \u001b[38;5;28;01mas\u001b[39;00m err:\n\u001b[1;32m--> 347\u001b[0m         \u001b[38;5;28;01mraise\u001b[39;00m \u001b[38;5;167;01mKeyError\u001b[39;00m(key) \u001b[38;5;28;01mfrom\u001b[39;00m \u001b[38;5;21;01merr\u001b[39;00m\n\u001b[0;32m    348\u001b[0m \u001b[38;5;28;01mif\u001b[39;00m \u001b[38;5;28misinstance\u001b[39m(key, Hashable):\n\u001b[0;32m    349\u001b[0m     \u001b[38;5;28;01mraise\u001b[39;00m \u001b[38;5;167;01mKeyError\u001b[39;00m(key)\n",
      "\u001b[1;31mKeyError\u001b[0m: -1"
     ]
    }
   ],
   "source": [
    "#负数索引仅在pandas对象有指定标签索引时可以使用\n",
    "#更精确的索引应该使用loc或iloc\n",
    "ser=pd.Series(np.arange(3))\n",
    "print(ser[-1])"
   ]
  },
  {
   "cell_type": "code",
   "execution_count": 33,
   "id": "7e1b7566",
   "metadata": {},
   "outputs": [
    {
     "name": "stdout",
     "output_type": "stream",
     "text": [
      "2\n"
     ]
    }
   ],
   "source": [
    "ser2=pd.Series(np.arange(3),index=['a','b','c'])\n",
    "print(ser2[-1])"
   ]
  },
  {
   "cell_type": "markdown",
   "id": "f7a94fb6",
   "metadata": {},
   "source": [
    "### 2.5、算术和数据对齐"
   ]
  },
  {
   "cell_type": "code",
   "execution_count": 37,
   "id": "78d6833d",
   "metadata": {},
   "outputs": [
    {
     "name": "stdout",
     "output_type": "stream",
     "text": [
      "a    0.0\n",
      "c    2.0\n",
      "d    NaN\n",
      "e    5.0\n",
      "f    NaN\n",
      "g    NaN\n",
      "dtype: float64\n",
      "            b   c     d   e\n",
      "Colorado  NaN NaN   NaN NaN\n",
      "Ohio      3.0 NaN   6.0 NaN\n",
      "Oregon    NaN NaN   NaN NaN\n",
      "Texas     9.0 NaN  12.0 NaN\n",
      "Utah      NaN NaN   NaN NaN\n"
     ]
    }
   ],
   "source": [
    "#不同的pandas对象相加，共有的标签上的值将相加，而任一方有确实的标签上的值将为NaN\n",
    "s1=pd.Series(np.arange(4),index=['a','c','d','e'])\n",
    "s2=pd.Series(np.arange(5),index=['a','c','e','f','g'])\n",
    "print(s1+s2)\n",
    "\n",
    "'''\n",
    "在DataFrame中，行和列上都会对齐\n",
    "'''\n",
    "data1=pd.DataFrame(np.arange(9).reshape((3,3)),\n",
    "                  index=['Ohio','Texas','Colorado'],\n",
    "                  columns=list('bcd'))\n",
    "data2=pd.DataFrame(np.arange(12).reshape((4,3)),\n",
    "                  index=['Utah','Ohio','Texas','Oregon'],\n",
    "                  columns=list('bde'))\n",
    "print(data1+data2)"
   ]
  },
  {
   "cell_type": "markdown",
   "id": "92b12e87",
   "metadata": {},
   "source": [
    "#### 2.5.1、使用填充值得算术"
   ]
  },
  {
   "cell_type": "code",
   "execution_count": 45,
   "id": "f120ddd5",
   "metadata": {},
   "outputs": [
    {
     "name": "stdout",
     "output_type": "stream",
     "text": [
      "   a  b   c   d\n",
      "0  0  1   2   3\n",
      "1  4  5   6   7\n",
      "2  8  9  10  11\n",
      "    a     b   c   d   e\n",
      "0   0   1.0   2   3   4\n",
      "1   5   NaN   7   8   9\n",
      "2  10  11.0  12  13  14\n",
      "3  15  16.0  17  18  19\n",
      "      a     b     c     d     e\n",
      "0   0.0   2.0   4.0   6.0   4.0\n",
      "1   9.0   5.0  13.0  15.0   9.0\n",
      "2  18.0  20.0  22.0  24.0  14.0\n",
      "3  15.0  16.0  17.0  18.0  19.0\n",
      "   a  b   c   d\n",
      "0  0  1   2   3\n",
      "1  4  5   6   7\n",
      "2  8  9  10  11\n",
      "      a     b     c     d     e\n",
      "0   0.0   2.0   4.0   6.0   4.0\n",
      "1   9.0   5.0  13.0  15.0   9.0\n",
      "2  18.0  20.0  22.0  24.0  14.0\n",
      "3  15.0  16.0  17.0  18.0  19.0\n",
      "    a     b   c   d   e\n",
      "0   0   1.0   2   3   4\n",
      "1   5   NaN   7   8   9\n",
      "2  10  11.0  12  13  14\n",
      "3  15  16.0  17  18  19\n"
     ]
    }
   ],
   "source": [
    "#使用fill_value标签，使得当对象算术操作时，如果一个对象的轴标签在另一个对象中不存在，就填补对应设定值\n",
    "data1=pd.DataFrame(np.arange(12).reshape((3,4)),\n",
    "                  columns=list('abcd'))\n",
    "data2=pd.DataFrame(np.arange(20).reshape((4,5)),\n",
    "                  columns=list('abcde'))\n",
    "print(data1)\n",
    "data2.loc[1,'b']=np.nan\n",
    "print(data2)\n",
    "print(data1.add(data2,fill_value=0))                \n",
    "print(data1)                                  #计算后，原对象数据不变\n",
    "print(data2.add(data1,fill_value=0))\n",
    "print(data2)"
   ]
  },
  {
   "cell_type": "code",
   "execution_count": 47,
   "id": "66e5f91a",
   "metadata": {},
   "outputs": [
    {
     "name": "stdout",
     "output_type": "stream",
     "text": [
      "   a  b   c   d\n",
      "0  0  1   2   3\n",
      "1  4  5   6   7\n",
      "2  8  9  10  11\n",
      "   a  b   c   d  e\n",
      "0  0  1   2   3  0\n",
      "1  4  5   6   7  0\n",
      "2  8  9  10  11  0\n"
     ]
    }
   ],
   "source": [
    "#当重建索引时，也可以用fill_value方法\n",
    "data3=data1.reindex(columns=data2.columns,fill_value=0)    #原对象不变，reindex修改后产生一个新对象\n",
    "print(data1)\n",
    "print(data3)"
   ]
  },
  {
   "cell_type": "code",
   "execution_count": 49,
   "id": "33a4b9f2",
   "metadata": {},
   "outputs": [
    {
     "name": "stdout",
     "output_type": "stream",
     "text": [
      "   a  b  c  d\n",
      "0 -2 -1  0  1\n",
      "1  2  3  4  5\n",
      "2  6  7  8  9\n",
      "   a  b  c  d\n",
      "0  2  1  0 -1\n",
      "1 -2 -3 -4 -5\n",
      "2 -6 -7 -8 -9\n"
     ]
    }
   ],
   "source": [
    "#许多算术方法add,sub,dib,floordiv,mul,pow\n",
    "print(data1.sub(2))\n",
    "print(data1.rsub(2))      #每个算术方法都有个对应的'r'方法，就是反过来变成被执行"
   ]
  },
  {
   "cell_type": "markdown",
   "id": "ddd10c67",
   "metadata": {},
   "source": [
    "#### 2.5.2、DataFrame和Series间的操作"
   ]
  },
  {
   "cell_type": "code",
   "execution_count": 9,
   "id": "e3101d87",
   "metadata": {},
   "outputs": [
    {
     "name": "stdout",
     "output_type": "stream",
     "text": [
      "[[0 0 0 0]\n",
      " [4 4 4 4]\n",
      " [8 8 8 8]]\n",
      "[0 4 8]\n"
     ]
    }
   ],
   "source": [
    "#DataFrame与Series间的操作类似于数组不同维度间的操作。\n",
    "arr=np.arange(12).reshape((3,4))\n",
    "arr1=arr[0]\n",
    "print(arr-arr1)                      #相当于每一行都减去了arr1。数组只能行相减"
   ]
  },
  {
   "cell_type": "code",
   "execution_count": 11,
   "id": "854126ec",
   "metadata": {},
   "outputs": [
    {
     "name": "stdout",
     "output_type": "stream",
     "text": [
      "        b   d   e\n",
      "Utah    0   1   2\n",
      "Ohio    3   4   5\n",
      "Texas   6   7   8\n",
      "Oregon  9  10  11\n",
      "b    0\n",
      "d    1\n",
      "e    2\n",
      "Name: Utah, dtype: int32\n",
      "        b  d  e\n",
      "Utah    0  0  0\n",
      "Ohio    3  3  3\n",
      "Texas   6  6  6\n",
      "Oregon  9  9  9\n",
      "        b  d  e\n",
      "Utah   -1  0  1\n",
      "Ohio   -1  0  1\n",
      "Texas  -1  0  1\n",
      "Oregon -1  0  1\n",
      "        b  d  e\n",
      "Utah   -1  0  1\n",
      "Ohio   -1  0  1\n",
      "Texas  -1  0  1\n",
      "Oregon -1  0  1\n"
     ]
    }
   ],
   "source": [
    "data=pd.DataFrame(np.arange(12).reshape((4,3)),\n",
    "                 index=['Utah','Ohio','Texas','Oregon'],\n",
    "                 columns=list('bde'))\n",
    "series=data.iloc[0]\n",
    "print(data,series,data-series,sep='\\n')\n",
    "\n",
    "#在列上广播\n",
    "series=data['d']\n",
    "print(data.sub(series,axis='index'))\n",
    "print(data.sub(series,axis=0))          "
   ]
  },
  {
   "cell_type": "markdown",
   "id": "f097c3c8",
   "metadata": {},
   "source": [
    "### 2.6、函数应用和映射"
   ]
  },
  {
   "cell_type": "code",
   "execution_count": 14,
   "id": "45234a35",
   "metadata": {},
   "outputs": [
    {
     "name": "stdout",
     "output_type": "stream",
     "text": [
      "               b         d         e\n",
      "Utah    1.341858 -1.074797 -0.443409\n",
      "Ohio    0.842533 -0.993740 -0.168209\n",
      "Texas  -1.287755  0.925004  1.242492\n",
      "Oregon -1.519845  0.497270 -0.524634\n",
      "               b         d         e\n",
      "Utah    1.341858  1.074797  0.443409\n",
      "Ohio    0.842533  0.993740  0.168209\n",
      "Texas   1.287755  0.925004  1.242492\n",
      "Oregon  1.519845  0.497270  0.524634\n"
     ]
    }
   ],
   "source": [
    "#数组的ufunc方法对于pandas对象也可以使用\n",
    "#如np.abs\n",
    "data=pd.DataFrame(np.random.randn(12).reshape((4,3)),\n",
    "                 index=['Utah','Ohio','Texas','Oregon'],\n",
    "                 columns=list('bde'))\n",
    "print(data)\n",
    "data1=np.abs(data)\n",
    "print(data1)"
   ]
  },
  {
   "cell_type": "code",
   "execution_count": 16,
   "id": "5032cb81",
   "metadata": {},
   "outputs": [
    {
     "name": "stdout",
     "output_type": "stream",
     "text": [
      "b    2.861703\n",
      "d    1.999801\n",
      "e    1.767126\n",
      "dtype: float64\n",
      "Utah      2.416655\n",
      "Ohio      1.836273\n",
      "Texas     2.530247\n",
      "Oregon    2.017116\n",
      "dtype: float64\n"
     ]
    }
   ],
   "source": [
    "#还可以将函数作用到DataFrame的一行或一列一维数组上去。利用DataFrame的apply方法\n",
    "f=lambda x:x.max()-x.min()\n",
    "print(data.apply(f))                 #将函数f作用到data的每一列上\n",
    "print(data.apply(f,axis='columns'))  #利用axis参数，将函数作用到data的每一行上去"
   ]
  },
  {
   "cell_type": "code",
   "execution_count": 17,
   "id": "4d3820ad",
   "metadata": {},
   "outputs": [
    {
     "name": "stdout",
     "output_type": "stream",
     "text": [
      "            b         d         e\n",
      "min -1.519845 -1.074797 -0.524634\n",
      "max  1.341858  0.925004  1.242492\n"
     ]
    }
   ],
   "source": [
    "#运用的函数可以更大胆一点\n",
    "def f(x):\n",
    "    return pd.Series([x.min(),x.max()],index=['min','max'])\n",
    "print(data.apply(f))"
   ]
  },
  {
   "cell_type": "code",
   "execution_count": 25,
   "id": "4a2a2591",
   "metadata": {},
   "outputs": [
    {
     "name": "stdout",
     "output_type": "stream",
     "text": [
      "            b      d      e\n",
      "Utah     1.34  -1.07  -0.44\n",
      "Ohio     0.84  -0.99  -0.17\n",
      "Texas   -1.29   0.93   1.24\n",
      "Oregon  -1.52   0.50  -0.52\n",
      "b     1.34\n",
      "d    -1.07\n",
      "e    -0.44\n",
      "Name: Utah, dtype: object\n"
     ]
    }
   ],
   "source": [
    "#也可以针对DataFrame的每一个元素进行函数操作，使用applymap方法\n",
    "format1 = lambda x: '%.2f' %x                #这是一种字符串格式化\n",
    "print(data.applymap(format1))\n",
    "\n",
    "#针对Series有map方法，可以使函数作用在每个元素上\n",
    "series=data.iloc[0]\n",
    "print(series.map(format1))"
   ]
  },
  {
   "cell_type": "markdown",
   "id": "73130b96",
   "metadata": {},
   "source": [
    "### 2.7、排序与排名"
   ]
  },
  {
   "cell_type": "code",
   "execution_count": 6,
   "id": "06c8dd25",
   "metadata": {},
   "outputs": [
    {
     "name": "stdout",
     "output_type": "stream",
     "text": [
      "d    0\n",
      "a    1\n",
      "b    2\n",
      "c    3\n",
      "dtype: int64\n",
      "a    1\n",
      "b    2\n",
      "c    3\n",
      "d    0\n",
      "dtype: int64\n",
      "\n",
      "       d  a  b  c\n",
      "three  0  1  2  3\n",
      "one    4  5  6  7\n",
      "       d  a  b  c\n",
      "one    4  5  6  7\n",
      "three  0  1  2  3\n",
      "       a  b  c  d\n",
      "three  1  2  3  0\n",
      "one    5  6  7  4\n",
      "       d  a  b  c\n",
      "three  0  1  2  3\n",
      "one    4  5  6  7\n"
     ]
    }
   ],
   "source": [
    "#利用sort_index方法可以实现按行或列索引进行排序。会返回一个新的、排序好的对象，原对象不变\n",
    "obj=pd.Series(range(4),index=['d','a','b','c'])\n",
    "print(obj)\n",
    "print(obj.sort_index())\n",
    "print('')\n",
    "#对DataFrame可以指定轴向\n",
    "data=pd.DataFrame(np.arange(8).reshape((2,4)),\n",
    "                 index=['three','one'],\n",
    "                 columns=['d','a','b','c'])\n",
    "print(data)\n",
    "print(data.sort_index())             #默认对行轴进行排序\n",
    "print(data.sort_index(axis=1))       #对列轴排序\n",
    "print(data.sort_index(ascending=False))    #通过ascending参数进行降序排序"
   ]
  },
  {
   "cell_type": "code",
   "execution_count": 12,
   "id": "ce689fa2",
   "metadata": {},
   "outputs": [
    {
     "name": "stdout",
     "output_type": "stream",
     "text": [
      "0    4\n",
      "1    2\n",
      "2    5\n",
      "3    9\n",
      "4   -1\n",
      "dtype: int64\n",
      "3    9\n",
      "2    5\n",
      "0    4\n",
      "1    2\n",
      "4   -1\n",
      "dtype: int64\n",
      "4    3.0\n",
      "0    4.0\n",
      "2    4.0\n",
      "1    6.0\n",
      "3    6.0\n",
      "5    7.0\n",
      "7    8.0\n",
      "6    NaN\n",
      "8    NaN\n",
      "dtype: float64\n"
     ]
    }
   ],
   "source": [
    "#如果对Series的值（而非轴上索引）进行排序，那么用sort_values方法进行索引\n",
    "obj=pd.Series([4,2,5,9,-1])\n",
    "print(obj)\n",
    "print(obj.sort_values(ascending=False))\n",
    "\n",
    "#排序时默认情况下，NaN都会排在Series的末尾\n",
    "obj=pd.Series([4,6,4,6,3,7,np.nan,8,np.nan])\n",
    "print(obj.sort_values())"
   ]
  },
  {
   "cell_type": "code",
   "execution_count": 18,
   "id": "e959d5b3",
   "metadata": {},
   "outputs": [
    {
     "name": "stdout",
     "output_type": "stream",
     "text": [
      "   b  a\n",
      "0  4  0\n",
      "1  7  1\n",
      "2 -3  0\n",
      "3  2  1\n",
      "   b  a\n",
      "2 -3  0\n",
      "3  2  1\n",
      "0  4  0\n",
      "1  7  1\n",
      "   b  a\n",
      "2 -3  0\n",
      "0  4  0\n",
      "3  2  1\n",
      "1  7  1\n",
      "   a  b\n",
      "0  0  4\n",
      "1  1  7\n",
      "2  0 -3\n",
      "3  1  2\n"
     ]
    }
   ],
   "source": [
    "#对DataFrame的值进行排序时，同样使用sort_values()方法，可以传入一列或者多列作为排序\n",
    "data=pd.DataFrame({'b':[4,7,-3,2],'a':[0,1,0,1]})\n",
    "print(data)\n",
    "print(data.sort_values(by='b'))             #在'b'列上排序\n",
    "print(data.sort_values(by=['a','b']))       #首先在'a'列上排序，'a'轴上相同的，再在'b'轴上进行排序\n",
    "print(data.sort_values(by=0,axis=1))        #在0行上排序，排序轴是轴1"
   ]
  },
  {
   "cell_type": "code",
   "execution_count": 24,
   "id": "d735c855",
   "metadata": {},
   "outputs": [
    {
     "name": "stdout",
     "output_type": "stream",
     "text": [
      "0    6.5\n",
      "1    1.0\n",
      "2    6.5\n",
      "3    4.5\n",
      "4    3.0\n",
      "5    2.0\n",
      "6    4.5\n",
      "dtype: float64\n",
      "0    6.0\n",
      "1    1.0\n",
      "2    7.0\n",
      "3    4.0\n",
      "4    3.0\n",
      "5    2.0\n",
      "6    5.0\n",
      "dtype: float64\n",
      "0    1.0\n",
      "1    7.0\n",
      "2    2.0\n",
      "3    3.0\n",
      "4    5.0\n",
      "5    6.0\n",
      "6    4.0\n",
      "dtype: float64\n",
      "     b  a    c\n",
      "0  4.3  0 -2.0\n",
      "1  7.0  1  5.0\n",
      "2 -3.0  0  8.0\n",
      "3  2.0  1 -2.5\n",
      "     b    a    c\n",
      "0  3.0  1.5  2.0\n",
      "1  4.0  3.5  3.0\n",
      "2  1.0  1.5  4.0\n",
      "3  2.0  3.5  1.0\n",
      "     b    a    c\n",
      "0  1.0  2.0  3.0\n",
      "1  1.0  3.0  2.0\n",
      "2  3.0  2.0  1.0\n",
      "3  1.0  2.0  3.0\n"
     ]
    }
   ],
   "source": [
    "#rank对Series和DataFrame的数据分配名次\n",
    "obj=pd.Series([7,-5,7,4,2,0,4])\n",
    "print(obj.rank())                 #为第0行分配名次为6.5，第1行分配名次为1.（排序方式是从小到大）。默认对于相同的值分配平均排名\n",
    "print(obj.rank(method='first'))   #对于相同的值，第一个出现的排名靠前\n",
    "print(obj.rank(ascending=False,method='first'))      #也可以降序排名\n",
    "\n",
    "'''对于DataFrame也同样适用'''\n",
    "data=pd.DataFrame({'b':[4.3,7,-3,2],'a':[0,1,0,1],'c':[-2,5,8,-2.5]})\n",
    "print(data)\n",
    "print(data.rank(axis=0))                    #轴0上分配名次，默认从小到大\n",
    "print(data.rank(axis=1,ascending=False))   #轴1上分配名词"
   ]
  },
  {
   "cell_type": "markdown",
   "id": "5e5a176c",
   "metadata": {},
   "source": [
    "### 2.8、含有重复标签的轴索引"
   ]
  },
  {
   "cell_type": "code",
   "execution_count": 30,
   "id": "9ac0abae",
   "metadata": {},
   "outputs": [
    {
     "name": "stdout",
     "output_type": "stream",
     "text": [
      "False\n",
      "c    2\n",
      "c    3\n",
      "dtype: int32\n"
     ]
    }
   ],
   "source": [
    "#对重复标签的索引会返回一个序列。is_unique可以判断标签是否重复\n",
    "obj=pd.Series(np.arange(4),index=list('abcc'))\n",
    "print(obj.index.is_unique)\n",
    "print(obj['c'])"
   ]
  },
  {
   "cell_type": "markdown",
   "id": "5b4bf010",
   "metadata": {},
   "source": [
    "## 3、描述性统计的概述与计算"
   ]
  },
  {
   "cell_type": "code",
   "execution_count": 39,
   "id": "fd622634",
   "metadata": {},
   "outputs": [
    {
     "name": "stdout",
     "output_type": "stream",
     "text": [
      "    one  two\n",
      "a  1.40  NaN\n",
      "b  7.10 -4.5\n",
      "c   NaN  NaN\n",
      "d  0.75 -1.3\n",
      "one    9.25\n",
      "two   -5.80\n",
      "dtype: float64\n",
      "a    1.40\n",
      "b    2.60\n",
      "c    0.00\n",
      "d   -0.55\n",
      "dtype: float64\n",
      "one   NaN\n",
      "two   NaN\n",
      "dtype: float64\n"
     ]
    }
   ],
   "source": [
    "#panda对象有一系列数学、统计学方法的集合\n",
    "data=pd.DataFrame([[1.4,np.nan],[7.1,-4.5],\n",
    "                 [np.nan,np.nan],[0.75,-1.3]],\n",
    "                 index=['a','b','c','d'],\n",
    "                 columns=['one','two'])\n",
    "print(data)\n",
    "print(data.sum())        #默认都是在轴0上操作。返回轴0上数值和\n",
    "print(data.sum(axis=1))  #对于NaN默认自动排除\n",
    "print(data.sum(skipna=False))   #设置skipna即可不跳过NaN"
   ]
  },
  {
   "cell_type": "code",
   "execution_count": 41,
   "id": "f0b34a33",
   "metadata": {},
   "outputs": [
    {
     "name": "stdout",
     "output_type": "stream",
     "text": [
      "one    d\n",
      "two    b\n",
      "dtype: object\n",
      "a    one\n",
      "b    two\n",
      "c    NaN\n",
      "d    two\n",
      "dtype: object\n"
     ]
    }
   ],
   "source": [
    "#有一些方法如idxmin和idxmax返回的是间接统计信息，为值对应的索引标签\n",
    "print(data.idxmin())\n",
    "print(data.idxmin(axis=1))"
   ]
  },
  {
   "cell_type": "code",
   "execution_count": 42,
   "id": "b4b93323",
   "metadata": {},
   "outputs": [
    {
     "name": "stdout",
     "output_type": "stream",
     "text": [
      "            one       two\n",
      "count  3.000000  2.000000\n",
      "mean   3.083333 -2.900000\n",
      "std    3.493685  2.262742\n",
      "min    0.750000 -4.500000\n",
      "25%    1.075000 -3.700000\n",
      "50%    1.400000 -2.900000\n",
      "75%    4.250000 -2.100000\n",
      "max    7.100000 -1.300000\n"
     ]
    }
   ],
   "source": [
    "#descirbe方法一次产生多个汇总统计\n",
    "print(data.describe())"
   ]
  },
  {
   "cell_type": "markdown",
   "id": "b8480bfe",
   "metadata": {},
   "source": [
    "#### 3.1、相关性和协方差"
   ]
  },
  {
   "cell_type": "code",
   "execution_count": 2,
   "id": "b491a7d4",
   "metadata": {},
   "outputs": [
    {
     "name": "stdout",
     "output_type": "stream",
     "text": [
      "[*********************100%%**********************]  1 of 1 completed\n",
      "[*********************100%%**********************]  1 of 1 completed\n",
      "[*********************100%%**********************]  1 of 1 completed\n",
      "[*********************100%%**********************]  1 of 1 completed\n"
     ]
    }
   ],
   "source": [
    "#获取股市的信息\n",
    "import pandas_datareader.data as web\n",
    "import yfinance as yf\n",
    "yf.pdr_override()\n",
    "all_data={ticker:web.get_data_yahoo(ticker,start='2023-05-08',end='2023-05-18')    #获取这四个公司的股价\n",
    "         for ticker in ['AAPL','IBM','MSFT','GOOG']}\n",
    "price=pd.DataFrame({ticker:data['Adj Close']\n",
    "                   for ticker,data in all_data.items()})"
   ]
  },
  {
   "cell_type": "code",
   "execution_count": 3,
   "id": "808416ee",
   "metadata": {},
   "outputs": [
    {
     "name": "stdout",
     "output_type": "stream",
     "text": [
      "{'AAPL':                   Open        High         Low       Close   Adj Close  \\\n",
      "Date                                                                     \n",
      "2023-05-08  172.479996  173.850006  172.110001  173.500000  173.026688   \n",
      "2023-05-09  173.050003  173.539993  171.600006  171.770004  171.301422   \n",
      "2023-05-10  173.020004  174.029999  171.899994  173.559998  173.086533   \n",
      "2023-05-11  173.850006  174.589996  172.169998  173.750000  173.276016   \n",
      "2023-05-12  173.619995  174.059998  171.000000  172.570007  172.337280   \n",
      "2023-05-15  173.160004  173.210007  171.470001  172.070007  171.837967   \n",
      "2023-05-16  171.990005  173.139999  171.800003  172.070007  171.837967   \n",
      "2023-05-17  171.710007  172.929993  170.419998  172.690002  172.457123   \n",
      "\n",
      "              Volume  \n",
      "Date                  \n",
      "2023-05-08  55962800  \n",
      "2023-05-09  45326900  \n",
      "2023-05-10  53724500  \n",
      "2023-05-11  49514700  \n",
      "2023-05-12  45497800  \n",
      "2023-05-15  37266700  \n",
      "2023-05-16  42110300  \n",
      "2023-05-17  57951600  , 'IBM':                   Open        High         Low       Close   Adj Close  \\\n",
      "Date                                                                     \n",
      "2023-05-08  123.760002  123.919998  122.550003  123.400002  120.354980   \n",
      "2023-05-09  121.900002  121.970001  120.660004  121.169998  119.791466   \n",
      "2023-05-10  121.989998  122.489998  121.099998  122.019997  120.631790   \n",
      "2023-05-11  122.019997  122.239998  120.550003  120.900002  119.524536   \n",
      "2023-05-12  121.410004  122.860001  121.110001  122.839996  121.442467   \n",
      "2023-05-15  123.000000  123.690002  122.339996  123.360001  121.956551   \n",
      "2023-05-16  123.349998  123.860001  122.449997  123.459999  122.055412   \n",
      "2023-05-17  123.940002  125.849998  123.470001  125.709999  124.279816   \n",
      "\n",
      "             Volume  \n",
      "Date                 \n",
      "2023-05-08  3663800  \n",
      "2023-05-09  4540000  \n",
      "2023-05-10  4189200  \n",
      "2023-05-11  3446500  \n",
      "2023-05-12  4560500  \n",
      "2023-05-15  2915700  \n",
      "2023-05-16  2748400  \n",
      "2023-05-17  4515100  , 'MSFT':                   Open        High         Low       Close   Adj Close  \\\n",
      "Date                                                                     \n",
      "2023-05-08  310.130005  310.200012  306.089996  308.649994  307.326050   \n",
      "2023-05-09  308.000000  310.040009  306.309998  307.000000  305.683136   \n",
      "2023-05-10  308.619995  313.000000  307.670013  312.309998  310.970367   \n",
      "2023-05-11  310.100006  311.119995  306.260010  310.109985  308.779785   \n",
      "2023-05-12  310.549988  310.649994  306.600006  308.970001  307.644714   \n",
      "2023-05-15  309.100006  309.899994  307.589996  309.459991  308.132599   \n",
      "2023-05-16  309.829987  313.709991  309.829987  311.739990  310.402802   \n",
      "2023-05-17  312.290009  314.429993  310.739990  314.000000  313.336609   \n",
      "\n",
      "              Volume  \n",
      "Date                  \n",
      "2023-05-08  21318600  \n",
      "2023-05-09  21340800  \n",
      "2023-05-10  30078000  \n",
      "2023-05-11  31680200  \n",
      "2023-05-12  19758100  \n",
      "2023-05-15  16336500  \n",
      "2023-05-16  26730300  \n",
      "2023-05-17  24315000  , 'GOOG':                   Open        High         Low       Close   Adj Close  \\\n",
      "Date                                                                     \n",
      "2023-05-08  105.794998  108.419998  105.790001  108.239998  108.239998   \n",
      "2023-05-09  108.779999  110.595001  107.724998  107.940002  107.940002   \n",
      "2023-05-10  108.550003  113.510002  108.480003  112.279999  112.279999   \n",
      "2023-05-11  115.860001  118.440002  114.930000  116.900002  116.900002   \n",
      "2023-05-12  117.000000  118.260002  116.550003  117.919998  117.919998   \n",
      "2023-05-15  116.489998  118.794998  116.480003  116.959999  116.959999   \n",
      "2023-05-16  116.830002  121.199997  116.830002  120.089996  120.089996   \n",
      "2023-05-17  120.180000  122.279999  119.459999  121.480003  121.480003   \n",
      "\n",
      "              Volume  \n",
      "Date                  \n",
      "2023-05-08  17266000  \n",
      "2023-05-09  24782400  \n",
      "2023-05-10  47533500  \n",
      "2023-05-11  57115100  \n",
      "2023-05-12  31272500  \n",
      "2023-05-15  22107900  \n",
      "2023-05-16  32370100  \n",
      "2023-05-17  26659600  }\n"
     ]
    }
   ],
   "source": [
    "print(all_data)    #all是一个字典，内部每一个键对应了一个DateFrame"
   ]
  },
  {
   "cell_type": "code",
   "execution_count": 4,
   "id": "311dcd97",
   "metadata": {},
   "outputs": [
    {
     "name": "stdout",
     "output_type": "stream",
     "text": [
      "                  AAPL         IBM        MSFT        GOOG\n",
      "Date                                                      \n",
      "2023-05-08  173.026688  120.354980  307.326050  108.239998\n",
      "2023-05-09  171.301422  119.791466  305.683136  107.940002\n",
      "2023-05-10  173.086533  120.631790  310.970367  112.279999\n",
      "2023-05-11  173.276016  119.524536  308.779785  116.900002\n",
      "2023-05-12  172.337280  121.442467  307.644714  117.919998\n",
      "2023-05-15  171.837967  121.956551  308.132599  116.959999\n",
      "2023-05-16  171.837967  122.055412  310.402802  120.089996\n",
      "2023-05-17  172.457123  124.279816  313.336609  121.480003\n"
     ]
    }
   ],
   "source": [
    "print(price)"
   ]
  },
  {
   "cell_type": "code",
   "execution_count": 5,
   "id": "17bec642",
   "metadata": {},
   "outputs": [
    {
     "data": {
      "text/html": [
       "<div>\n",
       "<style scoped>\n",
       "    .dataframe tbody tr th:only-of-type {\n",
       "        vertical-align: middle;\n",
       "    }\n",
       "\n",
       "    .dataframe tbody tr th {\n",
       "        vertical-align: top;\n",
       "    }\n",
       "\n",
       "    .dataframe thead th {\n",
       "        text-align: right;\n",
       "    }\n",
       "</style>\n",
       "<table border=\"1\" class=\"dataframe\">\n",
       "  <thead>\n",
       "    <tr style=\"text-align: right;\">\n",
       "      <th></th>\n",
       "      <th>AAPL</th>\n",
       "      <th>IBM</th>\n",
       "      <th>MSFT</th>\n",
       "      <th>GOOG</th>\n",
       "    </tr>\n",
       "    <tr>\n",
       "      <th>Date</th>\n",
       "      <th></th>\n",
       "      <th></th>\n",
       "      <th></th>\n",
       "      <th></th>\n",
       "    </tr>\n",
       "  </thead>\n",
       "  <tbody>\n",
       "    <tr>\n",
       "      <th>2023-05-08</th>\n",
       "      <td>NaN</td>\n",
       "      <td>NaN</td>\n",
       "      <td>NaN</td>\n",
       "      <td>NaN</td>\n",
       "    </tr>\n",
       "    <tr>\n",
       "      <th>2023-05-09</th>\n",
       "      <td>-0.009971</td>\n",
       "      <td>-0.004682</td>\n",
       "      <td>-0.005346</td>\n",
       "      <td>-0.002772</td>\n",
       "    </tr>\n",
       "    <tr>\n",
       "      <th>2023-05-10</th>\n",
       "      <td>0.010421</td>\n",
       "      <td>0.007015</td>\n",
       "      <td>0.017296</td>\n",
       "      <td>0.040207</td>\n",
       "    </tr>\n",
       "    <tr>\n",
       "      <th>2023-05-11</th>\n",
       "      <td>0.001095</td>\n",
       "      <td>-0.009179</td>\n",
       "      <td>-0.007044</td>\n",
       "      <td>0.041147</td>\n",
       "    </tr>\n",
       "    <tr>\n",
       "      <th>2023-05-12</th>\n",
       "      <td>-0.005418</td>\n",
       "      <td>0.016046</td>\n",
       "      <td>-0.003676</td>\n",
       "      <td>0.008725</td>\n",
       "    </tr>\n",
       "    <tr>\n",
       "      <th>2023-05-15</th>\n",
       "      <td>-0.002897</td>\n",
       "      <td>0.004233</td>\n",
       "      <td>0.001586</td>\n",
       "      <td>-0.008141</td>\n",
       "    </tr>\n",
       "    <tr>\n",
       "      <th>2023-05-16</th>\n",
       "      <td>0.000000</td>\n",
       "      <td>0.000811</td>\n",
       "      <td>0.007368</td>\n",
       "      <td>0.026761</td>\n",
       "    </tr>\n",
       "    <tr>\n",
       "      <th>2023-05-17</th>\n",
       "      <td>0.003603</td>\n",
       "      <td>0.018225</td>\n",
       "      <td>0.009452</td>\n",
       "      <td>0.011575</td>\n",
       "    </tr>\n",
       "  </tbody>\n",
       "</table>\n",
       "</div>"
      ],
      "text/plain": [
       "                AAPL       IBM      MSFT      GOOG\n",
       "Date                                              \n",
       "2023-05-08       NaN       NaN       NaN       NaN\n",
       "2023-05-09 -0.009971 -0.004682 -0.005346 -0.002772\n",
       "2023-05-10  0.010421  0.007015  0.017296  0.040207\n",
       "2023-05-11  0.001095 -0.009179 -0.007044  0.041147\n",
       "2023-05-12 -0.005418  0.016046 -0.003676  0.008725\n",
       "2023-05-15 -0.002897  0.004233  0.001586 -0.008141\n",
       "2023-05-16  0.000000  0.000811  0.007368  0.026761\n",
       "2023-05-17  0.003603  0.018225  0.009452  0.011575"
      ]
     },
     "execution_count": 5,
     "metadata": {},
     "output_type": "execute_result"
    }
   ],
   "source": [
    "price.pct_change()       #以第一行为基准，计算之后，每一行相比上一行的百分比变化"
   ]
  },
  {
   "cell_type": "code",
   "execution_count": 6,
   "id": "11218d90",
   "metadata": {},
   "outputs": [
    {
     "data": {
      "text/html": [
       "<div>\n",
       "<style scoped>\n",
       "    .dataframe tbody tr th:only-of-type {\n",
       "        vertical-align: middle;\n",
       "    }\n",
       "\n",
       "    .dataframe tbody tr th {\n",
       "        vertical-align: top;\n",
       "    }\n",
       "\n",
       "    .dataframe thead th {\n",
       "        text-align: right;\n",
       "    }\n",
       "</style>\n",
       "<table border=\"1\" class=\"dataframe\">\n",
       "  <thead>\n",
       "    <tr style=\"text-align: right;\">\n",
       "      <th></th>\n",
       "      <th>AAPL</th>\n",
       "      <th>IBM</th>\n",
       "      <th>MSFT</th>\n",
       "      <th>GOOG</th>\n",
       "    </tr>\n",
       "    <tr>\n",
       "      <th>Date</th>\n",
       "      <th></th>\n",
       "      <th></th>\n",
       "      <th></th>\n",
       "      <th></th>\n",
       "    </tr>\n",
       "  </thead>\n",
       "  <tbody>\n",
       "    <tr>\n",
       "      <th>2023-05-11</th>\n",
       "      <td>173.276016</td>\n",
       "      <td>119.524536</td>\n",
       "      <td>308.779785</td>\n",
       "      <td>116.900002</td>\n",
       "    </tr>\n",
       "    <tr>\n",
       "      <th>2023-05-12</th>\n",
       "      <td>172.337280</td>\n",
       "      <td>121.442467</td>\n",
       "      <td>307.644714</td>\n",
       "      <td>117.919998</td>\n",
       "    </tr>\n",
       "    <tr>\n",
       "      <th>2023-05-15</th>\n",
       "      <td>171.837967</td>\n",
       "      <td>121.956551</td>\n",
       "      <td>308.132599</td>\n",
       "      <td>116.959999</td>\n",
       "    </tr>\n",
       "    <tr>\n",
       "      <th>2023-05-16</th>\n",
       "      <td>171.837967</td>\n",
       "      <td>122.055412</td>\n",
       "      <td>310.402802</td>\n",
       "      <td>120.089996</td>\n",
       "    </tr>\n",
       "    <tr>\n",
       "      <th>2023-05-17</th>\n",
       "      <td>172.457123</td>\n",
       "      <td>124.279816</td>\n",
       "      <td>313.336609</td>\n",
       "      <td>121.480003</td>\n",
       "    </tr>\n",
       "  </tbody>\n",
       "</table>\n",
       "</div>"
      ],
      "text/plain": [
       "                  AAPL         IBM        MSFT        GOOG\n",
       "Date                                                      \n",
       "2023-05-11  173.276016  119.524536  308.779785  116.900002\n",
       "2023-05-12  172.337280  121.442467  307.644714  117.919998\n",
       "2023-05-15  171.837967  121.956551  308.132599  116.959999\n",
       "2023-05-16  171.837967  122.055412  310.402802  120.089996\n",
       "2023-05-17  172.457123  124.279816  313.336609  121.480003"
      ]
     },
     "execution_count": 6,
     "metadata": {},
     "output_type": "execute_result"
    }
   ],
   "source": [
    "price.tail()            #显示最后5行内容"
   ]
  },
  {
   "cell_type": "code",
   "execution_count": 9,
   "id": "9ed276c1",
   "metadata": {},
   "outputs": [
    {
     "name": "stdout",
     "output_type": "stream",
     "text": [
      "0.45241451269853156\n",
      "4.098258674134573e-05\n"
     ]
    }
   ],
   "source": [
    "#利用corr来计算Series的相关性，cov计算对应的协方差\n",
    "returns=price.pct_change()\n",
    "print(returns['MSFT'].corr(returns['IBM']))\n",
    "print(returns['MSFT'].cov(returns['IBM']))"
   ]
  },
  {
   "cell_type": "code",
   "execution_count": 10,
   "id": "f4ff71c0",
   "metadata": {},
   "outputs": [
    {
     "name": "stdout",
     "output_type": "stream",
     "text": [
      "          AAPL       IBM      MSFT      GOOG\n",
      "AAPL  1.000000  0.228347  0.804885  0.724082\n",
      "IBM   0.228347  1.000000  0.452415 -0.241846\n",
      "MSFT  0.804885  0.452415  1.000000  0.332007\n",
      "GOOG  0.724082 -0.241846  0.332007  1.000000\n",
      "          AAPL       IBM      MSFT      GOOG\n",
      "AAPL  0.000043  0.000015  0.000047  0.000094\n",
      "IBM   0.000015  0.000102  0.000041 -0.000048\n",
      "MSFT  0.000047  0.000041  0.000080  0.000059\n",
      "GOOG  0.000094 -0.000048  0.000059  0.000390\n"
     ]
    }
   ],
   "source": [
    "#也可以计算DataFrame的相关性和协方差\n",
    "print(returns.corr())\n",
    "print(returns.cov())"
   ]
  },
  {
   "cell_type": "code",
   "execution_count": 14,
   "id": "04f331b9",
   "metadata": {},
   "outputs": [
    {
     "name": "stdout",
     "output_type": "stream",
     "text": [
      "AAPL    0.228347\n",
      "IBM     1.000000\n",
      "MSFT    0.452415\n",
      "GOOG   -0.241846\n",
      "dtype: float64\n",
      "AAPL    1.0\n",
      "IBM     1.0\n",
      "MSFT    1.0\n",
      "GOOG    1.0\n",
      "dtype: float64\n",
      "Date\n",
      "2023-05-08    NaN\n",
      "2023-05-09    1.0\n",
      "2023-05-10    1.0\n",
      "2023-05-11    1.0\n",
      "2023-05-12    1.0\n",
      "2023-05-15    1.0\n",
      "2023-05-16    1.0\n",
      "2023-05-17    1.0\n",
      "dtype: float64\n"
     ]
    }
   ],
   "source": [
    "#另外DataFrame还有corrwith方法，可以计算DataFrame中的行或列与另一个Series或DataFrame的相关性\n",
    "print(returns.corrwith(returns.IBM))           #传入为一个Series时，计算每一列的数值与传入Series的相关性\n",
    "print(returns.corrwith(returns))               #传入为DataFrame时，计算匹配到列名的相关性。即两个DataFrame中相同列名的数据求相关性\n",
    "print(returns.corrwith(returns,axis=1))        #利用axis参数可以变为逐行的算"
   ]
  },
  {
   "cell_type": "markdown",
   "id": "2946deb1",
   "metadata": {},
   "source": [
    "### 3.2、唯一值、计数和成员属性"
   ]
  },
  {
   "cell_type": "code",
   "execution_count": 15,
   "id": "ce486e40",
   "metadata": {},
   "outputs": [
    {
     "name": "stdout",
     "output_type": "stream",
     "text": [
      "0    c\n",
      "1    a\n",
      "2    d\n",
      "3    a\n",
      "4    a\n",
      "5    b\n",
      "6    b\n",
      "7    c\n",
      "8    c\n",
      "dtype: object\n",
      "['c' 'a' 'd' 'b']\n"
     ]
    }
   ],
   "source": [
    "#唯一值方法unique\n",
    "obj=pd.Series(list('cadaabbcc'))\n",
    "uniques=obj.unique()                  #会返回Series中的唯一值，返回的是数组形式\n",
    "print(obj)\n",
    "print(uniques)"
   ]
  },
  {
   "cell_type": "code",
   "execution_count": 19,
   "id": "79b59d88",
   "metadata": {},
   "outputs": [
    {
     "name": "stdout",
     "output_type": "stream",
     "text": [
      "c    3\n",
      "a    3\n",
      "b    2\n",
      "d    1\n",
      "Name: count, dtype: int64\n",
      "c    3\n",
      "a    3\n",
      "b    2\n",
      "d    1\n",
      "Name: count, dtype: int64\n"
     ]
    }
   ],
   "source": [
    "#value_counts计数方法\n",
    "print(obj.value_counts())             #返回时会按照数量降序排序\n",
    "print(pd.value_counts(obj))           #这个方法还是顶层函数，可以用于任意数组或序列，不能用于DataFrame"
   ]
  },
  {
   "cell_type": "code",
   "execution_count": 24,
   "id": "176633dc",
   "metadata": {},
   "outputs": [
    {
     "name": "stdout",
     "output_type": "stream",
     "text": [
      "0     True\n",
      "1    False\n",
      "2    False\n",
      "3    False\n",
      "4    False\n",
      "5     True\n",
      "6     True\n",
      "7     True\n",
      "8     True\n",
      "dtype: bool <class 'pandas.core.series.Series'>\n",
      "             AAPL    IBM   MSFT   GOOG\n",
      "Date                                  \n",
      "2023-05-08  False  False  False   True\n",
      "2023-05-09  False  False  False  False\n",
      "2023-05-10  False  False  False  False\n",
      "2023-05-11  False  False  False  False\n",
      "2023-05-12  False  False  False  False\n",
      "2023-05-15  False  False  False  False\n",
      "2023-05-16  False  False  False  False\n",
      "2023-05-17  False  False  False  False <class 'pandas.core.frame.DataFrame'>\n"
     ]
    }
   ],
   "source": [
    "#isin方法可以检测Series或DataFrame成员是否在另一个数据集中\n",
    "mask=obj.isin(['b','c'])                       #返回一个bool序列\n",
    "print(mask,type(mask))\n",
    "mask=price.isin([price.iloc[0,3]])\n",
    "print(mask,type(mask))"
   ]
  },
  {
   "cell_type": "code",
   "execution_count": 30,
   "id": "c9952440",
   "metadata": {},
   "outputs": [
    {
     "data": {
      "text/plain": [
       "array([ 0,  2,  1,  1,  0,  2, -1, -1, -1, -1], dtype=int64)"
      ]
     },
     "execution_count": 30,
     "metadata": {},
     "output_type": "execute_result"
    }
   ],
   "source": [
    "#Index.get_indexer方法可以提供一个索引数组\n",
    "to_match=pd.Series(list('cabbcadett'))\n",
    "unique_vals=pd.Series(list('cba'))\n",
    "pd.Index(unique_vals).get_indexer(to_match)      \n",
    "#利用unique_vals的索引，将unique_vals的值与to_match的值比对，给出to_match中值在unique_vals中对应的索引\n",
    "#-1表示缺失"
   ]
  },
  {
   "cell_type": "code",
   "execution_count": 34,
   "id": "aeee93c7",
   "metadata": {},
   "outputs": [
    {
     "name": "stdout",
     "output_type": "stream",
     "text": [
      "   Qu1  Qu2  Qu3\n",
      "1  1.0  1.0  1.0\n",
      "2  NaN  2.0  1.0\n",
      "3  2.0  2.0  NaN\n",
      "4  2.0  NaN  2.0\n",
      "5  NaN  NaN  1.0\n",
      "   Qu1  Qu2  Qu3\n",
      "1  1.0  1.0  1.0\n",
      "2  0.0  2.0  1.0\n",
      "3  2.0  2.0  0.0\n",
      "4  2.0  0.0  2.0\n",
      "5  0.0  0.0  1.0\n"
     ]
    }
   ],
   "source": [
    "#求DataFrame的直方图\n",
    "data=pd.DataFrame({'Qu1':[1,3,4,3,4],\n",
    "                  'Qu2':[2,3,1,2,3],\n",
    "                  'Qu3':[1,5,2,4,4]})\n",
    "print(data.apply(pd.value_counts))\n",
    "print(data.apply(pd.value_counts).fillna(0))        #后缀fillna（0）将NaN替换为0"
   ]
  },
  {
   "cell_type": "code",
   "execution_count": null,
   "id": "78569d9a",
   "metadata": {},
   "outputs": [],
   "source": []
  }
 ],
 "metadata": {
  "kernelspec": {
   "display_name": "Python 3 (ipykernel)",
   "language": "python",
   "name": "python3"
  },
  "language_info": {
   "codemirror_mode": {
    "name": "ipython",
    "version": 3
   },
   "file_extension": ".py",
   "mimetype": "text/x-python",
   "name": "python",
   "nbconvert_exporter": "python",
   "pygments_lexer": "ipython3",
   "version": "3.11.4"
  }
 },
 "nbformat": 4,
 "nbformat_minor": 5
}
