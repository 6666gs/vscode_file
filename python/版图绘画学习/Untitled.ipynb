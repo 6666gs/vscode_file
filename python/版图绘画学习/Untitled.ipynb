{
 "cells": [
  {
   "cell_type": "code",
   "execution_count": 11,
   "id": "a4704acf-6397-4329-8d71-da3bcdf49f8c",
   "metadata": {},
   "outputs": [],
   "source": [
    "import gdsfactory as gf"
   ]
  },
  {
   "cell_type": "code",
   "execution_count": 22,
   "id": "e7896928-c289-4d65-8aee-f01179fd15b8",
   "metadata": {},
   "outputs": [],
   "source": [
    "def demo_polygons():\n",
    "    # Create a blank component (essentially an empty GDS cell with some special features)\n",
    "    c = gf.Component(\"demo\")\n",
    "\n",
    "    # Create and add a polygon from separate lists of x points and y points\n",
    "    # (Can also be added like [(x1,y1), (x2,y2), (x3,y3), ... ]\n",
    "    for o in range(10):\n",
    "        if(o==0):\n",
    "            os=800\n",
    "            os_y=950\n",
    "            a=[(0+os,  0+os,100+os, 100+os), (0+os_y, 2000+os_y, 2000+os_y, 0+os_y)]\n",
    "            c.add_polygon(a, layer=(2, 0))\n",
    "        else:\n",
    "            os=os+500 \n",
    "            a=[(0+os,  0+os,100+os, 100+os), (0+os_y, 2000+os_y, 2000+os_y, 0+os_y)]\n",
    "            c.add_polygon(a, layer=(2, 0))\n",
    "    '''c.add_polygon(\n",
    "        a, layer=(2, 0)\n",
    "    )  # GDS layers are tuples of ints (but if we use only one number it assumes the other number is 0)'''\n",
    "    return c"
   ]
  },
  {
   "cell_type": "code",
   "execution_count": 23,
   "id": "54e60b9a-ab54-441e-a0ae-5e05fd460d85",
   "metadata": {},
   "outputs": [
    {
     "name": "stdout",
     "output_type": "stream",
     "text": [
      "\u001b[32m2024-05-14 17:21:15.548\u001b[0m | \u001b[1mINFO    \u001b[0m | \u001b[36mgdsfactory.klive\u001b[0m:\u001b[36mshow\u001b[0m:\u001b[36m56\u001b[0m - \u001b[1mMessage from klive: {\"version\": \"0.3.0\", \"type\": \"open\", \"file\": \"C:\\\\Users\\\\ADMINI~1\\\\AppData\\\\Local\\\\Temp\\\\gdsfactory\\\\demo$6.gds\"}\u001b[0m\n"
     ]
    }
   ],
   "source": [
    "\n",
    "c=demo_polygons()\n",
    "#c.write_gds(\"C://demo.gds\")\n",
    "c.show()"
   ]
  },
  {
   "cell_type": "code",
   "execution_count": 2,
   "id": "d500710f-7d5c-43dd-abf3-7a6d653d8c0c",
   "metadata": {},
   "outputs": [],
   "source": [
    "\"\"\"\n",
    "展示绘画文字版图\n",
    "\"\"\"\n",
    "\n",
    "def demo_text(a,b):\n",
    "    c = gf.Component(\"myComponent_\"+'1')\n",
    "    # Create some new geometry from the functions available in the geometry library\n",
    "    t = gf.components.text(a,size=b, layer=(47, 0))\n",
    "    #r = gf.components.rectangle(size=[50, 100], layer=(10, 0))\n",
    "    \n",
    "    # Add references to the new geometry to c, our blank component\n",
    "    text1 = c.add_ref(t)  # Add the text we created as a reference\n",
    "    # Using the << operator (identical to add_ref()), add the same geometry a second time\n",
    "    #text2 = c << t\n",
    "    #r = c << r  # Add the rectangle we created\n",
    "    \n",
    "    # Now that the geometry has been added to \"c\", we can move everything around:\n",
    "    text1.movey(25)\n",
    "    #text2.move([5, 30])\n",
    "    #text2.rotate(45)\n",
    "    #r.movex(-15)\n",
    "    #r.movex(-15)\n",
    "\n",
    "    return c"
   ]
  },
  {
   "cell_type": "code",
   "execution_count": 13,
   "id": "f83c92ff-40b8-4628-9eab-c24f7ad8ba1d",
   "metadata": {},
   "outputs": [
    {
     "name": "stdout",
     "output_type": "stream",
     "text": [
      "\u001b[32m2024-05-10 13:45:24.409\u001b[0m | \u001b[1mINFO    \u001b[0m | \u001b[36mgdsfactory.klive\u001b[0m:\u001b[36mshow\u001b[0m:\u001b[36m56\u001b[0m - \u001b[1mMessage from klive: {\"version\": \"0.3.0\", \"type\": \"open\", \"file\": \"C:\\\\Users\\\\ADMINI~1\\\\AppData\\\\Local\\\\Temp\\\\gdsfactory\\\\myComponent_1$9.gds\"}\u001b[0m\n"
     ]
    }
   ],
   "source": [
    "c=demo_text(\"R-100X40um\",80)\n",
    "c.show()"
   ]
  },
  {
   "cell_type": "code",
   "execution_count": 2,
   "id": "aa2d178f-34a2-44d4-b431-5fffa70b08e1",
   "metadata": {},
   "outputs": [],
   "source": [
    "from shapely.geometry.polygon import Polygon"
   ]
  },
  {
   "cell_type": "code",
   "execution_count": 27,
   "id": "11174508-9ea0-4b15-8c2a-5c2c424baaa0",
   "metadata": {},
   "outputs": [],
   "source": [
    "def demo_multipoly(a):\n",
    "    c=gf.Component(\"Mixed_polygons\")\n",
    "    p0=Polygon(zip((0,0,160,160),(-0.5,0.5,0.1,-0.1)))\n",
    "    p1=Polygon(zip((0,0,200,200),(-1.5,1.5,1.5,-1.5)))\n",
    "    p2=p1-p0\n",
    "    \n",
    "    c.add_polygon(p2,layer=(41,0))\n",
    "    \n",
    "    \n",
    "    return c"
   ]
  },
  {
   "cell_type": "code",
   "execution_count": 28,
   "id": "0fadb69d-b099-456b-9874-9770b76dd1e9",
   "metadata": {},
   "outputs": [
    {
     "name": "stdout",
     "output_type": "stream",
     "text": [
      "\u001b[32m2024-04-25 19:42:04.250\u001b[0m | \u001b[1mINFO    \u001b[0m | \u001b[36mgdsfactory.klive\u001b[0m:\u001b[36mshow\u001b[0m:\u001b[36m56\u001b[0m - \u001b[1mMessage from klive: {\"version\": \"0.3.0\", \"type\": \"open\", \"file\": \"C:\\\\Users\\\\ADMINI~1\\\\AppData\\\\Local\\\\Temp\\\\gdsfactory\\\\Mixed_polygons$11.gds\"}\u001b[0m\n"
     ]
    }
   ],
   "source": [
    "c=demo_multipoly(0.3)\n",
    "c.show()"
   ]
  },
  {
   "cell_type": "code",
   "execution_count": 28,
   "id": "c02f4518-3337-4cb8-b826-c69e12e5cfe8",
   "metadata": {},
   "outputs": [
    {
     "data": {
      "text/plain": [
       "\u001b[1;31mSignature:\u001b[0m \u001b[0mp0\u001b[0m\u001b[1;33m.\u001b[0m\u001b[0msimplify\u001b[0m\u001b[1;33m(\u001b[0m\u001b[0mtolerance\u001b[0m\u001b[1;33m,\u001b[0m \u001b[0mpreserve_topology\u001b[0m\u001b[1;33m=\u001b[0m\u001b[1;32mTrue\u001b[0m\u001b[1;33m)\u001b[0m\u001b[1;33m\u001b[0m\u001b[1;33m\u001b[0m\u001b[0m\n",
       "\u001b[1;31mDocstring:\u001b[0m\n",
       "Returns a simplified geometry produced by the Douglas-Peucker\n",
       "algorithm\n",
       "\n",
       "Coordinates of the simplified geometry will be no more than the\n",
       "tolerance distance from the original. Unless the topology preserving\n",
       "option is used, the algorithm may produce self-intersecting or\n",
       "otherwise invalid geometries.\n",
       "\u001b[1;31mFile:\u001b[0m      d:\\anaconda\\lib\\site-packages\\shapely\\geometry\\base.py\n",
       "\u001b[1;31mType:\u001b[0m      method"
      ]
     },
     "metadata": {},
     "output_type": "display_data"
    }
   ],
   "source": [
    "p0=Polygon(zip((-8,6,7,9),(-6,8,17,5)))\n",
    "p1=p0.buffer(1)\n",
    "p0.simplify?"
   ]
  },
  {
   "cell_type": "code",
   "execution_count": 11,
   "id": "89e79f2f-b7ca-4a51-ad32-da11a1c305ea",
   "metadata": {},
   "outputs": [
    {
     "data": {
      "text/plain": [
       "\u001b[1;31mSignature:\u001b[0m\n",
       "\u001b[0mgf\u001b[0m\u001b[1;33m.\u001b[0m\u001b[0mcomponents\u001b[0m\u001b[1;33m.\u001b[0m\u001b[0mtext\u001b[0m\u001b[1;33m(\u001b[0m\u001b[1;33m\n",
       "\u001b[0m    \u001b[0mtext\u001b[0m\u001b[1;33m:\u001b[0m \u001b[1;34m'str'\u001b[0m \u001b[1;33m=\u001b[0m \u001b[1;34m'abcd'\u001b[0m\u001b[1;33m,\u001b[0m\u001b[1;33m\n",
       "\u001b[0m    \u001b[0msize\u001b[0m\u001b[1;33m:\u001b[0m \u001b[1;34m'float'\u001b[0m \u001b[1;33m=\u001b[0m \u001b[1;36m10.0\u001b[0m\u001b[1;33m,\u001b[0m\u001b[1;33m\n",
       "\u001b[0m    \u001b[0mposition\u001b[0m\u001b[1;33m:\u001b[0m \u001b[1;34m'Coordinate'\u001b[0m \u001b[1;33m=\u001b[0m \u001b[1;33m(\u001b[0m\u001b[1;36m0\u001b[0m\u001b[1;33m,\u001b[0m \u001b[1;36m0\u001b[0m\u001b[1;33m)\u001b[0m\u001b[1;33m,\u001b[0m\u001b[1;33m\n",
       "\u001b[0m    \u001b[0mjustify\u001b[0m\u001b[1;33m:\u001b[0m \u001b[1;34m'str'\u001b[0m \u001b[1;33m=\u001b[0m \u001b[1;34m'left'\u001b[0m\u001b[1;33m,\u001b[0m\u001b[1;33m\n",
       "\u001b[0m    \u001b[0mlayer\u001b[0m\u001b[1;33m:\u001b[0m \u001b[1;34m'LayerSpec'\u001b[0m \u001b[1;33m=\u001b[0m \u001b[1;34m'WG'\u001b[0m\u001b[1;33m,\u001b[0m\u001b[1;33m\n",
       "\u001b[0m    \u001b[0mlayers\u001b[0m\u001b[1;33m:\u001b[0m \u001b[1;34m'LayerSpecs | None'\u001b[0m \u001b[1;33m=\u001b[0m \u001b[1;32mNone\u001b[0m\u001b[1;33m,\u001b[0m\u001b[1;33m\n",
       "\u001b[0m\u001b[1;33m)\u001b[0m \u001b[1;33m->\u001b[0m \u001b[1;34m'Component'\u001b[0m\u001b[1;33m\u001b[0m\u001b[1;33m\u001b[0m\u001b[0m\n",
       "\u001b[1;31mDocstring:\u001b[0m\n",
       "Text shapes.\n",
       "\n",
       "Args:\n",
       "    text: string.\n",
       "    size: in um.\n",
       "    position: x, y position.\n",
       "    justify: left, right, center.\n",
       "    layer: for the text.\n",
       "    layers: optional for duplicating the text.\n",
       "\u001b[1;31mFile:\u001b[0m      d:\\anaconda\\lib\\site-packages\\gdsfactory\\components\\text.py\n",
       "\u001b[1;31mType:\u001b[0m      function"
      ]
     },
     "metadata": {},
     "output_type": "display_data"
    }
   ],
   "source": [
    "gf.components.text?"
   ]
  },
  {
   "cell_type": "code",
   "execution_count": 2,
   "id": "bf0f9081-c9ed-4eb8-9f49-c83474a603c3",
   "metadata": {},
   "outputs": [
    {
     "data": {
      "text/plain": [
       "'\\n\\n绘画几何体\\n\\n'"
      ]
     },
     "execution_count": 2,
     "metadata": {},
     "output_type": "execute_result"
    }
   ],
   "source": [
    "'''\n",
    "\n",
    "绘画几何体\n",
    "\n",
    "'''"
   ]
  },
  {
   "cell_type": "code",
   "execution_count": 12,
   "id": "31c27ffd-92c4-4040-afda-2ccd7a208f0a",
   "metadata": {},
   "outputs": [],
   "source": [
    "def demo_1f4circle():\n",
    "\n",
    "    a = gf.components.ellipse(radii=(20,20),layer=(44,0))\n",
    "    b=gf.components.rectangle(size=[20,20],layer=(44,0))\n",
    "    c=gf.geometry.boolean(A=a,B=b,operation=\"and\",precision=1e-6,layer=(41,0))\n",
    "    d=gf.geometry.boolean(A=b,B=c,operation=\"NOT\",precision=1e-6,layer=(41,0))\n",
    "    M=gf.Component(\"1 for 4 circle\")\n",
    "    M.add_ref(d)\n",
    "    return M"
   ]
  },
  {
   "cell_type": "code",
   "execution_count": 13,
   "id": "63b1ebea-cead-4c40-8c80-641196564a0c",
   "metadata": {},
   "outputs": [
    {
     "name": "stdout",
     "output_type": "stream",
     "text": [
      "\u001b[32m2024-04-02 21:27:39.344\u001b[0m | \u001b[1mINFO    \u001b[0m | \u001b[36mgdsfactory.klive\u001b[0m:\u001b[36mshow\u001b[0m:\u001b[36m56\u001b[0m - \u001b[1mMessage from klive: {\"version\": \"0.3.0\", \"type\": \"open\", \"file\": \"C:\\\\Users\\\\ADMINI~1\\\\AppData\\\\Local\\\\Temp\\\\gdsfactory\\\\1 for 4 circle$4.gds\"}\u001b[0m\n"
     ]
    }
   ],
   "source": [
    "a=demo_1f4circle()\n",
    "a.show()"
   ]
  },
  {
   "cell_type": "code",
   "execution_count": 28,
   "id": "e5b1f2ae-72b0-40ae-894a-1488fc507859",
   "metadata": {},
   "outputs": [],
   "source": [
    "'''\n",
    "一个给已知矩形添加圆角的程序\n",
    "'''\n",
    "import gdsfactory as gf\n",
    "\n",
    "def add_circle_corner(a,r,layer):   \n",
    "    '''\n",
    "    a:[矩形左下角点的横坐标,矩形左下角点的纵坐标,矩形右上角点的横坐标,矩形右上角点的纵坐标]\n",
    "    r:产生的圆角圆的半径\n",
    "    layer:圆角矩形的layer\n",
    "    '''\n",
    "    x0=a[0]\n",
    "    y0=a[1]\n",
    "    x1=a[2]\n",
    "    y1=a[3]\n",
    "    circle_x0=x0+r\n",
    "    circle_y0=y0+r\n",
    "    circle_x1=x1-r\n",
    "    circle_y1=y1-r\n",
    "\n",
    "    M=gf.Component(\"circle corner\")\n",
    "    #添加半圆角\n",
    "    c1=gf.components.ellipse(radii=(r,r),layer=layer)\n",
    "    rect=gf.components.rectangle(size=[r,r],layer=layer)\n",
    "    \n",
    "    circle1=gf.geometry.boolean(A=c1,B=rect,operation=\"and\",precision=1e-6,layer=layer)\n",
    "    \n",
    "    cir1=M.add_ref(circle1)\n",
    "    cir2=M.add_ref(circle1).rotate(90)\n",
    "    cir3=M.add_ref(circle1).rotate(180)\n",
    "    cir4=M.add_ref(circle1).rotate(270)\n",
    "    #移动半圆角到指定的位置\n",
    "    cir1.move([x1-r,y1-r])\n",
    "    cir2.move([x0+r,y1-r])\n",
    "    cir3.move([x0+r,y0+r])\n",
    "    cir4.move([x1-r,y0+r])\n",
    "\n",
    "    #添加矩形\n",
    "    M.add_polygon([(x0,x0,x1,x1),(y0+r,y1-r,y1-r,y0+r)],layer=layer)\n",
    "    M.add_polygon([(x0+r,x0+r,x1-r,x1-r),(y1-r,y1,y1,y1-r)],layer=layer)\n",
    "    M.add_polygon([(x0+r,x0+r,x1-r,x1-r),(y0,y0+r,y0+r,y0)],layer=layer)\n",
    "    \n",
    "    return M\n",
    "\n"
   ]
  },
  {
   "cell_type": "code",
   "execution_count": 32,
   "id": "957769e4-8ca4-4943-abee-3fabd94296dd",
   "metadata": {},
   "outputs": [
    {
     "name": "stdout",
     "output_type": "stream",
     "text": [
      "\u001b[32m2024-04-15 19:38:53.358\u001b[0m | \u001b[1mINFO    \u001b[0m | \u001b[36mgdsfactory.klive\u001b[0m:\u001b[36mshow\u001b[0m:\u001b[36m56\u001b[0m - \u001b[1mMessage from klive: {\"version\": \"0.3.0\", \"type\": \"open\", \"file\": \"C:\\\\Users\\\\ADMINI~1\\\\AppData\\\\Local\\\\Temp\\\\gdsfactory\\\\circle corner$3.gds\"}\u001b[0m\n"
     ]
    }
   ],
   "source": [
    "M=add_circle_corner([-1710.89000,411.08500,-1550.89000,462.08500],5,(44,0))\n",
    "M.show()"
   ]
  },
  {
   "cell_type": "code",
   "execution_count": 1,
   "id": "9b402f93-f8fb-4c95-82eb-fd610b735507",
   "metadata": {},
   "outputs": [],
   "source": [
    "'''\n",
    "产生一个测量Ti电阻的版图的程序\n",
    "'''\n",
    "import gdsfactory as gf\n",
    "\n",
    "def add_cc_rect(a,r,layer):    #add_circle_corner_rectangler   引用产生圆角矩形的函数\n",
    "    '''\n",
    "    a:[矩形左下角点的横坐标,矩形左下角点的纵坐标,矩形右上角点的横坐标,矩形右上角点的纵坐标]\n",
    "    r:产生的圆角圆的半径\n",
    "    layer:圆角矩形的layer\n",
    "    '''\n",
    "    x0=a[0]\n",
    "    y0=a[1]\n",
    "    x1=a[2]\n",
    "    y1=a[3]\n",
    "    circle_x0=x0+r\n",
    "    circle_y0=y0+r\n",
    "    circle_x1=x1-r\n",
    "    circle_y1=y1-r\n",
    "\n",
    "    M=gf.Component(\"circle corner\")\n",
    "    #添加半圆角\n",
    "    c1=gf.components.ellipse(radii=(r,r),layer=layer)\n",
    "    rect=gf.components.rectangle(size=[r,r],layer=layer)\n",
    "    \n",
    "    circle1=gf.geometry.boolean(A=c1,B=rect,operation=\"and\",precision=1e-6,layer=layer)\n",
    "    \n",
    "    cir1=M.add_ref(circle1)\n",
    "    cir2=M.add_ref(circle1).rotate(90)\n",
    "    cir3=M.add_ref(circle1).rotate(180)\n",
    "    cir4=M.add_ref(circle1).rotate(270)\n",
    "    #移动半圆角到指定的位置\n",
    "    cir1.move([x1-r,y1-r])\n",
    "    cir2.move([x0+r,y1-r])\n",
    "    cir3.move([x0+r,y0+r])\n",
    "    cir4.move([x1-r,y0+r])\n",
    "\n",
    "    #添加矩形\n",
    "    M.add_polygon([(x0,x0,x1,x1),(y0+r,y1-r,y1-r,y0+r)],layer=layer)\n",
    "    M.add_polygon([(x0+r,x0+r,x1-r,x1-r),(y1-r,y1,y1,y1-r)],layer=layer)\n",
    "    M.add_polygon([(x0+r,x0+r,x1-r,x1-r),(y0,y0+r,y0+r,y0)],layer=layer)\n",
    "    \n",
    "    return M\n",
    "\n",
    "def add_measure_R_Ti(R_len,R_width,layer_R,layer_Au,layer_textandpad,layer_polish):\n",
    "    modal=gf.Component(\"TI_R_measure\")\n",
    "\n",
    "\n",
    "    #设置各部分自定义参数\n",
    "    pad_width=300        #pad正方形边长200um\n",
    "    pad_interval=500     #pad间距500um\n",
    "\n",
    "    wire1_width=60            #Au导线1的宽度\n",
    "    wire1_len=130             #Au导线1的长度\n",
    "    w1po=30                    #wire1_pad_overlap   Au导线1与pad的重叠长度\n",
    "    w1pi=30                    #wire1_pad_interval  Au导线1与pad边缘的距离\n",
    "\n",
    "    Ti_y_os=10                 #Ti电阻与Au导线2的y方向偏移量\n",
    "    \n",
    "    wire2_width=R_width+20     #Au导线2的宽度\n",
    "    w2po=20                #wire2_pad_overlap   Au导线2与Au导线1的重叠长度\n",
    "\n",
    "    text_x=400                  #文字的坐标\n",
    "    text_y=450\n",
    "\n",
    "\n",
    "    \n",
    "    #1、添加电极pad与pad窗口\n",
    "    \n",
    "    plp=[0,0,pad_width,pad_width]   #pad_left_position\n",
    "    prp=[0+pad_interval,0,pad_width+pad_interval,pad_width]   #pad_right_position\n",
    "    modal.add_polygon([(plp[0],plp[0],plp[2],plp[2]),\\\n",
    "                       (plp[1],plp[3],plp[3],plp[1])],\\\n",
    "                      layer=layer_textandpad)  #添加开窗口的左侧矩形\n",
    "    modal.add_polygon([(prp[0],prp[0],prp[2],prp[2]),\\\n",
    "                       (prp[1],prp[3],prp[3],prp[1])],\\\n",
    "                      layer=layer_textandpad)  #添加开窗口的右侧矩形\n",
    "\n",
    "    modal.add_ref(add_cc_rect(plp,20,layer_Au))  #添加左侧电极矩形\n",
    "    modal.add_ref(add_cc_rect(prp,20,layer_Au))  #添加右侧电极矩形\n",
    "\n",
    "    #2、添加Au导线1\n",
    "    \n",
    "    w1lp=[plp[2]-w1pi-wire1_width,plp[3]-w1po,plp[2]-w1pi,plp[3]-w1po+wire1_len]                     #wire1_left_position\n",
    "    w1rp=[prp[0]+w1pi,prp[3]-w1po,prp[0]+w1pi+wire1_width,prp[3]-w1po+wire1_len]                     #wire1_right_position\n",
    "    modal.add_ref(add_cc_rect(w1lp,10,layer_Au))  #添加左侧Au导线1\n",
    "    modal.add_ref(add_cc_rect(w1rp,10,layer_Au))  #添加右侧Au导线1\n",
    "\n",
    "    #3、添加Ti电阻\n",
    "    R_posi=[(pad_interval+pad_width)/2-R_len/2-10          ,    (w1lp[3]-10+plp[3])/2-R_width/2+Ti_y_os            ,\\\n",
    "            (pad_interval+pad_width)/2-R_len/2+R_len+10    ,    (w1lp[3]-10+plp[3])/2-R_width/2+R_width+Ti_y_os]\n",
    "    #Ti电阻宽度比给定值两边各长10um\n",
    "    Ti=modal.add_polygon([(R_posi[0],R_posi[0],R_posi[2],R_posi[2]),(R_posi[1],R_posi[3],R_posi[3],R_posi[1])],layer=layer_R)\n",
    "\n",
    "    #4、添加Au导线2\n",
    "    \n",
    "    wire2_len=(w1rp[0]-w1lp[2]-R_len)/2+w2po\n",
    "    w2lp=[w1lp[2]-w2po,R_posi[1]-10,R_posi[0]+10,R_posi[3]+10]\n",
    "    w2rp=[R_posi[2]-10,R_posi[1]-10,w1rp[0]+w2po,R_posi[3]+10]\n",
    "    modal.add_ref(add_cc_rect(w2lp,5,layer_Au))  #添加左侧Au导线2\n",
    "    modal.add_ref(add_cc_rect(w2rp,5,layer_Au))  #添加右侧Au导线2\n",
    "\n",
    "    #5、添加文字\n",
    "         #文字自动生成\n",
    "    text1=modal.add_ref(gf.components.text(\"R-\"+str(R_len)+\"x\"+str(R_width)+\"um\",size=80,justify='center',layer=layer_textandpad))\n",
    "         #设置文字坐标居中\n",
    "    \n",
    "    text1.move([text_x,text_y])\n",
    "\n",
    "    #6、添加减薄区\n",
    "    polish_posi=[plp[0]-10,plp[1]-10,prp[2]+10,prp[3]+10]      #减薄区离pad边界为10um\n",
    "    modal.add_polygon([(polish_posi[0],polish_posi[0],polish_posi[2],polish_posi[2]),\\\n",
    "                       (polish_posi[1],polish_posi[3],polish_posi[3],polish_posi[1])],\\\n",
    "                      layer=layer_polish)\n",
    "\n",
    "    \n",
    "    return modal"
   ]
  },
  {
   "cell_type": "code",
   "execution_count": 10,
   "id": "a7ae52f2-514f-43ce-a05c-5722ea061dcf",
   "metadata": {},
   "outputs": [
    {
     "name": "stdout",
     "output_type": "stream",
     "text": [
      "\u001b[32m2024-05-14 16:18:13.915\u001b[0m | \u001b[1mINFO    \u001b[0m | \u001b[36mgdsfactory.klive\u001b[0m:\u001b[36mshow\u001b[0m:\u001b[36m56\u001b[0m - \u001b[1mMessage from klive: {\"version\": \"0.3.0\", \"type\": \"open\", \"file\": \"C:\\\\Users\\\\ADMINI~1\\\\AppData\\\\Local\\\\Temp\\\\gdsfactory\\\\TI_R_measure$7.gds\"}\u001b[0m\n"
     ]
    }
   ],
   "source": [
    "M=add_measure_R_Ti(90,33.1,(51,0),(44,0),(47,0),(52,0))\n",
    "M.show()"
   ]
  },
  {
   "cell_type": "code",
   "execution_count": null,
   "id": "fa2236e4-9350-4898-b284-1428212a0867",
   "metadata": {},
   "outputs": [],
   "source": []
  },
  {
   "cell_type": "code",
   "execution_count": null,
   "id": "331215d5-26a0-4cfb-bc10-273439129143",
   "metadata": {},
   "outputs": [],
   "source": []
  }
 ],
 "metadata": {
  "kernelspec": {
   "display_name": "Python 3 (ipykernel)",
   "language": "python",
   "name": "python3"
  },
  "language_info": {
   "codemirror_mode": {
    "name": "ipython",
    "version": 3
   },
   "file_extension": ".py",
   "mimetype": "text/x-python",
   "name": "python",
   "nbconvert_exporter": "python",
   "pygments_lexer": "ipython3",
   "version": "3.11.5"
  }
 },
 "nbformat": 4,
 "nbformat_minor": 5
}
