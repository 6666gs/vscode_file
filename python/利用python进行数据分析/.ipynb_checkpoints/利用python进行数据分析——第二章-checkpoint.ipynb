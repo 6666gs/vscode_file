{
 "cells": [
  {
   "cell_type": "markdown",
   "id": "61744149",
   "metadata": {},
   "source": [
    "# 简单语言基础"
   ]
  },
  {
   "cell_type": "code",
   "execution_count": 1,
   "id": "0bf496d5-db9d-4560-b0f1-b0ee4ea1e825",
   "metadata": {},
   "outputs": [],
   "source": [
    "a=5"
   ]
  },
  {
   "cell_type": "code",
   "execution_count": 2,
   "id": "bd0bcff3-2b3f-4b50-a56c-2f681d8819fb",
   "metadata": {},
   "outputs": [
    {
     "data": {
      "text/plain": [
       "5"
      ]
     },
     "execution_count": 2,
     "metadata": {},
     "output_type": "execute_result"
    }
   ],
   "source": [
    "a"
   ]
  },
  {
   "cell_type": "code",
   "execution_count": 4,
   "id": "5535e1b8-db72-4877-9201-74ffb81a14c8",
   "metadata": {},
   "outputs": [
    {
     "data": {
      "text/plain": [
       "5"
      ]
     },
     "execution_count": 4,
     "metadata": {},
     "output_type": "execute_result"
    }
   ],
   "source": [
    "a"
   ]
  },
  {
   "cell_type": "markdown",
   "id": "f24fcaff-cb71-43be-86fd-54532e2ab66d",
   "metadata": {},
   "source": [
    "## asd\n",
    "asd"
   ]
  },
  {
   "cell_type": "code",
   "execution_count": 1,
   "id": "bc716c16-3cad-4e60-a99f-a897c3498638",
   "metadata": {},
   "outputs": [],
   "source": [
    "%matplotlib inline"
   ]
  },
  {
   "cell_type": "code",
   "execution_count": 1,
   "id": "dc2ed1af",
   "metadata": {},
   "outputs": [],
   "source": [
    "a=5"
   ]
  },
  {
   "cell_type": "code",
   "execution_count": 2,
   "id": "96bdad81",
   "metadata": {},
   "outputs": [
    {
     "data": {
      "text/plain": [
       "True"
      ]
     },
     "execution_count": 2,
     "metadata": {},
     "output_type": "execute_result"
    }
   ],
   "source": [
    "a==5"
   ]
  },
  {
   "cell_type": "code",
   "execution_count": 3,
   "id": "ada07be1",
   "metadata": {},
   "outputs": [
    {
     "name": "stderr",
     "output_type": "stream",
     "text": [
      "<>:1: SyntaxWarning: \"is\" with a literal. Did you mean \"==\"?\n",
      "<>:1: SyntaxWarning: \"is\" with a literal. Did you mean \"==\"?\n",
      "C:\\Users\\q\\AppData\\Local\\Temp\\ipykernel_8736\\3165069480.py:1: SyntaxWarning: \"is\" with a literal. Did you mean \"==\"?\n",
      "  a is 5\n"
     ]
    },
    {
     "data": {
      "text/plain": [
       "True"
      ]
     },
     "execution_count": 3,
     "metadata": {},
     "output_type": "execute_result"
    }
   ],
   "source": [
    "a is 5"
   ]
  },
  {
   "cell_type": "code",
   "execution_count": 4,
   "id": "fc3df42b",
   "metadata": {},
   "outputs": [],
   "source": [
    "a = None"
   ]
  },
  {
   "cell_type": "code",
   "execution_count": 5,
   "id": "89df1be3",
   "metadata": {},
   "outputs": [
    {
     "data": {
      "text/plain": [
       "True"
      ]
     },
     "execution_count": 5,
     "metadata": {},
     "output_type": "execute_result"
    }
   ],
   "source": [
    "a is None"
   ]
  },
  {
   "cell_type": "code",
   "execution_count": 6,
   "id": "fdb8e068",
   "metadata": {},
   "outputs": [
    {
     "data": {
      "text/plain": [
       "True"
      ]
     },
     "execution_count": 6,
     "metadata": {},
     "output_type": "execute_result"
    }
   ],
   "source": [
    "a=[1,2,3]\n",
    "b=a\n",
    "c=list(a) #list()创建一个新的对象，即一个拷贝\n",
    "a is b\n",
    "a is not c"
   ]
  },
  {
   "cell_type": "code",
   "execution_count": 7,
   "id": "7890b6bf",
   "metadata": {},
   "outputs": [
    {
     "data": {
      "text/plain": [
       "True"
      ]
     },
     "execution_count": 7,
     "metadata": {},
     "output_type": "execute_result"
    }
   ],
   "source": [
    "a is b"
   ]
  },
  {
   "cell_type": "code",
   "execution_count": 8,
   "id": "d6ab9e4f",
   "metadata": {},
   "outputs": [
    {
     "data": {
      "text/plain": [
       "True"
      ]
     },
     "execution_count": 8,
     "metadata": {},
     "output_type": "execute_result"
    }
   ],
   "source": [
    "a is not c"
   ]
  },
  {
   "cell_type": "code",
   "execution_count": 11,
   "id": "42cbceb5",
   "metadata": {},
   "outputs": [
    {
     "data": {
      "text/plain": [
       "True"
      ]
     },
     "execution_count": 11,
     "metadata": {},
     "output_type": "execute_result"
    }
   ],
   "source": [
    "(a is b) and (a is not c) #python中没有&&，只有and"
   ]
  },
  {
   "cell_type": "code",
   "execution_count": 12,
   "id": "0d8a59d4",
   "metadata": {},
   "outputs": [
    {
     "data": {
      "text/plain": [
       "False"
      ]
     },
     "execution_count": 12,
     "metadata": {},
     "output_type": "execute_result"
    }
   ],
   "source": [
    "(a is b) and (a is c)"
   ]
  },
  {
   "cell_type": "code",
   "execution_count": 13,
   "id": "d9ac73a2",
   "metadata": {},
   "outputs": [
    {
     "data": {
      "text/plain": [
       "25"
      ]
     },
     "execution_count": 13,
     "metadata": {},
     "output_type": "execute_result"
    }
   ],
   "source": [
    "a=5\n",
    "a**2 #python中**表示次方"
   ]
  },
  {
   "cell_type": "code",
   "execution_count": 15,
   "id": "51f2f4cb",
   "metadata": {},
   "outputs": [],
   "source": [
    "a='this is a string'\n",
    "b=\"ert\"\n",
    "c='''\n",
    "this is a string\n",
    "ocupying two lines\n",
    "'''\n",
    "d=\"\"\"\n",
    "same effect as 'c'\n",
    "\"\"\""
   ]
  },
  {
   "cell_type": "code",
   "execution_count": 16,
   "id": "0ab45fc6",
   "metadata": {},
   "outputs": [
    {
     "ename": "TypeError",
     "evalue": "'str' object does not support item assignment",
     "output_type": "error",
     "traceback": [
      "\u001b[1;31m---------------------------------------------------------------------------\u001b[0m",
      "\u001b[1;31mTypeError\u001b[0m                                 Traceback (most recent call last)",
      "Cell \u001b[1;32mIn[16], line 1\u001b[0m\n\u001b[1;32m----> 1\u001b[0m a[\u001b[38;5;241m2\u001b[39m]\u001b[38;5;241m=\u001b[39m\u001b[38;5;124m'\u001b[39m\u001b[38;5;124mo\u001b[39m\u001b[38;5;124m'\u001b[39m\n",
      "\u001b[1;31mTypeError\u001b[0m: 'str' object does not support item assignment"
     ]
    }
   ],
   "source": [
    "a[2]='o'"
   ]
  },
  {
   "cell_type": "code",
   "execution_count": 18,
   "id": "4d71cc6e",
   "metadata": {},
   "outputs": [
    {
     "data": {
      "text/plain": [
       "'this is a longer string'"
      ]
     },
     "execution_count": 18,
     "metadata": {},
     "output_type": "execute_result"
    }
   ],
   "source": [
    "b=a.replace('string','longer string') #string无法更改，replace只是创建一个新对象\n",
    "b"
   ]
  },
  {
   "cell_type": "code",
   "execution_count": 19,
   "id": "a43f0a09",
   "metadata": {},
   "outputs": [
    {
     "name": "stdout",
     "output_type": "stream",
     "text": [
      "<class 'float'> <class 'str'>\n"
     ]
    }
   ],
   "source": [
    "a=5.6\n",
    "print(type(a),type(str(a)))"
   ]
  },
  {
   "cell_type": "code",
   "execution_count": 24,
   "id": "b2e2993f",
   "metadata": {
    "scrolled": true
   },
   "outputs": [
    {
     "name": "stdout",
     "output_type": "stream",
     "text": [
      "python \n",
      " ['p', 'y', 't', 'h', 'o', 'n'] \n",
      " pyt\n",
      "python\n",
      "['p', 'y', 't', 'h', 'o', 'n']\n",
      "pyt\n",
      "python\n",
      "['p', 'y', 't', 'h', 'o', 'n']\n",
      "pyt\n"
     ]
    }
   ],
   "source": [
    "a='python'\n",
    "b=list(a)\n",
    "s=a[:3] #切片\n",
    "print(a,'\\n',b,'\\n',s) #print输出时，不同变量间默认间隔一个空格\n",
    "print(a)\n",
    "print(b)\n",
    "print(s)\n",
    "print(a,'\\n',b,'\\n',s,sep='') #这样就没有空格了"
   ]
  },
  {
   "cell_type": "code",
   "execution_count": 26,
   "id": "65ea3659",
   "metadata": {},
   "outputs": [
    {
     "name": "stdout",
     "output_type": "stream",
     "text": [
      "12\\34 12\u001c",
      " 12\\34 12\\3412\\34\n"
     ]
    }
   ],
   "source": [
    "s='12\\\\34' #\\为转义符号\n",
    "d='12\\34' #此时\\34会被解释为Unicode字符进行输出\n",
    "f=r'12\\34' #字符串前加r，表明里面的全都是原生字符，即自动加转义符号\n",
    "print(s,d,f,s+f)"
   ]
  },
  {
   "cell_type": "code",
   "execution_count": 2,
   "id": "43dbacc9",
   "metadata": {},
   "outputs": [
    {
     "name": "stdout",
     "output_type": "stream",
     "text": [
      "4.56 Argentine Pesos are worth US$1\n",
      "\n",
      "1.77\n"
     ]
    }
   ],
   "source": [
    "#字符串格式化 magical！\n",
    "template='{0:.2f} {1:s} are worth US${2:d}' #第一个参数格式化为2位小数的浮点数，第二个参数格式化为字符串，第三个参数格式化为整数\n",
    "print(template.format(4.5560,'Argentine Pesos',1),end='\\n\\n')\n",
    "\n",
    "x=1.769485\n",
    "print('%.2f'%x)                             #这也是一种字符串格式化"
   ]
  },
  {
   "cell_type": "code",
   "execution_count": 36,
   "id": "7c1b0a03",
   "metadata": {},
   "outputs": [
    {
     "name": "stdout",
     "output_type": "stream",
     "text": [
      "excption\n",
      "b'excption'<class 'bytes'>\n",
      "excption\n"
     ]
    }
   ],
   "source": [
    "val=\"excption\"\n",
    "val_utf8=val.encode('utf-8')\n",
    "val_decode=val_utf8.decode('utf-8')\n",
    "print(val,'\\n',val_utf8,type(val_utf8),'\\n',val_decode,sep='')"
   ]
  },
  {
   "cell_type": "code",
   "execution_count": 3,
   "id": "066d2490",
   "metadata": {},
   "outputs": [
    {
     "name": "stdout",
     "output_type": "stream",
     "text": [
      "29 30\n",
      "10/29/2011 20:30\n",
      "2009-10-31 00:00:00\n",
      "\n",
      "728 days, 20:30:21\n",
      "<class 'datetime.timedelta'>\n",
      "2013-10-27 17:00:42\n"
     ]
    }
   ],
   "source": [
    "#python中自带的日期与时间\n",
    "from datetime import datetime, date, time\n",
    "dt=datetime(2011,10,29,20,30,21)\n",
    "\n",
    "print(dt.day,' ',dt.minute,'\\n',dt.strftime('%m/%d/%Y %H:%M'),sep='')\n",
    "dt2=datetime.strptime('20091031','%Y%m%d')\n",
    "print(dt2)\n",
    "print('')\n",
    "delta=dt-dt2    #delta是datatime.timedelta类型，\n",
    "print(delta,'\\n',type(delta),'\\n',dt+delta,sep='')"
   ]
  },
  {
   "cell_type": "code",
   "execution_count": 4,
   "id": "ee8ee569",
   "metadata": {},
   "outputs": [
    {
     "name": "stdout",
     "output_type": "stream",
     "text": [
      "a>3\n",
      "链式大于成立\n",
      "positive\n"
     ]
    }
   ],
   "source": [
    "#控制函数\n",
    "\n",
    "##if函数\n",
    "a=5\n",
    "if a<3:\n",
    "    print('a<3')\n",
    "elif a>3:\n",
    "    print('a>3')\n",
    "else:\n",
    "    print('a=3')\n",
    "    \n",
    "if 4>3>2>1:    #python中支持链式比较\n",
    "    print('链式大于成立')\n",
    "\n",
    "##for函数\n",
    "sequence=[1,2,None,4,None,5]\n",
    "total=0\n",
    "for value in sequence:\n",
    "    if value is None:\n",
    "        continue\n",
    "    total += value\n",
    "\n",
    "##while函数\n",
    "x=256\n",
    "total=0\n",
    "while x>0:\n",
    "    if total>500:\n",
    "        break\n",
    "    total +=x\n",
    "    x=x//2  #//表示整除，即结果为整数\n",
    "\n",
    "##pass\n",
    "if x<0:\n",
    "    print('negative')\n",
    "elif x==0:\n",
    "    pass\n",
    "else:\n",
    "    print('positive')"
   ]
  },
  {
   "cell_type": "code",
   "execution_count": 5,
   "id": "eb28fbf5",
   "metadata": {},
   "outputs": [
    {
     "data": {
      "text/plain": [
       "range(0, 10)"
      ]
     },
     "execution_count": 5,
     "metadata": {},
     "output_type": "execute_result"
    }
   ],
   "source": [
    "range(10)"
   ]
  },
  {
   "cell_type": "code",
   "execution_count": 10,
   "id": "67bcb6f7",
   "metadata": {},
   "outputs": [
    {
     "name": "stdout",
     "output_type": "stream",
     "text": [
      "[0, 1, 2, 3, 4, 5, 6, 7, 8, 9]\n",
      "[0, 2, 4, 6, 8, 10, 12, 14, 16, 18]\n",
      "[5, 4, 3, 2, 1]\n",
      "950\n"
     ]
    }
   ],
   "source": [
    "print(list(range(10)))\n",
    "print(list(range(0,20,2))) #range产生的序列只包含首项，不含尾项\n",
    "print(list(range(5,0,-1)))\n",
    "sum=0\n",
    "for i in range(100):   #但是range产生的序列可以直接在for中使用\n",
    "    if i%5==0:\n",
    "        sum+=i\n",
    "print(sum)"
   ]
  },
  {
   "cell_type": "code",
   "execution_count": 11,
   "id": "b0a9517b",
   "metadata": {},
   "outputs": [
    {
     "data": {
      "text/plain": [
       "'Non-negative'"
      ]
     },
     "execution_count": 11,
     "metadata": {},
     "output_type": "execute_result"
    }
   ],
   "source": [
    "#三元表达式\n",
    "x=5\n",
    "'Non-negative' if x>=0 else 'Negative'"
   ]
  },
  {
   "cell_type": "code",
   "execution_count": null,
   "id": "21d82104",
   "metadata": {},
   "outputs": [],
   "source": []
  }
 ],
 "metadata": {
  "kernelspec": {
   "display_name": "Python 3 (ipykernel)",
   "language": "python",
   "name": "python3"
  },
  "language_info": {
   "codemirror_mode": {
    "name": "ipython",
    "version": 3
   },
   "file_extension": ".py",
   "mimetype": "text/x-python",
   "name": "python",
   "nbconvert_exporter": "python",
   "pygments_lexer": "ipython3",
   "version": "3.11.4"
  }
 },
 "nbformat": 4,
 "nbformat_minor": 5
}
