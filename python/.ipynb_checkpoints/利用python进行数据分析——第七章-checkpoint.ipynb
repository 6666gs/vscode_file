{
 "cells": [
  {
   "cell_type": "markdown",
   "id": "1cb931e6",
   "metadata": {},
   "source": [
    "# 数据清洗与准备"
   ]
  },
  {
   "cell_type": "markdown",
   "id": "f58316f2",
   "metadata": {},
   "source": [
    "## 7.1、处理缺失值"
   ]
  },
  {
   "cell_type": "code",
   "execution_count": 1,
   "id": "0adcf911",
   "metadata": {},
   "outputs": [],
   "source": [
    "import numpy as np\n",
    "import pandas as pd\n",
    "pd.options.display.max_rows=10"
   ]
  },
  {
   "cell_type": "code",
   "execution_count": 4,
   "id": "63ad0936",
   "metadata": {},
   "outputs": [
    {
     "name": "stdout",
     "output_type": "stream",
     "text": [
      "0     aardvark\n",
      "1    artichoke\n",
      "2          NaN\n",
      "3      avocado\n",
      "dtype: object\n"
     ]
    }
   ],
   "source": [
    "string_data=pd.Series(['aardvark','artichoke',np.nan,'avocado'])\n",
    "print(string_data)"
   ]
  },
  {
   "cell_type": "code",
   "execution_count": 5,
   "id": "2c5742a1",
   "metadata": {},
   "outputs": [
    {
     "name": "stdout",
     "output_type": "stream",
     "text": [
      "0         None\n",
      "1    artichoke\n",
      "2          NaN\n",
      "3      avocado\n",
      "dtype: object\n"
     ]
    }
   ],
   "source": [
    "string_data[0]=None\n",
    "print(string_data)"
   ]
  },
  {
   "cell_type": "code",
   "execution_count": 6,
   "id": "1ac339ab",
   "metadata": {},
   "outputs": [
    {
     "name": "stdout",
     "output_type": "stream",
     "text": [
      "0     True\n",
      "1    False\n",
      "2     True\n",
      "3    False\n",
      "dtype: bool\n"
     ]
    }
   ],
   "source": [
    "print(string_data.isnull())        #可以发现，None和NaN都被认为是NA，not available"
   ]
  },
  {
   "cell_type": "markdown",
   "id": "f868b1ae",
   "metadata": {},
   "source": [
    "### 1.1、过滤缺失值"
   ]
  },
  {
   "cell_type": "code",
   "execution_count": 3,
   "id": "f69b090d",
   "metadata": {},
   "outputs": [
    {
     "data": {
      "text/plain": [
       "0    1.0\n",
       "2    3.5\n",
       "4    7.0\n",
       "dtype: float64"
      ]
     },
     "execution_count": 3,
     "metadata": {},
     "output_type": "execute_result"
    }
   ],
   "source": [
    "#利用dropna来过滤缺失值\n",
    "from numpy import nan as NA\n",
    "data=pd.Series([1,NA,3.5,NA,7])\n",
    "data.dropna()"
   ]
  },
  {
   "cell_type": "code",
   "execution_count": 4,
   "id": "e57987bd",
   "metadata": {},
   "outputs": [
    {
     "data": {
      "text/plain": [
       "0    1.0\n",
       "2    3.5\n",
       "4    7.0\n",
       "dtype: float64"
      ]
     },
     "execution_count": 4,
     "metadata": {},
     "output_type": "execute_result"
    }
   ],
   "source": [
    "data[data.notnull()]    #与上面等价"
   ]
  },
  {
   "cell_type": "code",
   "execution_count": 7,
   "id": "9a7d0dc1",
   "metadata": {},
   "outputs": [
    {
     "name": "stdout",
     "output_type": "stream",
     "text": [
      "     0    1    2\n",
      "0  1.0  6.5  3.0\n",
      "1  1.0  NaN  NaN\n",
      "2  NaN  NaN  NaN\n",
      "3  NaN  6.5  3.0\n",
      "     0    1    2\n",
      "0  1.0  6.5  3.0\n",
      "     0    1    2\n",
      "0  1.0  6.5  3.0\n",
      "1  1.0  NaN  NaN\n",
      "3  NaN  6.5  3.0\n",
      "     0    1    2\n",
      "0  1.0  6.5  3.0\n",
      "1  1.0  NaN  NaN\n",
      "2  NaN  NaN  NaN\n",
      "3  NaN  6.5  3.0\n"
     ]
    }
   ],
   "source": [
    "#对于DataFrame，dropna默认情况下会删除包含缺失值的行\n",
    "data=pd.DataFrame([[1,6.5,3],[1,NA,NA],\n",
    "                  [NA,NA,NA],[NA,6.5,3]])\n",
    "data1=data.dropna()\n",
    "print(data)\n",
    "print(data1)\n",
    "\n",
    "#利用参数how可以实现仅删除所有值都是NA的行\n",
    "print(data.dropna(how='all'))\n",
    "\n",
    "#利用参数axis可以实现删除NA存在的列\n",
    "print(data.dropna(axis=1,how='all'))"
   ]
  },
  {
   "cell_type": "code",
   "execution_count": 13,
   "id": "dabc4671",
   "metadata": {},
   "outputs": [
    {
     "name": "stdout",
     "output_type": "stream",
     "text": [
      "          0         1         2\n",
      "2 -0.671067       NaN  1.284127\n",
      "3 -0.594093       NaN -2.444752\n",
      "4  0.514992 -0.601770 -0.837686\n",
      "5  0.028874 -0.900232 -1.162911\n",
      "6 -0.774774  0.501525  0.433749\n",
      "          0         1         2\n",
      "0  0.233087       NaN       NaN\n",
      "1 -0.902660       NaN       NaN\n",
      "2 -0.671067       NaN  1.284127\n",
      "3 -0.594093       NaN -2.444752\n",
      "4  0.514992 -0.601770 -0.837686\n",
      "5  0.028874 -0.900232 -1.162911\n",
      "6 -0.774774  0.501525  0.433749\n"
     ]
    }
   ],
   "source": [
    "#利用参数thresh实现保留一定数量的观察值的行\n",
    "data2=pd.DataFrame(np.random.randn(7,3))\n",
    "data2.iloc[:4,1]=NA\n",
    "data2.iloc[:2,2]=NA\n",
    "print(data2.dropna(thresh=2))\n",
    "print(data2.dropna(thresh=1))"
   ]
  },
  {
   "cell_type": "markdown",
   "id": "00bc3e9a",
   "metadata": {},
   "source": [
    "### 1.2、补全缺失值"
   ]
  },
  {
   "cell_type": "code",
   "execution_count": 18,
   "id": "1586bb8f",
   "metadata": {},
   "outputs": [
    {
     "name": "stdout",
     "output_type": "stream",
     "text": [
      "          0         1         2\n",
      "0 -0.804293  0.000000  0.000000\n",
      "1 -1.220486  0.000000  0.000000\n",
      "2  0.100599  0.000000 -0.103862\n",
      "3 -1.122888  0.000000 -0.231285\n",
      "4 -1.647301 -0.043402 -2.505836\n",
      "5 -0.831211 -1.375719  1.157523\n",
      "6  2.953561  0.996073  0.656459\n",
      "          0         1         2\n",
      "0 -0.804293  0.500000  0.000000\n",
      "1 -1.220486  0.500000  0.000000\n",
      "2  0.100599  0.500000 -0.103862\n",
      "3 -1.122888  0.500000 -0.231285\n",
      "4 -1.647301 -0.043402 -2.505836\n",
      "5 -0.831211 -1.375719  1.157523\n",
      "6  2.953561  0.996073  0.656459\n",
      "          0         1         2\n",
      "0 -0.804293  0.000000  0.000000\n",
      "1 -1.220486  0.000000  0.000000\n",
      "2  0.100599  0.000000 -0.103862\n",
      "3 -1.122888  0.000000 -0.231285\n",
      "4 -1.647301 -0.043402 -2.505836\n",
      "5 -0.831211 -1.375719  1.157523\n",
      "6  2.953561  0.996073  0.656459\n"
     ]
    }
   ],
   "source": [
    "#利用fillna来替代缺失值\n",
    "data2=pd.DataFrame(np.random.randn(7,3))\n",
    "data2.iloc[:4,1]=NA\n",
    "data2.iloc[:2,2]=NA\n",
    "print(data2.fillna(0))\n",
    "\n",
    "#调用fillna时使用字典，可以使得不同列可以设定不同的填充值\n",
    "print(data2.fillna({1:0.5,2:0}))\n",
    "\n",
    "#调用fillna时，利用参数inplace可以使得修改原数据\n",
    "_=data2.fillna(0,inplace=True)\n",
    "print(data2)"
   ]
  },
  {
   "cell_type": "code",
   "execution_count": 19,
   "id": "df8097c8",
   "metadata": {},
   "outputs": [
    {
     "name": "stdout",
     "output_type": "stream",
     "text": [
      "          0         1         2\n",
      "0  0.264246  0.243948 -0.362505\n",
      "1 -0.387553 -0.619872 -1.531149\n",
      "2 -1.321191       NaN -0.318601\n",
      "3  1.069199       NaN  0.290524\n",
      "4  0.226386       NaN       NaN\n",
      "5 -0.829300       NaN       NaN\n",
      "          0         1         2\n",
      "0  0.264246  0.243948 -0.362505\n",
      "1 -0.387553 -0.619872 -1.531149\n",
      "2 -1.321191 -0.619872 -0.318601\n",
      "3  1.069199 -0.619872  0.290524\n",
      "4  0.226386 -0.619872  0.290524\n",
      "5 -0.829300 -0.619872  0.290524\n",
      "          0         1         2\n",
      "0  0.264246  0.243948 -0.362505\n",
      "1 -0.387553 -0.619872 -1.531149\n",
      "2 -1.321191 -0.619872 -0.318601\n",
      "3  1.069199 -0.619872  0.290524\n",
      "4  0.226386       NaN  0.290524\n",
      "5 -0.829300       NaN  0.290524\n"
     ]
    }
   ],
   "source": [
    "#fillna拥有很多参数可用\n",
    "#利用method参数可用选择前向填充或后向填充\n",
    "data3=pd.DataFrame(np.random.randn(6,3))\n",
    "data3.iloc[2:,1]=NA\n",
    "data3.iloc[4:,2]=NA\n",
    "print(data3)\n",
    "print(data3.fillna(method='ffill'))              #后向填充\n",
    "print(data3.fillna(method='ffill',limit=2))      #后向填充，并设置填充长度最大为2"
   ]
  },
  {
   "cell_type": "markdown",
   "id": "fb4e8232",
   "metadata": {},
   "source": [
    "## 2、数据转换"
   ]
  },
  {
   "cell_type": "markdown",
   "id": "351074e1",
   "metadata": {},
   "source": [
    "### 2.1、删除重复值"
   ]
  },
  {
   "cell_type": "code",
   "execution_count": 20,
   "id": "d963a7df",
   "metadata": {},
   "outputs": [
    {
     "name": "stdout",
     "output_type": "stream",
     "text": [
      "    k1  k2\n",
      "0  one   1\n",
      "1  two   1\n",
      "2  one   2\n",
      "3  two   3\n",
      "4  one   3\n",
      "5  two   4\n",
      "6  two   4\n"
     ]
    }
   ],
   "source": [
    "#DataFrame中会出现重复行\n",
    "data=pd.DataFrame({'k1':['one','two']*3+['two'],\n",
    "                  'k2':[1,1,2,3,3,4,4]})\n",
    "print(data)"
   ]
  },
  {
   "cell_type": "code",
   "execution_count": 22,
   "id": "038cd85c",
   "metadata": {},
   "outputs": [
    {
     "name": "stdout",
     "output_type": "stream",
     "text": [
      "0    False\n",
      "1    False\n",
      "2    False\n",
      "3    False\n",
      "4    False\n",
      "5    False\n",
      "6     True\n",
      "dtype: bool\n"
     ]
    }
   ],
   "source": [
    "print(data.duplicated())      #返回某行是否有重复行"
   ]
  },
  {
   "cell_type": "code",
   "execution_count": 23,
   "id": "4d68e476",
   "metadata": {},
   "outputs": [
    {
     "name": "stdout",
     "output_type": "stream",
     "text": [
      "    k1  k2\n",
      "0  one   1\n",
      "1  two   1\n",
      "2  one   2\n",
      "3  two   3\n",
      "4  one   3\n",
      "5  two   4\n"
     ]
    }
   ],
   "source": [
    "print(data.drop_duplicates())   #返回没有重复行的内容"
   ]
  },
  {
   "cell_type": "code",
   "execution_count": 24,
   "id": "9b341818",
   "metadata": {},
   "outputs": [
    {
     "name": "stdout",
     "output_type": "stream",
     "text": [
      "    k1  k2\n",
      "0  one   1\n",
      "1  two   1\n"
     ]
    }
   ],
   "source": [
    "#可用根据某一列的内容去除重复值\n",
    "print(data.drop_duplicates(['k1']))      #根据'k1'列，删去有重复的行"
   ]
  },
  {
   "cell_type": "code",
   "execution_count": 28,
   "id": "dc237af7",
   "metadata": {},
   "outputs": [
    {
     "name": "stdout",
     "output_type": "stream",
     "text": [
      "    k1  k2  va\n",
      "0  one   1   0\n",
      "1  two   1   1\n",
      "2  one   2   2\n",
      "3  two   3   3\n",
      "4  one   3   4\n",
      "5  two   4   5\n",
      "6  two   4   6\n",
      "    k1  k2  va\n",
      "0  one   1   0\n",
      "1  two   1   1\n",
      "2  one   2   2\n",
      "3  two   3   3\n",
      "4  one   3   4\n",
      "6  two   4   6\n"
     ]
    }
   ],
   "source": [
    "#keep参数可设置保留重复行的最后一行\n",
    "data['va']=range(7)\n",
    "print(data)\n",
    "print(data.drop_duplicates(['k1','k2'],keep='last'))"
   ]
  },
  {
   "cell_type": "markdown",
   "id": "faddb75b",
   "metadata": {},
   "source": [
    "### 1.2.2、使用函数或映射进行数据转换"
   ]
  },
  {
   "cell_type": "code",
   "execution_count": 32,
   "id": "a3d82282",
   "metadata": {},
   "outputs": [
    {
     "name": "stdout",
     "output_type": "stream",
     "text": [
      "          food  ounces\n",
      "0        bacon     4.0\n",
      "1  pulled pork     3.0\n",
      "2        bacon    12.0\n",
      "3     Pastrami     6.0\n",
      "4  corned beef     7.5\n",
      "5        Bacon     8.0\n",
      "6     pastrami     3.0\n",
      "7    honey ham     5.0\n",
      "8     nova lox     6.0\n",
      "          food  ounces  animal\n",
      "0        bacon     4.0     pig\n",
      "1  pulled pork     3.0     cow\n",
      "2        bacon    12.0     pig\n",
      "3     Pastrami     6.0     cow\n",
      "4  corned beef     7.5     cow\n",
      "5        Bacon     8.0     pig\n",
      "6     pastrami     3.0     cow\n",
      "7    honey ham     5.0     pig\n",
      "8     nova lox     6.0  salmon\n",
      "          food  ounces  animal\n",
      "0        bacon     4.0     pig\n",
      "1  pulled pork     3.0     cow\n",
      "2        bacon    12.0     pig\n",
      "3     Pastrami     6.0     cow\n",
      "4  corned beef     7.5     cow\n",
      "5        Bacon     8.0     pig\n",
      "6     pastrami     3.0     cow\n",
      "7    honey ham     5.0     pig\n",
      "8     nova lox     6.0  salmon\n"
     ]
    }
   ],
   "source": [
    "data=pd.DataFrame({'food':['bacon','pulled pork','bacon','Pastrami','corned beef','Bacon','pastrami','honey ham','nova lox'],\n",
    "                  'ounces':[4,3,12,6,7.5,8,3,5,6]})\n",
    "print(data)\n",
    "\n",
    "meat_to_animal={\n",
    "    'bacon':'pig',\n",
    "    'pulled pork':'cow',\n",
    "    'pastrami':'cow',\n",
    "    'corned beef':'cow',\n",
    "    'honey ham':'pig',\n",
    "    'nova lox':'salmon'\n",
    "}\n",
    "lower_food=data.food.str.lower()\n",
    "data['animal']=lower_food.map(meat_to_animal)          #Series的map中可以是函数，也可以是包含映射关系的字典型对象\n",
    "print(data)\n",
    "\n",
    "\n",
    "data['animal']=data['food'].map(lambda x: meat_to_animal[x.lower()])\n",
    "print(data)\n",
    "'''\n",
    "两个实现效果接近\n",
    "'''"
   ]
  },
  {
   "cell_type": "markdown",
   "id": "7cd69fc9",
   "metadata": {},
   "source": [
    "### 2.3、替代值"
   ]
  },
  {
   "cell_type": "code",
   "execution_count": 36,
   "id": "1b1b6346",
   "metadata": {},
   "outputs": [
    {
     "name": "stdout",
     "output_type": "stream",
     "text": [
      "0       1.0\n",
      "1       NaN\n",
      "2       2.0\n",
      "3       NaN\n",
      "4   -1000.0\n",
      "5       3.0\n",
      "dtype: float64\n",
      "0    1.0\n",
      "1    NaN\n",
      "2    2.0\n",
      "3    NaN\n",
      "4    NaN\n",
      "5    3.0\n",
      "dtype: float64\n",
      "0      1.0\n",
      "1      NaN\n",
      "2      2.0\n",
      "3      NaN\n",
      "4    500.0\n",
      "5      3.0\n",
      "dtype: float64\n",
      "0      1\n",
      "1    433\n",
      "2      2\n",
      "3    433\n",
      "4    344\n",
      "5      3\n",
      "dtype: int64\n"
     ]
    }
   ],
   "source": [
    "#fillna是替换的特殊情况，替换缺失值。replace提供了一种更加灵活的替换\n",
    "data=pd.Series([1,-999,2,-999,-1000,3])\n",
    "print(data.replace(-999,NA))\n",
    "print(data.replace([-999,-1000],NA))                #可以将多个值进行替换\n",
    "print(data.replace([-999,-1000],[NA,500]))          #可以将不同值替换成不同值\n",
    "print(data.replace({-999:433,-1000:344}))           #可以用字典"
   ]
  },
  {
   "cell_type": "markdown",
   "id": "302cf483",
   "metadata": {},
   "source": [
    "### 2.4、重命名轴索引"
   ]
  },
  {
   "cell_type": "code",
   "execution_count": 41,
   "id": "6edf207d",
   "metadata": {},
   "outputs": [
    {
     "name": "stdout",
     "output_type": "stream",
     "text": [
      "Index(['OHIO', 'COLO', 'NEW '], dtype='object')\n",
      "      one  two  three  four\n",
      "OHIO    0    1      2     3\n",
      "COLO    4    5      6     7\n",
      "NEW     8    9     10    11\n"
     ]
    }
   ],
   "source": [
    "#轴标签也可以像Series中的值一样进行类似的使用函数或映射的转换\n",
    "data=pd.DataFrame(np.arange(12).reshape((3,4)),\n",
    "                 index=['Ohio','Colorado','New York'],\n",
    "                 columns=['one','two','three','four'])\n",
    "print(data.index.map(lambda x:x[:4].upper()))\n",
    "data.index=data.index.map(lambda x:x[:4].upper())\n",
    "print(data)"
   ]
  },
  {
   "cell_type": "code",
   "execution_count": 44,
   "id": "c48dfce0",
   "metadata": {},
   "outputs": [
    {
     "name": "stdout",
     "output_type": "stream",
     "text": [
      "          ONE  TWO  THREE  FOUR\n",
      "Ohio        0    1      2     3\n",
      "Colorado    4    5      6     7\n",
      "New York    8    9     10    11\n",
      "          one  two  peekaboo  four\n",
      "INDIANA     0    1         2     3\n",
      "Colorado    4    5         6     7\n",
      "New York    8    9        10    11\n",
      "          one  two  three  four\n",
      "INDIANA     0    1      2     3\n",
      "Colorado    4    5      6     7\n",
      "New York    8    9     10    11\n"
     ]
    }
   ],
   "source": [
    "#可以使用rename改变轴上标签\n",
    "data=pd.DataFrame(np.arange(12).reshape((3,4)),\n",
    "                 index=['Ohio','Colorado','New York'],\n",
    "                 columns=['one','two','three','four'])\n",
    "print(data.rename(index=str.title,columns=str.upper))\n",
    "print(data.rename(index={'Ohio':'INDIANA'},\n",
    "                 columns={'three':'peekaboo'}))              #可以传入字典，进行定向转换\n",
    "data.rename(index={'Ohio':'INDIANA'},inplace=True)           #传入inplace参数可以修改原数据\n",
    "print(data)"
   ]
  },
  {
   "cell_type": "markdown",
   "id": "b71ddcc7",
   "metadata": {},
   "source": [
    "### 2.5、离散化和分箱"
   ]
  },
  {
   "cell_type": "code",
   "execution_count": 2,
   "id": "d4478782",
   "metadata": {},
   "outputs": [
    {
     "name": "stdout",
     "output_type": "stream",
     "text": [
      "[NaN, (18.0, 25.0], (18.0, 25.0], (18.0, 25.0], (25.0, 35.0], ..., (25, 35], (60, 100], (35, 60], (35, 60], (25, 35]]\n",
      "Length: 13\n",
      "Categories (4, interval[int64, right]): [(18, 25] < (25, 35] < (35, 60] < (60, 100]]\n"
     ]
    },
    {
     "data": {
      "text/plain": [
       "'\\n返回的是ages中的每一个值所处的分区\\nbins中即所要划分的分区：(18,25],(25,35],(35,60],(65,100]\\n'"
      ]
     },
     "execution_count": 2,
     "metadata": {},
     "output_type": "execute_result"
    }
   ],
   "source": [
    "#连续值的离散化，或者分成几个部分，可以使用cut函数\n",
    "ages=[18,20,22,25,27,21,23,37,31,61,45,41,32]\n",
    "bins=[18,25,35,60,100]\n",
    "cats=pd.cut(ages,bins)\n",
    "print(cats)\n",
    "'''\n",
    "返回的是ages中的每一个值所处的分区\n",
    "bins中即所要划分的分区：(18,25],(25,35],(35,60],(65,100].这些范围含左不含右，因此第一个18给出的分区为NaN\n",
    "'''"
   ]
  },
  {
   "cell_type": "code",
   "execution_count": null,
   "id": "f0718186",
   "metadata": {},
   "outputs": [],
   "source": []
  }
 ],
 "metadata": {
  "kernelspec": {
   "display_name": "Python 3 (ipykernel)",
   "language": "python",
   "name": "python3"
  },
  "language_info": {
   "codemirror_mode": {
    "name": "ipython",
    "version": 3
   },
   "file_extension": ".py",
   "mimetype": "text/x-python",
   "name": "python",
   "nbconvert_exporter": "python",
   "pygments_lexer": "ipython3",
   "version": "3.11.4"
  }
 },
 "nbformat": 4,
 "nbformat_minor": 5
}
