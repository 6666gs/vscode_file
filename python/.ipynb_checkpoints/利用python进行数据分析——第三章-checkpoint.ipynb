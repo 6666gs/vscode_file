{
 "cells": [
  {
   "cell_type": "markdown",
   "id": "cb926e94",
   "metadata": {},
   "source": [
    "# 数据结构、函数和文件"
   ]
  },
  {
   "cell_type": "markdown",
   "id": "01112cfa",
   "metadata": {},
   "source": [
    "## 1、数据结构"
   ]
  },
  {
   "cell_type": "markdown",
   "id": "bfe95faa",
   "metadata": {},
   "source": [
    "### 1.1 元组tuple"
   ]
  },
  {
   "cell_type": "code",
   "execution_count": 10,
   "id": "8c1137b8",
   "metadata": {},
   "outputs": [
    {
     "name": "stdout",
     "output_type": "stream",
     "text": [
      "(4, 5, 6)\n",
      "((4, 5, 6), (4, 5, 6))\n",
      "(1, 2, 3)\n",
      "('s', 't', 'r', 'i', 'n', 'g')\n",
      "4\n",
      "(4, 5, 6, (4, 5, 6), (4, 5, 6), 1, 2, 3)\n",
      "(4, 5, 6, 4, 5, 6, 4, 5, 6)\n"
     ]
    }
   ],
   "source": [
    "#元组tuple\n",
    "tup_1=4,5,6\n",
    "tup_2=(4,5,6),tup_1\n",
    "tup_3=tuple([1,2,3])\n",
    "tup_4=tuple('string')\n",
    "print(tup_1,tup_2,tup_3,tup_4,tup_1[0],sep='\\n')   #python中的序列索引从0开始\n",
    "print(tup_1+tup_2+tup_3)  #元组可以相加\n",
    "print(tup_1*3)  #甚至可以乘倍数"
   ]
  },
  {
   "cell_type": "code",
   "execution_count": 5,
   "id": "222d0eb7",
   "metadata": {},
   "outputs": [
    {
     "ename": "TypeError",
     "evalue": "'tuple' object does not support item assignment",
     "output_type": "error",
     "traceback": [
      "\u001b[1;31m---------------------------------------------------------------------------\u001b[0m",
      "\u001b[1;31mTypeError\u001b[0m                                 Traceback (most recent call last)",
      "Cell \u001b[1;32mIn[5], line 1\u001b[0m\n\u001b[1;32m----> 1\u001b[0m tup_1[\u001b[38;5;241m0\u001b[39m]\u001b[38;5;241m=\u001b[39m\u001b[38;5;241m6\u001b[39m\n",
      "\u001b[1;31mTypeError\u001b[0m: 'tuple' object does not support item assignment"
     ]
    }
   ],
   "source": [
    "tup_1[0]=6  #元组中数据无法改变"
   ]
  },
  {
   "cell_type": "code",
   "execution_count": 6,
   "id": "b4eca56c",
   "metadata": {},
   "outputs": [
    {
     "name": "stdout",
     "output_type": "stream",
     "text": [
      "([4, 5, 6], (4, 5, 6))\n",
      "([4, 5, 6, 7], (4, 5, 6))\n"
     ]
    }
   ],
   "source": [
    "tup_5=[4,5,6],tup_1  #但元组内可变元素仍然可以改变\n",
    "print(tup_5)\n",
    "tup_5[0].append(7)\n",
    "print(tup_5)"
   ]
  },
  {
   "cell_type": "code",
   "execution_count": 18,
   "id": "78b51cd7",
   "metadata": {},
   "outputs": [
    {
     "name": "stdout",
     "output_type": "stream",
     "text": [
      "4,,,5,,,6\n",
      "1,,,2,,,3,,,4,,,5\n",
      "5,,,4\n",
      "a is 1,b is 2,c is 3\n",
      "a is 4,b is 5,c is 6\n",
      "a is 7,b is 8,c is 9\n",
      "1,,,2,,,[3, 4, 5]\n",
      "3\n"
     ]
    }
   ],
   "source": [
    "a,b,c=tup_1  #元组可以轻松地拆包\n",
    "print(a,b,c,sep=',,,')\n",
    "tup_6=1,2,3,(4,5)\n",
    "d,e,f,(g,h)=tup_6  #其内部也可以拆包\n",
    "print(d,e,f,g,h,sep=',,,')\n",
    "b,a=a,b   #利用这个功能可以方便地交换变量的值\n",
    "print(a,b,sep=',,,')\n",
    "\n",
    "seq=[(1,2,3),(4,5,6),(7,8,9)]\n",
    "for a,b,c in seq:\n",
    "    print('a is {0},b is {1},c is {2}'.format(a,b,c))  #字符串格式化\n",
    "    \n",
    "    \n",
    "#一种更加神奇的拆包\n",
    "values=1,2,3,4,5\n",
    "a,b,*rest=values       #用*rest来拆到剩余任意长度的变量，rest可以是任意名字\n",
    "print(a,b,rest,sep=',,,')\n",
    "\n",
    "\n",
    "#元组的方法\n",
    "value=1,2,2,2,3,4\n",
    "print(value.count(2))  #用于计算元组中出现某个值的次数"
   ]
  },
  {
   "cell_type": "markdown",
   "id": "465ee62d",
   "metadata": {},
   "source": [
    "### 1.2 列表list"
   ]
  },
  {
   "cell_type": "code",
   "execution_count": 27,
   "id": "5dfd5ec5",
   "metadata": {},
   "outputs": [
    {
     "name": "stdout",
     "output_type": "stream",
     "text": [
      "[2, 3, 4, None]...[1, 2, 3]\n",
      "[100, 3, 4, None]\n"
     ]
    }
   ],
   "source": [
    "list_1=[2,3,4,None]\n",
    "list_2=list((1,2,3))\n",
    "print(list_1,list_2,sep='...')\n",
    "list_1[0]=100   #list可以修改其内部元素\n",
    "print(list_1)"
   ]
  },
  {
   "cell_type": "code",
   "execution_count": 28,
   "id": "8c4d5965",
   "metadata": {},
   "outputs": [
    {
     "name": "stdout",
     "output_type": "stream",
     "text": [
      "[100, 'red', 3, 4, None, 'string']\n",
      "['red', 3, 4, None, 'string']\n",
      "[3, 4, None, 'string', 'red']\n",
      "[3, 4, None, 'string']\n"
     ]
    }
   ],
   "source": [
    "#list的一些方法\n",
    "list_1.append('string')  #在末尾加入元素\n",
    "list_1.insert(1,'red')   #在指定的位置插入     消耗时间相比append大得多\n",
    "print(list_1)\n",
    "\n",
    "list_1.pop(0)   #弹出指定位置的元素\n",
    "print(list_1)\n",
    "\n",
    "list_1.append('red')\n",
    "list_2=list_1\n",
    "list_1.remove('red')  #消除第一个出现的指定元素\n",
    "print(list_1)\n",
    "\n",
    "while 'red' in list_2:  #在列表中用in检查某个值是否存在十分浪费时间，相比字典、集合\n",
    "    list_2.remove('red')  \n",
    "print(list_2)\n"
   ]
  },
  {
   "cell_type": "code",
   "execution_count": 30,
   "id": "a5dbf7f7",
   "metadata": {},
   "outputs": [
    {
     "name": "stdout",
     "output_type": "stream",
     "text": [
      "[1, 2, 3, 2, 3, 4]\n",
      "None\n",
      "[1, 2, 3, 2, 3, 4]\n"
     ]
    }
   ],
   "source": [
    "#列表的连接\n",
    "list_1=[1,2,3]\n",
    "list_2=[2,3,4]\n",
    "print(list_1+list_2,list_1.extend(list_2),sep='\\n')  #extend不返回值\n",
    "print(list_1)\n",
    "\n",
    "#用+连接比extend更慢，+还需要建立新列表"
   ]
  },
  {
   "cell_type": "code",
   "execution_count": 2,
   "id": "4455022b",
   "metadata": {},
   "outputs": [
    {
     "name": "stdout",
     "output_type": "stream",
     "text": [
      "[1, 2, 4, 5, 7, 8]\n",
      "['He', 'saw', 'six', 'small', 'foxes']\n",
      "4\n",
      "[1, 2, 2, 2, 3, 4, 6, 7]\n"
     ]
    }
   ],
   "source": [
    "#列表的排序\n",
    "a=[4,5,7,1,2,8]\n",
    "a.sort()\n",
    "print(a)\n",
    "b=['saw','small','He','foxes','six']\n",
    "b.sort(key=len)  #key传递进一个参数，指定由字符串的长度进行排序\n",
    "print(b)\n",
    "\n",
    "import bisect    #bisect实现了二分搜索和已排序列表的插值。。。。注意，已排序列表\n",
    "c=[1,2,2,2,3,4,7]\n",
    "print(bisect.bisect(c,2))   #给出了元素2在已排序列表c中应插入的位置\n",
    "bisect.insort(c,6)    #插入元素6到其应该插入的位置\n",
    "print(c)"
   ]
  },
  {
   "cell_type": "code",
   "execution_count": 6,
   "id": "58c0646e",
   "metadata": {},
   "outputs": [
    {
     "name": "stdout",
     "output_type": "stream",
     "text": [
      "[4, 1, 6]\n",
      "[2, 4, 1, 4, 4, 4, 3, 2]\n",
      "[2, 4, 1, 4, 4]...[4, 4, 3, 2]...[1, 4, 4, 4]\n",
      "[2, 1, 4, 3]...[2, 3, 4, 4, 4, 1, 4, 2]\n"
     ]
    }
   ],
   "source": [
    "#列表的切片\n",
    "a=[2,4,1,6,4,3,2]\n",
    "print(a[1:4])   #切片中，索引首被包含，尾数不被包含\n",
    "a[3:4]=[4,4]\n",
    "print(a)\n",
    "print(a[:5],a[-4:],a[-6:-2],sep='...')   #索引负数表示从序列尾部开始索引，绝对值小的索引元素被包含\n",
    "print(a[::2],a[::-1],sep='...')    #a[::2]表示每隔2个数，选取一个值；a[::-1]表示将顺序倒过来。"
   ]
  },
  {
   "cell_type": "markdown",
   "id": "017f1b80",
   "metadata": {},
   "source": [
    "### 1.3 内建序列函数"
   ]
  },
  {
   "cell_type": "code",
   "execution_count": 7,
   "id": "cb33037a",
   "metadata": {},
   "outputs": [
    {
     "name": "stdout",
     "output_type": "stream",
     "text": [
      "{'foo': 0, 'bar': 1, 'baz': 2}\n"
     ]
    }
   ],
   "source": [
    "#enumerate可以返回一个序列，序列由(i,value)组成，i为元素索引，value为元素值\n",
    "list_1=['foo','bar','baz']\n",
    "mapping={}\n",
    "for i,v in enumerate(list_1):\n",
    "    mapping[v]=i\n",
    "print(mapping)"
   ]
  },
  {
   "cell_type": "code",
   "execution_count": 9,
   "id": "e2caa7ff",
   "metadata": {},
   "outputs": [
    {
     "name": "stdout",
     "output_type": "stream",
     "text": [
      "[0, 1, 4, 5, 7, 8, 9]\n",
      "[' ', 'a', 'c', 'e', 'e', 'h', 'o', 'r', 'r', 's']\n"
     ]
    }
   ],
   "source": [
    "#sorted与list的实例sort类似，但是可以给任意序列排序\n",
    "a=[1,9,8,7,0,4,5]\n",
    "print(sorted(a))\n",
    "str='horse race'\n",
    "print(sorted(str))"
   ]
  },
  {
   "cell_type": "code",
   "execution_count": 17,
   "id": "808b2c0c",
   "metadata": {},
   "outputs": [
    {
     "name": "stdout",
     "output_type": "stream",
     "text": [
      "<zip object at 0x000002540B141440>\n",
      "<zip object at 0x000002540B141440>\n",
      "[('foo', 'one'), ('bar', 'two'), ('baz', 'three')]\n",
      "[('foo', 'one', 'true'), ('bar', 'two', 'false')]\n",
      "0:foo,one\n",
      "1:bar,two\n",
      "2:baz,three\n",
      "('Nolan', 'Roger', 'Schilling')\n",
      "('Ryan', 'Clemens', 'Curt')\n",
      "('Nolan', 'Ryan') ('Roger', 'Clemens') ('Schilling', 'Curt')\n"
     ]
    }
   ],
   "source": [
    "#zip可以将不同序列的元素配对，新建一个由元组组成的序列\n",
    "seq1=['foo','bar','baz']\n",
    "seq2=['one','two','three']\n",
    "seq3=('true','false')\n",
    "print(zip(seq1,seq2))\n",
    "print(zip(seq1,seq2,seq3))\n",
    "print(list(zip(seq1,seq2)))   #生成后还需要用list转换为列表\n",
    "print(list(zip(seq1,seq2,seq3)))  #zip可以配对n个序列，可以处理任意长度，生成的列表长度由最短的序列决定\n",
    "\n",
    "for i,(a,b) in enumerate(zip(seq1,seq2)):\n",
    "    print('{0}:{1},{2}'.format(i,a,b))\n",
    "    \n",
    "#另外zip还可以拆分已配对的序列\n",
    "pitchers=[('Nolan','Ryan'),('Roger','Clemens'),('Schilling','Curt')]\n",
    "first_names,last_names=zip(*pitchers)  #实际上，* 就是访问了pitchers的内部元素\n",
    "print(first_names,last_names,sep='\\n')\n",
    "print(*pitchers)"
   ]
  },
  {
   "cell_type": "code",
   "execution_count": 19,
   "id": "9d2fabfc",
   "metadata": {},
   "outputs": [
    {
     "name": "stdout",
     "output_type": "stream",
     "text": [
      "<list_reverseiterator object at 0x000002540B0E9E40>\n",
      "[9, 8, 7, 6, 5, 4, 3, 2, 1, 0]\n"
     ]
    }
   ],
   "source": [
    "#reversed将序列的元素倒序排列,返回的是一个序列，需要再变为list\n",
    "print(reversed(list(range(10))))\n",
    "print(list(reversed(range(10))))"
   ]
  },
  {
   "cell_type": "markdown",
   "id": "b2c07cde",
   "metadata": {},
   "source": [
    "### 1.4 字典dict"
   ]
  },
  {
   "cell_type": "code",
   "execution_count": 53,
   "id": "c1b05cea",
   "metadata": {},
   "outputs": [
    {
     "name": "stdout",
     "output_type": "stream",
     "text": [
      "{'a': 'some value', 'b': [1, 2, 3, 4]}\n",
      "{'a': 'some value', 'b': [1, 2, 3, 4], 'str': [1, 2, 3]}\n",
      "{'a': 'some value', 'b': [1, 2, 3, 4], 'str': [2, 3, 4]}\n",
      "True False\n"
     ]
    }
   ],
   "source": [
    "#dict更为常用的名字是哈希表或关联数组\n",
    "empty_dict={}\n",
    "dict_1={'a':'some value','b':[1,2,3,4]}\n",
    "print(dict_1)\n",
    "dict_1['str']=[1,2,3]\n",
    "print(dict_1)\n",
    "dict_1['str']=[2,3,4]  #字典的键是唯一的，只能被覆盖，不会有相同的键\n",
    "print(dict_1)\n",
    "\n",
    "print(('b'in dict_1),('[1,2,3,4]'in dict_1)) #可以用in来检查键，而无法检查其值"
   ]
  },
  {
   "cell_type": "code",
   "execution_count": 40,
   "id": "c47f9d0c",
   "metadata": {},
   "outputs": [
    {
     "name": "stdout",
     "output_type": "stream",
     "text": [
      "{'a': 'some value', 'b': [1, 2, 3, 4], 'str': [1, 2, 3], 5: 'some value'}\n",
      "{'a': 'some value', 'b': [1, 2, 3, 4], 'str': [1, 2, 3]}\n",
      "[1, 2, 3].....{'a': 'some value', 'b': [1, 2, 3, 4]}\n",
      "\n",
      "['a', 'b'].....['some value', [1, 2, 3, 4]]\n",
      "\n",
      "None\n",
      "{'a': 'some value', 'b': 'btyu', 'c': [1, 3, 5, 7]}\n"
     ]
    }
   ],
   "source": [
    "#可以用del或pop删除其键，pop会返回键对应的值.........del是关键字，pop是字典对象的方法\n",
    "dict_1[5]='some value'\n",
    "print(dict_1)\n",
    "del dict_1[5]\n",
    "print(dict_1)\n",
    "print(dict_1.pop('str'),dict_1,sep='.....')\n",
    "\n",
    "#keys和values方法可以分别返回字典的键、值\n",
    "print('')\n",
    "print(list(dict_1.keys()),list(dict_1.values()),sep='.....')\n",
    "\n",
    "#update方法可以将两个字典合并\n",
    "dict_2={'b':'btyu','c':[1,3,5,7]}\n",
    "print('')\n",
    "print(dict_1.update(dict_2))      #update不返回值\n",
    "print(dict_1)   #合并时，原本有的键冲突时，其值将被覆盖掉"
   ]
  },
  {
   "cell_type": "code",
   "execution_count": 41,
   "id": "450e29e3",
   "metadata": {},
   "outputs": [
    {
     "name": "stdout",
     "output_type": "stream",
     "text": [
      "{1: 'str', 3: 10, 5: 'rty'}\n",
      "\n",
      "{1: 'str', 3: 10, 5: 'rty'}\n"
     ]
    }
   ],
   "source": [
    "#由序列生成字典的方法\n",
    "key_list=[1,3,5]\n",
    "value_list=['str',10,'rty']\n",
    "mapping={}\n",
    "for key,value in zip(key_list,value_list):\n",
    "    mapping[key]=value\n",
    "print(mapping)    \n",
    "print('')\n",
    "\n",
    "#或者\n",
    "mapping=dict(zip(key_list,value_list))\n",
    "print(mapping)"
   ]
  },
  {
   "cell_type": "code",
   "execution_count": 50,
   "id": "d7c0d871",
   "metadata": {},
   "outputs": [
    {
     "name": "stdout",
     "output_type": "stream",
     "text": [
      "some value\n",
      "[12, 3]\n",
      "None\n",
      "\n",
      "{'a': ['apple', 'atom'], 'b': ['bat', 'bar', 'book']}\n"
     ]
    }
   ],
   "source": [
    "#字典的默认值方法\n",
    "#value=some_dict.get(key,default_value)\n",
    "value=dict_1.get('a',[12,3])  #这个方法首先查找字典中是否存在key，若存在则返回对应的值，若不存在则返回默认值\n",
    "print(value)                  \n",
    "value=dict_1.get('d',[12,3])\n",
    "print(value)\n",
    "value=dict_1.get('d')         #若查找的key不是字典中的键，且没有默认值，将返回None\n",
    "print(value)\n",
    "\n",
    "print('')\n",
    "#some_dict.setdefault(key,default_value)\n",
    "words=['apple','bat','bar','atom','book']\n",
    "by_letter={}\n",
    "for word in words:\n",
    "    letter=word[0]\n",
    "    by_letter.setdefault(letter,[]).append(word)  #在字典中查找key，若不存在，则插入key:default_value，并返回default_value\n",
    "print(by_letter)"
   ]
  },
  {
   "cell_type": "code",
   "execution_count": 51,
   "id": "d5dca0e6",
   "metadata": {},
   "outputs": [
    {
     "name": "stdout",
     "output_type": "stream",
     "text": [
      "2962955895289069452\n"
     ]
    },
    {
     "ename": "TypeError",
     "evalue": "unhashable type: 'list'",
     "output_type": "error",
     "traceback": [
      "\u001b[1;31m---------------------------------------------------------------------------\u001b[0m",
      "\u001b[1;31mTypeError\u001b[0m                                 Traceback (most recent call last)",
      "Cell \u001b[1;32mIn[51], line 4\u001b[0m\n\u001b[0;32m      1\u001b[0m \u001b[38;5;66;03m#字典的值可以是任何类型，但键必须为不可变的，如标量和元组（元组内的对象也必须不可变）\u001b[39;00m\n\u001b[0;32m      2\u001b[0m \u001b[38;5;66;03m#通过hash()来判断是否可以哈希化，即作为一个键\u001b[39;00m\n\u001b[0;32m      3\u001b[0m \u001b[38;5;28mprint\u001b[39m(\u001b[38;5;28mhash\u001b[39m(\u001b[38;5;124m'\u001b[39m\u001b[38;5;124mstring\u001b[39m\u001b[38;5;124m'\u001b[39m))\n\u001b[1;32m----> 4\u001b[0m \u001b[38;5;28mprint\u001b[39m(\u001b[38;5;28mhash\u001b[39m([\u001b[38;5;241m1\u001b[39m,\u001b[38;5;241m2\u001b[39m,\u001b[38;5;241m3\u001b[39m]))\n",
      "\u001b[1;31mTypeError\u001b[0m: unhashable type: 'list'"
     ]
    }
   ],
   "source": [
    "#字典的值可以是任何类型，但键必须为不可变的，如标量和元组（元组内的对象也必须不可变）\n",
    "#通过hash()来判断是否可以哈希化，即作为一个键\n",
    "print(hash('string'))\n",
    "print(hash([1,2,3]))"
   ]
  },
  {
   "cell_type": "code",
   "execution_count": 52,
   "id": "509a4e75",
   "metadata": {},
   "outputs": [
    {
     "ename": "TypeError",
     "evalue": "unhashable type: 'list'",
     "output_type": "error",
     "traceback": [
      "\u001b[1;31m---------------------------------------------------------------------------\u001b[0m",
      "\u001b[1;31mTypeError\u001b[0m                                 Traceback (most recent call last)",
      "Cell \u001b[1;32mIn[52], line 1\u001b[0m\n\u001b[1;32m----> 1\u001b[0m \u001b[38;5;28mprint\u001b[39m(\u001b[38;5;28mhash\u001b[39m((\u001b[38;5;241m1\u001b[39m,\u001b[38;5;241m2\u001b[39m,\u001b[38;5;241m3\u001b[39m,[\u001b[38;5;241m1\u001b[39m,\u001b[38;5;241m2\u001b[39m])))\n",
      "\u001b[1;31mTypeError\u001b[0m: unhashable type: 'list'"
     ]
    }
   ],
   "source": [
    "print(hash((1,2,3,[1,2])))"
   ]
  },
  {
   "cell_type": "markdown",
   "id": "1ab89346",
   "metadata": {},
   "source": [
    "### 1.5 集合set"
   ]
  },
  {
   "cell_type": "code",
   "execution_count": 54,
   "id": "99d7488b",
   "metadata": {},
   "outputs": [
    {
     "name": "stdout",
     "output_type": "stream",
     "text": [
      "{1, 2, 3}...{2, 3, 4, 5, 6}\n"
     ]
    }
   ],
   "source": [
    "#集合无序，且元素唯一，与字典类似，但有键无值\n",
    "set_1=set([2,2,2,1,3,3])\n",
    "set_2={2,2,3,3,4,5,6}\n",
    "print(set_1,set_2,sep='...')"
   ]
  },
  {
   "cell_type": "code",
   "execution_count": 55,
   "id": "eb41e733",
   "metadata": {},
   "outputs": [
    {
     "name": "stdout",
     "output_type": "stream",
     "text": [
      "{2, 3}....{1, 2, 3, 4, 5, 6}\n"
     ]
    }
   ],
   "source": [
    "#集合可以完成一系列数学上的集合操作\n",
    "print(set_1&set_2,set_1|set_2,sep='....')"
   ]
  },
  {
   "cell_type": "code",
   "execution_count": 56,
   "id": "cc7a3e82",
   "metadata": {},
   "outputs": [
    {
     "name": "stdout",
     "output_type": "stream",
     "text": [
      "True.....True\n"
     ]
    }
   ],
   "source": [
    "#检查一个集合是否是别的集合的子集或超集\n",
    "print(set_1.issubset({1,2,3,4}),set_1.issuperset({1,2}),sep='.....')"
   ]
  },
  {
   "cell_type": "markdown",
   "id": "25d76c59",
   "metadata": {},
   "source": [
    "### 1.6 列表、集合、字典的推导式"
   ]
  },
  {
   "cell_type": "code",
   "execution_count": 1,
   "id": "67d03f53",
   "metadata": {},
   "outputs": [
    {
     "name": "stdout",
     "output_type": "stream",
     "text": [
      "['BAT', 'CAR', 'DOVE', 'PYTHON']\n"
     ]
    }
   ],
   "source": [
    "#列表推导式\n",
    "'''\n",
    "指一种利用过滤器生成新列表的简明表达式\n",
    "[expr for val in collection if condition]   \n",
    "等价于\n",
    "result=[]\n",
    "for val in collection:\n",
    "    if condition:\n",
    "        result.append(expr)\n",
    "'''\n",
    "strings=['a','as','bat','car','dove','python']\n",
    "result=[x.upper() for x in strings if len(x)>2]\n",
    "'''\n",
    "等价于\n",
    "result=[]\n",
    "for x in strings:\n",
    "    if len(x)>2:\n",
    "        result.append(x.upper())\n",
    "'''\n",
    "print(result)"
   ]
  },
  {
   "cell_type": "code",
   "execution_count": 3,
   "id": "dec4bcff",
   "metadata": {},
   "outputs": [
    {
     "name": "stdout",
     "output_type": "stream",
     "text": [
      "{2: 7, 3: 4, 4: 6, 5: 4}\n"
     ]
    }
   ],
   "source": [
    "#字典推导式\n",
    "'''\n",
    "dict_comp={key_expr:value_expr for value in collection if condition}\n",
    "'''\n",
    "numbers=[1,2,7,4,6,4]\n",
    "dict_1={i:value for i,value in enumerate(numbers) if value >2}\n",
    "print(dict_1)"
   ]
  },
  {
   "cell_type": "code",
   "execution_count": 5,
   "id": "bee09ba6",
   "metadata": {},
   "outputs": [],
   "source": [
    "#集合推导式\n",
    "'''\n",
    "set_comp={expr for value in collection if condition}\n",
    "'''\n",
    "pass"
   ]
  },
  {
   "cell_type": "code",
   "execution_count": 8,
   "id": "3f7a47f0",
   "metadata": {},
   "outputs": [
    {
     "name": "stdout",
     "output_type": "stream",
     "text": [
      "['Steven'].....['Steven']\n",
      "[1, 2, 3, 4, 5, 6, 7, 8, 9]\n",
      "[[1, 2, 3], [4, 5, 6], [7, 8, 9]]\n"
     ]
    }
   ],
   "source": [
    "#也存在着嵌套推导式\n",
    "all_data=[['John','Emily','Michael','Mary','Steven'],['Maria','Juan','Javier','Natalia','Pilar']]\n",
    "names_interest=[]\n",
    "for names in all_data:\n",
    "    enough_es=[name for name in names if name.count('e')>=2]\n",
    "    names_interest.extend(enough_es)\n",
    "    \n",
    "'''\n",
    "等价于\n",
    "'''\n",
    "result=[name for names in all_data for name in names if name.count('e')>=2]  #嵌套推导式中for的顺序应该与基本的for循环中的一致\n",
    "\n",
    "print(names_interest,result,sep='.....')\n",
    "\n",
    "some_tuples=[(1,2,3),(4,5,6),(7,8,9)]\n",
    "result_1=[x for tuples in some_tuples for x in tuples]\n",
    "result_2=[[x for x in tuples] for tuples in some_tuples]   #注意，这两种的结果是不一样的\n",
    "print(result_1,result_2,sep='\\n')"
   ]
  },
  {
   "cell_type": "markdown",
   "id": "10346c4d",
   "metadata": {},
   "source": [
    "## 2、函数"
   ]
  },
  {
   "cell_type": "code",
   "execution_count": 9,
   "id": "9d6c7d44",
   "metadata": {},
   "outputs": [],
   "source": [
    "#一个函数定义示例\n",
    "def my_function(x,y,z=1.5):\n",
    "    if z>1:\n",
    "        return z*(x+y)\n",
    "    else:\n",
    "        return z/(x+y)\n",
    "    \n",
    "'''\n",
    "若无return，则返回None\n",
    "z为关键字参数，其指定了默认值，关键字参数需要在位置参数后(位置参数就是没有默认值)\n",
    "调用时，my_function(5,6,z=0.7) 或 my_function(10,20) 或my_function(y=6,z=7,x=9)\n",
    "'''\n",
    "\n",
    "#在函数内部，用global定义全局变量，这时候，该变量就使用了全局空间\n",
    "def global_try():\n",
    "    global a"
   ]
  },
  {
   "cell_type": "markdown",
   "id": "c8071833",
   "metadata": {},
   "source": [
    "### 1.3函数是对象"
   ]
  },
  {
   "cell_type": "code",
   "execution_count": 10,
   "id": "d2ff9192",
   "metadata": {},
   "outputs": [
    {
     "name": "stdout",
     "output_type": "stream",
     "text": [
      "['Alabama', 'Georgia', 'Georgia', 'Georgia', 'Florida', 'South   Carolina', 'West  Virginia']\n"
     ]
    }
   ],
   "source": [
    "#规范处理一系列字符串的程序示例\n",
    "states=['   Alabama  ','Georgia!','Georgia','georgia','FlOrIda','south   carolina##','West  virginia?']\n",
    "import re\n",
    "\n",
    "def clean_strings(strings):\n",
    "    result=[]\n",
    "    for value in strings:\n",
    "        value=value.strip()              #去除字符串中前置与后置的空格\n",
    "        value=re.sub('[!#?]','',value)   #用''来代替[!#?]符号\n",
    "        value=value.title()              #字符串首字母大写\n",
    "        result.append(value)\n",
    "    return result\n",
    "\n",
    "cle_states=clean_strings(states);\n",
    "print(cle_states)"
   ]
  },
  {
   "cell_type": "code",
   "execution_count": 13,
   "id": "52423830",
   "metadata": {},
   "outputs": [
    {
     "name": "stdout",
     "output_type": "stream",
     "text": [
      "['Alabama', 'Georgia', 'Georgia', 'Georgia', 'Florida', 'South   Carolina', 'West  Virginia']\n"
     ]
    }
   ],
   "source": [
    "#而由于函数是对象，因此可以换一种更加丝滑的书写方式\n",
    "def remove_punctuation(value):\n",
    "    return re.sub('[!#?]','',value)\n",
    "\n",
    "def clean_strings(strings,ops):\n",
    "    result=[]\n",
    "    for value in strings:\n",
    "        for function in ops:\n",
    "            value=function(value)\n",
    "        result.append(value)\n",
    "    return result\n",
    "\n",
    "clean_ops=[str.strip,remove_punctuation,str.title]\n",
    "states_cle=clean_strings(states,clean_ops)\n",
    "print(states_cle)"
   ]
  },
  {
   "cell_type": "code",
   "execution_count": 20,
   "id": "509b8313",
   "metadata": {},
   "outputs": [
    {
     "name": "stdout",
     "output_type": "stream",
     "text": [
      "['Alabama', 'Georgia', 'Georgia', 'Georgia', 'Florida', 'South   Carolina', 'West  Virginia']\n"
     ]
    }
   ],
   "source": [
    "state_temp=states\n",
    "for ops in clean_ops:\n",
    "    state_temp=map(ops,state_temp)    #map(function,value)对value用function依次计算，最后得到一个map对象\n",
    "states_cle=list(state_temp)\n",
    "print(states_cle)"
   ]
  },
  {
   "cell_type": "markdown",
   "id": "7ff81320",
   "metadata": {},
   "source": [
    "### 1.4、匿名函数"
   ]
  },
  {
   "cell_type": "code",
   "execution_count": 22,
   "id": "553a9619",
   "metadata": {},
   "outputs": [
    {
     "name": "stdout",
     "output_type": "stream",
     "text": [
      "['aaaa', 'foo', 'abab', 'bar', 'card']\n"
     ]
    }
   ],
   "source": [
    "#匿名函数是用单个语句生成函数的方式，用lambda定义\n",
    "def short_function(x):\n",
    "    return x *2\n",
    "\n",
    "'''等价于'''\n",
    "\n",
    "equiv_anon=lambda x: x*2  #意思类似于，设置了一个f(x)函数，值为x*2\n",
    "\n",
    "#另一个粒子\n",
    "strings=['foo','card','bar','aaaa','abab']\n",
    "strings.sort(key=lambda x:len(set(list(x))))\n",
    "print(strings)"
   ]
  },
  {
   "cell_type": "markdown",
   "id": "706a5ceb",
   "metadata": {},
   "source": [
    "### 1.5、柯里化"
   ]
  },
  {
   "cell_type": "code",
   "execution_count": 28,
   "id": "dc3730dc",
   "metadata": {},
   "outputs": [],
   "source": [
    "#也就是已知函数中一些参数取定值从而衍生出新的函数\n",
    "def add_numbers(x,y):\n",
    "    return x+y\n",
    "\n",
    "add_five=lambda x:add_numbers(x,5)\n",
    "\n",
    "'''也等价于'''\n",
    "from functools import partial\n",
    "add_five=partial(add_numbers,5)"
   ]
  },
  {
   "cell_type": "markdown",
   "id": "baf8d652",
   "metadata": {},
   "source": [
    "### 1.6、生成器"
   ]
  },
  {
   "cell_type": "code",
   "execution_count": 58,
   "id": "9db7a868",
   "metadata": {},
   "outputs": [
    {
     "data": {
      "text/plain": [
       "'\\n由测试结果可以发现：\\n1.生成器赋给参数时生成器中代码不运行\\n'"
      ]
     },
     "execution_count": 58,
     "metadata": {},
     "output_type": "execute_result"
    }
   ],
   "source": [
    "#生成器是构建可遍历对象的一种方式，普通函数执行时一次返回单个结果，而生成器只在访问时生成一个结果便暂停，直到下一个访问\n",
    "def squares(n=10):\n",
    "    print('Generating squares')\n",
    "    for i in range(1,n+1):\n",
    "        print('in',end=',')\n",
    "        yield i**2          #生成器的返回用yield表示\n",
    "        \n",
    "gen=squares()\n",
    "gen=squares()\n",
    "\n",
    "'''\n",
    "由测试结果可以发现：\n",
    "1.生成器赋给参数时生成器中代码不运行\n",
    "'''"
   ]
  },
  {
   "cell_type": "code",
   "execution_count": 68,
   "id": "ac97179b",
   "metadata": {},
   "outputs": [
    {
     "name": "stdout",
     "output_type": "stream",
     "text": [
      "Generating squares\n",
      "in,1\n",
      "in,4\n",
      "in,9\n",
      "in,in,25\n",
      "in,36\n",
      "in,49\n",
      "in,64\n",
      "in,81\n",
      "in,100\n"
     ]
    },
    {
     "data": {
      "text/plain": [
       "\"\\n由测试结果可以发现：\\n2.生成器每次访问其中元素时将进去进行访问，代码将只运行一遍\\n3.第二个for循环中时，判断x==16？时，已经输出了'in'，之后运行到产生结果，才会进行判断，判断过后跳过，进入下一个循环。\\n\""
      ]
     },
     "execution_count": 68,
     "metadata": {},
     "output_type": "execute_result"
    }
   ],
   "source": [
    "gen=squares()\n",
    "for x in gen:\n",
    "    print(x)\n",
    "    if x == 4:\n",
    "        break\n",
    "for x in gen:\n",
    "    if x == 16:\n",
    "        continue\n",
    "    print(x)\n",
    "for x in gen:\n",
    "    print(x)\n",
    "'''\n",
    "由测试结果可以发现：\n",
    "2.生成器每次访问其中元素时将进去进行访问，代码将只运行一遍\n",
    "3.第二个for循环中时，判断x==16？时，已经输出了'in'，之后运行到产生结果，才会进行判断，判断过后跳过，进入下一个循环。\n",
    "4.一个生成器只能运行一遍，之后就不再运行了。\n",
    "'''"
   ]
  },
  {
   "cell_type": "code",
   "execution_count": 69,
   "id": "17e99343",
   "metadata": {},
   "outputs": [
    {
     "name": "stdout",
     "output_type": "stream",
     "text": [
      "Generating squares\n",
      "in,1\n",
      "in,4\n",
      "in,in,in,in,in,in,in,in,380\n"
     ]
    }
   ],
   "source": [
    "gen=squares()\n",
    "for x in gen:\n",
    "    print(x)\n",
    "    if x == 4:\n",
    "        break\n",
    "print(sum(gen))\n",
    "\n",
    "'''\n",
    "由测试结果可以发现：\n",
    "5.生成器中的代码就运行一遍，生成器序列用于其他函数进行计算时，生成器中的如打印函数还是会自动运行的\n",
    "'''"
   ]
  },
  {
   "cell_type": "code",
   "execution_count": 57,
   "id": "e5d6c0d9",
   "metadata": {},
   "outputs": [
    {
     "name": "stdout",
     "output_type": "stream",
     "text": [
      "Generating squares\n",
      "Generating squares\n",
      "1\n"
     ]
    }
   ],
   "source": [
    "#与正常函数的对比\n",
    "def squares(n=10):\n",
    "    print('Generating squares')\n",
    "    for i in range(1,n+1):\n",
    "        return i**2          #生成器的返回用yield表示\n",
    "        \n",
    "gen=squares()\n",
    "gen=squares()\n",
    "print(gen)         #正常的函数，在遇到第一个return时就会返回"
   ]
  },
  {
   "cell_type": "code",
   "execution_count": 70,
   "id": "4c2786d1",
   "metadata": {},
   "outputs": [],
   "source": [
    "#生成器表达式\n",
    "gen=(x**2 for x in range(100))  #与列表推导式类似"
   ]
  },
  {
   "cell_type": "code",
   "execution_count": 85,
   "id": "a58e2851",
   "metadata": {},
   "outputs": [
    {
     "name": "stdout",
     "output_type": "stream",
     "text": [
      "A <itertools._grouper object at 0x000002208F0FC850>\n",
      "W <itertools._grouper object at 0x000002208EE78550>\n",
      "A <itertools._grouper object at 0x000002208EE2E7A0>\n",
      "W <itertools._grouper object at 0x000002208EE78550>\n",
      "A ['Alan', 'Adam']\n",
      "A []\n",
      "W ['Wes', 'Will']\n",
      "W []\n",
      "A ['Albert']\n",
      "A []\n",
      "W ['William']\n",
      "W []\n"
     ]
    }
   ],
   "source": [
    "#itertools模块，这个模块中集合了许多常用的生成器\n",
    "import itertools\n",
    "first_letter=lambda x:x[0]\n",
    "names=['Alan','Adam','Wes','Will','Albert','William']\n",
    "for letter,name in itertools.groupby(names,first_letter):   #groupby(iterable,keyfunc)将iterable放入keyfunc计算生成(key,sub-iterable)元组\n",
    "    print(letter,name)\n",
    "for letter,name in itertools.groupby(names,first_letter):   #groupby(iterable,keyfunc)将iterable放入keyfunc计算生成(key,sub-iterable)元组\n",
    "    print(letter,list(name))\n",
    "    print(letter,list(name))       #生成器特有的特点，生成一遍后就没了，无法再次调用"
   ]
  },
  {
   "cell_type": "code",
   "execution_count": null,
   "id": "5773c44d",
   "metadata": {},
   "outputs": [],
   "source": []
  }
 ],
 "metadata": {
  "kernelspec": {
   "display_name": "Python 3 (ipykernel)",
   "language": "python",
   "name": "python3"
  },
  "language_info": {
   "codemirror_mode": {
    "name": "ipython",
    "version": 3
   },
   "file_extension": ".py",
   "mimetype": "text/x-python",
   "name": "python",
   "nbconvert_exporter": "python",
   "pygments_lexer": "ipython3",
   "version": "3.11.4"
  }
 },
 "nbformat": 4,
 "nbformat_minor": 5
}
