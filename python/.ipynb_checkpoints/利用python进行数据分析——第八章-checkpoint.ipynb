{
 "cells": [
  {
   "cell_type": "markdown",
   "id": "84e05f7e",
   "metadata": {},
   "source": [
    "# 数据规整：连接、联合与重塑"
   ]
  },
  {
   "cell_type": "markdown",
   "id": "19c9213c",
   "metadata": {},
   "source": [
    "## 1、分层索引"
   ]
  },
  {
   "cell_type": "code",
   "execution_count": 1,
   "id": "e5c9acd3",
   "metadata": {},
   "outputs": [],
   "source": [
    "import numpy as np\n",
    "import pandas as pd\n",
    "pd.options.display.max_rows=10"
   ]
  },
  {
   "cell_type": "code",
   "execution_count": 15,
   "id": "b8569de3",
   "metadata": {},
   "outputs": [
    {
     "name": "stdout",
     "output_type": "stream",
     "text": [
      "1 a  1   -0.107627\n",
      "   2    0.401281\n",
      "   3    0.244178\n",
      "b  1   -1.186420\n",
      "   3   -0.431663\n",
      "c  1   -2.008233\n",
      "   2   -0.123997\n",
      "d  2    0.309056\n",
      "   3   -0.059214\n",
      "dtype: float64\n",
      "2 MultiIndex([('a', 1),\n",
      "            ('a', 2),\n",
      "            ('a', 3),\n",
      "            ('b', 1),\n",
      "            ('b', 3),\n",
      "            ('c', 1),\n",
      "            ('c', 2),\n",
      "            ('d', 2),\n",
      "            ('d', 3)],\n",
      "           )\n",
      "3 1   -1.186420\n",
      "3   -0.431663\n",
      "dtype: float64\n",
      "4 b  1   -1.186420\n",
      "   3   -0.431663\n",
      "c  1   -2.008233\n",
      "   2   -0.123997\n",
      "dtype: float64\n",
      "5 a    0.401281\n",
      "c   -0.123997\n",
      "d    0.309056\n",
      "dtype: float64\n",
      "6 -0.4316628196992452\n"
     ]
    }
   ],
   "source": [
    "'''\n",
    "即在一个轴向上可以拥有多个索引层级\n",
    "'''\n",
    "data=pd.Series(np.random.randn(9),\n",
    "               index=[['a','a','a','b','b','c','c','d','d'],\n",
    "                      [1,2,3,1,3,1,2,2,3]])\n",
    "print('1',data)\n",
    "print('2',data.index)\n",
    "print('3',data['b'])\n",
    "print('4',data['b':'c'])\n",
    "print('5',data.loc[:,2])\n",
    "print('6',data.loc['b',3])"
   ]
  },
  {
   "cell_type": "code",
   "execution_count": 16,
   "id": "0a1193b3",
   "metadata": {},
   "outputs": [
    {
     "name": "stdout",
     "output_type": "stream",
     "text": [
      "          1         2         3\n",
      "a -0.107627  0.401281  0.244178\n",
      "b -1.186420       NaN -0.431663\n",
      "c -2.008233 -0.123997       NaN\n",
      "d       NaN  0.309056 -0.059214\n",
      "a  1   -0.107627\n",
      "   2    0.401281\n",
      "   3    0.244178\n",
      "b  1   -1.186420\n",
      "   3   -0.431663\n",
      "c  1   -2.008233\n",
      "   2   -0.123997\n",
      "d  2    0.309056\n",
      "   3   -0.059214\n",
      "dtype: float64\n"
     ]
    }
   ],
   "source": [
    "#unstack方法与stack方法\n",
    "print(data.unstack())\n",
    "print(data.unstack().stack())"
   ]
  },
  {
   "cell_type": "code",
   "execution_count": null,
   "id": "d60948f4",
   "metadata": {},
   "outputs": [],
   "source": [
    "#另外DataFrame中每个轴都可以有分层索引"
   ]
  }
 ],
 "metadata": {
  "kernelspec": {
   "display_name": "Python 3 (ipykernel)",
   "language": "python",
   "name": "python3"
  },
  "language_info": {
   "codemirror_mode": {
    "name": "ipython",
    "version": 3
   },
   "file_extension": ".py",
   "mimetype": "text/x-python",
   "name": "python",
   "nbconvert_exporter": "python",
   "pygments_lexer": "ipython3",
   "version": "3.11.4"
  }
 },
 "nbformat": 4,
 "nbformat_minor": 5
}
