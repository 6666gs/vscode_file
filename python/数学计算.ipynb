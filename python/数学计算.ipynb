{
 "cells": [
  {
   "cell_type": "markdown",
   "id": "baa5d9e4-72ab-447c-a1bc-016c44d7bf1b",
   "metadata": {},
   "source": [
    "## 数学计算"
   ]
  },
  {
   "cell_type": "code",
   "execution_count": 1,
   "id": "a3e1b857-8781-4575-9ae2-2cf7ba562382",
   "metadata": {},
   "outputs": [],
   "source": [
    "import numpy as np\n",
    "import pandas as pd\n",
    "from pandas import Series,DataFrame\n",
    "import math"
   ]
  },
  {
   "cell_type": "code",
   "execution_count": 2,
   "id": "68ebaa2e-eb03-465d-9b08-85533787668a",
   "metadata": {},
   "outputs": [],
   "source": [
    "l=0.314\n",
    "r=0.1"
   ]
  },
  {
   "cell_type": "code",
   "execution_count": 3,
   "id": "828c274f-5088-4d94-8c1c-7052ee7c5980",
   "metadata": {},
   "outputs": [
    {
     "name": "stdout",
     "output_type": "stream",
     "text": [
      "17.665186201579242\n",
      "0.30345415304293577\n"
     ]
    }
   ],
   "source": [
    "theta=math.degrees(math.atan(r/l))\n",
    "print(theta)\n",
    "print(math.sin(math.radians(theta)))"
   ]
  },
  {
   "cell_type": "code",
   "execution_count": 4,
   "id": "66d7b493-f8df-4d03-87e8-753918ceb47b",
   "metadata": {},
   "outputs": [
    {
     "name": "stdout",
     "output_type": "stream",
     "text": [
      "9.787819056713978\n"
     ]
    }
   ],
   "source": [
    "print(math.asin(0.17)/math.pi*180)"
   ]
  },
  {
   "cell_type": "code",
   "execution_count": 2,
   "id": "4985c080-1c1c-4ed1-a8f4-bae0b50e891f",
   "metadata": {},
   "outputs": [
    {
     "name": "stdout",
     "output_type": "stream",
     "text": [
      "0.4898979485566358\n"
     ]
    }
   ],
   "source": [
    "n1=1.46\n",
    "n2=1.54\n",
    "print((n2**2-n1**2)**0.5)"
   ]
  },
  {
   "cell_type": "code",
   "execution_count": 9,
   "id": "c1382d80-9c54-4ca2-9836-cad76a6ed670",
   "metadata": {},
   "outputs": [
    {
     "name": "stdout",
     "output_type": "stream",
     "text": [
      "0.0007134455574603916\n"
     ]
    }
   ],
   "source": [
    "w=8e-6\n",
    "lambd=1.55e-6\n",
    "D=176e-6\n",
    "f=D*(math.pi*w/4/lambd)\n",
    "print(f)"
   ]
  },
  {
   "cell_type": "code",
   "execution_count": 6,
   "id": "24b79144-f530-4c07-833f-4ebd60b9cfd9",
   "metadata": {},
   "outputs": [
    {
     "name": "stdout",
     "output_type": "stream",
     "text": [
      "0.001\n"
     ]
    }
   ],
   "source": [
    "print(1e-3)"
   ]
  },
  {
   "cell_type": "code",
   "execution_count": null,
   "id": "aea83d94-7dc6-405c-9289-9ed8c6eb6134",
   "metadata": {},
   "outputs": [],
   "source": []
  }
 ],
 "metadata": {
  "kernelspec": {
   "display_name": "Python 3 (ipykernel)",
   "language": "python",
   "name": "python3"
  },
  "language_info": {
   "codemirror_mode": {
    "name": "ipython",
    "version": 3
   },
   "file_extension": ".py",
   "mimetype": "text/x-python",
   "name": "python",
   "nbconvert_exporter": "python",
   "pygments_lexer": "ipython3",
   "version": "3.11.5"
  }
 },
 "nbformat": 4,
 "nbformat_minor": 5
}
