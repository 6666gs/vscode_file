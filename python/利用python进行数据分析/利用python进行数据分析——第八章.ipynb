{
 "cells": [
  {
   "cell_type": "markdown",
   "id": "84e05f7e",
   "metadata": {},
   "source": [
    "# 数据规整：连接、联合与重塑"
   ]
  },
  {
   "cell_type": "markdown",
   "id": "19c9213c",
   "metadata": {},
   "source": [
    "## 1、分层索引"
   ]
  },
  {
   "cell_type": "code",
   "execution_count": 1,
   "id": "e5c9acd3",
   "metadata": {},
   "outputs": [],
   "source": [
    "import numpy as np\n",
    "import pandas as pd\n",
    "pd.options.display.max_rows=10"
   ]
  },
  {
   "cell_type": "code",
   "execution_count": 15,
   "id": "b8569de3",
   "metadata": {},
   "outputs": [
    {
     "name": "stdout",
     "output_type": "stream",
     "text": [
      "1 a  1   -0.107627\n",
      "   2    0.401281\n",
      "   3    0.244178\n",
      "b  1   -1.186420\n",
      "   3   -0.431663\n",
      "c  1   -2.008233\n",
      "   2   -0.123997\n",
      "d  2    0.309056\n",
      "   3   -0.059214\n",
      "dtype: float64\n",
      "2 MultiIndex([('a', 1),\n",
      "            ('a', 2),\n",
      "            ('a', 3),\n",
      "            ('b', 1),\n",
      "            ('b', 3),\n",
      "            ('c', 1),\n",
      "            ('c', 2),\n",
      "            ('d', 2),\n",
      "            ('d', 3)],\n",
      "           )\n",
      "3 1   -1.186420\n",
      "3   -0.431663\n",
      "dtype: float64\n",
      "4 b  1   -1.186420\n",
      "   3   -0.431663\n",
      "c  1   -2.008233\n",
      "   2   -0.123997\n",
      "dtype: float64\n",
      "5 a    0.401281\n",
      "c   -0.123997\n",
      "d    0.309056\n",
      "dtype: float64\n",
      "6 -0.4316628196992452\n"
     ]
    }
   ],
   "source": [
    "'''\n",
    "即在一个轴向上可以拥有多个索引层级\n",
    "'''\n",
    "data=pd.Series(np.random.randn(9),\n",
    "               index=[['a','a','a','b','b','c','c','d','d'],\n",
    "                      [1,2,3,1,3,1,2,2,3]])\n",
    "print('1',data)\n",
    "print('2',data.index)\n",
    "print('3',data['b'])\n",
    "print('4',data['b':'c'])\n",
    "print('5',data.loc[:,2])\n",
    "print('6',data.loc['b',3])"
   ]
  },
  {
   "cell_type": "code",
   "execution_count": 16,
   "id": "0a1193b3",
   "metadata": {},
   "outputs": [
    {
     "name": "stdout",
     "output_type": "stream",
     "text": [
      "          1         2         3\n",
      "a -0.107627  0.401281  0.244178\n",
      "b -1.186420       NaN -0.431663\n",
      "c -2.008233 -0.123997       NaN\n",
      "d       NaN  0.309056 -0.059214\n",
      "a  1   -0.107627\n",
      "   2    0.401281\n",
      "   3    0.244178\n",
      "b  1   -1.186420\n",
      "   3   -0.431663\n",
      "c  1   -2.008233\n",
      "   2   -0.123997\n",
      "d  2    0.309056\n",
      "   3   -0.059214\n",
      "dtype: float64\n"
     ]
    }
   ],
   "source": [
    "#unstack方法与stack方法\n",
    "print(data.unstack())\n",
    "print(data.unstack().stack())"
   ]
  },
  {
   "cell_type": "code",
   "execution_count": 6,
   "id": "d60948f4",
   "metadata": {},
   "outputs": [
    {
     "name": "stdout",
     "output_type": "stream",
     "text": [
      "     Ohio     Colorado\n",
      "    Green Red    Green\n",
      "a 1     0   1        2\n",
      "  2     3   4        5\n",
      "b 1     6   7        8\n",
      "  2     9  10       11\n",
      "1    0\n",
      "2    3\n",
      "Name: (Ohio, Green), dtype: int32\n",
      "state      Ohio     Colorado\n",
      "color     Green Red    Green\n",
      "key1 key2                   \n",
      "a    1        0   1        2\n",
      "     2        3   4        5\n",
      "b    1        6   7        8\n",
      "     2        9  10       11\n"
     ]
    }
   ],
   "source": [
    "#另外DataFrame中每个轴都可以有分层索引\n",
    "frame=pd.DataFrame(np.arange(12).reshape((4,3)),\n",
    "                   index=[['a','a','b','b'],[1,2,1,2]],\n",
    "                   columns=[['Ohio','Ohio','Colorado'],\n",
    "                            ['Green','Red','Green']])\n",
    "print(frame)\n",
    "print(frame.loc['a',('Ohio','Green')])\n",
    "\n",
    "\n",
    "#分层层级也有名称，属性为names\n",
    "frame.index.names=['key1','key2']\n",
    "frame.columns.names=['state','color']\n",
    "print(frame)"
   ]
  },
  {
   "cell_type": "markdown",
   "id": "3709909c",
   "metadata": {},
   "source": [
    "### 1.1、重排序和层级排序"
   ]
  },
  {
   "cell_type": "code",
   "execution_count": 14,
   "id": "ce557c5e",
   "metadata": {},
   "outputs": [
    {
     "name": "stdout",
     "output_type": "stream",
     "text": [
      "state      Ohio     Colorado\n",
      "color     Green Red    Green\n",
      "key1 key2                   \n",
      "a    1        0   1        2\n",
      "     2        3   4        5\n",
      "b    1        6   7        8\n",
      "     2        9  10       11\n",
      "state      Ohio     Colorado\n",
      "color     Green Red    Green\n",
      "key2 key1                   \n",
      "1    a        0   1        2\n",
      "2    a        3   4        5\n",
      "1    b        6   7        8\n",
      "2    b        9  10       11\n",
      "color     Green  Red    Green\n",
      "state      Ohio Ohio Colorado\n",
      "key1 key2                    \n",
      "a    1        0    1        2\n",
      "     2        3    4        5\n",
      "b    1        6    7        8\n",
      "     2        9   10       11\n"
     ]
    }
   ],
   "source": [
    "#方法swaplevel.可以交换两个层级的值\n",
    "frame=pd.DataFrame(np.arange(12).reshape((4,3)),\n",
    "                   index=[['a','a','b','b'],[1,2,1,2]],\n",
    "                   columns=[['Ohio','Ohio','Colorado'],\n",
    "                            ['Green','Red','Green']])\n",
    "frame.index.names=['key1','key2']\n",
    "frame.columns.names=['state','color']\n",
    "print(frame)\n",
    "print(frame.swaplevel('key1','key2'))\n",
    "print(frame.swaplevel('state','color',axis=1))"
   ]
  },
  {
   "cell_type": "code",
   "execution_count": 16,
   "id": "7ba13488",
   "metadata": {},
   "outputs": [
    {
     "name": "stdout",
     "output_type": "stream",
     "text": [
      "state      Ohio     Colorado\n",
      "color     Green Red    Green\n",
      "key1 key2                   \n",
      "a    1        0   1        2\n",
      "     2        3   4        5\n",
      "b    1        6   7        8\n",
      "     2        9  10       11\n",
      "state      Ohio     Colorado\n",
      "color     Green Red    Green\n",
      "key1 key2                   \n",
      "a    1        0   1        2\n",
      "b    1        6   7        8\n",
      "a    2        3   4        5\n",
      "b    2        9  10       11\n",
      "state      Ohio     Colorado\n",
      "color     Green Red    Green\n",
      "key2 key1                   \n",
      "1    a        0   1        2\n",
      "     b        6   7        8\n",
      "2    a        3   4        5\n",
      "     b        9  10       11\n"
     ]
    }
   ],
   "source": [
    "#sort_index方法。sort_index(axis=,level=)    axis指定排序的轴，默认为0轴，level指定排序的层级，默认为0级\n",
    "frame=pd.DataFrame(np.arange(12).reshape((4,3)),\n",
    "                   index=[['a','a','b','b'],[1,2,1,2]],\n",
    "                   columns=[['Ohio','Ohio','Colorado'],\n",
    "                            ['Green','Red','Green']])\n",
    "frame.index.names=['key1','key2']\n",
    "frame.columns.names=['state','color']\n",
    "print(frame)\n",
    "print(frame.sort_index(level=1))\n",
    "print(frame.swaplevel('key1','key2').sort_index(level=0))"
   ]
  },
  {
   "cell_type": "markdown",
   "id": "02d17909",
   "metadata": {},
   "source": [
    "### 1.2、按层级进行汇总统计"
   ]
  },
  {
   "cell_type": "code",
   "execution_count": 42,
   "id": "c8b9e23b",
   "metadata": {},
   "outputs": [
    {
     "name": "stdout",
     "output_type": "stream",
     "text": [
      "   a  b    c  d\n",
      "0  0  7  one  0\n",
      "1  1  6  one  1\n",
      "2  2  5  one  2\n",
      "3  3  4  two  0\n",
      "4  4  3  two  1\n",
      "5  5  2  two  2\n",
      "6  6  1  two  3\n",
      "c    d\n",
      "one  0    1\n",
      "     1    1\n",
      "     2    1\n",
      "two  0    1\n",
      "     1    1\n",
      "     2    1\n",
      "     3    1\n",
      "dtype: int64\n"
     ]
    }
   ],
   "source": [
    "#DataFrame与Series的许多汇总函数level属性，可以实现在指定层级上进行统计\n",
    "frame=pd.DataFrame({'a':range(7),'b':range(7,0,-1),\n",
    "                    'c':['one','one','one','two','two','two','two'],\n",
    "                    'd':[0,1,2,0,1,2,3]})\n",
    "print(frame)\n",
    "print(frame.groupby(['c','d']).size())"
   ]
  },
  {
   "cell_type": "markdown",
   "id": "e970cc91",
   "metadata": {},
   "source": [
    "### 1.3、使用DataFrame的列进行索引"
   ]
  },
  {
   "cell_type": "code",
   "execution_count": 34,
   "id": "ca8bf67b",
   "metadata": {},
   "outputs": [
    {
     "name": "stdout",
     "output_type": "stream",
     "text": [
      "   a  b    c  d\n",
      "0  0  7  one  0\n",
      "1  1  6  one  1\n",
      "2  2  5  one  2\n",
      "3  3  4  two  0\n",
      "4  4  3  two  1\n",
      "5  5  2  two  2\n",
      "6  6  1  two  3\n",
      "       a  b\n",
      "c   d      \n",
      "one 0  0  7\n",
      "    1  1  6\n",
      "    2  2  5\n",
      "two 0  3  4\n",
      "    1  4  3\n",
      "    2  5  2\n",
      "    3  6  1\n",
      "       a  b    c  d\n",
      "c   d              \n",
      "one 0  0  7  one  0\n",
      "    1  1  6  one  1\n",
      "    2  2  5  one  2\n",
      "two 0  3  4  two  0\n",
      "    1  4  3  two  1\n",
      "    2  5  2  two  2\n",
      "    3  6  1  two  3\n",
      "     c  d  a  b\n",
      "0  one  0  0  7\n",
      "1  one  1  1  6\n",
      "2  one  2  2  5\n",
      "3  two  0  3  4\n",
      "4  two  1  4  3\n",
      "5  two  2  5  2\n",
      "6  two  3  6  1\n"
     ]
    }
   ],
   "source": [
    "frame=pd.DataFrame({'a':range(7),'b':range(7,0,-1),\n",
    "                    'c':['one','one','one','two','two','two','two'],\n",
    "                    'd':[0,1,2,0,1,2,3]})\n",
    "print(frame)\n",
    "print(frame.set_index(['c','d']))                            #利用set_index可以将已存在的一些列作为索引\n",
    "print(frame.set_index(['c','d'],drop=False))                #drop指定为False，可以使得将被作为索引的列仍留在列表中\n",
    "print(frame.set_index(['c','d']).reset_index())              #reset_index为set_index的反向操作，可以使得索引列再次移动到数据列中"
   ]
  },
  {
   "cell_type": "markdown",
   "id": "9afb0bce",
   "metadata": {},
   "source": [
    "## 2、联合与合并数据集"
   ]
  },
  {
   "cell_type": "code",
   "execution_count": null,
   "id": "d45c406a",
   "metadata": {},
   "outputs": [],
   "source": []
  }
 ],
 "metadata": {
  "kernelspec": {
   "display_name": "Python 3 (ipykernel)",
   "language": "python",
   "name": "python3"
  },
  "language_info": {
   "codemirror_mode": {
    "name": "ipython",
    "version": 3
   },
   "file_extension": ".py",
   "mimetype": "text/x-python",
   "name": "python",
   "nbconvert_exporter": "python",
   "pygments_lexer": "ipython3",
   "version": "3.11.4"
  }
 },
 "nbformat": 4,
 "nbformat_minor": 5
}
