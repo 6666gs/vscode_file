{
 "cells": [
  {
   "cell_type": "markdown",
   "id": "3f9fe914",
   "metadata": {},
   "source": [
    "# 数据载入、存储及文件格式"
   ]
  },
  {
   "cell_type": "markdown",
   "id": "be6f663a",
   "metadata": {},
   "source": [
    "## 1、文本格式数据的读写"
   ]
  },
  {
   "cell_type": "code",
   "execution_count": 1,
   "id": "ab6f172d",
   "metadata": {},
   "outputs": [
    {
     "name": "stdout",
     "output_type": "stream",
     "text": [
      "   a   b   c   d message\n",
      "0  1   2   3   4   hello\n",
      "1  5   6   7   8   world\n",
      "2  9  10  11  12     foo\n",
      "   a   b   c   d message\n",
      "0  1   2   3   4   hello\n",
      "1  5   6   7   8   world\n",
      "2  9  10  11  12     foo\n"
     ]
    }
   ],
   "source": [
    "'''\n",
    "利用\n",
    "read_csv    分隔符默认是','      它可以自动推断读取数据的类型\n",
    "或read_table  分隔符默认是'\\t'制表符\n",
    "来读取数据\n",
    "'''\n",
    "import pandas as pd\n",
    "import numpy as np\n",
    "data=pd.read_csv('example/ex1.csv') \n",
    "print(data)                                            #读取到的数据默认认为第一行是表头行\n",
    "data1=pd.read_table('example/ex1.csv',sep=',')        #需指定分隔符为','\n",
    "print(data1)"
   ]
  },
  {
   "cell_type": "code",
   "execution_count": 32,
   "id": "0b51cf2e",
   "metadata": {},
   "outputs": [
    {
     "name": "stdout",
     "output_type": "stream",
     "text": [
      "   0   1   2   3      4\n",
      "0  1   2   3   4  hello\n",
      "1  5   6   7   8  world\n",
      "2  9  10  11  12    foo\n",
      "   a   b   c   d message\n",
      "0  1   2   3   4   hello\n",
      "1  5   6   7   8   world\n",
      "2  9  10  11  12     foo\n"
     ]
    }
   ],
   "source": [
    "#对于不带表头行的文件\n",
    "data3=pd.read_csv('example/ex2.csv',header=None)                         #指明没有表头行，默认自动分配表头\n",
    "print(data3)\n",
    "data4=pd.read_csv('example/ex2.csv',names=['a','b','c','d','message'])    #也可以自己指定\n",
    "print(data4)"
   ]
  },
  {
   "cell_type": "code",
   "execution_count": 37,
   "id": "4f445bde",
   "metadata": {},
   "outputs": [
    {
     "name": "stdout",
     "output_type": "stream",
     "text": [
      "   a   b   c   d message\n",
      "0  1   2   3   4   hello\n",
      "1  5   6   7   8   world\n",
      "2  9  10  11  12     foo\n",
      "         a   b   c   d\n",
      "message               \n",
      "hello    1   2   3   4\n",
      "world    5   6   7   8\n",
      "foo      9  10  11  12\n",
      "    a   b   c message\n",
      "d                    \n",
      "4   1   2   3   hello\n",
      "8   5   6   7   world\n",
      "12  9  10  11     foo\n"
     ]
    }
   ],
   "source": [
    "#可以使得数据中某一列值成为返回的DataFrame的索引\n",
    "names=list(data4.columns)\n",
    "data5=pd.read_csv('example/ex2.csv',names=names)\n",
    "print(data5)\n",
    "data6=pd.read_csv('example/ex2.csv',names=names,index_col='message')  #利用index_col参数\n",
    "print(data6)\n",
    "data6=pd.read_csv('example/ex2.csv',names=names,index_col=3)          #直接传入列的序号也是可以的\n",
    "print(data6)"
   ]
  },
  {
   "cell_type": "code",
   "execution_count": 39,
   "id": "c1d273ef",
   "metadata": {},
   "outputs": [
    {
     "name": "stdout",
     "output_type": "stream",
     "text": [
      "           value1  value2\n",
      "key1 key2                \n",
      "one  a          1       2\n",
      "     b          3       4\n",
      "     c          5       6\n",
      "     d          7       8\n",
      "two  a          9      10\n",
      "     b         11      12\n",
      "     c         13      14\n",
      "     d         15      16\n"
     ]
    }
   ],
   "source": [
    "#传入多个列名，可以实现分层索引\n",
    "data1=pd.read_csv('example/ex3.csv',index_col=['key1','key2'])    \n",
    "print(data1)"
   ]
  },
  {
   "cell_type": "code",
   "execution_count": 41,
   "id": "6a6f8b1d",
   "metadata": {},
   "outputs": [
    {
     "name": "stdout",
     "output_type": "stream",
     "text": [
      "            A         B         C\n",
      "aaa -0.200000 -1.026000 -0.619000\n",
      "bbb  0.927272  0.302900 -0.032600\n",
      "ccc -0.264580 -0.386314 -0.217601\n",
      "ddd -0.871800 -0.348350  1.100049\n"
     ]
    }
   ],
   "source": [
    "#当文件中利用不同数量的空格隔开时，可以将分隔符设定为'\\s+'\n",
    "data2=pd.read_csv('example/ex3.txt',sep='\\s+')\n",
    "print(data2)                                              #由于行名的数量比数据列数少一个，所以第一列被推断为索引"
   ]
  },
  {
   "cell_type": "code",
   "execution_count": 42,
   "id": "83e67e3d",
   "metadata": {},
   "outputs": [
    {
     "name": "stdout",
     "output_type": "stream",
     "text": [
      "   a   b   c   d message\n",
      "0  1   2   3   4   hello\n",
      "1  5   6   7   8   world\n",
      "2  9  10  11  12     foo\n"
     ]
    }
   ],
   "source": [
    "#skiprows可以用来跳过一些行读取\n",
    "data3=pd.read_csv('example/ex4.csv',skiprows=[0,2,3])\n",
    "print(data3)"
   ]
  },
  {
   "cell_type": "code",
   "execution_count": 46,
   "id": "7521b018",
   "metadata": {},
   "outputs": [
    {
     "name": "stdout",
     "output_type": "stream",
     "text": [
      "  something  a   b     c   d message\n",
      "0       one  1   2   3.0   4     NaN\n",
      "1       two  5   6   NaN   8   world\n",
      "2     three  9  10  11.0  12     foo\n",
      "  something    a   b     c   d message\n",
      "0       one  NaN   2   3.0   4     NaN\n",
      "1       two  5.0   6   NaN   8   world\n",
      "2     three  9.0  10  11.0  12     foo\n",
      "  something  a   b     c   d message\n",
      "0       one  1   2   3.0   4     NaN\n",
      "1       NaN  5   6   NaN   8   world\n",
      "2     three  9  10  11.0  12     NaN\n"
     ]
    }
   ],
   "source": [
    "#缺失值处理\n",
    "data4=pd.read_csv('example/ex5.csv')       #缺失的地方为NA或NULL，或直接为空，则会直接填充'NaN'\n",
    "print(data4)\n",
    "data4=pd.read_csv('example/ex5.csv',na_values=['iop',1])     #可以设定标识值，遇到标识值，同样填充'NaN'\n",
    "print(data4)\n",
    "sentinels={'message':['foo','NA'],'something':['two']}\n",
    "data4=pd.read_csv('example/ex5.csv',na_values=sentinels)     #还可以对不同行采取不同的缺失值标识\n",
    "print(data4)"
   ]
  },
  {
   "cell_type": "code",
   "execution_count": 47,
   "id": "6f27f87e",
   "metadata": {},
   "outputs": [
    {
     "data": {
      "text/plain": [
       "'\\nread_csv中有非常非常非常多可选的参数，具体看书中P170\\n'"
      ]
     },
     "execution_count": 47,
     "metadata": {},
     "output_type": "execute_result"
    }
   ],
   "source": [
    "'''\n",
    "read_csv中有非常非常非常多可选的参数，具体看书中P170\n",
    "'''"
   ]
  },
  {
   "cell_type": "markdown",
   "id": "f4bf007a",
   "metadata": {},
   "source": [
    "### 1.1、分块读入文本文件"
   ]
  },
  {
   "cell_type": "code",
   "execution_count": 48,
   "id": "e4c2ba0a",
   "metadata": {},
   "outputs": [],
   "source": [
    "pd.options.display.max_rows=10   #设置pandas的显示设置，最大显示行数为10"
   ]
  },
  {
   "cell_type": "code",
   "execution_count": 58,
   "id": "5e8fcc58",
   "metadata": {},
   "outputs": [
    {
     "name": "stdout",
     "output_type": "stream",
     "text": [
      "    a   b   c   d message\n",
      "0   1   2   3   4   hello\n",
      "1   5   6   7   8   world\n",
      "2   9  10  11  12     foo\n",
      "3  13  14  15  16     uio\n",
      "4  17  18  19  20     iop\n",
      "5  21  22  23  24     yui\n",
      "    a   b   c   d message\n",
      "0   1   2   3   4   hello\n",
      "1   5   6   7   8   world\n",
      "2   9  10  11  12     foo\n",
      "3  13  14  15  16     uio\n",
      "4  17  18  19  20     iop\n"
     ]
    }
   ],
   "source": [
    "#当只想读取一个大文件的一小部分行时，可以指明nrows\n",
    "data1=pd.read_csv('example/ex6.csv')\n",
    "print(data1)\n",
    "data1=pd.read_csv('example/ex6.csv',nrows=5)\n",
    "print(data1)"
   ]
  },
  {
   "cell_type": "code",
   "execution_count": 67,
   "id": "ee28a91b",
   "metadata": {},
   "outputs": [
    {
     "data": {
      "text/plain": [
       "<pandas.io.parsers.readers.TextFileReader at 0x26dcdafc810>"
      ]
     },
     "execution_count": 67,
     "metadata": {},
     "output_type": "execute_result"
    }
   ],
   "source": [
    "#利用chunksize分块遍历文件\n",
    "chunker=pd.read_csv('example/ex6.csv',chunksize=2)\n",
    "chunker"
   ]
  },
  {
   "cell_type": "code",
   "execution_count": 72,
   "id": "7e13208b",
   "metadata": {},
   "outputs": [
    {
     "name": "stdout",
     "output_type": "stream",
     "text": [
      "message\n",
      "foo      1.0\n",
      "hello    1.0\n",
      "iop      1.0\n",
      "uio      1.0\n",
      "world    1.0\n",
      "yui      1.0\n",
      "dtype: object\n",
      "Series([], dtype: object)\n"
     ]
    }
   ],
   "source": [
    "chunker=pd.read_csv('example/ex6.csv',chunksize=2)\n",
    "tot=pd.Series([])\n",
    "for pieces in chunker:                                                      #分块计算每块各自'message'不同信息出现的次数，再逐块相加\n",
    "    tot=tot.add(pieces['message'].value_counts(),fill_value=0)\n",
    "tot=tot.sort_values(ascending=False)\n",
    "print(tot)\n",
    "\n",
    "tot=pd.Series([])\n",
    "for pieces in chunker:\n",
    "    tot=tot.add(pieces['message'].value_counts(),fill_value=0)\n",
    "tot=tot.sort_values(ascending=False)\n",
    "print(tot)                                                                #chunker只能使用一次，类似生成器"
   ]
  },
  {
   "cell_type": "markdown",
   "id": "98ae0692",
   "metadata": {},
   "source": [
    "### 1.2、将数据写入文本格式"
   ]
  },
  {
   "cell_type": "code",
   "execution_count": 4,
   "id": "4b6464b7",
   "metadata": {},
   "outputs": [
    {
     "name": "stdout",
     "output_type": "stream",
     "text": [
      "   a   b   c   d message\n",
      "0  1   2   3   4     NaN\n",
      "1  5   6   7   8   world\n",
      "2  9  10  11  12     foo\n"
     ]
    }
   ],
   "source": [
    "data=pd.read_csv('example/ex1.csv',na_values='hello')\n",
    "print(data)"
   ]
  },
  {
   "cell_type": "code",
   "execution_count": 103,
   "id": "64ec9145",
   "metadata": {},
   "outputs": [],
   "source": [
    "#利用DataFrame的to_csv方法可以将数据默认导出为以','分隔的文件  \n",
    "data.to_csv('example/out.csv')          "
   ]
  },
  {
   "cell_type": "code",
   "execution_count": 101,
   "id": "f9954277",
   "metadata": {},
   "outputs": [
    {
     "name": "stderr",
     "output_type": "stream",
     "text": [
      "命令语法不正确。\n"
     ]
    }
   ],
   "source": [
    "!type example/ex1.csv              '''jupyter中的文件路径里,/,用来区分路径。但是windows系统的cmd里，用,\\,来区分路径'''"
   ]
  },
  {
   "cell_type": "code",
   "execution_count": 106,
   "id": "c31dcd1e",
   "metadata": {},
   "outputs": [
    {
     "name": "stdout",
     "output_type": "stream",
     "text": [
      ",a,b,c,d,message\n",
      "0,1,2,3,4,hello\n",
      "1,5,6,7,8,world\n",
      "2,9,10,11,12,foo\n"
     ]
    }
   ],
   "source": [
    "!type example\\out.csv                     #注意，导出时连索引都导出去了"
   ]
  },
  {
   "cell_type": "code",
   "execution_count": 117,
   "id": "ee0cf748",
   "metadata": {},
   "outputs": [
    {
     "name": "stdout",
     "output_type": "stream",
     "text": [
      "   Unnamed: 0  a   b   c   d message\n",
      "0           0  1   2   3   4   hello\n",
      "1           1  5   6   7   8   world\n",
      "2           2  9  10  11  12     foo\n",
      "   a   b   c   d message\n",
      "0  1   2   3   4   hello\n",
      "1  5   6   7   8   world\n",
      "2  9  10  11  12     foo\n"
     ]
    }
   ],
   "source": [
    "data1=pd.read_csv('example/out.csv')\n",
    "print(data1)\n",
    "data1=pd.read_csv('example/out.csv',index_col=0)\n",
    "print(data1)"
   ]
  },
  {
   "cell_type": "code",
   "execution_count": 5,
   "id": "9ac77e75",
   "metadata": {},
   "outputs": [
    {
     "name": "stdout",
     "output_type": "stream",
     "text": [
      "|a|b|c|d|message\r\n",
      "0|1|2|3|4|\r\n",
      "1|5|6|7|8|world\r\n",
      "2|9|10|11|12|foo\r\n"
     ]
    }
   ],
   "source": [
    "#可以改变导出时的分隔符\n",
    "import sys\n",
    "data.to_csv(sys.stdout,sep='|')               #设置分隔符为'|'。写入到sys.stdout中，即控制台打印的文本"
   ]
  },
  {
   "cell_type": "code",
   "execution_count": 7,
   "id": "064c5ac2",
   "metadata": {},
   "outputs": [
    {
     "name": "stdout",
     "output_type": "stream",
     "text": [
      ",a,b,c,d,message\r\n",
      "0,1,2,3,4,NULL\r\n",
      "1,5,6,7,8,world\r\n",
      "2,9,10,11,12,foo\r\n"
     ]
    }
   ],
   "source": [
    "#可以改变导出时的缺失值标注\n",
    "data.to_csv(sys.stdout,na_rep='NULL')        #将缺失值标注为'NULL'"
   ]
  },
  {
   "cell_type": "code",
   "execution_count": 8,
   "id": "633bf49d",
   "metadata": {},
   "outputs": [
    {
     "name": "stdout",
     "output_type": "stream",
     "text": [
      "1,2,3,4,\r\n",
      "5,6,7,8,world\r\n",
      "9,10,11,12,foo\r\n"
     ]
    }
   ],
   "source": [
    "#可以选择不导出索引或者标签\n",
    "data.to_csv(sys.stdout,index=False,header=False)"
   ]
  },
  {
   "cell_type": "code",
   "execution_count": 9,
   "id": "5ef91f6e",
   "metadata": {},
   "outputs": [
    {
     "name": "stdout",
     "output_type": "stream",
     "text": [
      "a,b,c\r\n",
      "1,2,3\r\n",
      "5,6,7\r\n",
      "9,10,11\r\n"
     ]
    }
   ],
   "source": [
    "#可以仅写入列的子集\n",
    "data.to_csv(sys.stdout,index=False,columns=['a','b','c'])"
   ]
  },
  {
   "cell_type": "code",
   "execution_count": 11,
   "id": "46cea8ab",
   "metadata": {},
   "outputs": [
    {
     "data": {
      "text/plain": [
       "DatetimeIndex(['2000-01-01', '2000-01-02', '2000-01-03', '2000-01-04',\n",
       "               '2000-01-05', '2000-01-06', '2000-01-07'],\n",
       "              dtype='datetime64[ns]', freq='D')"
      ]
     },
     "execution_count": 11,
     "metadata": {},
     "output_type": "execute_result"
    }
   ],
   "source": [
    "#Series也有to_csv方法\n",
    "dates=pd.date_range('1/1/2000',periods=7)\n",
    "dates"
   ]
  },
  {
   "cell_type": "code",
   "execution_count": 19,
   "id": "73b8e4b8",
   "metadata": {},
   "outputs": [
    {
     "name": "stdout",
     "output_type": "stream",
     "text": [
      "2000-01-01    0\n",
      "2000-01-02    1\n",
      "2000-01-03    2\n",
      "2000-01-04    3\n",
      "2000-01-05    4\n",
      "2000-01-06    5\n",
      "2000-01-07    6\n",
      "Freq: D, dtype: int32\n"
     ]
    }
   ],
   "source": [
    "ts=pd.Series(np.arange(7),index=dates)\n",
    "print(ts)\n",
    "ts.to_csv('example/out2.csv',header=False)"
   ]
  },
  {
   "cell_type": "code",
   "execution_count": 20,
   "id": "1b91ce9f",
   "metadata": {},
   "outputs": [
    {
     "name": "stdout",
     "output_type": "stream",
     "text": [
      "2000-01-01,0\n",
      "2000-01-02,1\n",
      "2000-01-03,2\n",
      "2000-01-04,3\n",
      "2000-01-05,4\n",
      "2000-01-06,5\n",
      "2000-01-07,6\n"
     ]
    }
   ],
   "source": [
    "!type example\\out2.csv"
   ]
  },
  {
   "cell_type": "markdown",
   "id": "57fdc499",
   "metadata": {},
   "source": [
    "### 1.3、使用分隔格式"
   ]
  },
  {
   "cell_type": "code",
   "execution_count": null,
   "id": "9321ea04",
   "metadata": {},
   "outputs": [],
   "source": []
  }
 ],
 "metadata": {
  "kernelspec": {
   "display_name": "Python 3 (ipykernel)",
   "language": "python",
   "name": "python3"
  },
  "language_info": {
   "codemirror_mode": {
    "name": "ipython",
    "version": 3
   },
   "file_extension": ".py",
   "mimetype": "text/x-python",
   "name": "python",
   "nbconvert_exporter": "python",
   "pygments_lexer": "ipython3",
   "version": "3.11.4"
  }
 },
 "nbformat": 4,
 "nbformat_minor": 5
}
