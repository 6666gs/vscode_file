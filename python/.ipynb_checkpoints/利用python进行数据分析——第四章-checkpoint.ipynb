{
 "cells": [
  {
   "cell_type": "markdown",
   "id": "2913f1e6",
   "metadata": {},
   "source": [
    "# NumPy"
   ]
  },
  {
   "cell_type": "markdown",
   "id": "57ceafd2",
   "metadata": {},
   "source": [
    "## 1、NumPy ndarray：多维数组对象"
   ]
  },
  {
   "cell_type": "code",
   "execution_count": 1,
   "id": "f6df04ef",
   "metadata": {},
   "outputs": [
    {
     "name": "stdout",
     "output_type": "stream",
     "text": [
      "[[ 2.2538779   1.97717457 -1.45390912]\n",
      " [ 1.39385683  0.18391206 -0.55957088]]\n",
      "(2, 3)\n",
      "float64\n"
     ]
    }
   ],
   "source": [
    "import numpy as np\n",
    "data=np.random.randn(2,3)\n",
    "print(data,data.shape,data.dtype,sep='\\n')\n",
    "\n",
    "#numpy库引入了数组类型，可以方便地进行矩阵运算\n",
    "#数组内默认数据类型为float64"
   ]
  },
  {
   "cell_type": "markdown",
   "id": "6f201c73",
   "metadata": {},
   "source": [
    "### 1.1生成ndarray"
   ]
  },
  {
   "cell_type": "code",
   "execution_count": 15,
   "id": "499af606",
   "metadata": {},
   "outputs": [
    {
     "name": "stdout",
     "output_type": "stream",
     "text": [
      "[1.  2.  3.  3.5]\n",
      "[[1.  2.  3.  3.5]\n",
      " [2.  3.  4.  4.5]]\n",
      "<class 'numpy.ndarray'>\n",
      "2\n",
      "(2, 4)\n",
      "\n",
      "\n",
      "[[[6.23042070e-307 7.56587584e-307 1.37961302e-306]\n",
      "  [6.23053614e-307 6.23053954e-307 9.34609790e-307]\n",
      "  [8.45593934e-307 9.34600963e-307 1.86921143e-306]]\n",
      "\n",
      " [[6.23061763e-307 8.90104239e-307 6.89804132e-307]\n",
      "  [1.22387805e-307 1.42418172e-306 8.06610070e-308]\n",
      "  [6.89810244e-307 1.22387550e-307 2.22522596e-306]]]\n",
      "[[0. 0. 0. 0. 0.]\n",
      " [0. 0. 0. 0. 0.]\n",
      " [0. 0. 0. 0. 0.]]\n",
      "\n",
      "\n",
      "[0 1 2 3 4 5 6 7 8 9]\n"
     ]
    }
   ],
   "source": [
    "data1=[1,2,3,3.5]\n",
    "array1=np.array(data1)\n",
    "data2=[[1,2,3,3.5],[2,3,4,4.5]]\n",
    "array2=np.array(data2)\n",
    "print(array1,array2,type(array2),array2.ndim,array2.shape,sep='\\n')   #ndarray的nidm方法返回当前数组的维度，shape返回具体的维度大小\n",
    "\n",
    "arr3=np.empty((2,3,3))   #返回指定大小的未初始化垃圾数据\n",
    "arr4=np.zeros((3,5))\n",
    "print('\\n',arr3,arr4,sep='\\n')\n",
    "\n",
    "arr5=np.arange(10)       #arange为数组版的range，返回一个数组的序列\n",
    "print('\\n',arr5,sep='\\n')"
   ]
  },
  {
   "cell_type": "markdown",
   "id": "92cd3a19",
   "metadata": {},
   "source": [
    "### 1.2、ndarray的数据类型"
   ]
  },
  {
   "cell_type": "code",
   "execution_count": 21,
   "id": "89a7a829",
   "metadata": {},
   "outputs": [
    {
     "name": "stdout",
     "output_type": "stream",
     "text": [
      "float64\n",
      "int64\n",
      "[ 1.5   2.89 -3.15  4.  ]\n",
      "[ 1  2 -3  4]\n",
      "['1.25' '5.55' '6.78']\n",
      "[1.25 5.55 6.78]\n"
     ]
    }
   ],
   "source": [
    "arr1=np.array([1.5,2.89,-3.15,4.0],dtype=np.float64)   #直接设定内部的数据类型\n",
    "print(arr1.dtype)\n",
    "int_arr1=arr1.astype(np.int64)           #利用astype可以改变数据类型\n",
    "print(int_arr1.dtype)\n",
    "print(arr1,int_arr1,sep='\\n')           #浮点数转换为整形数之后，小数部分消失\n",
    "\n",
    "arr2=np.array(['1.25','5.55','6.78'])\n",
    "float_arr2=arr2.astype(np.float64)     #还可以将具有数字含义的字符串转换为数字\n",
    "#float_arr2=arr2.astype(arr1.dtype)   同样可以\n",
    "print(arr2,float_arr2,sep='\\n')"
   ]
  },
  {
   "cell_type": "markdown",
   "id": "66cf9f9c",
   "metadata": {},
   "source": [
    "### 1.3、NumPy数组算术"
   ]
  },
  {
   "cell_type": "code",
   "execution_count": 25,
   "id": "13473dcf",
   "metadata": {},
   "outputs": [
    {
     "name": "stdout",
     "output_type": "stream",
     "text": [
      "[[1 2 3]\n",
      " [2 3 4]]\n",
      "[[2 4 6]\n",
      " [4 6 8]]\n",
      "[[ 1  4  9]\n",
      " [ 4  9 16]]\n",
      "[[1.         0.5        0.33333333]\n",
      " [0.5        0.33333333 0.25      ]]\n",
      "[[ 1  4  9]\n",
      " [ 4  9 16]]\n",
      "[[False False False]\n",
      " [False False False]]\n"
     ]
    }
   ],
   "source": [
    "#任何两个等尺寸数组之间的算术操作都是对应元素的\n",
    "arr1=np.array([[1,2,3],[2,3,4]])\n",
    "print(arr1,arr1+arr1,arr1*arr1,1/arr1,arr1**2,sep='\\n')\n",
    "arr2=np.array([[2,3,4],[4,5,6]])\n",
    "print(arr1>arr2)"
   ]
  },
  {
   "cell_type": "markdown",
   "id": "b140df39",
   "metadata": {},
   "source": [
    "### 1.4、索引与切片"
   ]
  },
  {
   "cell_type": "code",
   "execution_count": 41,
   "id": "60038d56",
   "metadata": {},
   "outputs": [
    {
     "name": "stdout",
     "output_type": "stream",
     "text": [
      "[0 1 2 3 4 5 6 7 8 9]\n",
      "[ 0  1  2  3  4 12 12 12  8  9]\n",
      "[ 0  1  2  3  4 20 20 20  8  9] [20 20 20]\n",
      "\n",
      "\n",
      "[2, 12, 12, 5]\n",
      "[2, 12, 12, 5]\n"
     ]
    }
   ],
   "source": [
    "arr1=np.arange(10)\n",
    "print(arr1)\n",
    "arr1[5:8]=12\n",
    "print(arr1)\n",
    "\n",
    "#比较独特的是数组的切片就是原数组的视图，对切片的修改会传递到原数组上\n",
    "slice_arr1=arr1[5:8]     #slice_arr1类似指向了arr1的该部分，而不是复制\n",
    "#copy_arr1=arr1[5:8].copy()   这是复制\n",
    "slice_arr1[:]=20\n",
    "print(arr1,slice_arr1)\n",
    "\n",
    "print('\\n')\n",
    "#与之相对的是列表，自动复制\n",
    "list1=[2,3,4,5]\n",
    "list1[1:3]=[12,12]\n",
    "print(list1)\n",
    "mp=list1[1:3]\n",
    "mp=[22,22]\n",
    "print(list1)"
   ]
  },
  {
   "cell_type": "code",
   "execution_count": 44,
   "id": "47b9542d",
   "metadata": {},
   "outputs": [
    {
     "name": "stdout",
     "output_type": "stream",
     "text": [
      "3\n",
      "3\n",
      "[4 5 6]\n",
      "\n",
      "\n",
      "[[2 3 4]\n",
      " [5 6 7]]\n",
      "[4 5 6]\n",
      "[[2 3]]\n"
     ]
    }
   ],
   "source": [
    "#多维数组中的索引\n",
    "arr2=np.array([[1,2,3],[4,5,6]])\n",
    "print(arr2[0,2],arr2[0][2],sep='\\n')   #两种效果相同\n",
    "print(arr2[1])\n",
    "\n",
    "arr3=np.array([[[1,2,3],[4,5,6]],[[2,3,4],[5,6,7]]])\n",
    "print('\\n',arr3[1],arr3[0,1],arr3[0,:1,1:],sep='\\n')    #切片时是一步步进行的"
   ]
  },
  {
   "cell_type": "markdown",
   "id": "4724958a",
   "metadata": {},
   "source": [
    "### 1.5、布尔索引"
   ]
  },
  {
   "cell_type": "code",
   "execution_count": 17,
   "id": "416f5d3b",
   "metadata": {},
   "outputs": [
    {
     "name": "stdout",
     "output_type": "stream",
     "text": [
      "[[-0.6008719  -0.02714554 -1.21156158 -1.12999837]\n",
      " [-0.11001841  3.28875937 -2.59946614 -1.04994963]\n",
      " [ 0.59065563  0.11076274 -0.27772756 -0.74356884]\n",
      " [-0.78287649  0.82945829 -0.72278757 -0.10127188]\n",
      " [-0.50196041  0.9233171   0.311079    0.35140152]\n",
      " [ 0.19176876  1.21821396  0.60720216  1.31797562]\n",
      " [ 1.32861849 -0.62534267 -0.67450626  2.06353861]] \n",
      "\n",
      "[ True False False  True False False False] \n",
      "\n",
      "[[-0.6008719  -0.02714554 -1.21156158 -1.12999837]\n",
      " [-0.78287649  0.82945829 -0.72278757 -0.10127188]] \n",
      "\n",
      "[[-0.11001841  3.28875937 -2.59946614 -1.04994963]\n",
      " [ 0.59065563  0.11076274 -0.27772756 -0.74356884]\n",
      " [-0.50196041  0.9233171   0.311079    0.35140152]\n",
      " [ 0.19176876  1.21821396  0.60720216  1.31797562]\n",
      " [ 1.32861849 -0.62534267 -0.67450626  2.06353861]] \n",
      "\n",
      "[[-0.11001841  3.28875937 -2.59946614 -1.04994963]\n",
      " [ 0.59065563  0.11076274 -0.27772756 -0.74356884]\n",
      " [-0.50196041  0.9233171   0.311079    0.35140152]\n",
      " [ 0.19176876  1.21821396  0.60720216  1.31797562]\n",
      " [ 1.32861849 -0.62534267 -0.67450626  2.06353861]]\n"
     ]
    }
   ],
   "source": [
    "import numpy as np\n",
    "names=np.array(['Bob','Joe','Will','Bob','Will','Joe','Joe'])\n",
    "data=np.random.randn(7,4)\n",
    "print(data,'\\n')\n",
    "print(names=='Bob','\\n')\n",
    "print(data[names=='Bob'],'\\n')      #names=='Bob'会产生布尔值数组，因此可以借此作为索引\n",
    "print(data[names!='Bob'],'\\n')\n",
    "print(data[~(names=='Bob')])"
   ]
  },
  {
   "cell_type": "code",
   "execution_count": 21,
   "id": "20344ba6",
   "metadata": {},
   "outputs": [
    {
     "name": "stdout",
     "output_type": "stream",
     "text": [
      "[[-0.6008719  -0.02714554 -1.21156158 -1.12999837]\n",
      " [-0.78287649  0.82945829 -0.72278757 -0.10127188]]\n",
      "[[-0.6008719  -0.02714554 -1.21156158 -1.12999837]\n",
      " [-0.78287649  0.82945829 -0.72278757 -0.10127188]]\n",
      "利用bool索引的数据是拷贝\n",
      "[[1. 1. 1. 1.]\n",
      " [1. 1. 1. 1.]]\n",
      "[[-0.6008719  -0.02714554 -1.21156158 -1.12999837]\n",
      " [-0.11001841  3.28875937 -2.59946614 -1.04994963]\n",
      " [ 0.59065563  0.11076274 -0.27772756 -0.74356884]\n",
      " [-0.78287649  0.82945829 -0.72278757 -0.10127188]\n",
      " [-0.50196041  0.9233171   0.311079    0.35140152]\n",
      " [ 0.19176876  1.21821396  0.60720216  1.31797562]\n",
      " [ 1.32861849 -0.62534267 -0.67450626  2.06353861]]\n",
      "利用数组分隔选取的也是拷贝\n",
      "[[1. 1. 1. 1.]\n",
      " [1. 1. 1. 1.]]\n",
      "[[-0.6008719  -0.02714554 -1.21156158 -1.12999837]\n",
      " [-0.11001841  3.28875937 -2.59946614 -1.04994963]\n",
      " [ 0.59065563  0.11076274 -0.27772756 -0.74356884]\n",
      " [-0.78287649  0.82945829 -0.72278757 -0.10127188]\n",
      " [-0.50196041  0.9233171   0.311079    0.35140152]\n",
      " [ 0.19176876  1.21821396  0.60720216  1.31797562]\n",
      " [ 1.32861849 -0.62534267 -0.67450626  2.06353861]]\n"
     ]
    }
   ],
   "source": [
    "#注意用布尔值索引，产生的不是原本数据的视图，而是拷贝\n",
    "slice_bool_data=data[names=='Bob']\n",
    "slice_data=data[[0,3],:]\n",
    "print(slice_bool_data,slice_data,sep='\\n')\n",
    "slice_bool_data[:,:]=1\n",
    "print('利用bool索引的数据是拷贝',slice_bool_data,data,sep='\\n')\n",
    "slice_data[:,:]=1\n",
    "print('利用数组分隔选取的也是拷贝',slice_data,data,sep='\\n')\n"
   ]
  },
  {
   "cell_type": "code",
   "execution_count": 22,
   "id": "081d9fdb",
   "metadata": {},
   "outputs": [
    {
     "name": "stdout",
     "output_type": "stream",
     "text": [
      "[[0.         0.         0.         0.        ]\n",
      " [0.         3.28875937 0.         0.        ]\n",
      " [0.59065563 0.11076274 0.         0.        ]\n",
      " [0.         0.82945829 0.         0.        ]\n",
      " [0.         0.9233171  0.311079   0.35140152]\n",
      " [0.19176876 1.21821396 0.60720216 1.31797562]\n",
      " [1.32861849 0.         0.         2.06353861]]\n"
     ]
    }
   ],
   "source": [
    "data[data<0]=0  #这个也是布尔值索引\n",
    "print(data)"
   ]
  },
  {
   "cell_type": "markdown",
   "id": "1e350431",
   "metadata": {},
   "source": [
    "### 1.6、神奇索引"
   ]
  },
  {
   "cell_type": "code",
   "execution_count": 31,
   "id": "c4ed48ec",
   "metadata": {},
   "outputs": [
    {
     "name": "stdout",
     "output_type": "stream",
     "text": [
      "[[0. 0. 0. 0.]\n",
      " [1. 1. 1. 1.]\n",
      " [2. 2. 2. 2.]\n",
      " [3. 3. 3. 3.]\n",
      " [4. 4. 4. 4.]\n",
      " [5. 5. 5. 5.]\n",
      " [6. 6. 6. 6.]\n",
      " [7. 7. 7. 7.]]\n",
      "\n",
      "[[3. 3. 3. 3.]\n",
      " [5. 5. 5. 5.]\n",
      " [4. 4. 4. 4.]\n",
      " [1. 1. 1. 1.]]\n",
      "\n",
      "\n",
      "[[5. 5. 5. 5.]\n",
      " [1. 1. 1. 1.]\n",
      " [6. 6. 6. 6.]\n",
      " [7. 7. 7. 7.]\n",
      " [0. 0. 0. 0.]]\n",
      "\n",
      "\n",
      "[1. 3. 5. 2.]\n"
     ]
    }
   ],
   "source": [
    "arr=np.empty((8,4))\n",
    "for i in range(8):\n",
    "    arr[i,:]=i\n",
    "print(arr,end='\\n\\n')\n",
    "print(arr[[3,5,4,1],:],'\\n',sep='\\n')        #神奇索引就是用整数数组进行索引。可以发现，顺序也是可以调换的\n",
    "print(arr[[-3,-7,-2,-1,0],:],'\\n',sep='\\n')        #负数就是倒着索引\n",
    "print(arr[[1,3,5,2],[3,2,0,1]])           #会选取两个数组组合所指向的元素\n",
    "                                           #会总是将数据复制到一个新数组中"
   ]
  },
  {
   "cell_type": "code",
   "execution_count": 33,
   "id": "413029ff",
   "metadata": {},
   "outputs": [
    {
     "name": "stdout",
     "output_type": "stream",
     "text": [
      "[[ 0  1  2  3]\n",
      " [ 4  5  6  7]\n",
      " [ 8  9 10 11]\n",
      " [12 13 14 15]\n",
      " [16 17 18 19]\n",
      " [20 21 22 23]\n",
      " [24 25 26 27]\n",
      " [28 29 30 31]]\n",
      "\n",
      "\n",
      "[[ 4  7  6  5]\n",
      " [20 23 22 21]\n",
      " [28 31 30 29]\n",
      " [ 8 11 10  9]]\n"
     ]
    }
   ],
   "source": [
    "arr=np.arange(32).reshape((8,4))\n",
    "print(arr,'\\n',arr[[1,5,7,2]][:,[0,3,2,1]],sep='\\n')        #arr[[1,5,7,2]]是选中的行，接着选取[:,[0,3,2,1]]"
   ]
  },
  {
   "cell_type": "markdown",
   "id": "c45f113e",
   "metadata": {},
   "source": [
    "### 1.7、数组转置、换轴"
   ]
  },
  {
   "cell_type": "code",
   "execution_count": 34,
   "id": "3eae3408",
   "metadata": {},
   "outputs": [
    {
     "name": "stdout",
     "output_type": "stream",
     "text": [
      "[[ 0  4  8 12 16 20 24 28]\n",
      " [ 1  5  9 13 17 21 25 29]\n",
      " [ 2  6 10 14 18 22 26 30]\n",
      " [ 3  7 11 15 19 23 27 31]]\n"
     ]
    }
   ],
   "source": [
    "#数组的转置\n",
    "print(arr.T)"
   ]
  },
  {
   "cell_type": "code",
   "execution_count": 36,
   "id": "8b029f16",
   "metadata": {},
   "outputs": [
    {
     "name": "stdout",
     "output_type": "stream",
     "text": [
      "[[2240 2352 2464 2576]\n",
      " [2352 2472 2592 2712]\n",
      " [2464 2592 2720 2848]\n",
      " [2576 2712 2848 2984]]\n",
      "[[  14   38   62   86  110  134  158  182]\n",
      " [  38  126  214  302  390  478  566  654]\n",
      " [  62  214  366  518  670  822  974 1126]\n",
      " [  86  302  518  734  950 1166 1382 1598]\n",
      " [ 110  390  670  950 1230 1510 1790 2070]\n",
      " [ 134  478  822 1166 1510 1854 2198 2542]\n",
      " [ 158  566  974 1382 1790 2198 2606 3014]\n",
      " [ 182  654 1126 1598 2070 2542 3014 3486]]\n"
     ]
    }
   ],
   "source": [
    "#矩阵乘\n",
    "print(np.dot(arr.T,arr))\n",
    "print(np.dot(arr,arr.T))"
   ]
  },
  {
   "cell_type": "code",
   "execution_count": 47,
   "id": "7ed3c38e",
   "metadata": {},
   "outputs": [
    {
     "name": "stdout",
     "output_type": "stream",
     "text": [
      "[[[ 0  1  2  3]\n",
      "  [ 4  5  6  7]]\n",
      "\n",
      " [[ 8  9 10 11]\n",
      "  [12 13 14 15]]]\n",
      "..... (2, 2, 4)\n",
      "..... (4, 2, 2)\n",
      "..... (4, 2, 2)\n",
      "..... (2, 4, 2)\n",
      "..... (2, 2, 4)\n",
      "..... (2, 4, 2)\n"
     ]
    }
   ],
   "source": [
    "#数组的高维转置\n",
    "arr=np.arange(16).reshape((2,2,4))\n",
    "print(arr)\n",
    "arr_trans=arr.transpose((1,0,2))   #即旧的第二个轴变成了第一个，第一个轴变成了第二个，第三个轴不变，1，0，2分别代表旧数组的第二、一、三个轴\n",
    "print('.....',arr_trans.shape)\n",
    "arr_trans=arr.transpose((2,1,0))\n",
    "print('.....',arr_trans.shape)\n",
    "arr_trans=arr.transpose((2,0,1))\n",
    "print('.....',arr_trans.shape)\n",
    "arr_trans=arr.transpose((1,2,0))\n",
    "print('.....',arr_trans.shape)\n",
    "arr_trans=arr.transpose((0,1,2))\n",
    "print('.....',arr_trans.shape)\n",
    "arr_trans=arr.transpose((0,2,1))\n",
    "print('.....',arr_trans.shape)"
   ]
  },
  {
   "cell_type": "code",
   "execution_count": 48,
   "id": "61e1e68a",
   "metadata": {},
   "outputs": [
    {
     "data": {
      "text/plain": [
       "array([[[ 0,  4],\n",
       "        [ 1,  5],\n",
       "        [ 2,  6],\n",
       "        [ 3,  7]],\n",
       "\n",
       "       [[ 8, 12],\n",
       "        [ 9, 13],\n",
       "        [10, 14],\n",
       "        [11, 15]]])"
      ]
     },
     "execution_count": 48,
     "metadata": {},
     "output_type": "execute_result"
    }
   ],
   "source": [
    "#swapaxes方法\n",
    "arr.swapaxes(1,2)      #接收一对轴编号，对这两个轴进行调换。注意，返回的是视图"
   ]
  },
  {
   "cell_type": "markdown",
   "id": "9d08e888",
   "metadata": {},
   "source": [
    "## 2、通用函数"
   ]
  },
  {
   "cell_type": "code",
   "execution_count": 50,
   "id": "4ae32dd7",
   "metadata": {},
   "outputs": [
    {
     "name": "stdout",
     "output_type": "stream",
     "text": [
      "[[0.         1.         1.41421356 1.73205081 2.         2.23606798\n",
      "  2.44948974 2.64575131]\n",
      " [2.82842712 3.         3.16227766 3.31662479 3.46410162 3.60555128\n",
      "  3.74165739 3.87298335]] \n",
      "\n",
      "[[1.00000000e+00 2.71828183e+00 7.38905610e+00 2.00855369e+01\n",
      "  5.45981500e+01 1.48413159e+02 4.03428793e+02 1.09663316e+03]\n",
      " [2.98095799e+03 8.10308393e+03 2.20264658e+04 5.98741417e+04\n",
      "  1.62754791e+05 4.42413392e+05 1.20260428e+06 3.26901737e+06]]\n"
     ]
    }
   ],
   "source": [
    "#通用函数，称ufunc，是对ndarry数据逐元素操作的函数。\n",
    "\n",
    "arr=np.arange(16).reshape(2,8)\n",
    "print(np.sqrt(arr),'\\n')\n",
    "print(np.exp(arr))"
   ]
  },
  {
   "cell_type": "code",
   "execution_count": 52,
   "id": "6cd12e3b",
   "metadata": {},
   "outputs": [
    {
     "name": "stdout",
     "output_type": "stream",
     "text": [
      "[ 2.20828071 -1.67689482 -1.12481404  1.64234093 -0.25654576  1.06180184\n",
      "  0.78453939]\n",
      "[ 0.20828071 -0.67689482 -0.12481404  0.64234093 -0.25654576  0.06180184\n",
      "  0.78453939]\n",
      "[ 2. -1. -1.  1. -0.  1.  0.]\n"
     ]
    }
   ],
   "source": [
    "#modf返回浮点数的小数和整数部分\n",
    "arr=np.random.randn(7)\n",
    "remainder,whole_part=np.modf(arr)\n",
    "print(arr,remainder,whole_part,sep='\\n')"
   ]
  },
  {
   "cell_type": "code",
   "execution_count": 60,
   "id": "bfff6905",
   "metadata": {},
   "outputs": [
    {
     "name": "stdout",
     "output_type": "stream",
     "text": [
      "[[ 0.  1.  2.  3.  4.  5.  6.  7.]\n",
      " [ 8.  9. 10. 11. 12. 13. 14. 15.]] \n",
      "\n",
      "[[ 0.  1.  2.  3.  4.  5.  6.  7.]\n",
      " [ 8.  9. 10. 11. 12. 13. 14. 15.]]\n",
      "[[0.         1.         1.41421356 1.73205081 2.         2.23606798\n",
      "  2.44948974 2.64575131]\n",
      " [2.82842712 3.         3.16227766 3.31662479 3.46410162 3.60555128\n",
      "  3.74165739 3.87298335]]\n"
     ]
    }
   ],
   "source": [
    "arr=np.arange(16).reshape(2,8)\n",
    "arr=arr.astype(np.float64)\n",
    "arr1=np.sqrt(arr)\n",
    "print(arr,'\\n')\n",
    "arr2=np.empty((2,8))\n",
    "arr1=np.sqrt(arr,arr2)\n",
    "print(arr,arr2,sep='\\n')        #ufunc提供一个out参数，可以将计算结果输出到out中"
   ]
  },
  {
   "cell_type": "markdown",
   "id": "7eeda550",
   "metadata": {},
   "source": [
    "## 3、面向数组编程"
   ]
  },
  {
   "cell_type": "code",
   "execution_count": null,
   "id": "02b44bd8",
   "metadata": {},
   "outputs": [],
   "source": []
  }
 ],
 "metadata": {
  "kernelspec": {
   "display_name": "Python 3 (ipykernel)",
   "language": "python",
   "name": "python3"
  },
  "language_info": {
   "codemirror_mode": {
    "name": "ipython",
    "version": 3
   },
   "file_extension": ".py",
   "mimetype": "text/x-python",
   "name": "python",
   "nbconvert_exporter": "python",
   "pygments_lexer": "ipython3",
   "version": "3.11.4"
  }
 },
 "nbformat": 4,
 "nbformat_minor": 5
}
