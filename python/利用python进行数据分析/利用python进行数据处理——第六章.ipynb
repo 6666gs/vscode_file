{
 "cells": [
  {
   "cell_type": "markdown",
   "id": "3f9fe914",
   "metadata": {},
   "source": [
    "# 数据载入、存储及文件格式"
   ]
  },
  {
   "cell_type": "markdown",
   "id": "be6f663a",
   "metadata": {},
   "source": [
    "## 1、文本格式数据的读写"
   ]
  },
  {
   "cell_type": "code",
   "execution_count": 2,
   "id": "ab6f172d",
   "metadata": {},
   "outputs": [
    {
     "name": "stdout",
     "output_type": "stream",
     "text": [
      "   a   b   c   d message\n",
      "0  1   2   3   4   hello\n",
      "1  5   6   7   8   world\n",
      "2  9  10  11  12     foo\n",
      "   a   b   c   d message\n",
      "0  1   2   3   4   hello\n",
      "1  5   6   7   8   world\n",
      "2  9  10  11  12     foo\n"
     ]
    }
   ],
   "source": [
    "'''\n",
    "利用\n",
    "read_csv    分隔符默认是','      它可以自动推断读取数据的类型\n",
    "或read_table  分隔符默认是'\\t'制表符\n",
    "来读取数据\n",
    "'''\n",
    "import pandas as pd\n",
    "import numpy as np\n",
    "pd.options.display.max_rows=10\n",
    "data=pd.read_csv('example/ex1.csv') \n",
    "print(data)                                            #读取到的数据默认认为第一行是表头行\n",
    "data1=pd.read_table('example/ex1.csv',sep=',')        #需指定分隔符为','\n",
    "print(data1)"
   ]
  },
  {
   "cell_type": "code",
   "execution_count": 32,
   "id": "0b51cf2e",
   "metadata": {},
   "outputs": [
    {
     "name": "stdout",
     "output_type": "stream",
     "text": [
      "   0   1   2   3      4\n",
      "0  1   2   3   4  hello\n",
      "1  5   6   7   8  world\n",
      "2  9  10  11  12    foo\n",
      "   a   b   c   d message\n",
      "0  1   2   3   4   hello\n",
      "1  5   6   7   8   world\n",
      "2  9  10  11  12     foo\n"
     ]
    }
   ],
   "source": [
    "#对于不带表头行的文件\n",
    "data3=pd.read_csv('example/ex2.csv',header=None)                         #指明没有表头行，默认自动分配表头\n",
    "print(data3)\n",
    "data4=pd.read_csv('example/ex2.csv',names=['a','b','c','d','message'])    #也可以自己指定\n",
    "print(data4)"
   ]
  },
  {
   "cell_type": "code",
   "execution_count": 37,
   "id": "4f445bde",
   "metadata": {},
   "outputs": [
    {
     "name": "stdout",
     "output_type": "stream",
     "text": [
      "   a   b   c   d message\n",
      "0  1   2   3   4   hello\n",
      "1  5   6   7   8   world\n",
      "2  9  10  11  12     foo\n",
      "         a   b   c   d\n",
      "message               \n",
      "hello    1   2   3   4\n",
      "world    5   6   7   8\n",
      "foo      9  10  11  12\n",
      "    a   b   c message\n",
      "d                    \n",
      "4   1   2   3   hello\n",
      "8   5   6   7   world\n",
      "12  9  10  11     foo\n"
     ]
    }
   ],
   "source": [
    "#可以使得数据中某一列值成为返回的DataFrame的索引\n",
    "names=list(data4.columns)\n",
    "data5=pd.read_csv('example/ex2.csv',names=names)\n",
    "print(data5)\n",
    "data6=pd.read_csv('example/ex2.csv',names=names,index_col='message')  #利用index_col参数\n",
    "print(data6)\n",
    "data6=pd.read_csv('example/ex2.csv',names=names,index_col=3)          #直接传入列的序号也是可以的\n",
    "print(data6)"
   ]
  },
  {
   "cell_type": "code",
   "execution_count": 39,
   "id": "c1d273ef",
   "metadata": {},
   "outputs": [
    {
     "name": "stdout",
     "output_type": "stream",
     "text": [
      "           value1  value2\n",
      "key1 key2                \n",
      "one  a          1       2\n",
      "     b          3       4\n",
      "     c          5       6\n",
      "     d          7       8\n",
      "two  a          9      10\n",
      "     b         11      12\n",
      "     c         13      14\n",
      "     d         15      16\n"
     ]
    }
   ],
   "source": [
    "#传入多个列名，可以实现分层索引\n",
    "data1=pd.read_csv('example/ex3.csv',index_col=['key1','key2'])    \n",
    "print(data1)"
   ]
  },
  {
   "cell_type": "code",
   "execution_count": 41,
   "id": "6a6f8b1d",
   "metadata": {},
   "outputs": [
    {
     "name": "stdout",
     "output_type": "stream",
     "text": [
      "            A         B         C\n",
      "aaa -0.200000 -1.026000 -0.619000\n",
      "bbb  0.927272  0.302900 -0.032600\n",
      "ccc -0.264580 -0.386314 -0.217601\n",
      "ddd -0.871800 -0.348350  1.100049\n"
     ]
    }
   ],
   "source": [
    "#当文件中利用不同数量的空格隔开时，可以将分隔符设定为'\\s+'\n",
    "data2=pd.read_csv('example/ex3.txt',sep='\\s+')\n",
    "print(data2)                                              #由于行名的数量比数据列数少一个，所以第一列被推断为索引"
   ]
  },
  {
   "cell_type": "code",
   "execution_count": 42,
   "id": "83e67e3d",
   "metadata": {},
   "outputs": [
    {
     "name": "stdout",
     "output_type": "stream",
     "text": [
      "   a   b   c   d message\n",
      "0  1   2   3   4   hello\n",
      "1  5   6   7   8   world\n",
      "2  9  10  11  12     foo\n"
     ]
    }
   ],
   "source": [
    "#skiprows可以用来跳过一些行读取\n",
    "data3=pd.read_csv('example/ex4.csv',skiprows=[0,2,3])\n",
    "print(data3)"
   ]
  },
  {
   "cell_type": "code",
   "execution_count": 46,
   "id": "7521b018",
   "metadata": {},
   "outputs": [
    {
     "name": "stdout",
     "output_type": "stream",
     "text": [
      "  something  a   b     c   d message\n",
      "0       one  1   2   3.0   4     NaN\n",
      "1       two  5   6   NaN   8   world\n",
      "2     three  9  10  11.0  12     foo\n",
      "  something    a   b     c   d message\n",
      "0       one  NaN   2   3.0   4     NaN\n",
      "1       two  5.0   6   NaN   8   world\n",
      "2     three  9.0  10  11.0  12     foo\n",
      "  something  a   b     c   d message\n",
      "0       one  1   2   3.0   4     NaN\n",
      "1       NaN  5   6   NaN   8   world\n",
      "2     three  9  10  11.0  12     NaN\n"
     ]
    }
   ],
   "source": [
    "#缺失值处理\n",
    "data4=pd.read_csv('example/ex5.csv')       #缺失的地方为NA或NULL，或直接为空，则会直接填充'NaN'\n",
    "print(data4)\n",
    "data4=pd.read_csv('example/ex5.csv',na_values=['iop',1])     #可以设定标识值，遇到标识值，同样填充'NaN'\n",
    "print(data4)\n",
    "sentinels={'message':['foo','NA'],'something':['two']}\n",
    "data4=pd.read_csv('example/ex5.csv',na_values=sentinels)     #还可以对不同行采取不同的缺失值标识\n",
    "print(data4)"
   ]
  },
  {
   "cell_type": "code",
   "execution_count": 47,
   "id": "6f27f87e",
   "metadata": {},
   "outputs": [
    {
     "data": {
      "text/plain": [
       "'\\nread_csv中有非常非常非常多可选的参数，具体看书中P170\\n'"
      ]
     },
     "execution_count": 47,
     "metadata": {},
     "output_type": "execute_result"
    }
   ],
   "source": [
    "'''\n",
    "read_csv中有非常非常非常多可选的参数，具体看书中P170\n",
    "'''"
   ]
  },
  {
   "cell_type": "markdown",
   "id": "f4bf007a",
   "metadata": {},
   "source": [
    "### 1.1、分块读入文本文件"
   ]
  },
  {
   "cell_type": "code",
   "execution_count": 48,
   "id": "e4c2ba0a",
   "metadata": {},
   "outputs": [],
   "source": [
    "pd.options.display.max_rows=10   #设置pandas的显示设置，最大显示行数为10"
   ]
  },
  {
   "cell_type": "code",
   "execution_count": 58,
   "id": "5e8fcc58",
   "metadata": {},
   "outputs": [
    {
     "name": "stdout",
     "output_type": "stream",
     "text": [
      "    a   b   c   d message\n",
      "0   1   2   3   4   hello\n",
      "1   5   6   7   8   world\n",
      "2   9  10  11  12     foo\n",
      "3  13  14  15  16     uio\n",
      "4  17  18  19  20     iop\n",
      "5  21  22  23  24     yui\n",
      "    a   b   c   d message\n",
      "0   1   2   3   4   hello\n",
      "1   5   6   7   8   world\n",
      "2   9  10  11  12     foo\n",
      "3  13  14  15  16     uio\n",
      "4  17  18  19  20     iop\n"
     ]
    }
   ],
   "source": [
    "#当只想读取一个大文件的一小部分行时，可以指明nrows\n",
    "data1=pd.read_csv('example/ex6.csv')\n",
    "print(data1)\n",
    "data1=pd.read_csv('example/ex6.csv',nrows=5)\n",
    "print(data1)"
   ]
  },
  {
   "cell_type": "code",
   "execution_count": 67,
   "id": "ee28a91b",
   "metadata": {},
   "outputs": [
    {
     "data": {
      "text/plain": [
       "<pandas.io.parsers.readers.TextFileReader at 0x26dcdafc810>"
      ]
     },
     "execution_count": 67,
     "metadata": {},
     "output_type": "execute_result"
    }
   ],
   "source": [
    "#利用chunksize分块遍历文件\n",
    "chunker=pd.read_csv('example/ex6.csv',chunksize=2)\n",
    "chunker"
   ]
  },
  {
   "cell_type": "code",
   "execution_count": 72,
   "id": "7e13208b",
   "metadata": {},
   "outputs": [
    {
     "name": "stdout",
     "output_type": "stream",
     "text": [
      "message\n",
      "foo      1.0\n",
      "hello    1.0\n",
      "iop      1.0\n",
      "uio      1.0\n",
      "world    1.0\n",
      "yui      1.0\n",
      "dtype: object\n",
      "Series([], dtype: object)\n"
     ]
    }
   ],
   "source": [
    "chunker=pd.read_csv('example/ex6.csv',chunksize=2)\n",
    "tot=pd.Series([])\n",
    "for pieces in chunker:                                                      #分块计算每块各自'message'不同信息出现的次数，再逐块相加\n",
    "    tot=tot.add(pieces['message'].value_counts(),fill_value=0)\n",
    "tot=tot.sort_values(ascending=False)\n",
    "print(tot)\n",
    "\n",
    "tot=pd.Series([])\n",
    "for pieces in chunker:\n",
    "    tot=tot.add(pieces['message'].value_counts(),fill_value=0)\n",
    "tot=tot.sort_values(ascending=False)\n",
    "print(tot)                                                                #chunker只能使用一次，类似生成器"
   ]
  },
  {
   "cell_type": "markdown",
   "id": "98ae0692",
   "metadata": {},
   "source": [
    "### 1.2、将数据写入文本格式"
   ]
  },
  {
   "cell_type": "code",
   "execution_count": 4,
   "id": "4b6464b7",
   "metadata": {},
   "outputs": [
    {
     "name": "stdout",
     "output_type": "stream",
     "text": [
      "   a   b   c   d message\n",
      "0  1   2   3   4     NaN\n",
      "1  5   6   7   8   world\n",
      "2  9  10  11  12     foo\n"
     ]
    }
   ],
   "source": [
    "data=pd.read_csv('example/ex1.csv',na_values='hello')\n",
    "print(data)"
   ]
  },
  {
   "cell_type": "code",
   "execution_count": 103,
   "id": "64ec9145",
   "metadata": {},
   "outputs": [],
   "source": [
    "#利用DataFrame的to_csv方法可以将数据默认导出为以','分隔的文件  \n",
    "data.to_csv('example/out.csv')          "
   ]
  },
  {
   "cell_type": "code",
   "execution_count": 101,
   "id": "f9954277",
   "metadata": {},
   "outputs": [
    {
     "name": "stderr",
     "output_type": "stream",
     "text": [
      "命令语法不正确。\n"
     ]
    }
   ],
   "source": [
    "!type example/ex1.csv              '''jupyter中的文件路径里,/,用来区分路径。但是windows系统的cmd里，用,\\,来区分路径'''"
   ]
  },
  {
   "cell_type": "code",
   "execution_count": 106,
   "id": "c31dcd1e",
   "metadata": {},
   "outputs": [
    {
     "name": "stdout",
     "output_type": "stream",
     "text": [
      ",a,b,c,d,message\n",
      "0,1,2,3,4,hello\n",
      "1,5,6,7,8,world\n",
      "2,9,10,11,12,foo\n"
     ]
    }
   ],
   "source": [
    "!type example\\out.csv                     #注意，导出时连索引都导出去了"
   ]
  },
  {
   "cell_type": "code",
   "execution_count": 117,
   "id": "ee0cf748",
   "metadata": {},
   "outputs": [
    {
     "name": "stdout",
     "output_type": "stream",
     "text": [
      "   Unnamed: 0  a   b   c   d message\n",
      "0           0  1   2   3   4   hello\n",
      "1           1  5   6   7   8   world\n",
      "2           2  9  10  11  12     foo\n",
      "   a   b   c   d message\n",
      "0  1   2   3   4   hello\n",
      "1  5   6   7   8   world\n",
      "2  9  10  11  12     foo\n"
     ]
    }
   ],
   "source": [
    "data1=pd.read_csv('example/out.csv')\n",
    "print(data1)\n",
    "data1=pd.read_csv('example/out.csv',index_col=0)\n",
    "print(data1)"
   ]
  },
  {
   "cell_type": "code",
   "execution_count": 5,
   "id": "9ac77e75",
   "metadata": {},
   "outputs": [
    {
     "name": "stdout",
     "output_type": "stream",
     "text": [
      "|a|b|c|d|message\r\n",
      "0|1|2|3|4|\r\n",
      "1|5|6|7|8|world\r\n",
      "2|9|10|11|12|foo\r\n"
     ]
    }
   ],
   "source": [
    "#可以改变导出时的分隔符\n",
    "import sys\n",
    "data.to_csv(sys.stdout,sep='|')               #设置分隔符为'|'。写入到sys.stdout中，即控制台打印的文本"
   ]
  },
  {
   "cell_type": "code",
   "execution_count": 7,
   "id": "064c5ac2",
   "metadata": {},
   "outputs": [
    {
     "name": "stdout",
     "output_type": "stream",
     "text": [
      ",a,b,c,d,message\r\n",
      "0,1,2,3,4,NULL\r\n",
      "1,5,6,7,8,world\r\n",
      "2,9,10,11,12,foo\r\n"
     ]
    }
   ],
   "source": [
    "#可以改变导出时的缺失值标注\n",
    "data.to_csv(sys.stdout,na_rep='NULL')        #将缺失值标注为'NULL'"
   ]
  },
  {
   "cell_type": "code",
   "execution_count": 8,
   "id": "633bf49d",
   "metadata": {},
   "outputs": [
    {
     "name": "stdout",
     "output_type": "stream",
     "text": [
      "1,2,3,4,\r\n",
      "5,6,7,8,world\r\n",
      "9,10,11,12,foo\r\n"
     ]
    }
   ],
   "source": [
    "#可以选择不导出索引或者标签\n",
    "data.to_csv(sys.stdout,index=False,header=False)"
   ]
  },
  {
   "cell_type": "code",
   "execution_count": 9,
   "id": "5ef91f6e",
   "metadata": {},
   "outputs": [
    {
     "name": "stdout",
     "output_type": "stream",
     "text": [
      "a,b,c\r\n",
      "1,2,3\r\n",
      "5,6,7\r\n",
      "9,10,11\r\n"
     ]
    }
   ],
   "source": [
    "#可以仅写入列的子集\n",
    "data.to_csv(sys.stdout,index=False,columns=['a','b','c'])"
   ]
  },
  {
   "cell_type": "code",
   "execution_count": 11,
   "id": "46cea8ab",
   "metadata": {},
   "outputs": [
    {
     "data": {
      "text/plain": [
       "DatetimeIndex(['2000-01-01', '2000-01-02', '2000-01-03', '2000-01-04',\n",
       "               '2000-01-05', '2000-01-06', '2000-01-07'],\n",
       "              dtype='datetime64[ns]', freq='D')"
      ]
     },
     "execution_count": 11,
     "metadata": {},
     "output_type": "execute_result"
    }
   ],
   "source": [
    "#Series也有to_csv方法\n",
    "dates=pd.date_range('1/1/2000',periods=7)\n",
    "dates"
   ]
  },
  {
   "cell_type": "code",
   "execution_count": 19,
   "id": "73b8e4b8",
   "metadata": {},
   "outputs": [
    {
     "name": "stdout",
     "output_type": "stream",
     "text": [
      "2000-01-01    0\n",
      "2000-01-02    1\n",
      "2000-01-03    2\n",
      "2000-01-04    3\n",
      "2000-01-05    4\n",
      "2000-01-06    5\n",
      "2000-01-07    6\n",
      "Freq: D, dtype: int32\n"
     ]
    }
   ],
   "source": [
    "ts=pd.Series(np.arange(7),index=dates)\n",
    "print(ts)\n",
    "ts.to_csv('example/out2.csv',header=False)"
   ]
  },
  {
   "cell_type": "code",
   "execution_count": 20,
   "id": "1b91ce9f",
   "metadata": {},
   "outputs": [
    {
     "name": "stdout",
     "output_type": "stream",
     "text": [
      "2000-01-01,0\n",
      "2000-01-02,1\n",
      "2000-01-03,2\n",
      "2000-01-04,3\n",
      "2000-01-05,4\n",
      "2000-01-06,5\n",
      "2000-01-07,6\n"
     ]
    }
   ],
   "source": [
    "!type example\\out2.csv"
   ]
  },
  {
   "cell_type": "markdown",
   "id": "57fdc499",
   "metadata": {},
   "source": [
    "### 1.3、使用分隔格式"
   ]
  },
  {
   "cell_type": "code",
   "execution_count": 1,
   "id": "9321ea04",
   "metadata": {},
   "outputs": [
    {
     "name": "stdout",
     "output_type": "stream",
     "text": [
      "\"a\",\"b\",\"c\"\n",
      "\"1\",\"2\",\"3\"\n",
      "\"1\",\"2\",\"3\"\n"
     ]
    }
   ],
   "source": [
    "!type example\\ex7.csv"
   ]
  },
  {
   "cell_type": "code",
   "execution_count": 3,
   "id": "70198939",
   "metadata": {},
   "outputs": [
    {
     "name": "stdout",
     "output_type": "stream",
     "text": [
      "['a', 'b', 'c']\n",
      "['1', '2', '3']\n",
      "['1', '2', '3']\n"
     ]
    }
   ],
   "source": [
    "#对于任何有单字符分隔符的读取，都可以用内建csv模块读取\n",
    "import csv\n",
    "f=open('example/ex7.csv')\n",
    "reader=csv.reader(f)\n",
    "for line in reader:             #这样子读取出来的就没有引号。读取的是元组\n",
    "    print(line)\n",
    "    \n",
    "f.close()"
   ]
  },
  {
   "cell_type": "code",
   "execution_count": 5,
   "id": "5b07857a",
   "metadata": {},
   "outputs": [
    {
     "name": "stdout",
     "output_type": "stream",
     "text": [
      "{'a': ('1', '1'), 'b': ('2', '2'), 'c': ('3', '3')}\n",
      "[('1', '1'), ('2', '2'), ('3', '3')]\n"
     ]
    }
   ],
   "source": [
    "#更进一步的处理\n",
    "with open('example/ex7.csv') as f:\n",
    "    lines=list(csv.reader(f))\n",
    "header,values=lines[0],lines[1:]\n",
    "data_dict={h:v for h,v in zip(header,zip(*values))}          #zip(*values)就是深入values中，将其中几个元组进行配对\n",
    "print(data_dict)\n",
    "b=list(zip(*values))\n",
    "print(b)"
   ]
  },
  {
   "cell_type": "code",
   "execution_count": 6,
   "id": "90b5fcfc",
   "metadata": {},
   "outputs": [
    {
     "ename": "ValueError",
     "evalue": "I/O operation on closed file.",
     "output_type": "error",
     "traceback": [
      "\u001b[1;31m---------------------------------------------------------------------------\u001b[0m",
      "\u001b[1;31mValueError\u001b[0m                                Traceback (most recent call last)",
      "Cell \u001b[1;32mIn[6], line 2\u001b[0m\n\u001b[0;32m      1\u001b[0m \u001b[38;5;66;03m#csv文件有各种各样的分隔符，可以设置csv.reader中的分隔符\u001b[39;00m\n\u001b[1;32m----> 2\u001b[0m reader\u001b[38;5;241m=\u001b[39mcsv\u001b[38;5;241m.\u001b[39mreader(f,delimiter\u001b[38;5;241m=\u001b[39m\u001b[38;5;124m'\u001b[39m\u001b[38;5;124m|\u001b[39m\u001b[38;5;124m'\u001b[39m)\n",
      "\u001b[1;31mValueError\u001b[0m: I/O operation on closed file."
     ]
    }
   ],
   "source": [
    "#csv文件有各种各样的分隔符，可以设置csv.reader中的分隔符\n",
    "reader=csv.reader(f,delimiter='|')     #表明不同元素间的分隔符为|"
   ]
  },
  {
   "cell_type": "markdown",
   "id": "6ea2c763",
   "metadata": {},
   "source": [
    "### 1.4、JSON数据"
   ]
  },
  {
   "cell_type": "code",
   "execution_count": 6,
   "id": "d1017aab",
   "metadata": {},
   "outputs": [
    {
     "name": "stdout",
     "output_type": "stream",
     "text": [
      "{'name': 'Wes', 'places_lived': ['United States', 'Spain', 'Germany'], 'pet': None, 'siblings': [{'name': 'Scott', 'age': 30, 'pets': ['Zeus', 'Zuko']}, {'name': 'Katie', 'age': 38, 'pets': ['Sixes', 'Stache', 'Cisco']}]}\n",
      "<class 'dict'>\n",
      "{'name': 'Wes', 'places_lived': ['United States', 'Spain', 'Germany'], 'pet': None, 'siblings': [{'name': 'Scott', 'age': 30, 'pets': ['Zeus', 'Zuko']}, {'name': 'Katie', 'age': 38, 'pets': ['Sixes', 'Stache', 'Cisco']}]}\n",
      "<class 'dict'>\n",
      "{\"name\": \"Wes\", \"places_lived\": [\"United States\", \"Spain\", \"Germany\"], \"pet\": null, \"siblings\": [{\"name\": \"Scott\", \"age\": 30, \"pets\": [\"Zeus\", \"Zuko\"]}, {\"name\": \"Katie\", \"age\": 38, \"pets\": [\"Sixes\", \"Stache\", \"Cisco\"]}]}\n",
      "<class 'str'>\n"
     ]
    }
   ],
   "source": [
    "#使用json库来操作json数据\n",
    "import json\n",
    "with open('example/obj.json') as f:\n",
    "    result=json.load(f)\n",
    "print(result)\n",
    "print(type(result))               #利用load直接将json文件中内容读取为字典\n",
    "\n",
    "\n",
    "obj=\"\"\"\n",
    "{\n",
    "    \"name\":\"Wes\",\n",
    "    \"places_lived\":[\"United States\",\"Spain\",\"Germany\"],\n",
    "    \"pet\":null,\n",
    "    \"siblings\":[{\"name\":\"Scott\",\"age\":30,\"pets\":[\"Zeus\",\"Zuko\"]},\n",
    "                {\"name\":\"Katie\",\"age\":38,\"pets\":[\"Sixes\",\"Stache\",\"Cisco\"]}\n",
    "    ]\n",
    "}\n",
    "\"\"\"\n",
    "result=json.loads(obj)                 #loads函数是load-str，读取字符串，将json字符串转换为字典\n",
    "print(result)\n",
    "print(type(result))\n",
    "\n",
    "str1=json.dumps(result)                #dumps是dump-str，将字典转换为json字符串\n",
    "print(str1)\n",
    "print(type(str1))\n",
    "\n",
    "with open('example/obj1.json','w') as f:\n",
    "    json.dump({key:result[key] for key in result.keys() & {'name','places_lived'}},f)    #利用字典的切片，使用dump将字典对象直接输入到json文件中"
   ]
  },
  {
   "cell_type": "code",
   "execution_count": 7,
   "id": "ee6d1623",
   "metadata": {},
   "outputs": [
    {
     "name": "stdout",
     "output_type": "stream",
     "text": [
      "[\n",
      "    {\"a\":1,\"b\":2,\"c\":3},\n",
      "    {\"a\":4,\"b\":5,\"c\":6},\n",
      "    {\"a\":7,\"b\":8,\"c\":9}\n",
      "]\n"
     ]
    }
   ],
   "source": [
    "#利用panda.read_json可以将json数据集按照次序转换为Series或DataFrame。默认假设时JSON数组中每个对象都是表里的一行\n",
    "!type example\\example.json"
   ]
  },
  {
   "cell_type": "code",
   "execution_count": 8,
   "id": "c0f5d60f",
   "metadata": {},
   "outputs": [
    {
     "name": "stdout",
     "output_type": "stream",
     "text": [
      "   a  b  c\n",
      "0  1  2  3\n",
      "1  4  5  6\n",
      "2  7  8  9\n",
      "<class 'pandas.core.frame.DataFrame'>\n"
     ]
    }
   ],
   "source": [
    "data=pd.read_json('example/example.json')\n",
    "print(data)\n",
    "print(type(data))"
   ]
  },
  {
   "cell_type": "code",
   "execution_count": 9,
   "id": "f4f1efc7",
   "metadata": {},
   "outputs": [
    {
     "name": "stdout",
     "output_type": "stream",
     "text": [
      "{\"a\":{\"0\":1,\"1\":4,\"2\":7},\"b\":{\"0\":2,\"1\":5,\"2\":8},\"c\":{\"0\":3,\"1\":6,\"2\":9}}\n",
      "[{\"a\":1,\"b\":2,\"c\":3},{\"a\":4,\"b\":5,\"c\":6},{\"a\":7,\"b\":8,\"c\":9}]\n"
     ]
    }
   ],
   "source": [
    "#利用Series和DataFrame的方法to_json可以将其数据导出为json字符串格式\n",
    "print(data.to_json())\n",
    "print(data.to_json(orient='records'))"
   ]
  },
  {
   "cell_type": "markdown",
   "id": "89642328",
   "metadata": {},
   "source": [
    "### 1.5、XML和HTML：网络抓取"
   ]
  },
  {
   "cell_type": "code",
   "execution_count": 10,
   "id": "b8b23632",
   "metadata": {},
   "outputs": [
    {
     "name": "stdout",
     "output_type": "stream",
     "text": [
      "[                             Bank Name             City  ST   CERT  \\\n",
      "0                          Allied Bank         Mulberry  AR     91   \n",
      "1         The Woodbury Banking Company         Woodbury  GA  11297   \n",
      "2               First CornerStone Bank  King of Prussia  PA  35312   \n",
      "3                   Trust Company Bank          Memphis  TN   9956   \n",
      "4           North Milwaukee State Bank        Milwaukee  WI  20364   \n",
      "..                                 ...              ...  ..    ...   \n",
      "542                 Superior Bank, FSB         Hinsdale  IL  32646   \n",
      "543                Malta National Bank            Malta  OH   6629   \n",
      "544    First Alliance Bank & Trust Co.       Manchester  NH  34264   \n",
      "545  National State Bank of Metropolis       Metropolis  IL   3815   \n",
      "546                   Bank of Honolulu         Honolulu  HI  21029   \n",
      "\n",
      "                   Acquiring Institution        Closing Date  \\\n",
      "0                           Today's Bank  September 23, 2016   \n",
      "1                            United Bank     August 19, 2016   \n",
      "2    First-Citizens Bank & Trust Company         May 6, 2016   \n",
      "3             The Bank of Fayette County      April 29, 2016   \n",
      "4    First-Citizens Bank & Trust Company      March 11, 2016   \n",
      "..                                   ...                 ...   \n",
      "542                Superior Federal, FSB       July 27, 2001   \n",
      "543                    North Valley Bank         May 3, 2001   \n",
      "544  Southern New Hampshire Bank & Trust    February 2, 2001   \n",
      "545              Banterra Bank of Marion   December 14, 2000   \n",
      "546                   Bank of the Orient    October 13, 2000   \n",
      "\n",
      "          Updated Date  \n",
      "0    November 17, 2016  \n",
      "1    November 17, 2016  \n",
      "2    September 6, 2016  \n",
      "3    September 6, 2016  \n",
      "4        June 16, 2016  \n",
      "..                 ...  \n",
      "542    August 19, 2014  \n",
      "543  November 18, 2002  \n",
      "544  February 18, 2003  \n",
      "545     March 17, 2005  \n",
      "546     March 17, 2005  \n",
      "\n",
      "[547 rows x 7 columns]]\n",
      "<class 'list'>\n",
      "                             Bank Name             City  ST   CERT  \\\n",
      "0                          Allied Bank         Mulberry  AR     91   \n",
      "1         The Woodbury Banking Company         Woodbury  GA  11297   \n",
      "2               First CornerStone Bank  King of Prussia  PA  35312   \n",
      "3                   Trust Company Bank          Memphis  TN   9956   \n",
      "4           North Milwaukee State Bank        Milwaukee  WI  20364   \n",
      "..                                 ...              ...  ..    ...   \n",
      "542                 Superior Bank, FSB         Hinsdale  IL  32646   \n",
      "543                Malta National Bank            Malta  OH   6629   \n",
      "544    First Alliance Bank & Trust Co.       Manchester  NH  34264   \n",
      "545  National State Bank of Metropolis       Metropolis  IL   3815   \n",
      "546                   Bank of Honolulu         Honolulu  HI  21029   \n",
      "\n",
      "                   Acquiring Institution        Closing Date  \\\n",
      "0                           Today's Bank  September 23, 2016   \n",
      "1                            United Bank     August 19, 2016   \n",
      "2    First-Citizens Bank & Trust Company         May 6, 2016   \n",
      "3             The Bank of Fayette County      April 29, 2016   \n",
      "4    First-Citizens Bank & Trust Company      March 11, 2016   \n",
      "..                                   ...                 ...   \n",
      "542                Superior Federal, FSB       July 27, 2001   \n",
      "543                    North Valley Bank         May 3, 2001   \n",
      "544  Southern New Hampshire Bank & Trust    February 2, 2001   \n",
      "545              Banterra Bank of Marion   December 14, 2000   \n",
      "546                   Bank of the Orient    October 13, 2000   \n",
      "\n",
      "          Updated Date  \n",
      "0    November 17, 2016  \n",
      "1    November 17, 2016  \n",
      "2    September 6, 2016  \n",
      "3    September 6, 2016  \n",
      "4        June 16, 2016  \n",
      "..                 ...  \n",
      "542    August 19, 2014  \n",
      "543  November 18, 2002  \n",
      "544  February 18, 2003  \n",
      "545     March 17, 2005  \n",
      "546     March 17, 2005  \n",
      "\n",
      "[547 rows x 7 columns]\n",
      "<class 'pandas.core.frame.DataFrame'>\n"
     ]
    }
   ],
   "source": [
    "#可以利用pandas.read_html函数来进行读取，会返回<table>标签中所有的表格型数据，返回DataFrame对象的列表\n",
    "'''read_html所使用的附加库包括lxml、html5lib'''\n",
    "tables=pd.read_html('example/fdic_failed_bank_list.html')\n",
    "print(tables)\n",
    "print(type(tables))\n",
    "failures=tables[0]\n",
    "print(failures)\n",
    "print(type(failures))"
   ]
  },
  {
   "cell_type": "code",
   "execution_count": 17,
   "id": "f03fb754",
   "metadata": {},
   "outputs": [
    {
     "data": {
      "text/plain": [
       "Closing Date\n",
       "2010    157\n",
       "2009    140\n",
       "2011     92\n",
       "2012     51\n",
       "2008     25\n",
       "       ... \n",
       "2004      4\n",
       "2001      4\n",
       "2007      3\n",
       "2003      3\n",
       "2000      2\n",
       "Name: count, Length: 15, dtype: int64"
      ]
     },
     "execution_count": 17,
     "metadata": {},
     "output_type": "execute_result"
    }
   ],
   "source": [
    "#进一步的数据处理\n",
    "close_timestamps=pd.to_datetime(failures['Closing Date'])\n",
    "close_timestamps.dt.year.value_counts()          #求出来按年统计的关闭的企业数"
   ]
  },
  {
   "cell_type": "markdown",
   "id": "d1b9ae33",
   "metadata": {},
   "source": [
    "#### 1.5.1、使用lxml.objectify解析XML"
   ]
  },
  {
   "cell_type": "code",
   "execution_count": 24,
   "id": "7d3ee0e8",
   "metadata": {},
   "outputs": [
    {
     "name": "stdout",
     "output_type": "stream",
     "text": [
      "              AGENCY_NAME                        INDICATOR_NAME  \\\n",
      "0    Metro-North Railroad  On-Time Performance (West of Hudson)   \n",
      "1    Metro-North Railroad  On-Time Performance (West of Hudson)   \n",
      "2    Metro-North Railroad  On-Time Performance (West of Hudson)   \n",
      "3    Metro-North Railroad  On-Time Performance (West of Hudson)   \n",
      "4    Metro-North Railroad  On-Time Performance (West of Hudson)   \n",
      "..                    ...                                   ...   \n",
      "643  Metro-North Railroad                Escalator Availability   \n",
      "644  Metro-North Railroad                Escalator Availability   \n",
      "645  Metro-North Railroad                Escalator Availability   \n",
      "646  Metro-North Railroad                Escalator Availability   \n",
      "647  Metro-North Railroad                Escalator Availability   \n",
      "\n",
      "                                           DESCRIPTION  PERIOD_YEAR  \\\n",
      "0    Percent of commuter trains that arrive at thei...         2008   \n",
      "1    Percent of commuter trains that arrive at thei...         2008   \n",
      "2    Percent of commuter trains that arrive at thei...         2008   \n",
      "3    Percent of commuter trains that arrive at thei...         2008   \n",
      "4    Percent of commuter trains that arrive at thei...         2008   \n",
      "..                                                 ...          ...   \n",
      "643  Percent of the time that escalators are operat...         2011   \n",
      "644  Percent of the time that escalators are operat...         2011   \n",
      "645  Percent of the time that escalators are operat...         2011   \n",
      "646  Percent of the time that escalators are operat...         2011   \n",
      "647  Percent of the time that escalators are operat...         2011   \n",
      "\n",
      "     PERIOD_MONTH            CATEGORY FREQUENCY INDICATOR_UNIT YTD_TARGET  \\\n",
      "0               1  Service Indicators         M              %       95.0   \n",
      "1               2  Service Indicators         M              %       95.0   \n",
      "2               3  Service Indicators         M              %       95.0   \n",
      "3               4  Service Indicators         M              %       95.0   \n",
      "4               5  Service Indicators         M              %       95.0   \n",
      "..            ...                 ...       ...            ...        ...   \n",
      "643             8  Service Indicators         M              %       97.0   \n",
      "644             9  Service Indicators         M              %       97.0   \n",
      "645            10  Service Indicators         M              %       97.0   \n",
      "646            11  Service Indicators         M              %       97.0   \n",
      "647            12  Service Indicators         M              %       97.0   \n",
      "\n",
      "    YTD_ACTUAL MONTHLY_TARGET MONTHLY_ACTUAL  \n",
      "0         96.9           95.0           96.9  \n",
      "1         96.0           95.0           95.0  \n",
      "2         96.3           95.0           96.9  \n",
      "3         96.8           95.0           98.3  \n",
      "4         96.6           95.0           95.8  \n",
      "..         ...            ...            ...  \n",
      "643                      97.0                 \n",
      "644                      97.0                 \n",
      "645                      97.0                 \n",
      "646                      97.0                 \n",
      "647                      97.0                 \n",
      "\n",
      "[648 rows x 12 columns]\n"
     ]
    }
   ],
   "source": [
    "from lxml import objectify\n",
    "path='example/mta_perf/Performance_MNR.xml'\n",
    "parsed=objectify.parse(open(path))\n",
    "root=parsed.getroot()                     #得到文件的根节点\n",
    "\n",
    "data=[]\n",
    "skip_fields=['PARENT_SEQ','INDICATOR_SEQ','DESIRED_CHANGE','DECIMAL_PLACES']     #定义一下需要跳过的标签\n",
    "for elt in root.INDICATOR:                                                      #root_INDICATOR返回一个生成器，产生每一个<INDICATOR>XML元素\n",
    "    el_data={}\n",
    "    for child in elt.getchildren():\n",
    "        if child.tag in skip_fields:\n",
    "            continue\n",
    "        el_data[child.tag]=child.pyval\n",
    "    data.append(el_data)\n",
    "perf=pd.DataFrame(data)\n",
    "print(perf)"
   ]
  },
  {
   "cell_type": "code",
   "execution_count": 23,
   "id": "2f577f92",
   "metadata": {},
   "outputs": [
    {
     "name": "stdout",
     "output_type": "stream",
     "text": [
      "   a  b    c    d\n",
      "0  1  3  4.0  NaN\n",
      "1  2  2  NaN  1.0\n"
     ]
    }
   ],
   "source": [
    "list1=[{'a':1,'b':3,'c':4},{'b':2,'a':2,'d':1}]\n",
    "print(pd.DataFrame(list1))"
   ]
  },
  {
   "cell_type": "markdown",
   "id": "9f9041e7",
   "metadata": {},
   "source": [
    "## 2、二进制格式"
   ]
  },
  {
   "cell_type": "code",
   "execution_count": 25,
   "id": "7932a22e",
   "metadata": {},
   "outputs": [
    {
     "name": "stdout",
     "output_type": "stream",
     "text": [
      "   a   b   c   d message\n",
      "0  1   2   3   4   hello\n",
      "1  5   6   7   8   world\n",
      "2  9  10  11  12     foo\n"
     ]
    }
   ],
   "source": [
    "#到pickle格式的转换。pandas对象有一个to_pickle方法可以将数据以pickle格式写入硬盘\n",
    "frame=pd.read_csv('example/ex1.csv')\n",
    "print(frame)\n",
    "frame.to_pickle('example/frame_pickle')"
   ]
  },
  {
   "cell_type": "code",
   "execution_count": 26,
   "id": "3b1f0afb",
   "metadata": {},
   "outputs": [
    {
     "data": {
      "text/html": [
       "<div>\n",
       "<style scoped>\n",
       "    .dataframe tbody tr th:only-of-type {\n",
       "        vertical-align: middle;\n",
       "    }\n",
       "\n",
       "    .dataframe tbody tr th {\n",
       "        vertical-align: top;\n",
       "    }\n",
       "\n",
       "    .dataframe thead th {\n",
       "        text-align: right;\n",
       "    }\n",
       "</style>\n",
       "<table border=\"1\" class=\"dataframe\">\n",
       "  <thead>\n",
       "    <tr style=\"text-align: right;\">\n",
       "      <th></th>\n",
       "      <th>a</th>\n",
       "      <th>b</th>\n",
       "      <th>c</th>\n",
       "      <th>d</th>\n",
       "      <th>message</th>\n",
       "    </tr>\n",
       "  </thead>\n",
       "  <tbody>\n",
       "    <tr>\n",
       "      <th>0</th>\n",
       "      <td>1</td>\n",
       "      <td>2</td>\n",
       "      <td>3</td>\n",
       "      <td>4</td>\n",
       "      <td>hello</td>\n",
       "    </tr>\n",
       "    <tr>\n",
       "      <th>1</th>\n",
       "      <td>5</td>\n",
       "      <td>6</td>\n",
       "      <td>7</td>\n",
       "      <td>8</td>\n",
       "      <td>world</td>\n",
       "    </tr>\n",
       "    <tr>\n",
       "      <th>2</th>\n",
       "      <td>9</td>\n",
       "      <td>10</td>\n",
       "      <td>11</td>\n",
       "      <td>12</td>\n",
       "      <td>foo</td>\n",
       "    </tr>\n",
       "  </tbody>\n",
       "</table>\n",
       "</div>"
      ],
      "text/plain": [
       "   a   b   c   d message\n",
       "0  1   2   3   4   hello\n",
       "1  5   6   7   8   world\n",
       "2  9  10  11  12     foo"
      ]
     },
     "execution_count": 26,
     "metadata": {},
     "output_type": "execute_result"
    }
   ],
   "source": [
    "#使用pandas.read_pickle读取pickle文件中pickle化的对象\n",
    "pd.read_pickle('example/frame_pickle')\n",
    "'''\n",
    "但pickle仅推荐保存短期数据，因为其是底层的二进制数据，可能编译改变后，数据就变了\n",
    "'''"
   ]
  },
  {
   "cell_type": "markdown",
   "id": "5de96d4b",
   "metadata": {},
   "source": [
    "### 2.1、使用HDF5格式"
   ]
  },
  {
   "cell_type": "code",
   "execution_count": 51,
   "id": "c7ce2347",
   "metadata": {},
   "outputs": [
    {
     "name": "stdout",
     "output_type": "stream",
     "text": [
      "<class 'pandas.io.pytables.HDFStore'>\n",
      "File path: mydata.h5\n",
      "\n",
      "<class 'pandas.io.pytables.HDFStore'>\n"
     ]
    }
   ],
   "source": [
    "'''\n",
    "HDF5格式广泛用于存储大量的科学数组数据\n",
    "'''\n",
    "frame=pd.DataFrame({'a':np.random.randn(100)})\n",
    "store=pd.HDFStore('mydata.h5')                      #打开hdf5文件\n",
    "store['obj1']=frame                                 #存储DataFrame对象\n",
    "store['obj1_col']=frame['a']                        #存储Series对象\n",
    "print(store)\n",
    "print(type(store))"
   ]
  },
  {
   "cell_type": "code",
   "execution_count": 52,
   "id": "17cfcb1d",
   "metadata": {},
   "outputs": [
    {
     "data": {
      "text/plain": [
       "0    -0.741889\n",
       "1     0.576293\n",
       "2    -1.444368\n",
       "3     0.118887\n",
       "4    -0.548854\n",
       "        ...   \n",
       "95   -0.410271\n",
       "96    0.406931\n",
       "97   -1.223729\n",
       "98   -2.356708\n",
       "99    1.027278\n",
       "Name: a, Length: 100, dtype: float64"
      ]
     },
     "execution_count": 52,
     "metadata": {},
     "output_type": "execute_result"
    }
   ],
   "source": [
    "store['obj1_col']"
   ]
  },
  {
   "cell_type": "code",
   "execution_count": 53,
   "id": "65ab29ed",
   "metadata": {},
   "outputs": [
    {
     "name": "stdout",
     "output_type": "stream",
     "text": [
      "           a\n",
      "10  0.031739\n",
      "11 -1.468505\n",
      "12  0.991505\n",
      "13 -0.450978\n",
      "14  0.064991\n",
      "15  0.316152\n"
     ]
    }
   ],
   "source": [
    "store.put('obj2',frame,format='table')          #等价于store['obj2']=frame，但是还设置了存储模式为'table'，这种模式支持下面的where查找方式\n",
    "a=store.select('obj2',where=['index>=10 and index <=15'])\n",
    "print(a)\n",
    "store.close()                                   #记得关闭文件"
   ]
  },
  {
   "cell_type": "code",
   "execution_count": 54,
   "id": "cc379e98",
   "metadata": {},
   "outputs": [],
   "source": [
    "#还可以用pandas.read_hdf完成\n",
    "frame.to_hdf('mydata.h5','obj3',format='table')"
   ]
  },
  {
   "cell_type": "code",
   "execution_count": 55,
   "id": "e0e5cb5d",
   "metadata": {},
   "outputs": [
    {
     "data": {
      "text/html": [
       "<div>\n",
       "<style scoped>\n",
       "    .dataframe tbody tr th:only-of-type {\n",
       "        vertical-align: middle;\n",
       "    }\n",
       "\n",
       "    .dataframe tbody tr th {\n",
       "        vertical-align: top;\n",
       "    }\n",
       "\n",
       "    .dataframe thead th {\n",
       "        text-align: right;\n",
       "    }\n",
       "</style>\n",
       "<table border=\"1\" class=\"dataframe\">\n",
       "  <thead>\n",
       "    <tr style=\"text-align: right;\">\n",
       "      <th></th>\n",
       "      <th>a</th>\n",
       "    </tr>\n",
       "  </thead>\n",
       "  <tbody>\n",
       "    <tr>\n",
       "      <th>0</th>\n",
       "      <td>-0.741889</td>\n",
       "    </tr>\n",
       "    <tr>\n",
       "      <th>1</th>\n",
       "      <td>0.576293</td>\n",
       "    </tr>\n",
       "    <tr>\n",
       "      <th>2</th>\n",
       "      <td>-1.444368</td>\n",
       "    </tr>\n",
       "    <tr>\n",
       "      <th>3</th>\n",
       "      <td>0.118887</td>\n",
       "    </tr>\n",
       "    <tr>\n",
       "      <th>4</th>\n",
       "      <td>-0.548854</td>\n",
       "    </tr>\n",
       "  </tbody>\n",
       "</table>\n",
       "</div>"
      ],
      "text/plain": [
       "          a\n",
       "0 -0.741889\n",
       "1  0.576293\n",
       "2 -1.444368\n",
       "3  0.118887\n",
       "4 -0.548854"
      ]
     },
     "execution_count": 55,
     "metadata": {},
     "output_type": "execute_result"
    }
   ],
   "source": [
    "pd.read_hdf('mydata.h5','obj3','r+',where=['index < 5'])"
   ]
  },
  {
   "cell_type": "markdown",
   "id": "96677707",
   "metadata": {},
   "source": [
    "### 2.2、读取Microsoft Excel文件"
   ]
  },
  {
   "cell_type": "code",
   "execution_count": 57,
   "id": "400ab1d1",
   "metadata": {},
   "outputs": [
    {
     "data": {
      "text/html": [
       "<div>\n",
       "<style scoped>\n",
       "    .dataframe tbody tr th:only-of-type {\n",
       "        vertical-align: middle;\n",
       "    }\n",
       "\n",
       "    .dataframe tbody tr th {\n",
       "        vertical-align: top;\n",
       "    }\n",
       "\n",
       "    .dataframe thead th {\n",
       "        text-align: right;\n",
       "    }\n",
       "</style>\n",
       "<table border=\"1\" class=\"dataframe\">\n",
       "  <thead>\n",
       "    <tr style=\"text-align: right;\">\n",
       "      <th></th>\n",
       "      <th>a</th>\n",
       "      <th>b</th>\n",
       "      <th>c</th>\n",
       "      <th>d</th>\n",
       "      <th>message</th>\n",
       "    </tr>\n",
       "  </thead>\n",
       "  <tbody>\n",
       "    <tr>\n",
       "      <th>0</th>\n",
       "      <td>1</td>\n",
       "      <td>2</td>\n",
       "      <td>3</td>\n",
       "      <td>4</td>\n",
       "      <td>hello</td>\n",
       "    </tr>\n",
       "    <tr>\n",
       "      <th>1</th>\n",
       "      <td>5</td>\n",
       "      <td>6</td>\n",
       "      <td>7</td>\n",
       "      <td>8</td>\n",
       "      <td>world</td>\n",
       "    </tr>\n",
       "    <tr>\n",
       "      <th>2</th>\n",
       "      <td>9</td>\n",
       "      <td>10</td>\n",
       "      <td>11</td>\n",
       "      <td>12</td>\n",
       "      <td>foo</td>\n",
       "    </tr>\n",
       "  </tbody>\n",
       "</table>\n",
       "</div>"
      ],
      "text/plain": [
       "   a   b   c   d message\n",
       "0  1   2   3   4   hello\n",
       "1  5   6   7   8   world\n",
       "2  9  10  11  12     foo"
      ]
     },
     "execution_count": 57,
     "metadata": {},
     "output_type": "execute_result"
    }
   ],
   "source": [
    "#使用ExcelFile产生一个文件实例，再读取\n",
    "xlsx=pd.ExcelFile('example/ex1.xlsx')\n",
    "pd.read_excel(xlsx,'Sheet1',index_col=0)"
   ]
  },
  {
   "cell_type": "code",
   "execution_count": 59,
   "id": "e56a42f2",
   "metadata": {},
   "outputs": [
    {
     "name": "stdout",
     "output_type": "stream",
     "text": [
      "   a   b   c   d message\n",
      "0  1   2   3   4   hello\n",
      "1  5   6   7   8   world\n",
      "2  9  10  11  12     foo\n"
     ]
    }
   ],
   "source": [
    "#也可以直接用pd.read_excel读取\n",
    "frame=pd.read_excel('example/ex1.xlsx','Sheet1',index_col=0)\n",
    "print(frame)"
   ]
  },
  {
   "cell_type": "code",
   "execution_count": 62,
   "id": "024982fa",
   "metadata": {},
   "outputs": [],
   "source": [
    "#写入时先使用ExcelWriter产生一个文件实例，再写入\n",
    "writer=pd.ExcelWriter('example/ex2.xlsx')\n",
    "frame.to_excel(writer,'Sheet1')\n",
    "writer.close()"
   ]
  },
  {
   "cell_type": "code",
   "execution_count": 64,
   "id": "1198b042",
   "metadata": {},
   "outputs": [],
   "source": [
    "#也可以直接用to_excel\n",
    "frame.to_excel('example/ex2.xlsx','Sheet2')"
   ]
  },
  {
   "cell_type": "markdown",
   "id": "adb84065",
   "metadata": {},
   "source": [
    "## 3、与Web API交互"
   ]
  },
  {
   "cell_type": "code",
   "execution_count": 68,
   "id": "e23a63df",
   "metadata": {},
   "outputs": [
    {
     "name": "stdout",
     "output_type": "stream",
     "text": [
      "<class 'requests.models.Response'>\n"
     ]
    }
   ],
   "source": [
    "#利用requests包进行\n",
    "import requests\n",
    "url='https://api.github.com/repos/pandas-dev/pandas/issues'\n",
    "resp=requests.get(url)\n",
    "print(type(resp))"
   ]
  },
  {
   "cell_type": "code",
   "execution_count": 67,
   "id": "91a0a4c6",
   "metadata": {},
   "outputs": [
    {
     "name": "stdout",
     "output_type": "stream",
     "text": [
      "<class 'list'>\n"
     ]
    }
   ],
   "source": [
    "data=resp.json()\n",
    "data[0]['title']\n",
    "print(type(data))"
   ]
  },
  {
   "cell_type": "code",
   "execution_count": 69,
   "id": "329aee55",
   "metadata": {},
   "outputs": [
    {
     "name": "stdout",
     "output_type": "stream",
     "text": [
      "    number                                              title  \\\n",
      "0    55195                                              BUG:    \n",
      "1    55194  BUG: `DataFrame.var()` with `axis=1` returns `...   \n",
      "2    55193  TST: Test GroupBy.__getitem__ with a column fr...   \n",
      "3    55192  CLN: do not import Axes/Artist/Figure from mat...   \n",
      "4    55190                 TYP: Allow None in Period.strftime   \n",
      "..     ...                                                ...   \n",
      "25   55152                     CLN: Add is_hashable_non_slice   \n",
      "26   55151            Refactor npy_datetimestruct_to_datetime   \n",
      "27   55150                  Replace cpplint with clang-format   \n",
      "28   55147     DEPR/API: Series[categorical].replace behavior   \n",
      "29   55145      ENH: pearson correlation with population mean   \n",
      "\n",
      "                                               labels state  \n",
      "0   [{'id': 76811, 'node_id': 'MDU6TGFiZWw3NjgxMQ=...  open  \n",
      "1   [{'id': 76811, 'node_id': 'MDU6TGFiZWw3NjgxMQ=...  open  \n",
      "2                                                  []  open  \n",
      "3                                                  []  open  \n",
      "4   [{'id': 1280988427, 'node_id': 'MDU6TGFiZWwxMj...  open  \n",
      "..                                                ...   ...  \n",
      "25  [{'id': 211029535, 'node_id': 'MDU6TGFiZWwyMTE...  open  \n",
      "26  [{'id': 49094459, 'node_id': 'MDU6TGFiZWw0OTA5...  open  \n",
      "27  [{'id': 106935113, 'node_id': 'MDU6TGFiZWwxMDY...  open  \n",
      "28  [{'id': 87485152, 'node_id': 'MDU6TGFiZWw4NzQ4...  open  \n",
      "29  [{'id': 76812, 'node_id': 'MDU6TGFiZWw3NjgxMg=...  open  \n",
      "\n",
      "[30 rows x 4 columns]\n"
     ]
    }
   ],
   "source": [
    "issues=pd.DataFrame(data,columns=['number','title','labels','state'])\n",
    "print(issues)"
   ]
  },
  {
   "cell_type": "markdown",
   "id": "9756b7ab",
   "metadata": {},
   "source": [
    "## 4、与数据库的交互"
   ]
  },
  {
   "cell_type": "code",
   "execution_count": null,
   "id": "d3e8f841",
   "metadata": {},
   "outputs": [],
   "source": [
    "#略"
   ]
  }
 ],
 "metadata": {
  "kernelspec": {
   "display_name": "Python 3 (ipykernel)",
   "language": "python",
   "name": "python3"
  },
  "language_info": {
   "codemirror_mode": {
    "name": "ipython",
    "version": 3
   },
   "file_extension": ".py",
   "mimetype": "text/x-python",
   "name": "python",
   "nbconvert_exporter": "python",
   "pygments_lexer": "ipython3",
   "version": "3.11.4"
  }
 },
 "nbformat": 4,
 "nbformat_minor": 5
}
