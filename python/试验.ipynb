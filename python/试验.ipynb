{
 "cells": [
  {
   "cell_type": "code",
   "execution_count": 1,
   "id": "0bf496d5-db9d-4560-b0f1-b0ee4ea1e825",
   "metadata": {},
   "outputs": [],
   "source": [
    "a=5"
   ]
  },
  {
   "cell_type": "code",
   "execution_count": 2,
   "id": "bd0bcff3-2b3f-4b50-a56c-2f681d8819fb",
   "metadata": {},
   "outputs": [
    {
     "data": {
      "text/plain": [
       "5"
      ]
     },
     "execution_count": 2,
     "metadata": {},
     "output_type": "execute_result"
    }
   ],
   "source": [
    "a"
   ]
  },
  {
   "cell_type": "code",
   "execution_count": 4,
   "id": "5535e1b8-db72-4877-9201-74ffb81a14c8",
   "metadata": {},
   "outputs": [
    {
     "data": {
      "text/plain": [
       "5"
      ]
     },
     "execution_count": 4,
     "metadata": {},
     "output_type": "execute_result"
    }
   ],
   "source": [
    "a"
   ]
  },
  {
   "cell_type": "markdown",
   "id": "f24fcaff-cb71-43be-86fd-54532e2ab66d",
   "metadata": {},
   "source": [
    "## asd\n",
    "asd"
   ]
  },
  {
   "cell_type": "code",
   "execution_count": 1,
   "id": "bc716c16-3cad-4e60-a99f-a897c3498638",
   "metadata": {},
   "outputs": [],
   "source": [
    "%matplotlib inline"
   ]
  },
  {
   "cell_type": "code",
   "execution_count": 1,
   "id": "dc2ed1af",
   "metadata": {},
   "outputs": [],
   "source": [
    "a=5"
   ]
  },
  {
   "cell_type": "code",
   "execution_count": 2,
   "id": "96bdad81",
   "metadata": {},
   "outputs": [
    {
     "data": {
      "text/plain": [
       "True"
      ]
     },
     "execution_count": 2,
     "metadata": {},
     "output_type": "execute_result"
    }
   ],
   "source": [
    "a==5"
   ]
  },
  {
   "cell_type": "code",
   "execution_count": 3,
   "id": "ada07be1",
   "metadata": {},
   "outputs": [
    {
     "name": "stderr",
     "output_type": "stream",
     "text": [
      "<>:1: SyntaxWarning: \"is\" with a literal. Did you mean \"==\"?\n",
      "<>:1: SyntaxWarning: \"is\" with a literal. Did you mean \"==\"?\n",
      "C:\\Users\\q\\AppData\\Local\\Temp\\ipykernel_8736\\3165069480.py:1: SyntaxWarning: \"is\" with a literal. Did you mean \"==\"?\n",
      "  a is 5\n"
     ]
    },
    {
     "data": {
      "text/plain": [
       "True"
      ]
     },
     "execution_count": 3,
     "metadata": {},
     "output_type": "execute_result"
    }
   ],
   "source": [
    "a is 5"
   ]
  },
  {
   "cell_type": "code",
   "execution_count": 4,
   "id": "fc3df42b",
   "metadata": {},
   "outputs": [],
   "source": [
    "a = None"
   ]
  },
  {
   "cell_type": "code",
   "execution_count": 5,
   "id": "89df1be3",
   "metadata": {},
   "outputs": [
    {
     "data": {
      "text/plain": [
       "True"
      ]
     },
     "execution_count": 5,
     "metadata": {},
     "output_type": "execute_result"
    }
   ],
   "source": [
    "a is None"
   ]
  },
  {
   "cell_type": "code",
   "execution_count": 6,
   "id": "fdb8e068",
   "metadata": {},
   "outputs": [
    {
     "data": {
      "text/plain": [
       "True"
      ]
     },
     "execution_count": 6,
     "metadata": {},
     "output_type": "execute_result"
    }
   ],
   "source": [
    "a=[1,2,3]\n",
    "b=a\n",
    "c=list(a) #list()创建一个新的对象，即一个拷贝\n",
    "a is b\n",
    "a is not c"
   ]
  },
  {
   "cell_type": "code",
   "execution_count": 7,
   "id": "7890b6bf",
   "metadata": {},
   "outputs": [
    {
     "data": {
      "text/plain": [
       "True"
      ]
     },
     "execution_count": 7,
     "metadata": {},
     "output_type": "execute_result"
    }
   ],
   "source": [
    "a is b"
   ]
  },
  {
   "cell_type": "code",
   "execution_count": 8,
   "id": "d6ab9e4f",
   "metadata": {},
   "outputs": [
    {
     "data": {
      "text/plain": [
       "True"
      ]
     },
     "execution_count": 8,
     "metadata": {},
     "output_type": "execute_result"
    }
   ],
   "source": [
    "a is not c"
   ]
  },
  {
   "cell_type": "code",
   "execution_count": 11,
   "id": "42cbceb5",
   "metadata": {},
   "outputs": [
    {
     "data": {
      "text/plain": [
       "True"
      ]
     },
     "execution_count": 11,
     "metadata": {},
     "output_type": "execute_result"
    }
   ],
   "source": [
    "(a is b) and (a is not c) #python中没有&&，只有and"
   ]
  },
  {
   "cell_type": "code",
   "execution_count": 12,
   "id": "0d8a59d4",
   "metadata": {},
   "outputs": [
    {
     "data": {
      "text/plain": [
       "False"
      ]
     },
     "execution_count": 12,
     "metadata": {},
     "output_type": "execute_result"
    }
   ],
   "source": [
    "(a is b) and (a is c)"
   ]
  },
  {
   "cell_type": "code",
   "execution_count": 13,
   "id": "d9ac73a2",
   "metadata": {},
   "outputs": [
    {
     "data": {
      "text/plain": [
       "25"
      ]
     },
     "execution_count": 13,
     "metadata": {},
     "output_type": "execute_result"
    }
   ],
   "source": [
    "a=5\n",
    "a**2 #python中**表示次方"
   ]
  },
  {
   "cell_type": "code",
   "execution_count": 15,
   "id": "51f2f4cb",
   "metadata": {},
   "outputs": [],
   "source": [
    "a='this is a string'\n",
    "b=\"ert\"\n",
    "c='''\n",
    "this is a string\n",
    "ocupying two lines\n",
    "'''\n",
    "d=\"\"\"\n",
    "same effect as 'c'\n",
    "\"\"\""
   ]
  },
  {
   "cell_type": "code",
   "execution_count": 16,
   "id": "0ab45fc6",
   "metadata": {},
   "outputs": [
    {
     "ename": "TypeError",
     "evalue": "'str' object does not support item assignment",
     "output_type": "error",
     "traceback": [
      "\u001b[1;31m---------------------------------------------------------------------------\u001b[0m",
      "\u001b[1;31mTypeError\u001b[0m                                 Traceback (most recent call last)",
      "Cell \u001b[1;32mIn[16], line 1\u001b[0m\n\u001b[1;32m----> 1\u001b[0m a[\u001b[38;5;241m2\u001b[39m]\u001b[38;5;241m=\u001b[39m\u001b[38;5;124m'\u001b[39m\u001b[38;5;124mo\u001b[39m\u001b[38;5;124m'\u001b[39m\n",
      "\u001b[1;31mTypeError\u001b[0m: 'str' object does not support item assignment"
     ]
    }
   ],
   "source": [
    "a[2]='o'"
   ]
  },
  {
   "cell_type": "code",
   "execution_count": 18,
   "id": "4d71cc6e",
   "metadata": {},
   "outputs": [
    {
     "data": {
      "text/plain": [
       "'this is a longer string'"
      ]
     },
     "execution_count": 18,
     "metadata": {},
     "output_type": "execute_result"
    }
   ],
   "source": [
    "b=a.replace('string','longer string') #string无法更改，replace只是创建一个新对象\n",
    "b"
   ]
  },
  {
   "cell_type": "code",
   "execution_count": 19,
   "id": "a43f0a09",
   "metadata": {},
   "outputs": [
    {
     "name": "stdout",
     "output_type": "stream",
     "text": [
      "<class 'float'> <class 'str'>\n"
     ]
    }
   ],
   "source": [
    "a=5.6\n",
    "print(type(a),type(str(a)))"
   ]
  },
  {
   "cell_type": "code",
   "execution_count": 24,
   "id": "b2e2993f",
   "metadata": {},
   "outputs": [
    {
     "name": "stdout",
     "output_type": "stream",
     "text": [
      "python \n",
      " ['p', 'y', 't', 'h', 'o', 'n'] \n",
      " pyt\n",
      "python\n",
      "['p', 'y', 't', 'h', 'o', 'n']\n",
      "pyt\n",
      "python\n",
      "['p', 'y', 't', 'h', 'o', 'n']\n",
      "pyt\n"
     ]
    }
   ],
   "source": [
    "a='python'\n",
    "b=list(a)\n",
    "s=a[:3] #切片\n",
    "print(a,'\\n',b,'\\n',s) #print输出时，不同变量间默认间隔一个空格\n",
    "print(a)\n",
    "print(b)\n",
    "print(s)\n",
    "print(a,'\\n',b,'\\n',s,sep='') #这样就没有空格了"
   ]
  },
  {
   "cell_type": "code",
   "execution_count": 26,
   "id": "65ea3659",
   "metadata": {},
   "outputs": [
    {
     "name": "stdout",
     "output_type": "stream",
     "text": [
      "12\\34 12\u001c",
      " 12\\34 12\\3412\\34\n"
     ]
    }
   ],
   "source": [
    "s='12\\\\34' #\\为转义符号\n",
    "d='12\\34' #此时\\34会被解释为Unicode字符进行输出\n",
    "f=r'12\\34' #字符串前加r，表明里面的全都是原生字符，即自动加转义符号\n",
    "print(s,d,f,s+f)"
   ]
  },
  {
   "cell_type": "code",
   "execution_count": 28,
   "id": "43dbacc9",
   "metadata": {},
   "outputs": [
    {
     "data": {
      "text/plain": [
       "'4.56 Argentine Pesos are worth US$1'"
      ]
     },
     "execution_count": 28,
     "metadata": {},
     "output_type": "execute_result"
    }
   ],
   "source": [
    "#字符串格式化 magical！\n",
    "template='{0:.2f} {1:s} are worth US${2:d}' #第一个参数格式化为2位小数的浮点数，第二个参数格式化为字符串，第三个参数格式化为整数\n",
    "template.format(4.5560,'Argentine Pesos',1)"
   ]
  },
  {
   "cell_type": "code",
   "execution_count": 36,
   "id": "7c1b0a03",
   "metadata": {},
   "outputs": [
    {
     "name": "stdout",
     "output_type": "stream",
     "text": [
      "excption\n",
      "b'excption'<class 'bytes'>\n",
      "excption\n"
     ]
    }
   ],
   "source": [
    "val=\"excption\"\n",
    "val_utf8=val.encode('utf-8')\n",
    "val_decode=val_utf8.decode('utf-8')\n",
    "print(val,'\\n',val_utf8,type(val_utf8),'\\n',val_decode,sep='')"
   ]
  },
  {
   "cell_type": "code",
   "execution_count": 40,
   "id": "066d2490",
   "metadata": {},
   "outputs": [
    {
     "name": "stdout",
     "output_type": "stream",
     "text": [
      "29 30\n",
      "10/29/2011 20:30\n"
     ]
    }
   ],
   "source": [
    "#python中自带的日期与时间\n",
    "from datetime import datetime, date, time\n",
    "dt=datetime(2011,10,29,20,30,21)\n",
    "\n",
    "print(dt.day,' ',dt.minute,'\\n',dt.strftime('%m/%d/%Y %H:%M'),sep='')"
   ]
  },
  {
   "cell_type": "code",
   "execution_count": null,
   "id": "ee8ee569",
   "metadata": {},
   "outputs": [],
   "source": []
  }
 ],
 "metadata": {
  "kernelspec": {
   "display_name": "Python 3 (ipykernel)",
   "language": "python",
   "name": "python3"
  },
  "language_info": {
   "codemirror_mode": {
    "name": "ipython",
    "version": 3
   },
   "file_extension": ".py",
   "mimetype": "text/x-python",
   "name": "python",
   "nbconvert_exporter": "python",
   "pygments_lexer": "ipython3",
   "version": "3.11.4"
  }
 },
 "nbformat": 4,
 "nbformat_minor": 5
}
