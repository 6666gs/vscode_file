{
 "cells": [
  {
   "cell_type": "markdown",
   "id": "2913f1e6",
   "metadata": {},
   "source": [
    "# NumPy"
   ]
  },
  {
   "cell_type": "markdown",
   "id": "57ceafd2",
   "metadata": {},
   "source": [
    "## 1、NumPy ndarray：多维数组对象"
   ]
  },
  {
   "cell_type": "code",
   "execution_count": 1,
   "id": "f6df04ef",
   "metadata": {},
   "outputs": [
    {
     "name": "stdout",
     "output_type": "stream",
     "text": [
      "[[ 2.2538779   1.97717457 -1.45390912]\n",
      " [ 1.39385683  0.18391206 -0.55957088]]\n",
      "(2, 3)\n",
      "float64\n"
     ]
    }
   ],
   "source": [
    "import numpy as np\n",
    "data=np.random.randn(2,3)\n",
    "print(data,data.shape,data.dtype,sep='\\n')\n",
    "\n",
    "#numpy库引入了数组类型，可以方便地进行矩阵运算\n",
    "#数组内默认数据类型为float64"
   ]
  },
  {
   "cell_type": "markdown",
   "id": "6f201c73",
   "metadata": {},
   "source": [
    "### 1.1生成ndarray"
   ]
  },
  {
   "cell_type": "code",
   "execution_count": 15,
   "id": "499af606",
   "metadata": {},
   "outputs": [
    {
     "name": "stdout",
     "output_type": "stream",
     "text": [
      "[1.  2.  3.  3.5]\n",
      "[[1.  2.  3.  3.5]\n",
      " [2.  3.  4.  4.5]]\n",
      "<class 'numpy.ndarray'>\n",
      "2\n",
      "(2, 4)\n",
      "\n",
      "\n",
      "[[[6.23042070e-307 7.56587584e-307 1.37961302e-306]\n",
      "  [6.23053614e-307 6.23053954e-307 9.34609790e-307]\n",
      "  [8.45593934e-307 9.34600963e-307 1.86921143e-306]]\n",
      "\n",
      " [[6.23061763e-307 8.90104239e-307 6.89804132e-307]\n",
      "  [1.22387805e-307 1.42418172e-306 8.06610070e-308]\n",
      "  [6.89810244e-307 1.22387550e-307 2.22522596e-306]]]\n",
      "[[0. 0. 0. 0. 0.]\n",
      " [0. 0. 0. 0. 0.]\n",
      " [0. 0. 0. 0. 0.]]\n",
      "\n",
      "\n",
      "[0 1 2 3 4 5 6 7 8 9]\n"
     ]
    }
   ],
   "source": [
    "data1=[1,2,3,3.5]\n",
    "array1=np.array(data1)\n",
    "data2=[[1,2,3,3.5],[2,3,4,4.5]]\n",
    "array2=np.array(data2)\n",
    "print(array1,array2,type(array2),array2.ndim,array2.shape,sep='\\n')   #ndarray的nidm方法返回当前数组的维度，shape返回具体的维度大小\n",
    "\n",
    "arr3=np.empty((2,3,3))   #返回指定大小的未初始化垃圾数据\n",
    "arr4=np.zeros((3,5))\n",
    "print('\\n',arr3,arr4,sep='\\n')\n",
    "\n",
    "arr5=np.arange(10)       #arange为数组版的range，返回一个数组的序列\n",
    "print('\\n',arr5,sep='\\n')"
   ]
  },
  {
   "cell_type": "markdown",
   "id": "92cd3a19",
   "metadata": {},
   "source": [
    "### 1.2、ndarray的数据类型"
   ]
  },
  {
   "cell_type": "code",
   "execution_count": 21,
   "id": "89a7a829",
   "metadata": {},
   "outputs": [
    {
     "name": "stdout",
     "output_type": "stream",
     "text": [
      "float64\n",
      "int64\n",
      "[ 1.5   2.89 -3.15  4.  ]\n",
      "[ 1  2 -3  4]\n",
      "['1.25' '5.55' '6.78']\n",
      "[1.25 5.55 6.78]\n"
     ]
    }
   ],
   "source": [
    "arr1=np.array([1.5,2.89,-3.15,4.0],dtype=np.float64)   #直接设定内部的数据类型\n",
    "print(arr1.dtype)\n",
    "int_arr1=arr1.astype(np.int64)           #利用astype可以改变数据类型\n",
    "print(int_arr1.dtype)\n",
    "print(arr1,int_arr1,sep='\\n')           #浮点数转换为整形数之后，小数部分消失\n",
    "\n",
    "arr2=np.array(['1.25','5.55','6.78'])\n",
    "float_arr2=arr2.astype(np.float64)     #还可以将具有数字含义的字符串转换为数字\n",
    "#float_arr2=arr2.astype(arr1.dtype)   同样可以\n",
    "print(arr2,float_arr2,sep='\\n')"
   ]
  },
  {
   "cell_type": "markdown",
   "id": "66cf9f9c",
   "metadata": {},
   "source": [
    "### 1.3、NumPy数组算术"
   ]
  },
  {
   "cell_type": "code",
   "execution_count": 25,
   "id": "13473dcf",
   "metadata": {},
   "outputs": [
    {
     "name": "stdout",
     "output_type": "stream",
     "text": [
      "[[1 2 3]\n",
      " [2 3 4]]\n",
      "[[2 4 6]\n",
      " [4 6 8]]\n",
      "[[ 1  4  9]\n",
      " [ 4  9 16]]\n",
      "[[1.         0.5        0.33333333]\n",
      " [0.5        0.33333333 0.25      ]]\n",
      "[[ 1  4  9]\n",
      " [ 4  9 16]]\n",
      "[[False False False]\n",
      " [False False False]]\n"
     ]
    }
   ],
   "source": [
    "#任何两个等尺寸数组之间的算术操作都是对应元素的\n",
    "arr1=np.array([[1,2,3],[2,3,4]])\n",
    "print(arr1,arr1+arr1,arr1*arr1,1/arr1,arr1**2,sep='\\n')\n",
    "arr2=np.array([[2,3,4],[4,5,6]])\n",
    "print(arr1>arr2)"
   ]
  },
  {
   "cell_type": "markdown",
   "id": "b140df39",
   "metadata": {},
   "source": [
    "### 1.4、索引与切片"
   ]
  },
  {
   "cell_type": "code",
   "execution_count": 41,
   "id": "60038d56",
   "metadata": {},
   "outputs": [
    {
     "name": "stdout",
     "output_type": "stream",
     "text": [
      "[0 1 2 3 4 5 6 7 8 9]\n",
      "[ 0  1  2  3  4 12 12 12  8  9]\n",
      "[ 0  1  2  3  4 20 20 20  8  9] [20 20 20]\n",
      "\n",
      "\n",
      "[2, 12, 12, 5]\n",
      "[2, 12, 12, 5]\n"
     ]
    }
   ],
   "source": [
    "arr1=np.arange(10)\n",
    "print(arr1)\n",
    "arr1[5:8]=12\n",
    "print(arr1)\n",
    "\n",
    "#比较独特的是数组的切片就是原数组的视图，对切片的修改会传递到原数组上\n",
    "slice_arr1=arr1[5:8]     #slice_arr1类似指向了arr1的该部分，而不是复制\n",
    "#copy_arr1=arr1[5:8].copy()   这是复制\n",
    "slice_arr1[:]=20\n",
    "print(arr1,slice_arr1)\n",
    "\n",
    "print('\\n')\n",
    "#与之相对的是列表，自动复制\n",
    "list1=[2,3,4,5]\n",
    "list1[1:3]=[12,12]\n",
    "print(list1)\n",
    "mp=list1[1:3]\n",
    "mp=[22,22]\n",
    "print(list1)"
   ]
  },
  {
   "cell_type": "code",
   "execution_count": 44,
   "id": "47b9542d",
   "metadata": {},
   "outputs": [
    {
     "name": "stdout",
     "output_type": "stream",
     "text": [
      "3\n",
      "3\n",
      "[4 5 6]\n",
      "\n",
      "\n",
      "[[2 3 4]\n",
      " [5 6 7]]\n",
      "[4 5 6]\n",
      "[[2 3]]\n"
     ]
    }
   ],
   "source": [
    "#多维数组中的索引\n",
    "arr2=np.array([[1,2,3],[4,5,6]])\n",
    "print(arr2[0,2],arr2[0][2],sep='\\n')   #两种效果相同\n",
    "print(arr2[1])\n",
    "\n",
    "arr3=np.array([[[1,2,3],[4,5,6]],[[2,3,4],[5,6,7]]])\n",
    "print('\\n',arr3[1],arr3[0,1],arr3[0,:1,1:],sep='\\n')    #切片时是一步步进行的"
   ]
  },
  {
   "cell_type": "markdown",
   "id": "4724958a",
   "metadata": {},
   "source": [
    "### 1.5、布尔索引"
   ]
  },
  {
   "cell_type": "code",
   "execution_count": 17,
   "id": "416f5d3b",
   "metadata": {},
   "outputs": [
    {
     "name": "stdout",
     "output_type": "stream",
     "text": [
      "[[-0.6008719  -0.02714554 -1.21156158 -1.12999837]\n",
      " [-0.11001841  3.28875937 -2.59946614 -1.04994963]\n",
      " [ 0.59065563  0.11076274 -0.27772756 -0.74356884]\n",
      " [-0.78287649  0.82945829 -0.72278757 -0.10127188]\n",
      " [-0.50196041  0.9233171   0.311079    0.35140152]\n",
      " [ 0.19176876  1.21821396  0.60720216  1.31797562]\n",
      " [ 1.32861849 -0.62534267 -0.67450626  2.06353861]] \n",
      "\n",
      "[ True False False  True False False False] \n",
      "\n",
      "[[-0.6008719  -0.02714554 -1.21156158 -1.12999837]\n",
      " [-0.78287649  0.82945829 -0.72278757 -0.10127188]] \n",
      "\n",
      "[[-0.11001841  3.28875937 -2.59946614 -1.04994963]\n",
      " [ 0.59065563  0.11076274 -0.27772756 -0.74356884]\n",
      " [-0.50196041  0.9233171   0.311079    0.35140152]\n",
      " [ 0.19176876  1.21821396  0.60720216  1.31797562]\n",
      " [ 1.32861849 -0.62534267 -0.67450626  2.06353861]] \n",
      "\n",
      "[[-0.11001841  3.28875937 -2.59946614 -1.04994963]\n",
      " [ 0.59065563  0.11076274 -0.27772756 -0.74356884]\n",
      " [-0.50196041  0.9233171   0.311079    0.35140152]\n",
      " [ 0.19176876  1.21821396  0.60720216  1.31797562]\n",
      " [ 1.32861849 -0.62534267 -0.67450626  2.06353861]]\n"
     ]
    }
   ],
   "source": [
    "import numpy as np\n",
    "names=np.array(['Bob','Joe','Will','Bob','Will','Joe','Joe'])\n",
    "data=np.random.randn(7,4)\n",
    "print(data,'\\n')\n",
    "print(names=='Bob','\\n')\n",
    "print(data[names=='Bob'],'\\n')      #names=='Bob'会产生布尔值数组，因此可以借此作为索引\n",
    "print(data[names!='Bob'],'\\n')\n",
    "print(data[~(names=='Bob')])"
   ]
  },
  {
   "cell_type": "code",
   "execution_count": 21,
   "id": "20344ba6",
   "metadata": {},
   "outputs": [
    {
     "name": "stdout",
     "output_type": "stream",
     "text": [
      "[[-0.6008719  -0.02714554 -1.21156158 -1.12999837]\n",
      " [-0.78287649  0.82945829 -0.72278757 -0.10127188]]\n",
      "[[-0.6008719  -0.02714554 -1.21156158 -1.12999837]\n",
      " [-0.78287649  0.82945829 -0.72278757 -0.10127188]]\n",
      "利用bool索引的数据是拷贝\n",
      "[[1. 1. 1. 1.]\n",
      " [1. 1. 1. 1.]]\n",
      "[[-0.6008719  -0.02714554 -1.21156158 -1.12999837]\n",
      " [-0.11001841  3.28875937 -2.59946614 -1.04994963]\n",
      " [ 0.59065563  0.11076274 -0.27772756 -0.74356884]\n",
      " [-0.78287649  0.82945829 -0.72278757 -0.10127188]\n",
      " [-0.50196041  0.9233171   0.311079    0.35140152]\n",
      " [ 0.19176876  1.21821396  0.60720216  1.31797562]\n",
      " [ 1.32861849 -0.62534267 -0.67450626  2.06353861]]\n",
      "利用数组分隔选取的也是拷贝\n",
      "[[1. 1. 1. 1.]\n",
      " [1. 1. 1. 1.]]\n",
      "[[-0.6008719  -0.02714554 -1.21156158 -1.12999837]\n",
      " [-0.11001841  3.28875937 -2.59946614 -1.04994963]\n",
      " [ 0.59065563  0.11076274 -0.27772756 -0.74356884]\n",
      " [-0.78287649  0.82945829 -0.72278757 -0.10127188]\n",
      " [-0.50196041  0.9233171   0.311079    0.35140152]\n",
      " [ 0.19176876  1.21821396  0.60720216  1.31797562]\n",
      " [ 1.32861849 -0.62534267 -0.67450626  2.06353861]]\n"
     ]
    }
   ],
   "source": [
    "#注意用布尔值索引，产生的不是原本数据的视图，而是拷贝\n",
    "slice_bool_data=data[names=='Bob']\n",
    "slice_data=data[[0,3],:]\n",
    "print(slice_bool_data,slice_data,sep='\\n')\n",
    "slice_bool_data[:,:]=1\n",
    "print('利用bool索引的数据是拷贝',slice_bool_data,data,sep='\\n')\n",
    "slice_data[:,:]=1\n",
    "print('利用数组分隔选取的也是拷贝',slice_data,data,sep='\\n')\n"
   ]
  },
  {
   "cell_type": "code",
   "execution_count": 22,
   "id": "081d9fdb",
   "metadata": {},
   "outputs": [
    {
     "name": "stdout",
     "output_type": "stream",
     "text": [
      "[[0.         0.         0.         0.        ]\n",
      " [0.         3.28875937 0.         0.        ]\n",
      " [0.59065563 0.11076274 0.         0.        ]\n",
      " [0.         0.82945829 0.         0.        ]\n",
      " [0.         0.9233171  0.311079   0.35140152]\n",
      " [0.19176876 1.21821396 0.60720216 1.31797562]\n",
      " [1.32861849 0.         0.         2.06353861]]\n"
     ]
    }
   ],
   "source": [
    "data[data<0]=0  #这个也是布尔值索引\n",
    "print(data)"
   ]
  },
  {
   "cell_type": "markdown",
   "id": "1e350431",
   "metadata": {},
   "source": [
    "### 1.6、神奇索引"
   ]
  },
  {
   "cell_type": "code",
   "execution_count": 31,
   "id": "c4ed48ec",
   "metadata": {},
   "outputs": [
    {
     "name": "stdout",
     "output_type": "stream",
     "text": [
      "[[0. 0. 0. 0.]\n",
      " [1. 1. 1. 1.]\n",
      " [2. 2. 2. 2.]\n",
      " [3. 3. 3. 3.]\n",
      " [4. 4. 4. 4.]\n",
      " [5. 5. 5. 5.]\n",
      " [6. 6. 6. 6.]\n",
      " [7. 7. 7. 7.]]\n",
      "\n",
      "[[3. 3. 3. 3.]\n",
      " [5. 5. 5. 5.]\n",
      " [4. 4. 4. 4.]\n",
      " [1. 1. 1. 1.]]\n",
      "\n",
      "\n",
      "[[5. 5. 5. 5.]\n",
      " [1. 1. 1. 1.]\n",
      " [6. 6. 6. 6.]\n",
      " [7. 7. 7. 7.]\n",
      " [0. 0. 0. 0.]]\n",
      "\n",
      "\n",
      "[1. 3. 5. 2.]\n"
     ]
    }
   ],
   "source": [
    "arr=np.empty((8,4))\n",
    "for i in range(8):\n",
    "    arr[i,:]=i\n",
    "print(arr,end='\\n\\n')\n",
    "print(arr[[3,5,4,1],:],'\\n',sep='\\n')        #神奇索引就是用整数数组进行索引。可以发现，顺序也是可以调换的\n",
    "print(arr[[-3,-7,-2,-1,0],:],'\\n',sep='\\n')        #负数就是倒着索引\n",
    "print(arr[[1,3,5,2],[3,2,0,1]])           #会选取两个数组组合所指向的元素\n",
    "                                           #会总是将数据复制到一个新数组中"
   ]
  },
  {
   "cell_type": "code",
   "execution_count": 33,
   "id": "413029ff",
   "metadata": {},
   "outputs": [
    {
     "name": "stdout",
     "output_type": "stream",
     "text": [
      "[[ 0  1  2  3]\n",
      " [ 4  5  6  7]\n",
      " [ 8  9 10 11]\n",
      " [12 13 14 15]\n",
      " [16 17 18 19]\n",
      " [20 21 22 23]\n",
      " [24 25 26 27]\n",
      " [28 29 30 31]]\n",
      "\n",
      "\n",
      "[[ 4  7  6  5]\n",
      " [20 23 22 21]\n",
      " [28 31 30 29]\n",
      " [ 8 11 10  9]]\n"
     ]
    }
   ],
   "source": [
    "arr=np.arange(32).reshape((8,4))\n",
    "print(arr,'\\n',arr[[1,5,7,2]][:,[0,3,2,1]],sep='\\n')        #arr[[1,5,7,2]]是选中的行，接着选取[:,[0,3,2,1]]"
   ]
  },
  {
   "cell_type": "markdown",
   "id": "c45f113e",
   "metadata": {},
   "source": [
    "### 1.7、数组转置、换轴"
   ]
  },
  {
   "cell_type": "code",
   "execution_count": 34,
   "id": "3eae3408",
   "metadata": {},
   "outputs": [
    {
     "name": "stdout",
     "output_type": "stream",
     "text": [
      "[[ 0  4  8 12 16 20 24 28]\n",
      " [ 1  5  9 13 17 21 25 29]\n",
      " [ 2  6 10 14 18 22 26 30]\n",
      " [ 3  7 11 15 19 23 27 31]]\n"
     ]
    }
   ],
   "source": [
    "#数组的转置\n",
    "print(arr.T)"
   ]
  },
  {
   "cell_type": "code",
   "execution_count": 36,
   "id": "8b029f16",
   "metadata": {},
   "outputs": [
    {
     "name": "stdout",
     "output_type": "stream",
     "text": [
      "[[2240 2352 2464 2576]\n",
      " [2352 2472 2592 2712]\n",
      " [2464 2592 2720 2848]\n",
      " [2576 2712 2848 2984]]\n",
      "[[  14   38   62   86  110  134  158  182]\n",
      " [  38  126  214  302  390  478  566  654]\n",
      " [  62  214  366  518  670  822  974 1126]\n",
      " [  86  302  518  734  950 1166 1382 1598]\n",
      " [ 110  390  670  950 1230 1510 1790 2070]\n",
      " [ 134  478  822 1166 1510 1854 2198 2542]\n",
      " [ 158  566  974 1382 1790 2198 2606 3014]\n",
      " [ 182  654 1126 1598 2070 2542 3014 3486]]\n"
     ]
    }
   ],
   "source": [
    "#矩阵乘\n",
    "print(np.dot(arr.T,arr))\n",
    "print(np.dot(arr,arr.T))"
   ]
  },
  {
   "cell_type": "code",
   "execution_count": 47,
   "id": "7ed3c38e",
   "metadata": {},
   "outputs": [
    {
     "name": "stdout",
     "output_type": "stream",
     "text": [
      "[[[ 0  1  2  3]\n",
      "  [ 4  5  6  7]]\n",
      "\n",
      " [[ 8  9 10 11]\n",
      "  [12 13 14 15]]]\n",
      "..... (2, 2, 4)\n",
      "..... (4, 2, 2)\n",
      "..... (4, 2, 2)\n",
      "..... (2, 4, 2)\n",
      "..... (2, 2, 4)\n",
      "..... (2, 4, 2)\n"
     ]
    }
   ],
   "source": [
    "#数组的高维转置\n",
    "arr=np.arange(16).reshape((2,2,4))\n",
    "print(arr)\n",
    "arr_trans=arr.transpose((1,0,2))   #即旧的第二个轴变成了第一个，第一个轴变成了第二个，第三个轴不变，1，0，2分别代表旧数组的第二、一、三个轴\n",
    "print('.....',arr_trans.shape)\n",
    "arr_trans=arr.transpose((2,1,0))\n",
    "print('.....',arr_trans.shape)\n",
    "arr_trans=arr.transpose((2,0,1))\n",
    "print('.....',arr_trans.shape)\n",
    "arr_trans=arr.transpose((1,2,0))\n",
    "print('.....',arr_trans.shape)\n",
    "arr_trans=arr.transpose((0,1,2))\n",
    "print('.....',arr_trans.shape)\n",
    "arr_trans=arr.transpose((0,2,1))\n",
    "print('.....',arr_trans.shape)"
   ]
  },
  {
   "cell_type": "code",
   "execution_count": 48,
   "id": "61e1e68a",
   "metadata": {},
   "outputs": [
    {
     "data": {
      "text/plain": [
       "array([[[ 0,  4],\n",
       "        [ 1,  5],\n",
       "        [ 2,  6],\n",
       "        [ 3,  7]],\n",
       "\n",
       "       [[ 8, 12],\n",
       "        [ 9, 13],\n",
       "        [10, 14],\n",
       "        [11, 15]]])"
      ]
     },
     "execution_count": 48,
     "metadata": {},
     "output_type": "execute_result"
    }
   ],
   "source": [
    "#swapaxes方法\n",
    "arr.swapaxes(1,2)      #接收一对轴编号，对这两个轴进行调换。注意，返回的是视图"
   ]
  },
  {
   "cell_type": "markdown",
   "id": "9d08e888",
   "metadata": {},
   "source": [
    "## 2、通用函数"
   ]
  },
  {
   "cell_type": "code",
   "execution_count": 50,
   "id": "4ae32dd7",
   "metadata": {},
   "outputs": [
    {
     "name": "stdout",
     "output_type": "stream",
     "text": [
      "[[0.         1.         1.41421356 1.73205081 2.         2.23606798\n",
      "  2.44948974 2.64575131]\n",
      " [2.82842712 3.         3.16227766 3.31662479 3.46410162 3.60555128\n",
      "  3.74165739 3.87298335]] \n",
      "\n",
      "[[1.00000000e+00 2.71828183e+00 7.38905610e+00 2.00855369e+01\n",
      "  5.45981500e+01 1.48413159e+02 4.03428793e+02 1.09663316e+03]\n",
      " [2.98095799e+03 8.10308393e+03 2.20264658e+04 5.98741417e+04\n",
      "  1.62754791e+05 4.42413392e+05 1.20260428e+06 3.26901737e+06]]\n"
     ]
    }
   ],
   "source": [
    "#通用函数，称ufunc，是对ndarry数据逐元素操作的函数。\n",
    "\n",
    "arr=np.arange(16).reshape(2,8)\n",
    "print(np.sqrt(arr),'\\n')\n",
    "print(np.exp(arr))"
   ]
  },
  {
   "cell_type": "code",
   "execution_count": 52,
   "id": "6cd12e3b",
   "metadata": {},
   "outputs": [
    {
     "name": "stdout",
     "output_type": "stream",
     "text": [
      "[ 2.20828071 -1.67689482 -1.12481404  1.64234093 -0.25654576  1.06180184\n",
      "  0.78453939]\n",
      "[ 0.20828071 -0.67689482 -0.12481404  0.64234093 -0.25654576  0.06180184\n",
      "  0.78453939]\n",
      "[ 2. -1. -1.  1. -0.  1.  0.]\n"
     ]
    }
   ],
   "source": [
    "#modf返回浮点数的小数和整数部分\n",
    "arr=np.random.randn(7)\n",
    "remainder,whole_part=np.modf(arr)\n",
    "print(arr,remainder,whole_part,sep='\\n')"
   ]
  },
  {
   "cell_type": "code",
   "execution_count": 60,
   "id": "bfff6905",
   "metadata": {},
   "outputs": [
    {
     "name": "stdout",
     "output_type": "stream",
     "text": [
      "[[ 0.  1.  2.  3.  4.  5.  6.  7.]\n",
      " [ 8.  9. 10. 11. 12. 13. 14. 15.]] \n",
      "\n",
      "[[ 0.  1.  2.  3.  4.  5.  6.  7.]\n",
      " [ 8.  9. 10. 11. 12. 13. 14. 15.]]\n",
      "[[0.         1.         1.41421356 1.73205081 2.         2.23606798\n",
      "  2.44948974 2.64575131]\n",
      " [2.82842712 3.         3.16227766 3.31662479 3.46410162 3.60555128\n",
      "  3.74165739 3.87298335]]\n"
     ]
    }
   ],
   "source": [
    "arr=np.arange(16).reshape(2,8)\n",
    "arr=arr.astype(np.float64)\n",
    "arr1=np.sqrt(arr)\n",
    "print(arr,'\\n')\n",
    "arr2=np.empty((2,8))\n",
    "arr1=np.sqrt(arr,arr2)\n",
    "print(arr,arr2,sep='\\n')        #ufunc提供一个out参数，可以将计算结果输出到out中"
   ]
  },
  {
   "cell_type": "markdown",
   "id": "7eeda550",
   "metadata": {},
   "source": [
    "## 3、面向数组编程"
   ]
  },
  {
   "cell_type": "code",
   "execution_count": 1,
   "id": "02b44bd8",
   "metadata": {},
   "outputs": [],
   "source": [
    "#即为利用数组进行大量数据操作，而无需大量的循环\n",
    "#numpy数组的向量操作比python操作快得多，数据越多，快的更明显"
   ]
  },
  {
   "cell_type": "markdown",
   "id": "8cec9701",
   "metadata": {},
   "source": [
    "### 3.1、条件逻辑"
   ]
  },
  {
   "cell_type": "code",
   "execution_count": 3,
   "id": "bd6af89d",
   "metadata": {},
   "outputs": [
    {
     "name": "stdout",
     "output_type": "stream",
     "text": [
      "[1.1 2.2 1.3 1.4 2.5]\n",
      "[1.1, 2.2, 1.3, 1.4, 2.5]\n"
     ]
    }
   ],
   "source": [
    "#np.where()函数。利用逻辑向量来选取向量元素\n",
    "import numpy as np\n",
    "#example1\n",
    "xarr=np.array([1.1,1.2,1.3,1.4,1.5])\n",
    "yarr=np.array([2.1,2.2,2.3,2.4,2.5])\n",
    "cond=np.array([True,False,True,True,False])\n",
    "result=np.where(cond,xarr,yarr)        #实现的功能：cond中的元素为True时，选取xarr中的元素，否则选取yarr中的\n",
    "print(result)                          #同时后面的xarr、yarr位置也可以是标量\n",
    "\n",
    "  #与之相对的是传统方法\n",
    "result_old=[(x if c else y) for x,c,y in zip(xarr,cond,yarr)]\n",
    "print(result_old)"
   ]
  },
  {
   "cell_type": "markdown",
   "id": "ae970b18",
   "metadata": {},
   "source": [
    "### 3.2、数学与统计方法"
   ]
  },
  {
   "cell_type": "code",
   "execution_count": 7,
   "id": "d76d1271",
   "metadata": {},
   "outputs": [
    {
     "name": "stdout",
     "output_type": "stream",
     "text": [
      "0.03367581267165992 0.03367581267165992 0.6735162534331984\n",
      "[-0.25356245  0.13613466 -0.39818067  0.65031172]\n",
      "[ 0.3051927   0.07338224 -0.10636532 -0.05859867 -0.04523189]\n"
     ]
    }
   ],
   "source": [
    "#如sum、mean、std(标准差)等称为聚合函数，既可以调用数组实例的方法，也可以用顶层函数\n",
    "arr=np.random.randn(5,4)\n",
    "print(arr.mean(),np.mean(arr),arr.sum())         #聚合函数求的均为全部元素的\n",
    "print(arr.mean(axis=0))                   #求沿着轴0进行求平均数，即每列的平均值\n",
    "print(arr.mean(1))"
   ]
  },
  {
   "cell_type": "markdown",
   "id": "0274b329",
   "metadata": {},
   "source": [
    "### 3.3、布尔值数组的方法"
   ]
  },
  {
   "cell_type": "code",
   "execution_count": 13,
   "id": "e8967b27",
   "metadata": {},
   "outputs": [
    {
     "name": "stdout",
     "output_type": "stream",
     "text": [
      "46\n",
      "True\n",
      "False\n"
     ]
    }
   ],
   "source": [
    "#sum可以计算布尔数组中true的个数\n",
    "arr=np.random.randn(100)\n",
    "print(np.sum((arr>=0)))\n",
    "\n",
    "#any、all检查布尔数组中是否有一个true，和是否全是true\n",
    "print((arr>0).any())\n",
    "print((arr>0).all())"
   ]
  },
  {
   "cell_type": "markdown",
   "id": "6b442cca",
   "metadata": {},
   "source": [
    "### 3.4、排序"
   ]
  },
  {
   "cell_type": "code",
   "execution_count": 15,
   "id": "afe6477d",
   "metadata": {},
   "outputs": [
    {
     "name": "stdout",
     "output_type": "stream",
     "text": [
      "[[ 1.94582503  0.11319779  0.1188488  -0.89788122]\n",
      " [ 0.17000839  0.42312224  1.20535205 -0.75857622]\n",
      " [-0.4389906   1.13049576  1.47334803 -1.56675547]\n",
      " [-0.62665751  1.51688198  0.30333591  1.21490304]\n",
      " [-0.87112033  0.47086861 -0.56550695 -0.28485136]]\n",
      "[[ 1.94582503  0.11319779  0.1188488  -0.89788122]\n",
      " [ 0.17000839  0.42312224  1.20535205 -0.75857622]\n",
      " [-0.4389906   1.13049576  1.47334803 -1.56675547]\n",
      " [-0.62665751  1.51688198  0.30333591  1.21490304]\n",
      " [-0.87112033  0.47086861 -0.56550695 -0.28485136]]\n",
      "[[-0.89788122  0.11319779  0.1188488   1.94582503]\n",
      " [-0.75857622  0.17000839  0.42312224  1.20535205]\n",
      " [-1.56675547 -0.4389906   1.13049576  1.47334803]\n",
      " [-0.62665751  0.30333591  1.21490304  1.51688198]\n",
      " [-0.87112033 -0.56550695 -0.28485136  0.47086861]]\n",
      "[[-1.56675547 -0.56550695 -0.28485136  0.47086861]\n",
      " [-0.89788122 -0.4389906   0.1188488   1.20535205]\n",
      " [-0.87112033  0.11319779  0.42312224  1.47334803]\n",
      " [-0.75857622  0.17000839  1.13049576  1.51688198]\n",
      " [-0.62665751  0.30333591  1.21490304  1.94582503]]\n"
     ]
    }
   ],
   "source": [
    "#顶层与数组实例均拥有一个sort方法，顶层返回一个排序后的复制，而数组实例对原数组进行排序变换\n",
    "arr=np.random.randn(5,4)\n",
    "print(arr)\n",
    "arr1=np.sort(arr)\n",
    "print(arr)\n",
    "arr.sort()\n",
    "print(arr)\n",
    "\n",
    "#sort中也可以传递axis值\n",
    "arr.sort(0)        #沿着0轴进行排序\n",
    "print(arr)"
   ]
  },
  {
   "cell_type": "markdown",
   "id": "010c8793",
   "metadata": {},
   "source": [
    "### 3.5、唯一值与其他集合逻辑"
   ]
  },
  {
   "cell_type": "code",
   "execution_count": 16,
   "id": "6fee3cee",
   "metadata": {},
   "outputs": [
    {
     "name": "stdout",
     "output_type": "stream",
     "text": [
      "['Bob' 'Joe' 'Will']\n"
     ]
    }
   ],
   "source": [
    "#unique函数。返回一个数组中唯一值排序后形成的数组\n",
    "names=np.array(['Bob','Joe','Will','Bob','Will','Joe'])\n",
    "print(np.unique(names))"
   ]
  },
  {
   "cell_type": "code",
   "execution_count": 17,
   "id": "ffadf53b",
   "metadata": {},
   "outputs": [
    {
     "name": "stdout",
     "output_type": "stream",
     "text": [
      "[ True False False  True  True False  True]\n"
     ]
    }
   ],
   "source": [
    "#in1d函数。检查一个数组中的值是否在另一个数组中，返回一个布尔值数组\n",
    "values=np.array([6,0,0,3,2,5,6])\n",
    "print(np.in1d(values,[2,3,6]))"
   ]
  },
  {
   "cell_type": "markdown",
   "id": "e6d801c1",
   "metadata": {},
   "source": [
    "## 4、用数组输入输出"
   ]
  },
  {
   "cell_type": "code",
   "execution_count": 35,
   "id": "0f10f395",
   "metadata": {},
   "outputs": [
    {
     "name": "stdout",
     "output_type": "stream",
     "text": [
      "[0 1 2 3 4 5 6 7 8 9]\n",
      "1\n",
      "[ 0  1  2  3  4  5  6  7  8  9 10 11 12 13 14 15 16 17 18 19]\n"
     ]
    }
   ],
   "source": [
    " #np.save()与np.load()分别用来存和取。默认存储文件后缀为.npy\n",
    "arr=np.arange(10)\n",
    "np.save('single_arr',arr)\n",
    "arr=1\n",
    "arr1=np.load('single_arr.npy')\n",
    "print(arr1)\n",
    "\n",
    "arr2=np.arange(20)\n",
    "np.savez('some_arr',a=arr,b=arr2)          #np.savez可以指定数组为参数传入函数中，从而在未压缩文件中保存多个数组\n",
    "arch=np.load('some_arr.npz')               #读取的为字典\n",
    "print(arch['a'])\n",
    "print(arch['b'])\n",
    "\n",
    "\n",
    "'''\n",
    "从表格中读取数据更多地是利用pandas进行\n",
    "'''"
   ]
  },
  {
   "cell_type": "markdown",
   "id": "76ace600",
   "metadata": {},
   "source": [
    "## 5、线性代数"
   ]
  },
  {
   "cell_type": "code",
   "execution_count": 47,
   "id": "cf0800c4",
   "metadata": {},
   "outputs": [
    {
     "name": "stdout",
     "output_type": "stream",
     "text": [
      "[[ 28  64]\n",
      " [ 67 181]]\n",
      "[[ 28  64]\n",
      " [ 67 181]]\n",
      "[1. 1. 1.] [ 6. 15.]\n"
     ]
    }
   ],
   "source": [
    "#即矩阵间的操作，如点乘、分解等\n",
    "x=np.array([[1,2,3],[4,5,6]])\n",
    "y=np.array([[6,23],[-1,7],[8,9]])\n",
    "print(x.dot(y),np.dot(x,y),sep='\\n')        #\n",
    "one=np.ones(3)        #此时创建的one数组仅有一个维度，为轴0方向的数组，即为（3*1数组），也即向量，因此可以点乘\n",
    "print(one,x@one)      #@符号同样为点乘运算符\n",
    "#因此点乘运算符有array.dot(another_array)\\np.dot()\\@"
   ]
  },
  {
   "cell_type": "code",
   "execution_count": 2,
   "id": "a7c8df17",
   "metadata": {},
   "outputs": [
    {
     "name": "stdout",
     "output_type": "stream",
     "text": [
      "[[ 1.00000000e+00 -1.18883297e-16 -3.54150358e-16 -9.84129462e-17\n",
      "   1.16970719e-16]\n",
      " [-9.77094921e-17  1.00000000e+00 -6.22168958e-17 -3.77575573e-17\n",
      "  -8.97427382e-17]\n",
      " [ 9.13136609e-16 -1.67346152e-16  1.00000000e+00 -1.46016526e-17\n",
      "  -6.70611595e-16]\n",
      " [-2.52239558e-16  1.05404609e-17  1.97619877e-16  1.00000000e+00\n",
      "  -4.66852179e-16]\n",
      " [ 4.74005730e-16  1.07919908e-16  4.53143292e-17  2.37786731e-17\n",
      "   1.00000000e+00]]\n"
     ]
    }
   ],
   "source": [
    "#numpy.linalg包含了许多矩阵分解的函数，另外包括了求逆矩阵、行列式求解等\n",
    "from numpy.linalg import inv,qr\n",
    "import numpy as np\n",
    "x=np.random.randn(5,5)\n",
    "mat=x.T.dot(x)\n",
    "print(mat.dot(inv(mat)))  #inv()求逆矩阵"
   ]
  },
  {
   "cell_type": "markdown",
   "id": "ee612f3d",
   "metadata": {},
   "source": [
    "## 6、伪随机数生成"
   ]
  },
  {
   "cell_type": "code",
   "execution_count": 3,
   "id": "06a53562",
   "metadata": {},
   "outputs": [
    {
     "name": "stdout",
     "output_type": "stream",
     "text": [
      "[[-1.21130057  0.2894207   0.65805451  1.17791558]\n",
      " [-0.48196127  1.02931459  1.43019554 -1.21086789]\n",
      " [ 0.2700422  -0.61109379 -0.82164568 -2.00841884]\n",
      " [ 1.75743145 -0.32540141 -0.06949871 -1.14743399]]\n"
     ]
    }
   ],
   "source": [
    "#numpy.random模块提供了随机数生成的方法。Python其实也提供了random方法，但是内建random生成时很慢，远没有numpy.random生成得快\n",
    "samples=np.random.normal(size=(4,4))   #normal生成一个指定大小得正态分布样本\n",
    "print(samples)"
   ]
  },
  {
   "cell_type": "code",
   "execution_count": 6,
   "id": "4e0b7f0e",
   "metadata": {},
   "outputs": [
    {
     "name": "stdout",
     "output_type": "stream",
     "text": [
      "[[7 5 7 7]\n",
      " [8 7 2 0]\n",
      " [4 1 2 1]\n",
      " [7 1 6 7]]\n"
     ]
    }
   ],
   "source": [
    "intx=np.random.randint(0,10,size=(4,4))    #randint为整数随机值，产生[0,10)的整数范围\n",
    "print(intx)"
   ]
  },
  {
   "cell_type": "markdown",
   "id": "70f66983",
   "metadata": {},
   "source": [
    "## 7、随机漫步"
   ]
  },
  {
   "cell_type": "code",
   "execution_count": 1,
   "id": "51904646",
   "metadata": {},
   "outputs": [
    {
     "name": "stdout",
     "output_type": "stream",
     "text": [
      "[[  1   2   1   0  -1   0  -1   0  -1   0   1   0   1   2   1   2   1   0\n",
      "    1   2]\n",
      " [  1   0   1   0   1   2   3   4   5   6   5   6   5   6   5   4   3   4\n",
      "    3   4]\n",
      " [ -1   0   1   0   1   2   1   0   1   2   3   2   1   0  -1  -2  -3  -2\n",
      "   -1  -2]\n",
      " [  1   0  -1  -2  -3  -2  -3  -2  -3  -2  -1   0   1   0  -1  -2  -3  -4\n",
      "   -3  -2]\n",
      " [  1   2   1   0   1   2   3   2   3   2   3   2   1   0  -1   0   1   0\n",
      "    1   0]\n",
      " [  1   0   1   2   3   2   3   2   3   2   3   2   3   2   1   2   1   2\n",
      "    1   0]\n",
      " [  1   0  -1   0   1   0   1   2   3   4   3   4   5   6   5   6   7   8\n",
      "    7   6]\n",
      " [ -1   0   1   0   1   0  -1  -2  -1   0   1   0   1   2   1   0   1   0\n",
      "   -1   0]\n",
      " [  1   0   1   2   3   4   5   4   3   4   3   2   3   2   3   2   3   2\n",
      "    3   2]\n",
      " [ -1   0  -1  -2  -3  -2  -1   0   1   2   3   2   3   2   1   2   3   4\n",
      "    3   4]\n",
      " [  1   0  -1  -2  -1  -2  -1  -2  -3  -4  -3  -2  -1   0   1   2   1   0\n",
      "    1   2]\n",
      " [ -1  -2  -3  -2  -3  -4  -3  -4  -3  -2  -1  -2  -1  -2  -3  -4  -3  -2\n",
      "   -3  -4]\n",
      " [ -1  -2  -3  -2  -1  -2  -1   0   1   2   3   2   3   4   3   4   3   2\n",
      "    3   4]\n",
      " [ -1  -2  -1   0   1   2   1   2   3   4   5   6   5   6   5   6   7   6\n",
      "    5   4]\n",
      " [  1   0   1   2   1   0   1   0  -1  -2  -3  -2  -3  -4  -5  -4  -5  -4\n",
      "   -3  -4]\n",
      " [ -1  -2  -1   0  -1   0  -1  -2  -1   0  -1   0   1   2   3   4   3   4\n",
      "    3   4]\n",
      " [  1   0   1   0   1   2   1   0  -1   0  -1   0   1   0   1   2   3   4\n",
      "    5   4]\n",
      " [  1   0   1   0   1   2   3   4   3   2   3   4   5   4   3   2   3   4\n",
      "    5   6]\n",
      " [ -1   0  -1  -2  -3  -2  -1  -2  -1  -2  -1  -2  -3  -4  -3  -2  -3  -4\n",
      "   -3  -2]\n",
      " [  1   0  -1  -2  -1  -2  -3  -4  -3  -4  -3  -4  -3  -2  -1   0  -1   0\n",
      "    1   2]\n",
      " [ -1   0   1   2   1   0   1   0  -1   0  -1   0  -1  -2  -3  -2  -3  -4\n",
      "   -5  -4]\n",
      " [ -1  -2  -1  -2  -3  -4  -5  -4  -5  -4  -3  -2  -1   0   1   0  -1  -2\n",
      "   -3  -4]\n",
      " [  1   0  -1  -2  -3  -2  -3  -2  -3  -4  -3  -2  -3  -4  -5  -4  -5  -6\n",
      "   -7  -8]\n",
      " [ -1   0  -1   0  -1  -2  -3  -4  -3  -4  -3  -2  -3  -2  -1   0  -1  -2\n",
      "   -1  -2]\n",
      " [ -1   0   1   0   1   2   1   0  -1  -2  -3  -2  -1   0   1   2   1   0\n",
      "   -1   0]\n",
      " [ -1   0  -1  -2  -3  -4  -3  -4  -5  -4  -3  -4  -3  -2  -1   0   1   0\n",
      "    1   2]\n",
      " [  1   2   1   0   1   0  -1  -2  -3  -2  -1  -2  -1   0   1   2   1   2\n",
      "    1   0]\n",
      " [  1   2   3   2   1   0  -1   0   1   0  -1   0  -1  -2  -1  -2  -3  -4\n",
      "   -5  -4]\n",
      " [  1   0   1   2   1   2   3   4   3   2   3   2   3   4   3   2   3   4\n",
      "    5   4]\n",
      " [ -1   0   1   0   1   0  -1   0   1   0   1   2   1   0  -1  -2  -3  -4\n",
      "   -5  -4]\n",
      " [  1   2   3   2   1   2   3   4   5   4   3   2   3   4   3   4   5   6\n",
      "    7   6]\n",
      " [  1   0   1   2   1   2   3   4   3   4   3   4   5   6   5   4   5   6\n",
      "    5   4]\n",
      " [ -1   0  -1   0  -1   0   1   0   1   0  -1  -2  -3  -4  -5  -4  -5  -4\n",
      "   -3  -2]\n",
      " [ -1  -2  -3  -2  -3  -4  -3  -2  -3  -4  -5  -6  -5  -6  -7  -8  -7  -8\n",
      "   -9  -8]\n",
      " [  1   0   1   0  -1   0   1   2   3   4   3   2   3   4   3   2   1   0\n",
      "    1   0]\n",
      " [  1   0  -1   0  -1  -2  -1   0  -1  -2  -1   0  -1  -2  -3  -4  -5  -6\n",
      "   -5  -6]\n",
      " [  1   2   3   4   3   2   3   2   3   4   5   4   5   6   7   8   7   8\n",
      "    9   8]\n",
      " [ -1  -2  -3  -4  -3  -4  -5  -6  -7  -8  -9  -8  -9  -8  -9  -8  -7  -8\n",
      "   -9 -10]\n",
      " [ -1  -2  -3  -2  -1   0   1   2   1   2   1   0   1   0   1   0   1   2\n",
      "    1   0]\n",
      " [ -1  -2  -3  -4  -3  -2  -1   0  -1  -2  -3  -4  -3  -2  -1  -2  -1  -2\n",
      "   -1  -2]\n",
      " [  1   2   1   2   1   0  -1   0  -1  -2  -1   0   1   2   3   4   5   4\n",
      "    3   4]\n",
      " [  1   0  -1   0   1   2   1   2   3   4   3   4   3   2   3   4   5   4\n",
      "    5   6]\n",
      " [  1   0  -1   0  -1   0   1   0   1   2   1   2   3   2   3   2   3   4\n",
      "    5   6]\n",
      " [ -1  -2  -3  -2  -3  -2  -3  -2  -1   0   1   0   1   0   1   2   1   2\n",
      "    1   0]\n",
      " [  1   0  -1   0  -1  -2  -1  -2  -3  -4  -5  -4  -3  -2  -1  -2  -3  -4\n",
      "   -3  -4]\n",
      " [ -1  -2  -3  -2  -1   0   1   0   1   0  -1   0  -1   0  -1  -2  -1   0\n",
      "    1   2]\n",
      " [ -1  -2  -1   0   1   2   3   2   1   0  -1  -2  -1   0  -1  -2  -1   0\n",
      "   -1  -2]\n",
      " [  1   2   3   4   3   4   3   2   3   4   5   6   5   6   7   8   9   8\n",
      "    7   8]\n",
      " [ -1  -2  -1   0  -1  -2  -1  -2  -1   0   1   2   3   4   5   4   5   4\n",
      "    5   4]\n",
      " [  1   2   1   0   1   0  -1   0  -1  -2  -1   0   1   0  -1   0   1   2\n",
      "    3   4]]\n"
     ]
    }
   ],
   "source": [
    "#模仿随机漫步\n",
    "import numpy as np\n",
    "nwalks=50\n",
    "nsteps=20\n",
    "draws=np.random.randint(0,2,size=(nwalks,nsteps))   #50次随机漫步，每次20步\n",
    "steps=np.where(draws>0,1,-1)\n",
    "walks=steps.cumsum(1)                   #cumsum()进行累积，内部参数为1，即为沿着轴1进行累积\n",
    "print(walks)"
   ]
  },
  {
   "cell_type": "code",
   "execution_count": 2,
   "id": "ffb3331e",
   "metadata": {},
   "outputs": [
    {
     "name": "stdout",
     "output_type": "stream",
     "text": [
      "[False  True False False False False  True False  True False False False\n",
      " False  True  True False  True  True False False  True  True  True False\n",
      " False  True False  True  True  True  True  True  True  True False  True\n",
      "  True  True False False  True  True  True False  True False False  True\n",
      "  True False]\n"
     ]
    }
   ],
   "source": [
    "hist5=(np.abs(walks)>=5).any(1)\n",
    "print(hist5)                       #找出有哪一次随机漫步实现了最大漫步距离大于等于5"
   ]
  },
  {
   "cell_type": "code",
   "execution_count": 3,
   "id": "e63c1ae9",
   "metadata": {},
   "outputs": [
    {
     "name": "stdout",
     "output_type": "stream",
     "text": [
      "[ 8 12  6 10 14 18 12 18  6 14  8 18 18 18  8 12 14 10 16 10  6 16 16 18\n",
      " 10 10 14] \n",
      "\n",
      "\n",
      "\n",
      " [ 0  8  0  0  0  0 12  0  6  0  0  0  0 10 14  0 18 12  0  0 18  6 14  0\n",
      "  0  8  0 18 18 18  8 12 14 10  0 16 10  6  0  0 16 16 18  0 10  0  0 10\n",
      " 14  0]\n"
     ]
    }
   ],
   "source": [
    "crossing_times=(np.abs(walks[hist5])>=5).argmax(1)           #argmax()可以找出布尔值数组中第一次出现true的位置，其实便是找到数组中第一个最大值的位置\n",
    "crossing_times1=(np.abs(walks)>=5).argmax(1)\n",
    "print(crossing_times,'\\n\\n\\n\\n',crossing_times1)"
   ]
  },
  {
   "cell_type": "code",
   "execution_count": null,
   "id": "d350043e",
   "metadata": {},
   "outputs": [],
   "source": []
  }
 ],
 "metadata": {
  "kernelspec": {
   "display_name": "Python 3 (ipykernel)",
   "language": "python",
   "name": "python3"
  },
  "language_info": {
   "codemirror_mode": {
    "name": "ipython",
    "version": 3
   },
   "file_extension": ".py",
   "mimetype": "text/x-python",
   "name": "python",
   "nbconvert_exporter": "python",
   "pygments_lexer": "ipython3",
   "version": "3.11.4"
  }
 },
 "nbformat": 4,
 "nbformat_minor": 5
}
