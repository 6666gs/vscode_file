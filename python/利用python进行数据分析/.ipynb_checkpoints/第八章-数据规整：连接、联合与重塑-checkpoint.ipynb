{
 "cells": [
  {
   "cell_type": "markdown",
   "id": "84e05f7e",
   "metadata": {},
   "source": [
    "# 数据规整：连接、联合与重塑"
   ]
  },
  {
   "cell_type": "markdown",
   "id": "19c9213c",
   "metadata": {},
   "source": [
    "## 1、分层索引"
   ]
  },
  {
   "cell_type": "code",
   "execution_count": 1,
   "id": "e5c9acd3",
   "metadata": {},
   "outputs": [],
   "source": [
    "import numpy as np\n",
    "import pandas as pd\n",
    "pd.options.display.max_rows=10"
   ]
  },
  {
   "cell_type": "code",
   "execution_count": 15,
   "id": "b8569de3",
   "metadata": {},
   "outputs": [
    {
     "name": "stdout",
     "output_type": "stream",
     "text": [
      "1 a  1   -0.107627\n",
      "   2    0.401281\n",
      "   3    0.244178\n",
      "b  1   -1.186420\n",
      "   3   -0.431663\n",
      "c  1   -2.008233\n",
      "   2   -0.123997\n",
      "d  2    0.309056\n",
      "   3   -0.059214\n",
      "dtype: float64\n",
      "2 MultiIndex([('a', 1),\n",
      "            ('a', 2),\n",
      "            ('a', 3),\n",
      "            ('b', 1),\n",
      "            ('b', 3),\n",
      "            ('c', 1),\n",
      "            ('c', 2),\n",
      "            ('d', 2),\n",
      "            ('d', 3)],\n",
      "           )\n",
      "3 1   -1.186420\n",
      "3   -0.431663\n",
      "dtype: float64\n",
      "4 b  1   -1.186420\n",
      "   3   -0.431663\n",
      "c  1   -2.008233\n",
      "   2   -0.123997\n",
      "dtype: float64\n",
      "5 a    0.401281\n",
      "c   -0.123997\n",
      "d    0.309056\n",
      "dtype: float64\n",
      "6 -0.4316628196992452\n"
     ]
    }
   ],
   "source": [
    "'''\n",
    "即在一个轴向上可以拥有多个索引层级\n",
    "'''\n",
    "data=pd.Series(np.random.randn(9),\n",
    "               index=[['a','a','a','b','b','c','c','d','d'],\n",
    "                      [1,2,3,1,3,1,2,2,3]])\n",
    "print('1',data)\n",
    "print('2',data.index)\n",
    "print('3',data['b'])\n",
    "print('4',data['b':'c'])\n",
    "print('5',data.loc[:,2])\n",
    "print('6',data.loc['b',3])"
   ]
  },
  {
   "cell_type": "code",
   "execution_count": 16,
   "id": "0a1193b3",
   "metadata": {},
   "outputs": [
    {
     "name": "stdout",
     "output_type": "stream",
     "text": [
      "          1         2         3\n",
      "a -0.107627  0.401281  0.244178\n",
      "b -1.186420       NaN -0.431663\n",
      "c -2.008233 -0.123997       NaN\n",
      "d       NaN  0.309056 -0.059214\n",
      "a  1   -0.107627\n",
      "   2    0.401281\n",
      "   3    0.244178\n",
      "b  1   -1.186420\n",
      "   3   -0.431663\n",
      "c  1   -2.008233\n",
      "   2   -0.123997\n",
      "d  2    0.309056\n",
      "   3   -0.059214\n",
      "dtype: float64\n"
     ]
    }
   ],
   "source": [
    "#unstack方法与stack方法\n",
    "print(data.unstack())\n",
    "print(data.unstack().stack())"
   ]
  },
  {
   "cell_type": "code",
   "execution_count": 6,
   "id": "d60948f4",
   "metadata": {},
   "outputs": [
    {
     "name": "stdout",
     "output_type": "stream",
     "text": [
      "     Ohio     Colorado\n",
      "    Green Red    Green\n",
      "a 1     0   1        2\n",
      "  2     3   4        5\n",
      "b 1     6   7        8\n",
      "  2     9  10       11\n",
      "1    0\n",
      "2    3\n",
      "Name: (Ohio, Green), dtype: int32\n",
      "state      Ohio     Colorado\n",
      "color     Green Red    Green\n",
      "key1 key2                   \n",
      "a    1        0   1        2\n",
      "     2        3   4        5\n",
      "b    1        6   7        8\n",
      "     2        9  10       11\n"
     ]
    }
   ],
   "source": [
    "#另外DataFrame中每个轴都可以有分层索引\n",
    "frame=pd.DataFrame(np.arange(12).reshape((4,3)),\n",
    "                   index=[['a','a','b','b'],[1,2,1,2]],\n",
    "                   columns=[['Ohio','Ohio','Colorado'],\n",
    "                            ['Green','Red','Green']])\n",
    "print(frame)\n",
    "print(frame.loc['a',('Ohio','Green')])\n",
    "\n",
    "\n",
    "#分层层级也有名称，属性为names\n",
    "frame.index.names=['key1','key2']\n",
    "frame.columns.names=['state','color']\n",
    "print(frame)"
   ]
  },
  {
   "cell_type": "markdown",
   "id": "3709909c",
   "metadata": {},
   "source": [
    "### 1.1、重排序和层级排序"
   ]
  },
  {
   "cell_type": "code",
   "execution_count": 14,
   "id": "ce557c5e",
   "metadata": {},
   "outputs": [
    {
     "name": "stdout",
     "output_type": "stream",
     "text": [
      "state      Ohio     Colorado\n",
      "color     Green Red    Green\n",
      "key1 key2                   \n",
      "a    1        0   1        2\n",
      "     2        3   4        5\n",
      "b    1        6   7        8\n",
      "     2        9  10       11\n",
      "state      Ohio     Colorado\n",
      "color     Green Red    Green\n",
      "key2 key1                   \n",
      "1    a        0   1        2\n",
      "2    a        3   4        5\n",
      "1    b        6   7        8\n",
      "2    b        9  10       11\n",
      "color     Green  Red    Green\n",
      "state      Ohio Ohio Colorado\n",
      "key1 key2                    \n",
      "a    1        0    1        2\n",
      "     2        3    4        5\n",
      "b    1        6    7        8\n",
      "     2        9   10       11\n"
     ]
    }
   ],
   "source": [
    "#方法swaplevel.可以交换两个层级的值\n",
    "frame=pd.DataFrame(np.arange(12).reshape((4,3)),\n",
    "                   index=[['a','a','b','b'],[1,2,1,2]],\n",
    "                   columns=[['Ohio','Ohio','Colorado'],\n",
    "                            ['Green','Red','Green']])\n",
    "frame.index.names=['key1','key2']\n",
    "frame.columns.names=['state','color']\n",
    "print(frame)\n",
    "print(frame.swaplevel('key1','key2'))\n",
    "print(frame.swaplevel('state','color',axis=1))"
   ]
  },
  {
   "cell_type": "code",
   "execution_count": 16,
   "id": "7ba13488",
   "metadata": {},
   "outputs": [
    {
     "name": "stdout",
     "output_type": "stream",
     "text": [
      "state      Ohio     Colorado\n",
      "color     Green Red    Green\n",
      "key1 key2                   \n",
      "a    1        0   1        2\n",
      "     2        3   4        5\n",
      "b    1        6   7        8\n",
      "     2        9  10       11\n",
      "state      Ohio     Colorado\n",
      "color     Green Red    Green\n",
      "key1 key2                   \n",
      "a    1        0   1        2\n",
      "b    1        6   7        8\n",
      "a    2        3   4        5\n",
      "b    2        9  10       11\n",
      "state      Ohio     Colorado\n",
      "color     Green Red    Green\n",
      "key2 key1                   \n",
      "1    a        0   1        2\n",
      "     b        6   7        8\n",
      "2    a        3   4        5\n",
      "     b        9  10       11\n"
     ]
    }
   ],
   "source": [
    "#sort_index方法。sort_index(axis=,level=)    axis指定排序的轴，默认为0轴，level指定排序的层级，默认为0级\n",
    "frame=pd.DataFrame(np.arange(12).reshape((4,3)),\n",
    "                   index=[['a','a','b','b'],[1,2,1,2]],\n",
    "                   columns=[['Ohio','Ohio','Colorado'],\n",
    "                            ['Green','Red','Green']])\n",
    "frame.index.names=['key1','key2']\n",
    "frame.columns.names=['state','color']\n",
    "print(frame)\n",
    "print(frame.sort_index(level=1))\n",
    "print(frame.swaplevel('key1','key2').sort_index(level=0))"
   ]
  },
  {
   "cell_type": "markdown",
   "id": "02d17909",
   "metadata": {},
   "source": [
    "### 1.2、按层级进行汇总统计"
   ]
  },
  {
   "cell_type": "code",
   "execution_count": 42,
   "id": "c8b9e23b",
   "metadata": {},
   "outputs": [
    {
     "name": "stdout",
     "output_type": "stream",
     "text": [
      "   a  b    c  d\n",
      "0  0  7  one  0\n",
      "1  1  6  one  1\n",
      "2  2  5  one  2\n",
      "3  3  4  two  0\n",
      "4  4  3  two  1\n",
      "5  5  2  two  2\n",
      "6  6  1  two  3\n",
      "c    d\n",
      "one  0    1\n",
      "     1    1\n",
      "     2    1\n",
      "two  0    1\n",
      "     1    1\n",
      "     2    1\n",
      "     3    1\n",
      "dtype: int64\n"
     ]
    }
   ],
   "source": [
    "#DataFrame与Series的许多汇总函数level属性，可以实现在指定层级上进行统计\n",
    "frame=pd.DataFrame({'a':range(7),'b':range(7,0,-1),\n",
    "                    'c':['one','one','one','two','two','two','two'],\n",
    "                    'd':[0,1,2,0,1,2,3]})\n",
    "print(frame)\n",
    "print(frame.groupby(['c','d']).size())"
   ]
  },
  {
   "cell_type": "markdown",
   "id": "e970cc91",
   "metadata": {},
   "source": [
    "### 1.3、使用DataFrame的列进行索引"
   ]
  },
  {
   "cell_type": "code",
   "execution_count": 34,
   "id": "ca8bf67b",
   "metadata": {},
   "outputs": [
    {
     "name": "stdout",
     "output_type": "stream",
     "text": [
      "   a  b    c  d\n",
      "0  0  7  one  0\n",
      "1  1  6  one  1\n",
      "2  2  5  one  2\n",
      "3  3  4  two  0\n",
      "4  4  3  two  1\n",
      "5  5  2  two  2\n",
      "6  6  1  two  3\n",
      "       a  b\n",
      "c   d      \n",
      "one 0  0  7\n",
      "    1  1  6\n",
      "    2  2  5\n",
      "two 0  3  4\n",
      "    1  4  3\n",
      "    2  5  2\n",
      "    3  6  1\n",
      "       a  b    c  d\n",
      "c   d              \n",
      "one 0  0  7  one  0\n",
      "    1  1  6  one  1\n",
      "    2  2  5  one  2\n",
      "two 0  3  4  two  0\n",
      "    1  4  3  two  1\n",
      "    2  5  2  two  2\n",
      "    3  6  1  two  3\n",
      "     c  d  a  b\n",
      "0  one  0  0  7\n",
      "1  one  1  1  6\n",
      "2  one  2  2  5\n",
      "3  two  0  3  4\n",
      "4  two  1  4  3\n",
      "5  two  2  5  2\n",
      "6  two  3  6  1\n"
     ]
    }
   ],
   "source": [
    "#就是将指定列作为索引index\n",
    "frame=pd.DataFrame({'a':range(7),'b':range(7,0,-1),\n",
    "                    'c':['one','one','one','two','two','two','two'],\n",
    "                    'd':[0,1,2,0,1,2,3]})\n",
    "print(frame)\n",
    "print(frame.set_index(['c','d']))                            #利用set_index可以将已存在的一些列作为索引\n",
    "print(frame.set_index(['c','d'],drop=False))                #drop指定为False，可以使得将被作为索引的列仍留在列表中\n",
    "print(frame.set_index(['c','d']).reset_index())              #reset_index为set_index的反向操作，可以使得索引列再次移动到数据列中"
   ]
  },
  {
   "cell_type": "markdown",
   "id": "9afb0bce",
   "metadata": {},
   "source": [
    "## 2、联合与合并数据集"
   ]
  },
  {
   "cell_type": "code",
   "execution_count": 10,
   "id": "d45c406a",
   "metadata": {},
   "outputs": [],
   "source": [
    "#利用pandas.merge、pandas.concat、combine_first可以实现不同pandas对象数据的联合"
   ]
  },
  {
   "cell_type": "markdown",
   "id": "fb1e2cb6",
   "metadata": {},
   "source": [
    "### 2.1 merge的数据库风格的DataFrame连接"
   ]
  },
  {
   "cell_type": "code",
   "execution_count": 16,
   "id": "6675449e",
   "metadata": {
    "scrolled": true
   },
   "outputs": [
    {
     "name": "stdout",
     "output_type": "stream",
     "text": [
      "1\n",
      "\n",
      "  key  data1  data2\n",
      "0   b      0      1\n",
      "1   b      1      1\n",
      "2   b      6      1\n",
      "3   a      2      0\n",
      "4   a      4      0\n",
      "5   a      5      0\n",
      "\n",
      "  key  data1  data2\n",
      "0   b      0      1\n",
      "1   b      1      1\n",
      "2   b      6      1\n",
      "3   a      2      0\n",
      "4   a      4      0\n",
      "5   a      5      0\n",
      "\n",
      "2\n",
      "   lkey  data1 rkey  data2\n",
      "0    b      0    b      1\n",
      "1    b      1    b      1\n",
      "2    b      6    b      1\n",
      "3    a      2    a      0\n",
      "4    a      4    a      0\n",
      "5    a      5    a      0\n",
      "\n",
      "3\n",
      "   lkey  data1 rkey  data2\n",
      "0    b    0.0    b    1.0\n",
      "1    b    1.0    b    1.0\n",
      "2    b    6.0    b    1.0\n",
      "3    a    2.0    a    0.0\n",
      "4    a    4.0    a    0.0\n",
      "5    a    5.0    a    0.0\n",
      "6    c    3.0  NaN    NaN\n",
      "7  NaN    NaN    d    2.0\n",
      "\n",
      "4\n",
      "   key1 key2  lval  rval\n",
      "0  foo  one   1.0   4.0\n",
      "1  foo  one   1.0   5.0\n",
      "2  foo  two   2.0   NaN\n",
      "3  bar  one   3.0   6.0\n",
      "4  bar  two   NaN   7.0\n",
      "\n",
      "5\n",
      "\n",
      "  key1 key2_x  lval key2_y  rval\n",
      "0  foo    one     1    one     4\n",
      "1  foo    one     1    one     5\n",
      "2  foo    two     2    one     4\n",
      "3  foo    two     2    one     5\n",
      "4  bar    one     3    one     6\n",
      "5  bar    one     3    two     7\n",
      "\n",
      "  key1 key2_left  lval key2_right  rval\n",
      "0  foo       one     1        one     4\n",
      "1  foo       one     1        one     5\n",
      "2  foo       two     2        one     4\n",
      "3  foo       two     2        one     5\n",
      "4  bar       one     3        one     6\n",
      "5  bar       one     3        two     7\n"
     ]
    }
   ],
   "source": [
    "#使用pandas.merge实现。与数据库实现的连接类似，利用键连接\n",
    "df1=pd.DataFrame({'key':['b','b','a','c','a','a','b'],\n",
    "                 'data1':range(7)})\n",
    "df2=pd.DataFrame({'key':['a','b','d'],\n",
    "                  'data2':range(3)})\n",
    "\n",
    "\n",
    "\n",
    "merge1=pd.merge(df1,df2)                  #当未说明在哪一列进行连接时，默认按照重叠的列进行连接\n",
    "merge2=pd.merge(df1,df2,on='key')         #指定按照'key'列连接\n",
    "\n",
    "print('1',merge1,merge2,sep='\\n\\n',end='\\n\\n')\n",
    "\n",
    "df3=pd.DataFrame({'lkey':['b','b','a','c','a','a','b'],\n",
    "                  'data1':range(7)})\n",
    "df4=pd.DataFrame({'rkey':['a','b','d'],\n",
    "                  'data2':range(3)})\n",
    " \n",
    "#merge3=pd.merge(df3,df4)             由于两个DataFrame的列名不同，因此无法连接\n",
    "merge4=pd.merge(df3,df4,left_on='lkey',right_on='rkey')      #需要分别指定列名\n",
    "print('2\\n',merge4,end='\\n\\n')\n",
    "\n",
    "'''\n",
    "默认来说，pandas.merge执行内连接\n",
    "可以通过how参数选定要执行连接的类别，可以是'left','right','outer','inner'\n",
    "'''\n",
    "\n",
    "merge5=pd.merge(df3,df4,left_on='lkey',right_on='rkey',how='outer')\n",
    "print('3\\n',merge5,end='\\n\\n')\n",
    "\n",
    "\n",
    "#同时也可以实现利用多个键进行合并，传入一个列名的列表\n",
    "df5=pd.DataFrame({'key1':['foo','foo','bar'],\n",
    "                  'key2':['one','two','one'],\n",
    "                  'lval':[1,2,3]})\n",
    "df6=pd.DataFrame({'key1':['foo','foo','bar','bar'],\n",
    "                  'key2':['one','one','one','two'],\n",
    "                  'rval':[4,5,6,7]})\n",
    "merge6=pd.merge(df5,df6,how='outer')\n",
    "print('4\\n',merge6,end='\\n\\n')\n",
    "\n",
    "\n",
    "#merge中有suffixes参数用于指定在联合结果的重叠列名后要添加的字符串\n",
    "merge7=pd.merge(df5,df6,on='key1')\n",
    "merge8=pd.merge(df5,df6,on='key1',suffixes=('_left','_right'))\n",
    "print('5',merge7,merge8,sep='\\n\\n')"
   ]
  },
  {
   "cell_type": "markdown",
   "id": "ceab6fb1",
   "metadata": {},
   "source": [
    "### 2.2 根据索引合并"
   ]
  },
  {
   "cell_type": "code",
   "execution_count": 6,
   "id": "7d446853",
   "metadata": {},
   "outputs": [
    {
     "name": "stdout",
     "output_type": "stream",
     "text": [
      "  key  value  group_val\n",
      "0   a      0        3.5\n",
      "2   a      2        3.5\n",
      "3   a      3        3.5\n",
      "1   b      1        7.0\n",
      "4   b      4        7.0\n"
     ]
    }
   ],
   "source": [
    "#有的列表进行连接的键就是它的索引，通过left_index=True或right*****来表明那一侧的列表其索引为参与连接的键\n",
    "left1=pd.DataFrame({'key':['a','b','a','a','b','c'],\n",
    "                    'value':range(6)})\n",
    "right1=pd.DataFrame({'group_val':[3.5,7]},index=['a','b'])\n",
    "\n",
    "merge1=pd.merge(left1,right1,left_on='key',right_index=True)\n",
    "print(merge1)"
   ]
  },
  {
   "cell_type": "code",
   "execution_count": 18,
   "id": "e5a43c9b",
   "metadata": {},
   "outputs": [
    {
     "name": "stdout",
     "output_type": "stream",
     "text": [
      "     key1  key2  data\n",
      "0    Ohio  2000   0.0\n",
      "1    Ohio  2001   1.0\n",
      "2    Ohio  2002   2.0\n",
      "3  Nevada  2001   3.0\n",
      "4  Nevada  2002   4.0\n",
      "             event1  event2\n",
      "Nevada 2001       0       1\n",
      "       2000       2       3\n",
      "Ohio   2000       4       5\n",
      "       2000       6       7\n",
      "       2001       8       9\n",
      "       2002      10      11\n",
      "     key1  key2  data  event1  event2\n",
      "0    Ohio  2000   0.0       4       5\n",
      "0    Ohio  2000   0.0       6       7\n",
      "1    Ohio  2001   1.0       8       9\n",
      "2    Ohio  2002   2.0      10      11\n",
      "3  Nevada  2001   3.0       0       1\n"
     ]
    }
   ],
   "source": [
    "#在多层索引数据情况下，在索引上连接\n",
    "left=pd.DataFrame({'key1':['Ohio','Ohio','Ohio','Nevada','Nevada'],\n",
    "                   'key2':[2000,2001,2002,2001,2002],\n",
    "                   'data':np.arange(5.)})\n",
    "right=pd.DataFrame(np.arange(12).reshape((6,2)),\n",
    "                   index=[['Nevada','Nevada','Ohio','Ohio','Ohio','Ohio'],\n",
    "                          [2001,2000,2000,2000,2001,2002]],\n",
    "                   columns=['event1','event2'])\n",
    "merge3=pd.merge(left,right,left_on=['key1','key2'],right_index=True)\n",
    "print(left,right,merge3,sep='\\n')"
   ]
  },
  {
   "cell_type": "code",
   "execution_count": 15,
   "id": "605078c3",
   "metadata": {},
   "outputs": [
    {
     "name": "stdout",
     "output_type": "stream",
     "text": [
      "   Ohio  Nevada\n",
      "a   1.0     2.0\n",
      "c   3.0     4.0\n",
      "e   5.0     6.0\n",
      "\n",
      "   Missouri  Alabama\n",
      "b       7.0      8.0\n",
      "c       9.0     10.0\n",
      "d      11.0     12.0\n",
      "e      13.0     14.0\n",
      "\n",
      "   Ohio  Nevada  Missouri  Alabama\n",
      "a   1.0     2.0       NaN      NaN\n",
      "b   NaN     NaN       7.0      8.0\n",
      "c   3.0     4.0       9.0     10.0\n",
      "d   NaN     NaN      11.0     12.0\n",
      "e   5.0     6.0      13.0     14.0\n"
     ]
    }
   ],
   "source": [
    "#还可以使用两边的索引进行合并\n",
    "left2=pd.DataFrame([[1.,2.],[3.,4.],[5.,6.]],\n",
    "                   index=['a','c','e'],\n",
    "                   columns=['Ohio','Nevada'])\n",
    "right2=pd.DataFrame([[7.,8.],[9.,10.],[11.,12.],[13.,14.]],\n",
    "                    index=['b','c','d','e'],\n",
    "                    columns=['Missouri','Alabama'])\n",
    "merge4=pd.merge(left2,right2,how='outer',left_index=True,right_index=True)\n",
    "print(left2,right2,merge4,sep='\\n\\n')\n",
    "\n"
   ]
  },
  {
   "cell_type": "code",
   "execution_count": 19,
   "id": "e4abf066",
   "metadata": {},
   "outputs": [
    {
     "name": "stdout",
     "output_type": "stream",
     "text": [
      "   Ohio  Nevada  Missouri  Alabama\n",
      "a   1.0     2.0       NaN      NaN\n",
      "b   NaN     NaN       7.0      8.0\n",
      "c   3.0     4.0       9.0     10.0\n",
      "d   NaN     NaN      11.0     12.0\n",
      "e   5.0     6.0      13.0     14.0\n",
      "\n",
      "\n",
      "  key  value\n",
      "0   a      0\n",
      "1   b      1\n",
      "2   a      2\n",
      "3   a      3\n",
      "4   b      4\n",
      "5   c      5\n",
      "   group_val\n",
      "a        3.5\n",
      "b        7.0\n",
      "  key  value  group_val\n",
      "0   a      0        3.5\n",
      "2   a      2        3.5\n",
      "3   a      3        3.5\n",
      "1   b      1        7.0\n",
      "4   b      4        7.0\n",
      "   Ohio  Nevada\n",
      "a   1.0     2.0\n",
      "c   3.0     4.0\n",
      "e   5.0     6.0\n",
      "   Missouri  Alabama\n",
      "b       7.0      8.0\n",
      "c       9.0     10.0\n",
      "d      11.0     12.0\n",
      "e      13.0     14.0\n",
      "   New York  Oregon\n",
      "a       7.0     8.0\n",
      "c       9.0    10.0\n",
      "e      11.0    12.0\n",
      "f      16.0    17.0\n",
      "\n",
      "   Ohio  Nevada  Missouri  Alabama  New York  Oregon\n",
      "a   1.0     2.0       NaN      NaN       7.0     8.0\n",
      "c   3.0     4.0       9.0     10.0       9.0    10.0\n",
      "e   5.0     6.0      13.0     14.0      11.0    12.0\n",
      "   Ohio  Nevada  New York  Oregon  Missouri  Alabama\n",
      "a   1.0     2.0       7.0     8.0       NaN      NaN\n",
      "c   3.0     4.0       9.0    10.0       9.0     10.0\n",
      "e   5.0     6.0      11.0    12.0      13.0     14.0\n",
      "   Ohio  Nevada  Missouri  Alabama  New York  Oregon\n",
      "a   1.0     2.0       NaN      NaN       7.0     8.0\n",
      "c   3.0     4.0       9.0     10.0       9.0    10.0\n",
      "e   5.0     6.0      13.0     14.0      11.0    12.0\n",
      "b   NaN     NaN       7.0      8.0       NaN     NaN\n",
      "d   NaN     NaN      11.0     12.0       NaN     NaN\n",
      "f   NaN     NaN       NaN      NaN      16.0    17.0\n"
     ]
    }
   ],
   "source": [
    "'''\n",
    "DataFrame有一个join实例，可以实现按照索引合并\n",
    "join默认连接方法为左连接'left'\n",
    "'''\n",
    "print(left2.join(right2,how='outer'))   #与merge效果相同\n",
    "\n",
    "#join还可以选取当前对象的某列与另一对象的索引进行连接\n",
    "print('\\n',left1,right1,left1.join(right1,on='key',how='right'),sep='\\n')\n",
    "\n",
    "\n",
    "#还可以向join中传入一个DataFrame列表\n",
    "another=pd.DataFrame([[7.,8.],[9.,10.],[11.,12.],[16.,17.]],\n",
    "                     index=['a','c','e','f'],\n",
    "                    columns=['New York','Oregon'])\n",
    "print(left2,right2,another,sep='\\n',end='\\n\\n')\n",
    "print(left2.join([right2,another]))\n",
    "print(left2.join([another,right2]))\n",
    "print(left2.join([right2,another],how='outer'))"
   ]
  },
  {
   "cell_type": "markdown",
   "id": "f94d91ad",
   "metadata": {},
   "source": [
    "### 2.3 沿轴向连接"
   ]
  },
  {
   "cell_type": "code",
   "execution_count": 20,
   "id": "896e3361",
   "metadata": {},
   "outputs": [
    {
     "name": "stdout",
     "output_type": "stream",
     "text": [
      "[[ 0  1  2  3  0  1  2  3]\n",
      " [ 4  5  6  7  4  5  6  7]\n",
      " [ 8  9 10 11  8  9 10 11]]\n"
     ]
    }
   ],
   "source": [
    "'''\n",
    "上述的均为数据的合并，即通过键实现合并连接\n",
    "而另一种数据连接为拼接或堆叠\n",
    "'''\n",
    "arr=np.arange(12).reshape((3,4))\n",
    "print(np.concatenate([arr,arr],axis=1))    #NumPy数据可以利用concatenate实现数据堆叠"
   ]
  },
  {
   "cell_type": "code",
   "execution_count": 35,
   "id": "164810ce",
   "metadata": {},
   "outputs": [
    {
     "name": "stdout",
     "output_type": "stream",
     "text": [
      "a    0\n",
      "b    1\n",
      "c    2\n",
      "c    2\n",
      "d    3\n",
      "e    4\n",
      "f    5\n",
      "g    6\n",
      "dtype: int64\n",
      "     0    1    2\n",
      "a  0.0  NaN  NaN\n",
      "b  1.0  NaN  NaN\n",
      "c  2.0  2.0  NaN\n",
      "d  NaN  3.0  NaN\n",
      "e  NaN  4.0  NaN\n",
      "f  NaN  NaN  5.0\n",
      "g  NaN  NaN  6.0\n",
      "\n",
      "a    0\n",
      "b    1\n",
      "c    2\n",
      "f    5\n",
      "g    6\n",
      "dtype: int64\n",
      "     0  1\n",
      "a  0.0  0\n",
      "b  1.0  1\n",
      "c  2.0  2\n",
      "f  NaN  5\n",
      "g  NaN  6\n",
      "   0  1\n",
      "a  0  0\n",
      "b  1  1\n",
      "c  2  2\n",
      "one    a    0\n",
      "       b    1\n",
      "       c    2\n",
      "two    a    0\n",
      "       b    1\n",
      "       c    2\n",
      "three  f    5\n",
      "       g    6\n",
      "dtype: int64\n",
      "   one  two  three\n",
      "a  0.0  0.0    NaN\n",
      "b  1.0  1.0    NaN\n",
      "c  2.0  2.0    NaN\n",
      "f  NaN  NaN    5.0\n",
      "g  NaN  NaN    6.0\n"
     ]
    }
   ],
   "source": [
    "#pandas.concat实现了这种目标\n",
    "s1=pd.Series([0,1,2],index=['a','b','c'])\n",
    "s2=pd.Series([2,3,4,],index=['c','d','e'])\n",
    "s3=pd.Series([5,6],index=['f','g'])\n",
    "print(pd.concat([s1,s2,s3]))            #默认在轴axis=0上进行\n",
    "print(pd.concat([s1,s2,s3],axis=1),end='\\n\\n')     #指定在axis=1上进行就会返回一个DataFrame    \n",
    "'''\n",
    "concat的默认连接方式是外连接'outer',利用join参数改变连接方式\n",
    "'''\n",
    "s4=pd.concat([s1,s3])\n",
    "print(s4)\n",
    "print(pd.concat([s1,s4],axis=1))\n",
    "print(pd.concat([s1,s4],axis=1,join='inner'))\n",
    "print(pd.concat([s1,s1,s3],keys=['one','two','three']))       #利用keys区分拼接后的各部分，产生了一个多层索引\n",
    "print(pd.concat([s1,s1,s3],keys=['one','two','three'],axis=1)) #沿着轴axis=1拼接时，keys则变成了列名"
   ]
  },
  {
   "cell_type": "code",
   "execution_count": 2,
   "id": "47c604ca",
   "metadata": {},
   "outputs": [
    {
     "name": "stdout",
     "output_type": "stream",
     "text": [
      "  level1     level2     \n",
      "     one two  three four\n",
      "a      0   1    5.0  6.0\n",
      "b      2   3    NaN  NaN\n",
      "c      4   5    7.0  8.0\n",
      "  level1     level2     \n",
      "     one two  three four\n",
      "a      0   1    5.0  6.0\n",
      "b      2   3    NaN  NaN\n",
      "c      4   5    7.0  8.0\n",
      "upper level1     level2     \n",
      "lower    one two  three four\n",
      "a          0   1    5.0  6.0\n",
      "b          2   3    NaN  NaN\n",
      "c          4   5    7.0  8.0\n"
     ]
    }
   ],
   "source": [
    "#同样也可以将pandas.concat用于DataFrame中\n",
    "df1=pd.DataFrame(np.arange(6).reshape(3,2),index=['a','b','c'],\n",
    "                 columns=['one','two'])\n",
    "df2=pd.DataFrame(5+np.arange(4).reshape(2,2),\n",
    "                 index=['a','c'],\n",
    "                 columns=['three','four'])\n",
    "print(pd.concat([df1,df2],axis=1,keys=['level1','level2']))\n",
    "print(pd.concat({'level1':df1,'level2':df2},axis=1))             #pandas.concat中也可以传入字典，字典的键将用于keys参数\n",
    "print(pd.concat([df1,df2],axis=1,keys=['level1','level2'],names=['upper','lower']))    #利用names属性为不同级索引添加名字"
   ]
  },
  {
   "cell_type": "code",
   "execution_count": 5,
   "id": "67928874",
   "metadata": {},
   "outputs": [
    {
     "name": "stdout",
     "output_type": "stream",
     "text": [
      "df1:\n",
      "          a         b         c         d\n",
      "0 -0.099360 -0.822586 -0.633260 -0.160680\n",
      "1 -0.540328 -0.474174 -1.008406 -0.539455\n",
      "2 -0.476782 -2.086547 -1.892256 -1.230668\n",
      "df2:\n",
      "          b         d         a\n",
      "0  0.626185 -0.199051 -1.471502\n",
      "1 -0.431134  0.367462 -3.135466\n",
      "df1+df2:\n",
      "          a         b         c         d\n",
      "0 -0.099360 -0.822586 -0.633260 -0.160680\n",
      "1 -0.540328 -0.474174 -1.008406 -0.539455\n",
      "2 -0.476782 -2.086547 -1.892256 -1.230668\n",
      "3 -1.471502  0.626185       NaN -0.199051\n",
      "4 -3.135466 -0.431134       NaN  0.367462\n"
     ]
    }
   ],
   "source": [
    "#ignore_index参数：不保留原本的行索引，而产生一个新的长度为拼接起来行数的新索引\n",
    "df1=pd.DataFrame(np.random.randn(3,4),columns=['a','b','c','d'])\n",
    "df2=pd.DataFrame(np.random.randn(2,3),columns=['b','d','a'])\n",
    "print('df1:',df1,'df2:',df2,sep='\\n')\n",
    "print('df1+df2:',pd.concat([df1,df2],ignore_index=1),sep='\\n')"
   ]
  },
  {
   "cell_type": "markdown",
   "id": "0b4ba0ca",
   "metadata": {},
   "source": [
    "### 2.4 联合重叠数据"
   ]
  },
  {
   "cell_type": "code",
   "execution_count": null,
   "id": "5cbc607c",
   "metadata": {},
   "outputs": [],
   "source": []
  }
 ],
 "metadata": {
  "kernelspec": {
   "display_name": "Python 3 (ipykernel)",
   "language": "python",
   "name": "python3"
  },
  "language_info": {
   "codemirror_mode": {
    "name": "ipython",
    "version": 3
   },
   "file_extension": ".py",
   "mimetype": "text/x-python",
   "name": "python",
   "nbconvert_exporter": "python",
   "pygments_lexer": "ipython3",
   "version": "3.11.5"
  }
 },
 "nbformat": 4,
 "nbformat_minor": 5
}
