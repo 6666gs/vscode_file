{
 "cells": [
  {
   "cell_type": "code",
   "execution_count": 1,
   "id": "a4704acf-6397-4329-8d71-da3bcdf49f8c",
   "metadata": {},
   "outputs": [],
   "source": [
    "import gdsfactory as gf"
   ]
  },
  {
   "cell_type": "code",
   "execution_count": 23,
   "id": "e7896928-c289-4d65-8aee-f01179fd15b8",
   "metadata": {},
   "outputs": [],
   "source": [
    "def demo_polygons():\n",
    "    # Create a blank component (essentially an empty GDS cell with some special features)\n",
    "    c = gf.Component(\"demo\")\n",
    "\n",
    "    # Create and add a polygon from separate lists of x points and y points\n",
    "    # (Can also be added like [(x1,y1), (x2,y2), (x3,y3), ... ]\n",
    "    c.add_polygon(\n",
    "        [(-8,  7,6, 9), (-6, 17, 8, 5)], layer=(1, 0)\n",
    "    )  # GDS layers are tuples of ints (but if we use only one number it assumes the other number is 0)\n",
    "    return c"
   ]
  },
  {
   "cell_type": "code",
   "execution_count": 24,
   "id": "54e60b9a-ab54-441e-a0ae-5e05fd460d85",
   "metadata": {},
   "outputs": [
    {
     "name": "stdout",
     "output_type": "stream",
     "text": [
      "\u001b[32m2024-03-08 21:31:16.189\u001b[0m | \u001b[1mINFO    \u001b[0m | \u001b[36mgdsfactory.component\u001b[0m:\u001b[36m_write_library\u001b[0m:\u001b[36m2021\u001b[0m - \u001b[1mWrote to 'C:\\\\demo.gds'\u001b[0m\n",
      "\u001b[32m2024-03-08 21:31:16.274\u001b[0m | \u001b[1mINFO    \u001b[0m | \u001b[36mgdsfactory.klive\u001b[0m:\u001b[36mshow\u001b[0m:\u001b[36m56\u001b[0m - \u001b[1mMessage from klive: {\"version\": \"0.3.0\", \"type\": \"open\", \"file\": \"C:\\\\Users\\\\ADMINI~1\\\\AppData\\\\Local\\\\Temp\\\\gdsfactory\\\\demo$7.gds\"}\u001b[0m\n"
     ]
    }
   ],
   "source": [
    "c=demo_polygons()\n",
    "c.write_gds(\"C://demo.gds\")\n",
    "c.show()"
   ]
  },
  {
   "cell_type": "code",
   "execution_count": 20,
   "id": "d500710f-7d5c-43dd-abf3-7a6d653d8c0c",
   "metadata": {},
   "outputs": [],
   "source": [
    "def demo_text(a):\n",
    "    c = gf.Component(\"myComponent_\"+a)\n",
    "    # Create some new geometry from the functions available in the geometry library\n",
    "    t = gf.components.text(a)\n",
    "    r = gf.components.rectangle(size=[5, 10], layer=(2, 0))\n",
    "    \n",
    "    # Add references to the new geometry to c, our blank component\n",
    "    text1 = c.add_ref(t)  # Add the text we created as a reference\n",
    "    # Using the << operator (identical to add_ref()), add the same geometry a second time\n",
    "    text2 = c << t\n",
    "    r = c << r  # Add the rectangle we created\n",
    "    \n",
    "    # Now that the geometry has been added to \"c\", we can move everything around:\n",
    "    text1.movey(25)\n",
    "    text2.move([5, 30])\n",
    "    text2.rotate(45)\n",
    "    r.movex(-15)\n",
    "    r.movex(-15)\n",
    "\n",
    "    return c"
   ]
  },
  {
   "cell_type": "code",
   "execution_count": 21,
   "id": "f83c92ff-40b8-4628-9eab-c24f7ad8ba1d",
   "metadata": {},
   "outputs": [
    {
     "name": "stdout",
     "output_type": "stream",
     "text": [
      "\u001b[32m2024-03-08 21:28:51.051\u001b[0m | \u001b[33m\u001b[1mWARNING \u001b[0m | \u001b[36mgdsfactory.component\u001b[0m:\u001b[36m_write_library\u001b[0m:\u001b[36m1951\u001b[0m - \u001b[33m\u001b[1mUserWarning: Component myComponent_GG has invalid transformations. Try component.flatten_offgrid_references() first.\u001b[0m\n",
      "\u001b[32m2024-03-08 21:28:51.187\u001b[0m | \u001b[1mINFO    \u001b[0m | \u001b[36mgdsfactory.klive\u001b[0m:\u001b[36mshow\u001b[0m:\u001b[36m56\u001b[0m - \u001b[1mMessage from klive: {\"version\": \"0.3.0\", \"type\": \"open\", \"file\": \"C:\\\\Users\\\\ADMINI~1\\\\AppData\\\\Local\\\\Temp\\\\gdsfactory\\\\myComponent_GG.gds\"}\u001b[0m\n"
     ]
    },
    {
     "name": "stderr",
     "output_type": "stream",
     "text": [
      "D:\\anaconda\\Lib\\site-packages\\gdsfactory\\component.py:1951: UserWarning: Component myComponent_GG has invalid transformations. Try component.flatten_offgrid_references() first.\n",
      "  warnings.warn(\n"
     ]
    }
   ],
   "source": [
    "c=demo_text(\"GG\")\n",
    "c.show()"
   ]
  },
  {
   "cell_type": "code",
   "execution_count": 19,
   "id": "aa2d178f-34a2-44d4-b431-5fffa70b08e1",
   "metadata": {},
   "outputs": [],
   "source": [
    "from shapely.geometry.polygon import Polygon"
   ]
  },
  {
   "cell_type": "code",
   "execution_count": 46,
   "id": "11174508-9ea0-4b15-8c2a-5c2c424baaa0",
   "metadata": {},
   "outputs": [],
   "source": [
    "def demo_multipoly(a):\n",
    "    c=gf.Component(\"Mixed_polygons\")\n",
    "    p0=Polygon(zip((-8,6,7,9),(-6,8,17,5)))\n",
    "    p1=p0.buffer(1)\n",
    "    p2=p1.simplify(tolerance=a)     #轮廓采样\n",
    "    \n",
    "    c.add_polygon(p0,layer=(1,0))\n",
    "    c.add_polygon(p1,layer=(2,0))\n",
    "\n",
    "    c.add_polygon([(-8, 6, 7, 9), (-6, 8, 17, 5)],layer=(3,0))\n",
    "    c.add_polygon(p2,layer=(4,0))\n",
    "    \n",
    "    return c"
   ]
  },
  {
   "cell_type": "code",
   "execution_count": 45,
   "id": "0fadb69d-b099-456b-9874-9770b76dd1e9",
   "metadata": {},
   "outputs": [
    {
     "name": "stdout",
     "output_type": "stream",
     "text": [
      "\u001b[32m2024-03-08 21:46:18.809\u001b[0m | \u001b[1mINFO    \u001b[0m | \u001b[36mgdsfactory.klive\u001b[0m:\u001b[36mshow\u001b[0m:\u001b[36m56\u001b[0m - \u001b[1mMessage from klive: {\"version\": \"0.3.0\", \"type\": \"open\", \"file\": \"C:\\\\Users\\\\ADMINI~1\\\\AppData\\\\Local\\\\Temp\\\\gdsfactory\\\\Mixed_polygons$9.gds\"}\u001b[0m\n"
     ]
    }
   ],
   "source": [
    "c=demo_multipoly(0.3)\n",
    "c.show()"
   ]
  },
  {
   "cell_type": "code",
   "execution_count": 28,
   "id": "c02f4518-3337-4cb8-b826-c69e12e5cfe8",
   "metadata": {},
   "outputs": [
    {
     "data": {
      "text/plain": [
       "\u001b[1;31mSignature:\u001b[0m \u001b[0mp0\u001b[0m\u001b[1;33m.\u001b[0m\u001b[0msimplify\u001b[0m\u001b[1;33m(\u001b[0m\u001b[0mtolerance\u001b[0m\u001b[1;33m,\u001b[0m \u001b[0mpreserve_topology\u001b[0m\u001b[1;33m=\u001b[0m\u001b[1;32mTrue\u001b[0m\u001b[1;33m)\u001b[0m\u001b[1;33m\u001b[0m\u001b[1;33m\u001b[0m\u001b[0m\n",
       "\u001b[1;31mDocstring:\u001b[0m\n",
       "Returns a simplified geometry produced by the Douglas-Peucker\n",
       "algorithm\n",
       "\n",
       "Coordinates of the simplified geometry will be no more than the\n",
       "tolerance distance from the original. Unless the topology preserving\n",
       "option is used, the algorithm may produce self-intersecting or\n",
       "otherwise invalid geometries.\n",
       "\u001b[1;31mFile:\u001b[0m      d:\\anaconda\\lib\\site-packages\\shapely\\geometry\\base.py\n",
       "\u001b[1;31mType:\u001b[0m      method"
      ]
     },
     "metadata": {},
     "output_type": "display_data"
    }
   ],
   "source": [
    "p0=Polygon(zip((-8,6,7,9),(-6,8,17,5)))\n",
    "p1=p0.buffer(1)\n",
    "p0.simplify?"
   ]
  },
  {
   "cell_type": "code",
   "execution_count": null,
   "id": "89e79f2f-b7ca-4a51-ad32-da11a1c305ea",
   "metadata": {},
   "outputs": [],
   "source": []
  }
 ],
 "metadata": {
  "kernelspec": {
   "display_name": "Python 3 (ipykernel)",
   "language": "python",
   "name": "python3"
  },
  "language_info": {
   "codemirror_mode": {
    "name": "ipython",
    "version": 3
   },
   "file_extension": ".py",
   "mimetype": "text/x-python",
   "name": "python",
   "nbconvert_exporter": "python",
   "pygments_lexer": "ipython3",
   "version": "3.11.5"
  }
 },
 "nbformat": 4,
 "nbformat_minor": 5
}
